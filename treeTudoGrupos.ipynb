{
 "cells": [
  {
   "cell_type": "code",
   "execution_count": 25,
   "metadata": {},
   "outputs": [],
   "source": [
    "import warnings\n",
    "warnings.filterwarnings(\"ignore\")"
   ]
  },
  {
   "cell_type": "code",
   "execution_count": 26,
   "metadata": {},
   "outputs": [],
   "source": [
    "import pandas as pd\n",
    "#necessario por causa do metodo de avaliaçao\n",
    "from sklearn.model_selection import KFold\n",
    "from sklearn.metrics import (\n",
    "        make_scorer,\n",
    "        confusion_matrix, \n",
    "        cohen_kappa_score, \n",
    "        accuracy_score, \n",
    "        precision_score, \n",
    "        recall_score, \n",
    "        f1_score, \n",
    "        roc_auc_score\n",
    ")\n",
    "from sklearn.model_selection import cross_validate, StratifiedKFold\n",
    "from sklearn.tree import DecisionTreeClassifier # decision trees for classification\n",
    "from sklearn.neural_network import  MLPClassifier # neural networks for classification\n",
    "from sklearn.naive_bayes import GaussianNB # naive bayes for classification\n",
    "from sklearn.svm import SVC # support vector machines for classification"
   ]
  },
  {
   "cell_type": "code",
   "execution_count": 27,
   "metadata": {},
   "outputs": [],
   "source": [
    "#metricas regressao\n",
    "from sklearn.metrics import mean_squared_error, mean_absolute_error, r2_score\n",
    "\n",
    "def custom_regression_metrics(y_true, y_pred):\n",
    "    mse = mean_squared_error(y_true, y_pred)\n",
    "    mae = mean_absolute_error(y_true, y_pred)\n",
    "    r2 = r2_score(y_true, y_pred)\n",
    "    \n",
    "    return mse, mae, r2"
   ]
  },
  {
   "cell_type": "code",
   "execution_count": 28,
   "metadata": {},
   "outputs": [],
   "source": [
    "#metricas classificação\n",
    "def specificity_score(y_true, y_pred):\n",
    "    tn, fp, fn, tp = confusion_matrix(y_true, y_pred).ravel()\n",
    "    return tn / (tn+fp)"
   ]
  },
  {
   "cell_type": "code",
   "execution_count": 29,
   "metadata": {},
   "outputs": [],
   "source": [
    "#Metricas regressao\n",
    "from sklearn.metrics import mean_squared_error, mean_absolute_error, r2_score\n",
    "\n",
    "REGRESSION_METRICS = {\n",
    "    \"MSE\": make_scorer(mean_squared_error),\n",
    "    \"MAE\": make_scorer(mean_absolute_error),\n",
    "    \"R2\": make_scorer(r2_score)\n",
    "}"
   ]
  },
  {
   "cell_type": "code",
   "execution_count": 30,
   "metadata": {},
   "outputs": [],
   "source": [
    "d = pd.read_csv(\"TudoGrupos.csv\")\n"
   ]
  },
  {
   "cell_type": "code",
   "execution_count": 31,
   "metadata": {},
   "outputs": [
    {
     "name": "stdout",
     "output_type": "stream",
     "text": [
      "Colunas em d:\n",
      "Index(['id_body_type', 'id_categoria_marca', 'id_categoria_decadas', 'id_city',\n",
      "       'id_insurance', 'id_tipo_carro', 'id_mileage_group',\n",
      "       'id_engine_capacity_group', 'id_fuel_type', 'id_kms_group',\n",
      "       'id_max_power_group', 'id_owner_type', 'resale_price_Lakh'],\n",
      "      dtype='object')\n"
     ]
    }
   ],
   "source": [
    "print(\"Colunas em d:\")\n",
    "print(d.columns)\n",
    "\n",
    "\n"
   ]
  },
  {
   "cell_type": "code",
   "execution_count": 32,
   "metadata": {},
   "outputs": [],
   "source": [
    "X, y = d.drop(\"resale_price_Lakh\", axis=1), d[\"resale_price_Lakh\"]\n",
    "\n"
   ]
  },
  {
   "cell_type": "code",
   "execution_count": 33,
   "metadata": {},
   "outputs": [],
   "source": [
    "# Utilize KFold para um problema de regressão\n",
    "kf = KFold(n_splits=10, shuffle=True, random_state=1234)"
   ]
  },
  {
   "cell_type": "code",
   "execution_count": 34,
   "metadata": {},
   "outputs": [
    {
     "name": "stdout",
     "output_type": "stream",
     "text": [
      "       id_body_type  id_categoria_marca  id_categoria_decadas   id_city  \\\n",
      "0          0.356174            0.071142              0.112823  1.090848   \n",
      "1          0.622679            0.071142              0.112823  1.279384   \n",
      "2          0.568583            0.071142              0.112823  0.927202   \n",
      "3          0.622679            0.071142              0.724804  0.927202   \n",
      "4          0.356174            0.071142              0.112823  1.173973   \n",
      "...             ...                 ...                   ...       ...   \n",
      "13086      1.350560            0.919417              0.724804  1.024603   \n",
      "13087      0.356174            0.071142              0.112823  1.221550   \n",
      "13088      0.568583            0.919417              0.112823  1.024603   \n",
      "13089      0.622679            0.071142              0.112823  0.864362   \n",
      "13090      0.568583            0.071142              0.112823  0.864362   \n",
      "\n",
      "       id_insurance  id_tipo_carro  id_mileage_group  \\\n",
      "0          0.255737       4.116973          0.008712   \n",
      "1          1.303392       4.116973          0.008712   \n",
      "2          0.255737       4.116973          0.008712   \n",
      "3          0.255737       4.116973          0.008712   \n",
      "4          1.303392       4.116973          0.008712   \n",
      "...             ...            ...               ...   \n",
      "13086      0.255737       4.116973          0.008712   \n",
      "13087      0.255737       4.116973          0.008712   \n",
      "13088      0.447470       4.116973          0.008712   \n",
      "13089      0.447470       4.116973          0.008712   \n",
      "13090      0.447470       4.116973          0.008712   \n",
      "\n",
      "       id_engine_capacity_group  id_fuel_type  id_kms_group  \\\n",
      "0                      0.125127      0.176755      0.373855   \n",
      "1                      0.125127      0.176755      0.373855   \n",
      "2                      0.125127      0.176755      0.248270   \n",
      "3                      0.125127      0.516218      0.373855   \n",
      "4                      0.125127      0.176755      0.248270   \n",
      "...                         ...           ...           ...   \n",
      "13086                  1.119150      0.516218      0.248270   \n",
      "13087                  0.125127      0.176755      0.373855   \n",
      "13088                  0.125127      0.516218      0.248270   \n",
      "13089                  0.125127      0.516218      0.373855   \n",
      "13090                  0.125127      0.176755      0.373855   \n",
      "\n",
      "       id_max_power_group  id_owner_type  \n",
      "0                0.199520       0.153610  \n",
      "1                0.199520       1.357305  \n",
      "2                0.457437       0.613046  \n",
      "3                0.457437       0.153610  \n",
      "4                0.199520       0.153610  \n",
      "...                   ...            ...  \n",
      "13086            0.457437       0.613046  \n",
      "13087            0.199520       0.153610  \n",
      "13088            0.457437       0.613046  \n",
      "13089            0.199520       0.613046  \n",
      "13090            0.199520       0.153610  \n",
      "\n",
      "[13091 rows x 12 columns]\n",
      "Data type by column:\n",
      "id_body_type                float64\n",
      "id_categoria_marca          float64\n",
      "id_categoria_decadas        float64\n",
      "id_city                     float64\n",
      "id_insurance                float64\n",
      "id_tipo_carro               float64\n",
      "id_mileage_group            float64\n",
      "id_engine_capacity_group    float64\n",
      "id_fuel_type                float64\n",
      "id_kms_group                float64\n",
      "id_max_power_group          float64\n",
      "id_owner_type               float64\n",
      "dtype: object\n"
     ]
    }
   ],
   "source": [
    "print(X)\n",
    "# Check data types\n",
    "data_types = X.dtypes\n",
    "print(\"Data type by column:\")\n",
    "print(data_types)"
   ]
  },
  {
   "cell_type": "code",
   "execution_count": 35,
   "metadata": {},
   "outputs": [],
   "source": [
    "from sklearn.tree import DecisionTreeRegressor\n",
    "import pandas as pd\n",
    "\n",
    "# Carregar o conjunto de teste a partir de um arquivo CSV\n",
    "df_test = pd.read_csv(\"testTudoGrupos.csv\") \n",
    "\n",
    "# Criar um novo DataFrame apenas com a coluna 'ID'\n",
    "id_column = df_test[['ID']].copy()\n",
    "\n",
    "# Remover a coluna 'ID' do DataFrame original\n",
    "df_test.drop('ID', axis=1, inplace=True)\n"
   ]
  },
  {
   "cell_type": "code",
   "execution_count": 36,
   "metadata": {},
   "outputs": [
    {
     "name": "stdout",
     "output_type": "stream",
     "text": [
      "      body_type  id_categoria_marca  id_categoria_decadas      city  \\\n",
      "0      0.356174            0.071142              0.112823  0.927202   \n",
      "1      0.356174            0.071142              0.724804  1.279384   \n",
      "2      0.356174            0.071142              0.112823  1.599777   \n",
      "3      0.356174            0.071142              0.112823  0.773367   \n",
      "4      0.356174            0.071142              0.112823  0.773367   \n",
      "...         ...                 ...                   ...       ...   \n",
      "3485   0.568583            0.071142              0.724804  1.090848   \n",
      "3486   0.356174            0.071142              0.112823  0.864362   \n",
      "3487   0.568583            0.071142              0.112823  0.773367   \n",
      "3488   0.356174            0.071142              0.112823  0.927202   \n",
      "3489   0.356174            0.071142              0.112823  0.773367   \n",
      "\n",
      "      insurance  id_tipo_carro  id_mileage_group  id_engine_capacity_group  \\\n",
      "0      0.447470       4.116973          0.008712                  0.125127   \n",
      "1      1.416269       4.116973          0.008712                  0.125127   \n",
      "2      0.255737       4.116973          0.008712                  0.767307   \n",
      "3      0.255737       4.116973          0.008712                  0.767307   \n",
      "4      0.447470       4.116973          0.008712                  0.125127   \n",
      "...         ...            ...               ...                       ...   \n",
      "3485   0.255737       4.116973          4.271875                  4.116973   \n",
      "3486   0.255737       4.116973          0.008712                  0.767307   \n",
      "3487   0.447470       4.116973          0.008712                  0.125127   \n",
      "3488   0.447470       4.116973          0.008712                  0.125127   \n",
      "3489   0.447470       4.116973          0.008712                  0.125127   \n",
      "\n",
      "      fuel_type  id_kms_group  id_max_power_group  owner_type  \n",
      "0      0.176755      0.248270            0.199520    0.153610  \n",
      "1      0.176755      0.373855            0.199520    0.613046  \n",
      "2      0.176755      0.248270            0.199520    1.357305  \n",
      "3      0.176755      0.248270            0.199520    0.153610  \n",
      "4      0.176755      0.248270            0.199520    0.613046  \n",
      "...         ...           ...                 ...         ...  \n",
      "3485   3.271875      0.373855            0.199520    0.153610  \n",
      "3486   0.176755      0.248270            0.199520    0.153610  \n",
      "3487   0.176755      0.373855            0.457437    0.153610  \n",
      "3488   0.176755      0.373855            0.199520    0.153610  \n",
      "3489   0.176755      0.373855            0.199520    0.613046  \n",
      "\n",
      "[3490 rows x 12 columns]\n",
      "Data type by column:\n",
      "body_type                   float64\n",
      "id_categoria_marca          float64\n",
      "id_categoria_decadas        float64\n",
      "city                        float64\n",
      "insurance                   float64\n",
      "id_tipo_carro               float64\n",
      "id_mileage_group            float64\n",
      "id_engine_capacity_group    float64\n",
      "fuel_type                   float64\n",
      "id_kms_group                float64\n",
      "id_max_power_group          float64\n",
      "owner_type                  float64\n",
      "dtype: object\n"
     ]
    }
   ],
   "source": [
    "\n",
    "print(df_test)\n",
    "# Check data types\n",
    "data_types = df_test.dtypes\n",
    "print(\"Data type by column:\")\n",
    "print(data_types)"
   ]
  },
  {
   "cell_type": "code",
   "execution_count": 37,
   "metadata": {},
   "outputs": [
    {
     "name": "stdout",
     "output_type": "stream",
     "text": [
      "id_body_type                0\n",
      "id_categoria_marca          0\n",
      "id_categoria_decadas        0\n",
      "id_city                     0\n",
      "id_insurance                0\n",
      "id_tipo_carro               0\n",
      "id_mileage_group            0\n",
      "id_engine_capacity_group    0\n",
      "id_fuel_type                0\n",
      "id_kms_group                0\n",
      "id_max_power_group          0\n",
      "id_owner_type               0\n",
      "dtype: int64\n"
     ]
    }
   ],
   "source": [
    "# Contar a quantidade de NaN em cada coluna do DataFrame X\n",
    "nan_count = X.isna().sum()\n",
    "\n",
    "# Exibir a contagem de NaN por coluna\n",
    "print(nan_count)"
   ]
  },
  {
   "cell_type": "code",
   "execution_count": 38,
   "metadata": {},
   "outputs": [
    {
     "name": "stdout",
     "output_type": "stream",
     "text": [
      "body_type                   0\n",
      "id_categoria_marca          0\n",
      "id_categoria_decadas        0\n",
      "city                        0\n",
      "insurance                   0\n",
      "id_tipo_carro               0\n",
      "id_mileage_group            0\n",
      "id_engine_capacity_group    0\n",
      "fuel_type                   0\n",
      "id_kms_group                0\n",
      "id_max_power_group          0\n",
      "owner_type                  0\n",
      "dtype: int64\n"
     ]
    }
   ],
   "source": [
    "# Contar a quantidade de NaN em cada coluna do DataFrame X\n",
    "nan_count = df_test.isna().sum()\n",
    "\n",
    "# Exibir a contagem de NaN por coluna\n",
    "print(nan_count)"
   ]
  },
  {
   "cell_type": "code",
   "execution_count": 39,
   "metadata": {},
   "outputs": [],
   "source": [
    "# Mapeando os nomes das colunas de d_test para os correspondentes em d\n",
    "mapeamento_colunas = {\n",
    "    'body_type': 'id_body_type',\n",
    "    'city': 'id_city',\n",
    "    'insurance': 'id_insurance',\n",
    "    'fuel_type': 'id_fuel_type',\n",
    "    'owner_type': 'id_owner_type',\n",
    "    \n",
    "}\n",
    "\n",
    "# Renomeando as colunas em d_test\n",
    "df_test.rename(columns=mapeamento_colunas, inplace=True)"
   ]
  },
  {
   "cell_type": "code",
   "execution_count": 40,
   "metadata": {},
   "outputs": [
    {
     "name": "stdout",
     "output_type": "stream",
     "text": [
      "float64\n"
     ]
    }
   ],
   "source": [
    "# Check data types\n",
    "print(y.dtypes)"
   ]
  },
  {
   "cell_type": "code",
   "execution_count": 41,
   "metadata": {},
   "outputs": [
    {
     "name": "stdout",
     "output_type": "stream",
     "text": [
      "id_body_type                float64\n",
      "id_categoria_marca          float64\n",
      "id_categoria_decadas        float64\n",
      "id_city                     float64\n",
      "id_insurance                float64\n",
      "id_tipo_carro               float64\n",
      "id_mileage_group            float64\n",
      "id_engine_capacity_group    float64\n",
      "id_fuel_type                float64\n",
      "id_kms_group                float64\n",
      "id_max_power_group          float64\n",
      "id_owner_type               float64\n",
      "dtype: object\n"
     ]
    }
   ],
   "source": [
    "# Check data types\n",
    "print(X.dtypes)"
   ]
  },
  {
   "cell_type": "code",
   "execution_count": 42,
   "metadata": {},
   "outputs": [
    {
     "name": "stdout",
     "output_type": "stream",
     "text": [
      "id_body_type                float64\n",
      "id_categoria_marca          float64\n",
      "id_categoria_decadas        float64\n",
      "id_city                     float64\n",
      "id_insurance                float64\n",
      "id_tipo_carro               float64\n",
      "id_mileage_group            float64\n",
      "id_engine_capacity_group    float64\n",
      "id_fuel_type                float64\n",
      "id_kms_group                float64\n",
      "id_max_power_group          float64\n",
      "id_owner_type               float64\n",
      "dtype: object\n"
     ]
    }
   ],
   "source": [
    "# Check data types\n",
    "print(df_test.dtypes)"
   ]
  },
  {
   "cell_type": "code",
   "execution_count": 43,
   "metadata": {},
   "outputs": [],
   "source": [
    "#from sklearn import tree\n",
    "#clf = tree.DecisionTreeRegressor(max_depth=7)\n",
    "#clf = clf.fit(X, y)\n",
    "#predictions=clf.predict(df_test)\n",
    "\n",
    "\n",
    "from sklearn.neural_network import MLPRegressor\n",
    "\n",
    " \n",
    "clf= MLPRegressor(random_state=1, max_iter=500)\n",
    "\n",
    "clf=clf.fit(X, y)\n",
    "predictions=clf.predict(df_test)\n"
   ]
  },
  {
   "cell_type": "code",
   "execution_count": 44,
   "metadata": {},
   "outputs": [
    {
     "name": "stdout",
     "output_type": "stream",
     "text": [
      "3490\n"
     ]
    }
   ],
   "source": [
    "\n",
    "print(len(predictions))  # Check the length of predictions\n"
   ]
  },
  {
   "cell_type": "code",
   "execution_count": 45,
   "metadata": {},
   "outputs": [],
   "source": [
    "id_series = id_column.squeeze()\n",
    "df_predictions = pd.DataFrame({\"ID\": id_series, \"prediction\": predictions})"
   ]
  },
  {
   "cell_type": "code",
   "execution_count": 46,
   "metadata": {},
   "outputs": [
    {
     "name": "stdout",
     "output_type": "stream",
     "text": [
      "        ID  prediction\n",
      "0        0    3.590321\n",
      "1        1    5.620174\n",
      "2        2    1.235098\n",
      "3        3    2.154192\n",
      "4        4    3.283540\n",
      "...    ...         ...\n",
      "3485  3485   -4.624449\n",
      "3486  3486    2.055346\n",
      "3487  3487    8.305015\n",
      "3488  3488    4.964215\n",
      "3489  3489    4.657434\n",
      "\n",
      "[3490 rows x 2 columns]\n"
     ]
    }
   ],
   "source": [
    "print(df_predictions)"
   ]
  },
  {
   "cell_type": "code",
   "execution_count": 47,
   "metadata": {},
   "outputs": [],
   "source": [
    "# Exporte o DataFrame para um arquivo CSV\n",
    "df_predictions.to_csv('PredictTudoGrupos.csv', index=False)"
   ]
  }
 ],
 "metadata": {
  "kernelspec": {
   "display_name": "Python 3",
   "language": "python",
   "name": "python3"
  },
  "language_info": {
   "codemirror_mode": {
    "name": "ipython",
    "version": 3
   },
   "file_extension": ".py",
   "mimetype": "text/x-python",
   "name": "python",
   "nbconvert_exporter": "python",
   "pygments_lexer": "ipython3",
   "version": "3.12.0"
  }
 },
 "nbformat": 4,
 "nbformat_minor": 2
}
