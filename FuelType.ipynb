{
 "cells": [
  {
   "cell_type": "code",
   "execution_count": 1,
   "metadata": {},
   "outputs": [],
   "source": [
    "import matplotlib.pyplot as plt\n",
    "import pandas as pd\n",
    "import seaborn as sns\n",
    "import numpy as np\n",
    "import re"
   ]
  },
  {
   "cell_type": "code",
   "execution_count": 2,
   "metadata": {},
   "outputs": [],
   "source": [
    "df = pd.read_csv('train.csv')"
   ]
  },
  {
   "cell_type": "code",
   "execution_count": 3,
   "metadata": {},
   "outputs": [
    {
     "name": "stdout",
     "output_type": "stream",
     "text": [
      "['Petrol' 'Diesel' 'CNG' 'Electric' 'LPG']\n"
     ]
    }
   ],
   "source": [
    "# unique 'fuel_type'\n",
    "valores_unicos_fuel_type = df['fuel_type'].unique()\n",
    "print(valores_unicos_fuel_type)\n"
   ]
  },
  {
   "cell_type": "code",
   "execution_count": 1,
   "metadata": {},
   "outputs": [
    {
     "ename": "NameError",
     "evalue": "name 'df' is not defined",
     "output_type": "error",
     "traceback": [
      "\u001b[1;31m---------------------------------------------------------------------------\u001b[0m",
      "\u001b[1;31mNameError\u001b[0m                                 Traceback (most recent call last)",
      "\u001b[1;32mc:\\Users\\letic\\OneDrive\\Ambiente de Trabalho\\AASE2\\AASE\\FuelType.ipynb Cell 4\u001b[0m line \u001b[0;36m4\n\u001b[0;32m      <a href='vscode-notebook-cell:/c%3A/Users/letic/OneDrive/Ambiente%20de%20Trabalho/AASE2/AASE/FuelType.ipynb#W3sZmlsZQ%3D%3D?line=0'>1</a>\u001b[0m \u001b[39m#Check ID_fuel_type\u001b[39;00m\n\u001b[0;32m      <a href='vscode-notebook-cell:/c%3A/Users/letic/OneDrive/Ambiente%20de%20Trabalho/AASE2/AASE/FuelType.ipynb#W3sZmlsZQ%3D%3D?line=1'>2</a>\u001b[0m \n\u001b[0;32m      <a href='vscode-notebook-cell:/c%3A/Users/letic/OneDrive/Ambiente%20de%20Trabalho/AASE2/AASE/FuelType.ipynb#W3sZmlsZQ%3D%3D?line=2'>3</a>\u001b[0m \u001b[39m# Sua coluna de tipos de combustível\u001b[39;00m\n\u001b[1;32m----> <a href='vscode-notebook-cell:/c%3A/Users/letic/OneDrive/Ambiente%20de%20Trabalho/AASE2/AASE/FuelType.ipynb#W3sZmlsZQ%3D%3D?line=3'>4</a>\u001b[0m fuel_types \u001b[39m=\u001b[39m df[\u001b[39m'\u001b[39m\u001b[39mfuel_type\u001b[39m\u001b[39m'\u001b[39m]\n\u001b[0;32m      <a href='vscode-notebook-cell:/c%3A/Users/letic/OneDrive/Ambiente%20de%20Trabalho/AASE2/AASE/FuelType.ipynb#W3sZmlsZQ%3D%3D?line=5'>6</a>\u001b[0m \u001b[39m# Número de documentos (ou entradas) no DataFrame\u001b[39;00m\n\u001b[0;32m      <a href='vscode-notebook-cell:/c%3A/Users/letic/OneDrive/Ambiente%20de%20Trabalho/AASE2/AASE/FuelType.ipynb#W3sZmlsZQ%3D%3D?line=6'>7</a>\u001b[0m n_docs \u001b[39m=\u001b[39m \u001b[39mlen\u001b[39m(df)\n",
      "\u001b[1;31mNameError\u001b[0m: name 'df' is not defined"
     ]
    }
   ],
   "source": [
    "#Check ID_fuel_type\n",
    "\n",
    "# Sua coluna de tipos de combustível\n",
    "fuel_types = df['fuel_type']\n",
    "\n",
    "# Número de documentos (ou entradas) no DataFrame\n",
    "n_docs = len(df)\n",
    "\n",
    "idf = {}\n",
    "\n",
    "# Usando drop_duplicates para obter valores únicos\n",
    "unique_fuel_types = fuel_types.drop_duplicates()\n",
    "\n",
    "for fuel_type in unique_fuel_types:\n",
    "    k = sum(fuel_type in df['fuel_type'][i] for i in range(n_docs))  # contagem de documentos que contêm este tipo de combustível\n",
    "    idf[fuel_type] = np.log10(n_docs / (k + 1))  # Adicionei +1 para evitar divisão por zero\n",
    "\n",
    "\n",
    "for fuel_type, value in idf.items():\n",
    "    print(f'{fuel_type:>15}: {value:>10}')"
   ]
  },
  {
   "cell_type": "code",
   "execution_count": 5,
   "metadata": {},
   "outputs": [
    {
     "name": "stdout",
     "output_type": "stream",
     "text": [
      "         Petrol: 0.18667511225498815\n",
      "         Diesel: 0.500913650476359\n",
      "            CNG: 1.5383795956654682\n",
      "       Electric: 2.4457909564400544\n",
      "            LPG: 2.7830331247584805\n",
      "                                               full_name registered_year  \\\n",
      "0                                2019 Tata Tiago XZ Plus        Nov 2019   \n",
      "1                              2018 Honda WR-V i-VTEC VX        Apr 2018   \n",
      "2                              2015 Honda City i VTEC SV        May 2015   \n",
      "3      2021 Tata New Safari XZA Plus Adventure Editio...            2021   \n",
      "4                        2019 Maruti Baleno 1.2 CVT Zeta        Jun 2019   \n",
      "...                                                  ...             ...   \n",
      "13951                          2021 Kia Carnival Premium            2021   \n",
      "13952               2017 Hyundai i20 1.2 Magna Executive        Dec 2017   \n",
      "13953             2017 Skoda Rapid 1.5 TDI Ambition BSIV        Jan 2018   \n",
      "13954                      2017 Maruti Vitara Brezza ZDi        Apr 2017   \n",
      "13955                         2015 Honda Amaze S i-Vtech        Mar 2015   \n",
      "\n",
      "      engine_capacity              insurance transmission_type  kms_driven  \\\n",
      "0             1199 cc            Third Party            Manual  30,910 Kms   \n",
      "1             1199 cc               Zero Dep            Manual  48,089 Kms   \n",
      "2             1497 cc  Third Party insurance            Manual  51,000 Kms   \n",
      "3             1956 cc  Third Party insurance         Automatic  30,000 Kms   \n",
      "4             1197 cc               Zero Dep         Automatic  61,113 Kms   \n",
      "...               ...                    ...               ...         ...   \n",
      "13951         2199 cc  Third Party insurance         Automatic  80,000 Kms   \n",
      "13952         1197 cc  Third Party insurance            Manual  17,923 Kms   \n",
      "13953         1498 cc          Comprehensive            Manual  63,389 Kms   \n",
      "13954         1248 cc          Comprehensive            Manual  40,000 Kms   \n",
      "13955         1198 cc          Comprehensive            Manual  33,046 Kms   \n",
      "\n",
      "         owner_type fuel_type  max_power  seats     mileage  body_type  \\\n",
      "0       First Owner    Petrol   83.83bhp    5.0  23.84 kmpl  Hatchback   \n",
      "1       Third Owner    Petrol    88.7bhp    5.0   17.5 kmpl        SUV   \n",
      "2      Second Owner    Petrol   117.3bhp    5.0   17.4 kmpl      Sedan   \n",
      "3       First Owner    Diesel  167.67bhp    7.0  14.08 kmpl        SUV   \n",
      "4       First Owner    Petrol    83.1bhp    5.0   21.4 kmpl  Hatchback   \n",
      "...             ...       ...        ...    ...         ...        ...   \n",
      "13951  Second Owner    Diesel   197.2bhp    7.0  14.11 kmpl        MUV   \n",
      "13952   First Owner    Petrol   81.83bhp    5.0   18.6 kmpl  Hatchback   \n",
      "13953  Second Owner    Diesel   108.6bhp    5.0  21.13 kmpl      Sedan   \n",
      "13954  Second Owner    Diesel    88.5bhp    5.0   24.3 kmpl        SUV   \n",
      "13955   First Owner    Petrol    86.7bhp    5.0     18 kmpl      Sedan   \n",
      "\n",
      "            city  resale_price_Lakh  id_fuel_type  \n",
      "0           Pune               5.66      0.186675  \n",
      "1         Jaipur               6.64      0.186675  \n",
      "2         Mumbai               5.65      0.186675  \n",
      "3         Mumbai              23.00      0.500914  \n",
      "4        Kolkata               6.87      0.186675  \n",
      "...          ...                ...           ...  \n",
      "13951  Hyderabad              26.50      0.500914  \n",
      "13952    Gurgaon               5.87      0.186675  \n",
      "13953  Hyderabad               7.43      0.500914  \n",
      "13954  Bangalore               9.45      0.500914  \n",
      "13955  Bangalore               4.55      0.186675  \n",
      "\n",
      "[13956 rows x 15 columns]\n"
     ]
    }
   ],
   "source": [
    "#Create fuel_type ID: IDF\n",
    "\n",
    "fuel_types = df['fuel_type']\n",
    "\n",
    "# Número de entradas no DataFrame\n",
    "n_docs = len(df)\n",
    "\n",
    "idf = {}\n",
    "\n",
    "# valores únicos\n",
    "unique_fuel_types = fuel_types.drop_duplicates()\n",
    "\n",
    "for fuel_type in unique_fuel_types:\n",
    "    k = sum(fuel_type in df['fuel_type'][i] for i in range(n_docs))  # contagem de 1 tipo de combustível\n",
    "    idf[fuel_type] = np.log10(n_docs / (k + 1))  # evitar divisão por zero\n",
    "\n",
    "for fuel_type, value in idf.items():\n",
    "    print(f'{fuel_type:>15}: {value:>10}')\n",
    "\n",
    "# Criar nova coluna 'idf' no DataFrame\n",
    "df['id_fuel_type'] = df['fuel_type'].map(idf)\n",
    "\n",
    "# Se desejar imprimir o DataFrame com a nova coluna\n",
    "print(df)"
   ]
  },
  {
   "cell_type": "code",
   "execution_count": 6,
   "metadata": {},
   "outputs": [
    {
     "data": {
      "image/png": "[encoded data removed]",
      "text/plain": [
       "<Figure size 300x500 with 2 Axes>"
      ]
     },
     "metadata": {},
     "output_type": "display_data"
    }
   ],
   "source": [
    "#correlation  \n",
    "\n",
    "# Select columns\n",
    "columns_of_interest = ['id_fuel_type', 'resale_price_Lakh']\n",
    "subset_df = df[columns_of_interest]\n",
    "\n",
    "plt.figure(figsize=(3, 5))\n",
    "\n",
    "# Creat heatmap\n",
    "heatmap = sns.heatmap(subset_df.corr()[['resale_price_Lakh']].sort_values(by='resale_price_Lakh', ascending=False), vmin=-1, vmax=1, annot=True, cmap='BrBG')\n",
    "heatmap.set_title('Features Correlating with resale_price_Lakh', fontdict={'fontsize': 12}, pad=16)\n",
    "\n",
    "plt.show()"
   ]
  }
 ],
 "metadata": {
  "kernelspec": {
   "display_name": "Python 3",
   "language": "python",
   "name": "python3"
  },
  "language_info": {
   "codemirror_mode": {
    "name": "ipython",
    "version": 3
   },
   "file_extension": ".py",
   "mimetype": "text/x-python",
   "name": "python",
   "nbconvert_exporter": "python",
   "pygments_lexer": "ipython3",
   "version": "3.12.0"
  }
 },
 "nbformat": 4,
 "nbformat_minor": 2
}
