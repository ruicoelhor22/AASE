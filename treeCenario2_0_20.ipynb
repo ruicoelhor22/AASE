{
 "cells": [
  {
   "cell_type": "code",
   "execution_count": 23,
   "metadata": {},
   "outputs": [],
   "source": [
    "import warnings\n",
    "warnings.filterwarnings(\"ignore\")"
   ]
  },
  {
   "cell_type": "code",
   "execution_count": 24,
   "metadata": {},
   "outputs": [],
   "source": [
    "import pandas as pd\n",
    "#necessario por causa do metodo de avaliaçao\n",
    "from sklearn.model_selection import KFold\n",
    "from sklearn.metrics import (\n",
    "        make_scorer,\n",
    "        confusion_matrix, \n",
    "        cohen_kappa_score, \n",
    "        accuracy_score, \n",
    "        precision_score, \n",
    "        recall_score, \n",
    "        f1_score, \n",
    "        roc_auc_score\n",
    ")\n",
    "from sklearn.model_selection import cross_validate, StratifiedKFold\n",
    "from sklearn.tree import DecisionTreeClassifier # decision trees for classification\n",
    "from sklearn.neural_network import  MLPClassifier # neural networks for classification\n",
    "from sklearn.naive_bayes import GaussianNB # naive bayes for classification\n",
    "from sklearn.svm import SVC # support vector machines for classification"
   ]
  },
  {
   "cell_type": "code",
   "execution_count": 25,
   "metadata": {},
   "outputs": [],
   "source": [
    "#metricas regressao\n",
    "from sklearn.metrics import mean_squared_error, mean_absolute_error, r2_score\n",
    "\n",
    "def custom_regression_metrics(y_true, y_pred):\n",
    "    mse = mean_squared_error(y_true, y_pred)\n",
    "    mae = mean_absolute_error(y_true, y_pred)\n",
    "    r2 = r2_score(y_true, y_pred)\n",
    "    \n",
    "    return mse, mae, r2"
   ]
  },
  {
   "cell_type": "code",
   "execution_count": 26,
   "metadata": {},
   "outputs": [],
   "source": [
    "#metricas classificação\n",
    "def specificity_score(y_true, y_pred):\n",
    "    tn, fp, fn, tp = confusion_matrix(y_true, y_pred).ravel()\n",
    "    return tn / (tn+fp)"
   ]
  },
  {
   "cell_type": "code",
   "execution_count": 27,
   "metadata": {},
   "outputs": [],
   "source": [
    "#Metricas regressao\n",
    "from sklearn.metrics import mean_squared_error, mean_absolute_error, r2_score\n",
    "\n",
    "REGRESSION_METRICS = {\n",
    "    \"MSE\": make_scorer(mean_squared_error),\n",
    "    \"MAE\": make_scorer(mean_absolute_error),\n",
    "    \"R2\": make_scorer(r2_score)\n",
    "}"
   ]
  },
  {
   "cell_type": "code",
   "execution_count": 28,
   "metadata": {},
   "outputs": [],
   "source": [
    "d = pd.read_csv(\"Acenario2Coluna_0_20.csv\")\n"
   ]
  },
  {
   "cell_type": "code",
   "execution_count": 29,
   "metadata": {},
   "outputs": [
    {
     "name": "stdout",
     "output_type": "stream",
     "text": [
      "Colunas em d:\n",
      "Index(['id_body_type', 'id_categoria_marca', 'ano', 'mileage',\n",
      "       'id_max_power_group', 'id_transmissao', 'id_modelos',\n",
      "       'resale_price_Lakh'],\n",
      "      dtype='object')\n"
     ]
    }
   ],
   "source": [
    "print(\"Colunas em d:\")\n",
    "print(d.columns)\n",
    "\n",
    "\n"
   ]
  },
  {
   "cell_type": "code",
   "execution_count": 30,
   "metadata": {},
   "outputs": [],
   "source": [
    "X, y = d.drop(\"resale_price_Lakh\", axis=1), d[\"resale_price_Lakh\"]\n",
    "\n"
   ]
  },
  {
   "cell_type": "code",
   "execution_count": 31,
   "metadata": {},
   "outputs": [],
   "source": [
    "# Utilize KFold para um problema de regressão\n",
    "kf = KFold(n_splits=10, shuffle=True, random_state=1234)"
   ]
  },
  {
   "cell_type": "code",
   "execution_count": 32,
   "metadata": {},
   "outputs": [
    {
     "name": "stdout",
     "output_type": "stream",
     "text": [
      "       id_body_type  id_categoria_marca     ano  mileage  id_max_power_group  \\\n",
      "0          0.364112            0.073531  2019.0    23.84            0.206644   \n",
      "1          0.598869            0.073531  2018.0    17.50            0.206644   \n",
      "2          0.578053            0.073531  2015.0    17.40            0.446040   \n",
      "3          0.598869            0.073531  2021.0    14.08            0.446040   \n",
      "4          0.364112            0.073531  2019.0    21.40            0.206644   \n",
      "...             ...                 ...     ...      ...                 ...   \n",
      "13420      1.347597            0.903640  2021.0    14.11            0.446040   \n",
      "13421      0.364112            0.073531  2017.0    18.60            0.206644   \n",
      "13422      0.578053            0.903640  2017.0    21.13            0.446040   \n",
      "13423      0.598869            0.073531  2017.0    24.30            0.206644   \n",
      "13424      0.578053            0.073531  2015.0    18.00            0.206644   \n",
      "\n",
      "       id_transmissao  id_modelos  \n",
      "0            0.131359    3.086522  \n",
      "1            0.131359    2.403638  \n",
      "2            0.131359    2.583846  \n",
      "3            0.583102    3.650793  \n",
      "4            0.583102    2.747703  \n",
      "...               ...         ...  \n",
      "13420        0.583102    3.650793  \n",
      "13421        0.131359    2.951823  \n",
      "13422        0.131359    3.282816  \n",
      "13423        0.131359    2.747703  \n",
      "13424        0.131359    2.428944  \n",
      "\n",
      "[13425 rows x 7 columns]\n",
      "Data type by column:\n",
      "id_body_type          float64\n",
      "id_categoria_marca    float64\n",
      "ano                   float64\n",
      "mileage               float64\n",
      "id_max_power_group    float64\n",
      "id_transmissao        float64\n",
      "id_modelos            float64\n",
      "dtype: object\n"
     ]
    }
   ],
   "source": [
    "print(X)\n",
    "# Check data types\n",
    "data_types = X.dtypes\n",
    "print(\"Data type by column:\")\n",
    "print(data_types)"
   ]
  },
  {
   "cell_type": "code",
   "execution_count": 33,
   "metadata": {},
   "outputs": [],
   "source": [
    "from sklearn.tree import DecisionTreeRegressor\n",
    "import pandas as pd\n",
    "\n",
    "# Carregar o conjunto de teste a partir de um arquivo CSV\n",
    "df_test = pd.read_csv(\"testcenario2_0_20.csv\") \n",
    "\n",
    "# Criar um novo DataFrame apenas com a coluna 'ID'\n",
    "id_column = df_test[['ID']].copy()\n",
    "\n",
    "# Remover a coluna 'ID' do DataFrame original\n",
    "df_test.drop('ID', axis=1, inplace=True)\n"
   ]
  },
  {
   "cell_type": "code",
   "execution_count": 34,
   "metadata": {},
   "outputs": [
    {
     "name": "stdout",
     "output_type": "stream",
     "text": [
      "      id_body_type  id_categoria_marca     ano  mileage  id_max_power_group  \\\n",
      "0         0.364112            0.073531  2017.0    18.90            0.206644   \n",
      "1         0.364112            0.073531  2020.0    21.21            0.206644   \n",
      "2         0.364112            0.073531  2010.0    18.20            0.206644   \n",
      "3         0.364112            0.073531  2010.0    19.70            0.206644   \n",
      "4         0.364112            0.073531  2018.0    17.19            0.206644   \n",
      "...            ...                 ...     ...      ...                 ...   \n",
      "3485      0.578053            0.073531  2022.0     0.00            0.206644   \n",
      "3486      0.364112            0.073531  2017.0    23.01            0.206644   \n",
      "3487      0.578053            0.073531  2017.0    17.80            0.446040   \n",
      "3488      0.364112            0.073531  2016.0    18.70            0.206644   \n",
      "3489      0.364112            0.073531  2017.0    22.38            0.206644   \n",
      "\n",
      "      id_transmissao  id_modelos  \n",
      "0           0.131359    2.872642  \n",
      "1           0.583102    3.224824  \n",
      "2           0.131359    3.428944  \n",
      "3           0.131359    2.420344  \n",
      "4           0.131359    3.826884  \n",
      "...              ...         ...  \n",
      "3485        0.583102    3.428944  \n",
      "3486        0.131359    2.650793  \n",
      "3487        0.131359    2.729974  \n",
      "3488        0.131359    2.872642  \n",
      "3489        0.131359    1.840113  \n",
      "\n",
      "[3490 rows x 7 columns]\n",
      "Data type by column:\n",
      "id_body_type          float64\n",
      "id_categoria_marca    float64\n",
      "ano                   float64\n",
      "mileage               float64\n",
      "id_max_power_group    float64\n",
      "id_transmissao        float64\n",
      "id_modelos            float64\n",
      "dtype: object\n"
     ]
    }
   ],
   "source": [
    "\n",
    "print(df_test)\n",
    "# Check data types\n",
    "data_types = df_test.dtypes\n",
    "print(\"Data type by column:\")\n",
    "print(data_types)"
   ]
  },
  {
   "cell_type": "code",
   "execution_count": 35,
   "metadata": {},
   "outputs": [
    {
     "name": "stdout",
     "output_type": "stream",
     "text": [
      "id_body_type          0\n",
      "id_categoria_marca    0\n",
      "ano                   0\n",
      "mileage               0\n",
      "id_max_power_group    0\n",
      "id_transmissao        0\n",
      "id_modelos            0\n",
      "dtype: int64\n"
     ]
    }
   ],
   "source": [
    "# Contar a quantidade de NaN em cada coluna do DataFrame X\n",
    "nan_count = X.isna().sum()\n",
    "\n",
    "# Exibir a contagem de NaN por coluna\n",
    "print(nan_count)"
   ]
  },
  {
   "cell_type": "code",
   "execution_count": 36,
   "metadata": {},
   "outputs": [
    {
     "name": "stdout",
     "output_type": "stream",
     "text": [
      "id_body_type          0\n",
      "id_categoria_marca    0\n",
      "ano                   0\n",
      "mileage               0\n",
      "id_max_power_group    0\n",
      "id_transmissao        0\n",
      "id_modelos            0\n",
      "dtype: int64\n"
     ]
    }
   ],
   "source": [
    "# Contar a quantidade de NaN em cada coluna do DataFrame X\n",
    "nan_count = df_test.isna().sum()\n",
    "\n",
    "# Exibir a contagem de NaN por coluna\n",
    "print(nan_count)"
   ]
  },
  {
   "cell_type": "code",
   "execution_count": 37,
   "metadata": {},
   "outputs": [
    {
     "name": "stdout",
     "output_type": "stream",
     "text": [
      "float64\n"
     ]
    }
   ],
   "source": [
    "# Check data types\n",
    "print(y.dtypes)"
   ]
  },
  {
   "cell_type": "code",
   "execution_count": 38,
   "metadata": {},
   "outputs": [
    {
     "name": "stdout",
     "output_type": "stream",
     "text": [
      "id_body_type          float64\n",
      "id_categoria_marca    float64\n",
      "ano                   float64\n",
      "mileage               float64\n",
      "id_max_power_group    float64\n",
      "id_transmissao        float64\n",
      "id_modelos            float64\n",
      "dtype: object\n"
     ]
    }
   ],
   "source": [
    "# Check data types\n",
    "print(X.dtypes)"
   ]
  },
  {
   "cell_type": "code",
   "execution_count": 39,
   "metadata": {},
   "outputs": [
    {
     "name": "stdout",
     "output_type": "stream",
     "text": [
      "id_body_type          float64\n",
      "id_categoria_marca    float64\n",
      "ano                   float64\n",
      "mileage               float64\n",
      "id_max_power_group    float64\n",
      "id_transmissao        float64\n",
      "id_modelos            float64\n",
      "dtype: object\n"
     ]
    }
   ],
   "source": [
    "# Check data types\n",
    "print(df_test.dtypes)"
   ]
  },
  {
   "cell_type": "code",
   "execution_count": 48,
   "metadata": {},
   "outputs": [],
   "source": [
    "from sklearn import tree\n",
    "clf = tree.DecisionTreeRegressor(max_depth=10)\n",
    "clf = clf.fit(X, y)\n",
    "predictions=clf.predict(df_test)"
   ]
  },
  {
   "cell_type": "code",
   "execution_count": 49,
   "metadata": {},
   "outputs": [
    {
     "data": {
      "text/plain": [
       "array([5.054     , 6.75524272, 1.87934335, ..., 7.51384615, 5.71076159,\n",
       "       5.24772727])"
      ]
     },
     "execution_count": 49,
     "metadata": {},
     "output_type": "execute_result"
    }
   ],
   "source": [
    "predictions"
   ]
  },
  {
   "cell_type": "code",
   "execution_count": 41,
   "metadata": {},
   "outputs": [
    {
     "name": "stdout",
     "output_type": "stream",
     "text": [
      "3490\n"
     ]
    }
   ],
   "source": [
    "\n",
    "print(len(predictions))  # Check the length of predictions\n"
   ]
  },
  {
   "cell_type": "code",
   "execution_count": 42,
   "metadata": {},
   "outputs": [],
   "source": [
    "id_series = id_column.squeeze()\n",
    "df_predictions = pd.DataFrame({\"ID\": id_series, \"prediction\": predictions})"
   ]
  },
  {
   "cell_type": "code",
   "execution_count": 43,
   "metadata": {},
   "outputs": [
    {
     "name": "stdout",
     "output_type": "stream",
     "text": [
      "        ID  prediction\n",
      "0        0    7.310202\n",
      "1        1    7.310202\n",
      "2        2    7.310202\n",
      "3        3    7.310202\n",
      "4        4    7.310202\n",
      "...    ...         ...\n",
      "3485  3485    7.310202\n",
      "3486  3486    7.310202\n",
      "3487  3487    7.310202\n",
      "3488  3488    7.310202\n",
      "3489  3489    7.310202\n",
      "\n",
      "[3490 rows x 2 columns]\n"
     ]
    }
   ],
   "source": [
    "print(df_predictions)"
   ]
  },
  {
   "cell_type": "code",
   "execution_count": 44,
   "metadata": {},
   "outputs": [],
   "source": [
    "# Exporte o DataFrame para um arquivo CSV\n",
    "df_predictions.to_csv('treeCenario2_0_20max.csv', index=False)"
   ]
  }
 ],
 "metadata": {
  "kernelspec": {
   "display_name": "Python 3",
   "language": "python",
   "name": "python3"
  },
  "language_info": {
   "codemirror_mode": {
    "name": "ipython",
    "version": 3
   },
   "file_extension": ".py",
   "mimetype": "text/x-python",
   "name": "python",
   "nbconvert_exporter": "python",
   "pygments_lexer": "ipython3",
   "version": "3.12.0"
  }
 },
 "nbformat": 4,
 "nbformat_minor": 2
}
