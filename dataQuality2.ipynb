{
 "cells": [
  {
   "cell_type": "code",
   "execution_count": 1,
   "metadata": {},
   "outputs": [],
   "source": [
    "import matplotlib.pyplot as plt\n",
    "import pandas as pd\n",
    "import seaborn as sns\n",
    "import numpy as np"
   ]
  },
  {
   "cell_type": "code",
   "execution_count": 2,
   "metadata": {},
   "outputs": [],
   "source": [
    "df = pd.read_csv('train.csv')"
   ]
  },
  {
   "cell_type": "code",
   "execution_count": 3,
   "metadata": {},
   "outputs": [
    {
     "name": "stdout",
     "output_type": "stream",
     "text": [
      "Columns with missing values: \n",
      "full_name              0\n",
      "registered_year       54\n",
      "engine_capacity        9\n",
      "insurance              5\n",
      "transmission_type      0\n",
      "kms_driven             3\n",
      "owner_type            36\n",
      "fuel_type              0\n",
      "max_power             89\n",
      "seats                  7\n",
      "mileage              407\n",
      "body_type              0\n",
      "city                   0\n",
      "resale_price_Lakh      0\n",
      "dtype: int64\n"
     ]
    }
   ],
   "source": [
    "# Check for missing values\n",
    "missing_values = df.isnull().sum()\n",
    "print('Columns with missing values: ' )\n",
    "print(missing_values)"
   ]
  },
  {
   "cell_type": "code",
   "execution_count": 4,
   "metadata": {},
   "outputs": [
    {
     "name": "stdout",
     "output_type": "stream",
     "text": [
      "Columns with duplicate values: \n",
      "                                        full_name registered_year  \\\n",
      "1242             2022 Maruti Eeco CNG 5 Seater AC            2022   \n",
      "1778                     2019 Jaguar XE Portfolio            2019   \n",
      "2250                   2010 Hyundai i10 Magna 1.1            2010   \n",
      "2265                        2011 BMW X1 sDrive20d            2011   \n",
      "3028                  2016 Honda Mobilio V i-DTEC            2016   \n",
      "...                                           ...             ...   \n",
      "13736  2010 Volkswagen Polo Diesel Trendline 1.2L            2010   \n",
      "13742   2015 Ford Ecosport 1.5 Ti VCT AT Titanium            2015   \n",
      "13787                 2015 Volkswagen Polo GT TSI            2015   \n",
      "13877            2020 Hyundai i20 Magna Plus BSIV            2020   \n",
      "13889                     2017 Mahindra XUV500 W4            2017   \n",
      "\n",
      "      engine_capacity              insurance transmission_type    kms_driven  \\\n",
      "1242          1196 cc  Third Party insurance            Manual    20,000 Kms   \n",
      "1778          1999 cc  Third Party insurance         Automatic    10,000 Kms   \n",
      "2250          1086 cc  Third Party insurance            Manual    80,000 Kms   \n",
      "2265          1995 cc  Third Party insurance         Automatic    80,000 Kms   \n",
      "3028          1498 cc  Third Party insurance            Manual    60,000 Kms   \n",
      "...               ...                    ...               ...           ...   \n",
      "13736         1199 cc  Third Party insurance            Manual  1,00,000 Kms   \n",
      "13742         1499 cc  Third Party insurance         Automatic    60,000 Kms   \n",
      "13787         1197 cc  Third Party insurance         Automatic    50,000 Kms   \n",
      "13877         1197 cc  Third Party insurance            Manual    20,000 Kms   \n",
      "13889         2179 cc  Third Party insurance            Manual    70,000 Kms   \n",
      "\n",
      "         owner_type fuel_type  max_power  seats      mileage  body_type  \\\n",
      "1242    First Owner       CNG   61.68bhp    5.0  20.88 km/kg   Minivans   \n",
      "1778    First Owner    Petrol  246.74bhp    5.0    13.5 kmpl      Sedan   \n",
      "2250   Second Owner    Petrol   68.05bhp    5.0   19.81 kmpl  Hatchback   \n",
      "2265   Second Owner    Diesel     184bhp    5.0   17.05 kmpl        SUV   \n",
      "3028    First Owner    Diesel    98.6bhp    7.0    24.2 kmpl        MUV   \n",
      "...             ...       ...        ...    ...          ...        ...   \n",
      "13736  Second Owner    Diesel    73.9bhp    5.0   22.07 kmpl  Hatchback   \n",
      "13742   First Owner    Petrol     110bhp    5.0    16.5 kmpl        SUV   \n",
      "13787   First Owner    Petrol   103.6bhp    5.0   17.21 kmpl  Hatchback   \n",
      "13877   First Owner    Petrol   81.86bhp    5.0    18.6 kmpl  Hatchback   \n",
      "13889  Second Owner    Diesel     140bhp    7.0      16 kmpl        SUV   \n",
      "\n",
      "            city  resale_price_Lakh  \n",
      "1242        Agra               6.25  \n",
      "1778       Delhi              42.00  \n",
      "2250       Delhi               1.40  \n",
      "2265   Hyderabad               9.50  \n",
      "3028   Hyderabad               6.00  \n",
      "...          ...                ...  \n",
      "13736  Bangalore               3.60  \n",
      "13742  Hyderabad               6.30  \n",
      "13787  Hyderabad               6.00  \n",
      "13877  Bangalore               7.00  \n",
      "13889    Kolkata               8.50  \n",
      "\n",
      "[141 rows x 14 columns]\n"
     ]
    }
   ],
   "source": [
    "# Check for duplicates\n",
    "duplicate_rows = df[df.duplicated()]\n",
    "print('Columns with duplicate values: ')\n",
    "print(duplicate_rows)"
   ]
  },
  {
   "cell_type": "code",
   "execution_count": 8,
   "metadata": {},
   "outputs": [
    {
     "name": "stdout",
     "output_type": "stream",
     "text": [
      "Distinct full names with blank seats:\n"
     ]
    }
   ],
   "source": [
    "# Check for model cars with missing values in the 'seats' column\n",
    "distinct_full_names_with_blank_seats = df[df['seats'].isnull()]['full_name'].unique()\n",
    "print('Distinct full names with blank seats:')\n",
    "for full_name in distinct_full_names_with_blank_seats:\n",
    "    print(full_name)\n"
   ]
  },
  {
   "cell_type": "code",
   "execution_count": 9,
   "metadata": {},
   "outputs": [],
   "source": [
    "#remove cc from engine_capacity\n",
    "df['engine_capacity'] = df['engine_capacity'].str.replace('cc', '')\n",
    "df['kms_driven'] = df['kms_driven'].str.replace('Kms', '')\n",
    "# Remover vírgula e espaço em branco da coluna 'kms_driven'\n",
    "df['kms_driven'] = df['kms_driven'].str.replace(',', '').str.strip()"
   ]
  },
  {
   "cell_type": "code",
   "execution_count": 10,
   "metadata": {},
   "outputs": [],
   "source": [
    "# Change the data types of multiple columns\n",
    "df = df.astype({\n",
    "    'full_name': 'string',\n",
    "    'engine_capacity': float,\n",
    "    'insurance': 'string',\n",
    "    'transmission_type': 'string',\n",
    "    'kms_driven': float,\n",
    "    'owner_type': 'string',\n",
    "    'fuel_type': 'string',\n",
    "    'max_power': 'string',\n",
    "    'seats': float,\n",
    "    'mileage': 'string',\n",
    "    'body_type': 'string',\n",
    "    'city': 'string',\n",
    "    'resale_price_Lakh': float\n",
    "})\n",
    "\n"
   ]
  },
  {
   "cell_type": "code",
   "execution_count": 6,
   "metadata": {},
   "outputs": [
    {
     "name": "stdout",
     "output_type": "stream",
     "text": [
      "Data type by column:\n",
      "full_name             object\n",
      "registered_year       object\n",
      "engine_capacity       object\n",
      "insurance             object\n",
      "transmission_type     object\n",
      "kms_driven            object\n",
      "owner_type            object\n",
      "fuel_type             object\n",
      "max_power             object\n",
      "seats                float64\n",
      "mileage               object\n",
      "body_type             object\n",
      "city                  object\n",
      "resale_price_Lakh    float64\n",
      "dtype: object\n"
     ]
    }
   ],
   "source": [
    "# Check data types\n",
    "data_types = df.dtypes\n",
    "print(\"Data type by column:\")\n",
    "print(data_types)"
   ]
  },
  {
   "cell_type": "code",
   "execution_count": 11,
   "metadata": {},
   "outputs": [
    {
     "name": "stdout",
     "output_type": "stream",
     "text": [
      "Distinct full names with blank seats:\n"
     ]
    }
   ],
   "source": [
    "# Update number of seats based on conditions\n",
    "df.loc[df['full_name'].isin(['2009 Maruti Estilo LXI', '2019 Nissan Kicks Diesel', '2010 Maruti Estilo LXI']), 'seats'] = 5\n",
    "df.loc[df['full_name'] == '2008 Ford Endeavour 3.0 4x4 Thunder Plus', 'seats'] = 7\n",
    "\n",
    "# Check\n",
    "distinct_full_names_with_blank_seats = df[df['seats'].isnull()]['full_name'].unique()\n",
    "print('Distinct full names with blank seats:')\n",
    "for full_name in distinct_full_names_with_blank_seats:\n",
    "    print(full_name)"
   ]
  },
  {
   "cell_type": "code",
   "execution_count": 38,
   "metadata": {},
   "outputs": [
    {
     "name": "stdout",
     "output_type": "stream",
     "text": [
      "<StringArray>\n",
      "['Petrol', 'Diesel', 'CNG', 'Electric', 'LPG']\n",
      "Length: 5, dtype: string\n"
     ]
    }
   ],
   "source": [
    "# unique 'fuel_type'\n",
    "valores_unicos_fuel_type = df['fuel_type'].unique()\n",
    "print(valores_unicos_fuel_type)"
   ]
  },
  {
   "cell_type": "code",
   "execution_count": 42,
   "metadata": {},
   "outputs": [
    {
     "data": {
      "text/html": [
       "<div>\n",
       "<style scoped>\n",
       "    .dataframe tbody tr th:only-of-type {\n",
       "        vertical-align: middle;\n",
       "    }\n",
       "\n",
       "    .dataframe tbody tr th {\n",
       "        vertical-align: top;\n",
       "    }\n",
       "\n",
       "    .dataframe thead th {\n",
       "        text-align: right;\n",
       "    }\n",
       "</style>\n",
       "<table border=\"1\" class=\"dataframe\">\n",
       "  <thead>\n",
       "    <tr style=\"text-align: right;\">\n",
       "      <th></th>\n",
       "      <th>fuel_type</th>\n",
       "      <th>fuel_type_id</th>\n",
       "    </tr>\n",
       "  </thead>\n",
       "  <tbody>\n",
       "    <tr>\n",
       "      <th>0</th>\n",
       "      <td>Petrol</td>\n",
       "      <td>1.0</td>\n",
       "    </tr>\n",
       "    <tr>\n",
       "      <th>1</th>\n",
       "      <td>Petrol</td>\n",
       "      <td>1.0</td>\n",
       "    </tr>\n",
       "    <tr>\n",
       "      <th>2</th>\n",
       "      <td>Petrol</td>\n",
       "      <td>1.0</td>\n",
       "    </tr>\n",
       "    <tr>\n",
       "      <th>3</th>\n",
       "      <td>Diesel</td>\n",
       "      <td>2.0</td>\n",
       "    </tr>\n",
       "    <tr>\n",
       "      <th>4</th>\n",
       "      <td>Petrol</td>\n",
       "      <td>1.0</td>\n",
       "    </tr>\n",
       "    <tr>\n",
       "      <th>...</th>\n",
       "      <td>...</td>\n",
       "      <td>...</td>\n",
       "    </tr>\n",
       "    <tr>\n",
       "      <th>13951</th>\n",
       "      <td>Diesel</td>\n",
       "      <td>2.0</td>\n",
       "    </tr>\n",
       "    <tr>\n",
       "      <th>13952</th>\n",
       "      <td>Petrol</td>\n",
       "      <td>1.0</td>\n",
       "    </tr>\n",
       "    <tr>\n",
       "      <th>13953</th>\n",
       "      <td>Diesel</td>\n",
       "      <td>2.0</td>\n",
       "    </tr>\n",
       "    <tr>\n",
       "      <th>13954</th>\n",
       "      <td>Diesel</td>\n",
       "      <td>2.0</td>\n",
       "    </tr>\n",
       "    <tr>\n",
       "      <th>13955</th>\n",
       "      <td>Petrol</td>\n",
       "      <td>1.0</td>\n",
       "    </tr>\n",
       "  </tbody>\n",
       "</table>\n",
       "<p>13956 rows × 2 columns</p>\n",
       "</div>"
      ],
      "text/plain": [
       "      fuel_type  fuel_type_id\n",
       "0        Petrol           1.0\n",
       "1        Petrol           1.0\n",
       "2        Petrol           1.0\n",
       "3        Diesel           2.0\n",
       "4        Petrol           1.0\n",
       "...         ...           ...\n",
       "13951    Diesel           2.0\n",
       "13952    Petrol           1.0\n",
       "13953    Diesel           2.0\n",
       "13954    Diesel           2.0\n",
       "13955    Petrol           1.0\n",
       "\n",
       "[13956 rows x 2 columns]"
      ]
     },
     "execution_count": 42,
     "metadata": {},
     "output_type": "execute_result"
    }
   ],
   "source": [
    "#Create fuel_type ID\n",
    "fuel_type_id = {\n",
    "    'Petrol': 1,\n",
    "    'Diesel': 2,\n",
    "    'CNG': 3,\n",
    "    'Electric': 4,\n",
    "    'LPG': 5\n",
    "}\n",
    "df['fuel_type_id'] = df['fuel_type'].map(fuel_type_id)\n",
    "df['fuel_type_id'] = df['fuel_type_id'].astype(float)\n",
    "df[['fuel_type', 'fuel_type_id']]\n",
    "\n"
   ]
  },
  {
   "cell_type": "code",
   "execution_count": 12,
   "metadata": {},
   "outputs": [
    {
     "name": "stdout",
     "output_type": "stream",
     "text": [
      "Min value (seats, resale price): \n",
      "(2.0, 0.28)\n",
      "Max value(seats, resale price): \n",
      "(10.0, 225.0)\n",
      "Medium value(seats, resale price): \n",
      "(5.20213528231585, 8.845202874032676)\n"
     ]
    }
   ],
   "source": [
    "# max min mean \n",
    "# min_values = df['seats'].min(), df['resale_price_Lakh'].min()\n",
    "# print(\"Min value (seats, resale price): \")\n",
    "# print(min_values)\n",
    "# max_values = df['seats'].max(), df['resale_price_Lakh'].max()\n",
    "# print(\"Max value(seats, resale price): \")\n",
    "# print(max_values)\n",
    "# mean_values = df['seats'].mean(), df['resale_price_Lakh'].mean()\n",
    "# print(\"Medium value(seats, resale price): \")\n",
    "# print(mean_values)"
   ]
  },
  {
   "cell_type": "code",
   "execution_count": 45,
   "metadata": {},
   "outputs": [
    {
     "name": "stdout",
     "output_type": "stream",
     "text": [
      "Min price:  0.28 fuel_type:  Petrol\n",
      "Max price:  225.0 fuel_type:  Diesel\n"
     ]
    }
   ],
   "source": [
    "#see for the minimum and maximum value of resale what is the fuel_type\n",
    "# min \n",
    "min_resale_index = df['resale_price_Lakh'].idxmin()\n",
    "min= df.loc[min_resale_index, 'fuel_type']\n",
    "min_resale_price = df['resale_price_Lakh'].min()\n",
    "\n",
    "# max\n",
    "max_resale_index = df['resale_price_Lakh'].idxmax()\n",
    "max = df.loc[max_resale_index, 'fuel_type']\n",
    "max_resale_price = df['resale_price_Lakh'].max()\n",
    "\n",
    "\n",
    "print(\"Min price: \", min_resale_price, \"fuel_type: \", min)\n",
    "print(\"Max price: \", max_resale_price, \"fuel_type: \", max)\n"
   ]
  },
  {
   "cell_type": "code",
   "execution_count": 26,
   "metadata": {},
   "outputs": [
    {
     "name": "stdout",
     "output_type": "stream",
     "text": [
      "Min price:  0.28 engine_capacity:  796.0\n",
      "Max price:  225.0 engine_capacity:  2925.0\n"
     ]
    }
   ],
   "source": [
    "#see for the minimum and maximum value of resale what is the number of seats\n",
    "# min \n",
    "min_resale_index = df['resale_price_Lakh'].idxmin()\n",
    "min_seats = df.loc[min_resale_index, 'engine_capacity']\n",
    "min_resale_price = df['resale_price_Lakh'].min()\n",
    "\n",
    "# max\n",
    "max_resale_index = df['resale_price_Lakh'].idxmax()\n",
    "max_seats = df.loc[max_resale_index, 'engine_capacity']\n",
    "max_resale_price = df['resale_price_Lakh'].max()\n",
    "\n",
    "\n",
    "print(\"Min price: \", min_resale_price, \"engine_capacity: \", min_seats)\n",
    "print(\"Max price: \", max_resale_price, \"engine_capacity: \", max_seats)\n"
   ]
  },
  {
   "cell_type": "code",
   "execution_count": 27,
   "metadata": {},
   "outputs": [
    {
     "name": "stdout",
     "output_type": "stream",
     "text": [
      "Min price:  0.28 kms_driven:  30000.0\n",
      "Max price:  225.0 kms_driven:  36000.0\n"
     ]
    }
   ],
   "source": [
    "#see for the minimum and maximum value of resale what is the number of seats\n",
    "#codigo leticia\n",
    "# min \n",
    "min_resale_index = df['resale_price_Lakh'].idxmin()\n",
    "min_seats = df.loc[min_resale_index, 'kms_driven']\n",
    "min_resale_price = df['resale_price_Lakh'].min()\n",
    "\n",
    "# max\n",
    "max_resale_index = df['resale_price_Lakh'].idxmax()\n",
    "max_seats = df.loc[max_resale_index, 'kms_driven']\n",
    "max_resale_price = df['resale_price_Lakh'].max()\n",
    "\n",
    "\n",
    "print(\"Min price: \", min_resale_price, \"kms_driven: \", min_seats)\n",
    "print(\"Max price: \", max_resale_price, \"kms_driven: \", max_seats)"
   ]
  },
  {
   "cell_type": "code",
   "execution_count": 28,
   "metadata": {},
   "outputs": [
    {
     "name": "stdout",
     "output_type": "stream",
     "text": [
      "                                               full_name registered_year  \\\n",
      "0                                2019 Tata Tiago XZ Plus        Nov 2019   \n",
      "1                              2018 Honda WR-V i-VTEC VX        Apr 2018   \n",
      "2                              2015 Honda City i VTEC SV        May 2015   \n",
      "3      2021 Tata New Safari XZA Plus Adventure Editio...            2021   \n",
      "4                        2019 Maruti Baleno 1.2 CVT Zeta        Jun 2019   \n",
      "...                                                  ...             ...   \n",
      "13951                          2021 Kia Carnival Premium            2021   \n",
      "13952               2017 Hyundai i20 1.2 Magna Executive        Dec 2017   \n",
      "13953             2017 Skoda Rapid 1.5 TDI Ambition BSIV        Jan 2018   \n",
      "13954                      2017 Maruti Vitara Brezza ZDi        Apr 2017   \n",
      "13955                         2015 Honda Amaze S i-Vtech        Mar 2015   \n",
      "\n",
      "       engine_capacity              insurance transmission_type  kms_driven  \\\n",
      "0               1199.0            Third Party            Manual     30910.0   \n",
      "1               1199.0               Zero Dep            Manual     48089.0   \n",
      "2               1497.0  Third Party insurance            Manual     51000.0   \n",
      "3               1956.0  Third Party insurance         Automatic     30000.0   \n",
      "4               1197.0               Zero Dep         Automatic     61113.0   \n",
      "...                ...                    ...               ...         ...   \n",
      "13951           2199.0  Third Party insurance         Automatic     80000.0   \n",
      "13952           1197.0  Third Party insurance            Manual     17923.0   \n",
      "13953           1498.0          Comprehensive            Manual     63389.0   \n",
      "13954           1248.0          Comprehensive            Manual     40000.0   \n",
      "13955           1198.0          Comprehensive            Manual     33046.0   \n",
      "\n",
      "         owner_type fuel_type  max_power  seats     mileage  body_type  \\\n",
      "0       First Owner    Petrol   83.83bhp    5.0  23.84 kmpl  Hatchback   \n",
      "1       Third Owner    Petrol    88.7bhp    5.0   17.5 kmpl        SUV   \n",
      "2      Second Owner    Petrol   117.3bhp    5.0   17.4 kmpl      Sedan   \n",
      "3       First Owner    Diesel  167.67bhp    7.0  14.08 kmpl        SUV   \n",
      "4       First Owner    Petrol    83.1bhp    5.0   21.4 kmpl  Hatchback   \n",
      "...             ...       ...        ...    ...         ...        ...   \n",
      "13951  Second Owner    Diesel   197.2bhp    7.0  14.11 kmpl        MUV   \n",
      "13952   First Owner    Petrol   81.83bhp    5.0   18.6 kmpl  Hatchback   \n",
      "13953  Second Owner    Diesel   108.6bhp    5.0  21.13 kmpl      Sedan   \n",
      "13954  Second Owner    Diesel    88.5bhp    5.0   24.3 kmpl        SUV   \n",
      "13955   First Owner    Petrol    86.7bhp    5.0     18 kmpl      Sedan   \n",
      "\n",
      "            city  resale_price_Lakh kms_group engine_capacity_group  \n",
      "0           Pune               5.66   Grupo 2               Grupo 3  \n",
      "1         Jaipur               6.64   Grupo 2               Grupo 3  \n",
      "2         Mumbai               5.65   Grupo 2               Grupo 3  \n",
      "3         Mumbai              23.00   Grupo 2               Grupo 3  \n",
      "4        Kolkata               6.87   Grupo 3               Grupo 3  \n",
      "...          ...                ...       ...                   ...  \n",
      "13951  Hyderabad              26.50   Grupo 3               Grupo 4  \n",
      "13952    Gurgaon               5.87   Grupo 1               Grupo 3  \n",
      "13953  Hyderabad               7.43   Grupo 3               Grupo 3  \n",
      "13954  Bangalore               9.45   Grupo 2               Grupo 3  \n",
      "13955  Bangalore               4.55   Grupo 2               Grupo 3  \n",
      "\n",
      "[13956 rows x 16 columns]\n"
     ]
    }
   ],
   "source": [
    "# create groups: engine_capacity\n",
    "\n",
    "# defines the groups limit\n",
    "limites = [0,20000, 60000, 100000, 150000, 180000, float('inf')]  \n",
    "rotulos = ['Grupo 1', 'Grupo 2', 'Grupo 3', 'Grupo 4', 'Grupo 5', 'Grupo 6']\n",
    "\n",
    "# new column'engine_capacity_group' \n",
    "df['kms_group'] = pd.cut(df['kms_driven'], bins=limites, labels=rotulos, right=False)\n",
    "\n",
    "print(df)"
   ]
  },
  {
   "cell_type": "code",
   "execution_count": 29,
   "metadata": {},
   "outputs": [
    {
     "name": "stdout",
     "output_type": "stream",
     "text": [
      "                                               full_name registered_year  \\\n",
      "0                                2019 Tata Tiago XZ Plus        Nov 2019   \n",
      "1                              2018 Honda WR-V i-VTEC VX        Apr 2018   \n",
      "2                              2015 Honda City i VTEC SV        May 2015   \n",
      "3      2021 Tata New Safari XZA Plus Adventure Editio...            2021   \n",
      "4                        2019 Maruti Baleno 1.2 CVT Zeta        Jun 2019   \n",
      "...                                                  ...             ...   \n",
      "13951                          2021 Kia Carnival Premium            2021   \n",
      "13952               2017 Hyundai i20 1.2 Magna Executive        Dec 2017   \n",
      "13953             2017 Skoda Rapid 1.5 TDI Ambition BSIV        Jan 2018   \n",
      "13954                      2017 Maruti Vitara Brezza ZDi        Apr 2017   \n",
      "13955                         2015 Honda Amaze S i-Vtech        Mar 2015   \n",
      "\n",
      "       engine_capacity              insurance transmission_type  kms_driven  \\\n",
      "0               1199.0            Third Party            Manual     30910.0   \n",
      "1               1199.0               Zero Dep            Manual     48089.0   \n",
      "2               1497.0  Third Party insurance            Manual     51000.0   \n",
      "3               1956.0  Third Party insurance         Automatic     30000.0   \n",
      "4               1197.0               Zero Dep         Automatic     61113.0   \n",
      "...                ...                    ...               ...         ...   \n",
      "13951           2199.0  Third Party insurance         Automatic     80000.0   \n",
      "13952           1197.0  Third Party insurance            Manual     17923.0   \n",
      "13953           1498.0          Comprehensive            Manual     63389.0   \n",
      "13954           1248.0          Comprehensive            Manual     40000.0   \n",
      "13955           1198.0          Comprehensive            Manual     33046.0   \n",
      "\n",
      "         owner_type fuel_type  max_power  seats     mileage  body_type  \\\n",
      "0       First Owner    Petrol   83.83bhp    5.0  23.84 kmpl  Hatchback   \n",
      "1       Third Owner    Petrol    88.7bhp    5.0   17.5 kmpl        SUV   \n",
      "2      Second Owner    Petrol   117.3bhp    5.0   17.4 kmpl      Sedan   \n",
      "3       First Owner    Diesel  167.67bhp    7.0  14.08 kmpl        SUV   \n",
      "4       First Owner    Petrol    83.1bhp    5.0   21.4 kmpl  Hatchback   \n",
      "...             ...       ...        ...    ...         ...        ...   \n",
      "13951  Second Owner    Diesel   197.2bhp    7.0  14.11 kmpl        MUV   \n",
      "13952   First Owner    Petrol   81.83bhp    5.0   18.6 kmpl  Hatchback   \n",
      "13953  Second Owner    Diesel   108.6bhp    5.0  21.13 kmpl      Sedan   \n",
      "13954  Second Owner    Diesel    88.5bhp    5.0   24.3 kmpl        SUV   \n",
      "13955   First Owner    Petrol    86.7bhp    5.0     18 kmpl      Sedan   \n",
      "\n",
      "            city  resale_price_Lakh kms_group engine_capacity_group  \n",
      "0           Pune               5.66   Grupo 2               Grupo 3  \n",
      "1         Jaipur               6.64   Grupo 2               Grupo 3  \n",
      "2         Mumbai               5.65   Grupo 2               Grupo 3  \n",
      "3         Mumbai              23.00   Grupo 2               Grupo 3  \n",
      "4        Kolkata               6.87   Grupo 3               Grupo 3  \n",
      "...          ...                ...       ...                   ...  \n",
      "13951  Hyderabad              26.50   Grupo 3               Grupo 4  \n",
      "13952    Gurgaon               5.87   Grupo 1               Grupo 3  \n",
      "13953  Hyderabad               7.43   Grupo 3               Grupo 3  \n",
      "13954  Bangalore               9.45   Grupo 2               Grupo 3  \n",
      "13955  Bangalore               4.55   Grupo 2               Grupo 3  \n",
      "\n",
      "[13956 rows x 16 columns]\n"
     ]
    }
   ],
   "source": [
    "# create groups: engine_capacity\n",
    "\n",
    "# defines the groups limit\n",
    "limites = [0,1, 1000, 2000, 3000, 4000, float('inf')]  \n",
    "rotulos = ['Grupo 1', 'Grupo 2', 'Grupo 3', 'Grupo 4', 'Grupo 5', 'Grupo 6']\n",
    "\n",
    "# new column'engine_capacity_group' \n",
    "df['engine_capacity_group'] = pd.cut(df['engine_capacity'], bins=limites, labels=rotulos, right=False)\n",
    "\n",
    "print(df)\n"
   ]
  },
  {
   "cell_type": "code",
   "execution_count": 46,
   "metadata": {},
   "outputs": [
    {
     "name": "stdout",
     "output_type": "stream",
     "text": [
      "engine_capacity_group\n",
      "Grupo 1    33.018049\n",
      "Grupo 2     4.352258\n",
      "Grupo 3     8.187028\n",
      "Grupo 4    20.232041\n",
      "Grupo 5    29.984848\n",
      "Grupo 6    43.310000\n",
      "Name: resale_price_Lakh, dtype: float64\n"
     ]
    },
    {
     "name": "stderr",
     "output_type": "stream",
     "text": [
      "C:\\Users\\letic\\AppData\\Local\\Temp\\ipykernel_13716\\1749253820.py:2: FutureWarning: The default of observed=False is deprecated and will be changed to True in a future version of pandas. Pass observed=False to retain current behavior or observed=True to adopt the future default and silence this warning.\n",
      "  average_price_by_seats = df.groupby('engine_capacity_group')['resale_price_Lakh'].mean()\n"
     ]
    }
   ],
   "source": [
    "#on average what is the price based on\n",
    "average_price_by_seats = df.groupby('engine_capacity_group')['resale_price_Lakh'].mean()\n",
    "print(average_price_by_seats)"
   ]
  },
  {
   "cell_type": "code",
   "execution_count": 49,
   "metadata": {},
   "outputs": [
    {
     "name": "stdout",
     "output_type": "stream",
     "text": [
      "fuel_type\n",
      "CNG          4.843797\n",
      "Diesel      12.974956\n",
      "Electric    28.734490\n",
      "LPG          1.803362\n",
      "Petrol       6.929750\n",
      "Name: resale_price_Lakh, dtype: float64\n"
     ]
    }
   ],
   "source": [
    "#on average what is the price based on\n",
    "average_price_by_fuel = df.groupby('fuel_type')['resale_price_Lakh'].mean()\n",
    "print(average_price_by_fuel)"
   ]
  },
  {
   "cell_type": "code",
   "execution_count": 31,
   "metadata": {},
   "outputs": [
    {
     "name": "stdout",
     "output_type": "stream",
     "text": [
      "kms_group\n",
      "Grupo 1    14.625113\n",
      "Grupo 2     9.810159\n",
      "Grupo 3     6.825473\n",
      "Grupo 4     5.718169\n",
      "Grupo 5     5.257815\n",
      "Grupo 6     5.290254\n",
      "Name: resale_price_Lakh, dtype: float64\n"
     ]
    },
    {
     "name": "stderr",
     "output_type": "stream",
     "text": [
      "C:\\Users\\letic\\AppData\\Local\\Temp\\ipykernel_13716\\814652298.py:2: FutureWarning: The default of observed=False is deprecated and will be changed to True in a future version of pandas. Pass observed=False to retain current behavior or observed=True to adopt the future default and silence this warning.\n",
      "  average_price_by_seats = df.groupby('kms_group')['resale_price_Lakh'].mean()\n"
     ]
    }
   ],
   "source": [
    "#on average what is the price based on\n",
    "average_price_by_seats = df.groupby('kms_group')['resale_price_Lakh'].mean()\n",
    "print(average_price_by_seats)"
   ]
  },
  {
   "cell_type": "code",
   "execution_count": 50,
   "metadata": {},
   "outputs": [
    {
     "name": "stdout",
     "output_type": "stream",
     "text": [
      "fuel_type\n",
      "Petrol      9079\n",
      "Diesel      4403\n",
      "CNG          403\n",
      "Electric      49\n",
      "LPG           22\n",
      "Name: count, dtype: Int64\n"
     ]
    }
   ],
   "source": [
    "# frequency \n",
    "frequencia_fueld = df['fuel_type'].value_counts()\n",
    "print(frequencia_fueld)"
   ]
  },
  {
   "cell_type": "code",
   "execution_count": 23,
   "metadata": {},
   "outputs": [
    {
     "name": "stdout",
     "output_type": "stream",
     "text": [
      "engine_capacity_group\n",
      "Grupo 3    10310\n",
      "Grupo 2     2263\n",
      "Grupo 4     1279\n",
      "Grupo 1       41\n",
      "Grupo 5       33\n",
      "Grupo 6       21\n",
      "Name: count, dtype: int64\n"
     ]
    }
   ],
   "source": [
    "# frequency of each group (if you analyze a group)\n",
    "frequencia_grupos = df['engine_capacity_group'].value_counts()\n",
    "print(frequencia_grupos)"
   ]
  },
  {
   "cell_type": "code",
   "execution_count": 32,
   "metadata": {},
   "outputs": [
    {
     "name": "stdout",
     "output_type": "stream",
     "text": [
      "full_name            2016 Hyundai Grand i10 Sportz\n",
      "registered_year                               2017\n",
      "engine_capacity                             1197.0\n",
      "insurance                    Third Party insurance\n",
      "transmission_type                           Manual\n",
      "kms_driven                                120000.0\n",
      "owner_type                             First Owner\n",
      "fuel_type                                   Petrol\n",
      "max_power                                 81.80bhp\n",
      "seats                                          5.0\n",
      "mileage                                  18.9 kmpl\n",
      "body_type                                Hatchback\n",
      "city                                         Delhi\n",
      "resale_price_Lakh                              4.5\n",
      "Name: 0, dtype: object\n"
     ]
    }
   ],
   "source": [
    "mode_values = df[[\"full_name\", \"registered_year\", \"engine_capacity\", \"insurance\", \"transmission_type\", \"kms_driven\", \"owner_type\", \"fuel_type\", \"max_power\", \"seats\", \"mileage\", \"body_type\", \"city\", \"resale_price_Lakh\"]].mode().iloc[0]\n",
    "print(mode_values)\n"
   ]
  },
  {
   "cell_type": "code",
   "execution_count": 34,
   "metadata": {},
   "outputs": [
    {
     "name": "stdout",
     "output_type": "stream",
     "text": [
      "                      seats  resale_price_Lakh\n",
      "seats              1.000000           0.126669\n",
      "resale_price_Lakh  0.126669           1.000000\n"
     ]
    }
   ],
   "source": [
    "# calculate correlation only between 'seats' and 'resale_price_Lakh' columns\n",
    "correlation = df[['seats', 'resale_price_Lakh']].corr()\n",
    "print(correlation)\n"
   ]
  },
  {
   "cell_type": "code",
   "execution_count": null,
   "metadata": {},
   "outputs": [],
   "source": [
    "sns.heatmap(correlation, annot=True, cmap='coolwarm')\n",
    "plt.title(\"Correlation Heatmap\")\n",
    "plt.show()"
   ]
  },
  {
   "cell_type": "code",
   "execution_count": 43,
   "metadata": {},
   "outputs": [
    {
     "data": {
      "image/png": "[encoded data removed]",
      "text/plain": [
       "<Figure size 800x1200 with 2 Axes>"
      ]
     },
     "metadata": {},
     "output_type": "display_data"
    }
   ],
   "source": [
    "#correlation of all features with price\n",
    "\n",
    "# Select columns\n",
    "columns_of_interest = ['fuel_type_id', 'resale_price_Lakh']\n",
    "subset_df = df[columns_of_interest]\n",
    "\n",
    "plt.figure(figsize=(8, 12))\n",
    "\n",
    "# Creat heatmap\n",
    "heatmap = sns.heatmap(subset_df.corr()[['resale_price_Lakh']].sort_values(by='resale_price_Lakh', ascending=False), vmin=-1, vmax=1, annot=True, cmap='BrBG')\n",
    "heatmap.set_title('Features Correlating with resale_price_Lakh', fontdict={'fontsize': 18}, pad=16)\n",
    "\n",
    "plt.show()"
   ]
  },
  {
   "cell_type": "code",
   "execution_count": 44,
   "metadata": {},
   "outputs": [
    {
     "data": {
      "image/png": "[encoded data removed]",
      "text/plain": [
       "<Figure size 800x1200 with 2 Axes>"
      ]
     },
     "metadata": {},
     "output_type": "display_data"
    }
   ],
   "source": [
    "#correlation of all features with price\n",
    "\n",
    "# Select columns\n",
    "columns_of_interest = ['fuel_type_id','engine_capacity', 'kms_driven', 'resale_price_Lakh']\n",
    "subset_df = df[columns_of_interest]\n",
    "\n",
    "plt.figure(figsize=(8, 12))\n",
    "\n",
    "# Creat heatmap\n",
    "heatmap = sns.heatmap(subset_df.corr()[['resale_price_Lakh']].sort_values(by='resale_price_Lakh', ascending=False), vmin=-1, vmax=1, annot=True, cmap='BrBG')\n",
    "heatmap.set_title('Features Correlating with resale_price_Lakh', fontdict={'fontsize': 18}, pad=16)\n",
    "\n",
    "plt.show()\n"
   ]
  },
  {
   "cell_type": "code",
   "execution_count": null,
   "metadata": {},
   "outputs": [],
   "source": [
    "# Correlation triangular heatmap\n",
    "# Select columns\n",
    "columns_of_interest = ['seats', 'resale_price_Lakh']\n",
    "subset_df = df[columns_of_interest]\n",
    "\n",
    "plt.figure(figsize=(16, 6))\n",
    "\n",
    "# Set the mask to only display the bottom half of the heatmap\n",
    "mask = np.triu(np.ones_like(subset_df.corr(), dtype=bool))\n",
    "\n",
    "# heatmap\n",
    "heatmap = sns.heatmap(subset_df.corr(), mask=mask, vmin=-1, vmax=1, annot=True, cmap='BrBG')\n",
    "heatmap.set_title('Triangle Correlation Heatmap', fontdict={'fontsize': 18}, pad=16)\n",
    "\n",
    "plt.show()"
   ]
  },
  {
   "cell_type": "code",
   "execution_count": 33,
   "metadata": {},
   "outputs": [
    {
     "data": {
      "text/plain": [
       "Text(0.5, 1.0, 'Outliers year')"
      ]
     },
     "execution_count": 33,
     "metadata": {},
     "output_type": "execute_result"
    },
    {
     "data": {
      "image/png": "[encoded data removed]",
      "text/plain": [
       "<Figure size 640x480 with 1 Axes>"
      ]
     },
     "metadata": {},
     "output_type": "display_data"
    }
   ],
   "source": [
    "# sns.boxplot(data=df,x=df[\"registered_year\"])\n",
    "# plt.title(\"Outliers year\")"
   ]
  },
  {
   "cell_type": "code",
   "execution_count": null,
   "metadata": {},
   "outputs": [
    {
     "data": {
      "image/png": "[encoded data removed]",
      "text/plain": [
       "<Figure size 640x480 with 1 Axes>"
      ]
     },
     "metadata": {},
     "output_type": "display_data"
    }
   ],
   "source": [
    "# Create a box plot for the \"max_power\" column\n",
    "# ax = sns.boxplot(data=df, x=df[\"max_power\"])\n",
    "# plt.title(\"Outliers power\")\n",
    "\n",
    "# Adjust the x-axis scale\n",
    "# ax.set(xlim=(60, 70))  # Replace min_value and max_value with your desired limits\n",
    "\n",
    "# Show the plot\n",
    "# plt.show()"
   ]
  },
  {
   "cell_type": "code",
   "execution_count": null,
   "metadata": {},
   "outputs": [
    {
     "data": {
      "text/plain": [
       "Text(0.5, 1.0, 'Outliers price')"
      ]
     },
     "execution_count": 17,
     "metadata": {},
     "output_type": "execute_result"
    },
    {
     "data": {
      "image/png": "[encoded data removed]",
      "text/plain": [
       "<Figure size 640x480 with 1 Axes>"
      ]
     },
     "metadata": {},
     "output_type": "display_data"
    }
   ],
   "source": [
    "# sns.boxplot(data=df,x=df[\"resale_price_Lakh\"])\n",
    "# plt.title(\"Outliers price\")"
   ]
  },
  {
   "cell_type": "code",
   "execution_count": 37,
   "metadata": {},
   "outputs": [
    {
     "data": {
      "image/png": "[encoded data removed]",
      "text/plain": [
       "<Figure size 640x480 with 1 Axes>"
      ]
     },
     "metadata": {},
     "output_type": "display_data"
    }
   ],
   "source": [
    "#Create scatter plot\n",
    "plt.scatter(df['seats'], df['resale_price_Lakh'])\n",
    "plt.title('Scatter Plot')\n",
    "plt.xlabel('seats')\n",
    "plt.ylabel('resale price')\n",
    "plt.show()"
   ]
  }
 ],
 "metadata": {
  "kernelspec": {
   "display_name": "Python 3",
   "language": "python",
   "name": "python3"
  },
  "language_info": {
   "codemirror_mode": {
    "name": "ipython",
    "version": 3
   },
   "file_extension": ".py",
   "mimetype": "text/x-python",
   "name": "python",
   "nbconvert_exporter": "python",
   "pygments_lexer": "ipython3",
   "version": "3.11.6"
  }
 },
 "nbformat": 4,
 "nbformat_minor": 2
}
