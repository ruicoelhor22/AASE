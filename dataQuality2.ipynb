{
 "cells": [
  {
   "cell_type": "code",
   "execution_count": 1,
   "metadata": {},
   "outputs": [],
   "source": [
    "import matplotlib.pyplot as plt\n",
    "import pandas as pd\n",
    "import seaborn as sns\n",
    "import numpy as np"
   ]
  },
  {
   "cell_type": "code",
   "execution_count": 2,
   "metadata": {},
   "outputs": [],
   "source": [
    "df = pd.read_csv('train.csv')"
   ]
  },
  {
   "cell_type": "code",
   "execution_count": 3,
   "metadata": {},
   "outputs": [
    {
     "name": "stdout",
     "output_type": "stream",
     "text": [
      "Columns with missing values: \n",
      "full_name              0\n",
      "registered_year       54\n",
      "engine_capacity        9\n",
      "insurance              5\n",
      "transmission_type      0\n",
      "kms_driven             3\n",
      "owner_type            36\n",
      "fuel_type              0\n",
      "max_power             89\n",
      "seats                  7\n",
      "mileage              407\n",
      "body_type              0\n",
      "city                   0\n",
      "resale_price_Lakh      0\n",
      "dtype: int64\n"
     ]
    }
   ],
   "source": [
    "# Check for missing values\n",
    "missing_values = df.isnull().sum()\n",
    "print('Columns with missing values: ' )\n",
    "print(missing_values)"
   ]
  },
  {
   "cell_type": "code",
   "execution_count": 4,
   "metadata": {},
   "outputs": [
    {
     "name": "stdout",
     "output_type": "stream",
     "text": [
      "Columns with duplicate values: \n",
      "                                        full_name registered_year  \\\n",
      "1242             2022 Maruti Eeco CNG 5 Seater AC            2022   \n",
      "1778                     2019 Jaguar XE Portfolio            2019   \n",
      "2250                   2010 Hyundai i10 Magna 1.1            2010   \n",
      "2265                        2011 BMW X1 sDrive20d            2011   \n",
      "3028                  2016 Honda Mobilio V i-DTEC            2016   \n",
      "...                                           ...             ...   \n",
      "13736  2010 Volkswagen Polo Diesel Trendline 1.2L            2010   \n",
      "13742   2015 Ford Ecosport 1.5 Ti VCT AT Titanium            2015   \n",
      "13787                 2015 Volkswagen Polo GT TSI            2015   \n",
      "13877            2020 Hyundai i20 Magna Plus BSIV            2020   \n",
      "13889                     2017 Mahindra XUV500 W4            2017   \n",
      "\n",
      "      engine_capacity              insurance transmission_type    kms_driven  \\\n",
      "1242          1196 cc  Third Party insurance            Manual    20,000 Kms   \n",
      "1778          1999 cc  Third Party insurance         Automatic    10,000 Kms   \n",
      "2250          1086 cc  Third Party insurance            Manual    80,000 Kms   \n",
      "2265          1995 cc  Third Party insurance         Automatic    80,000 Kms   \n",
      "3028          1498 cc  Third Party insurance            Manual    60,000 Kms   \n",
      "...               ...                    ...               ...           ...   \n",
      "13736         1199 cc  Third Party insurance            Manual  1,00,000 Kms   \n",
      "13742         1499 cc  Third Party insurance         Automatic    60,000 Kms   \n",
      "13787         1197 cc  Third Party insurance         Automatic    50,000 Kms   \n",
      "13877         1197 cc  Third Party insurance            Manual    20,000 Kms   \n",
      "13889         2179 cc  Third Party insurance            Manual    70,000 Kms   \n",
      "\n",
      "         owner_type fuel_type  max_power  seats      mileage  body_type  \\\n",
      "1242    First Owner       CNG   61.68bhp    5.0  20.88 km/kg   Minivans   \n",
      "1778    First Owner    Petrol  246.74bhp    5.0    13.5 kmpl      Sedan   \n",
      "2250   Second Owner    Petrol   68.05bhp    5.0   19.81 kmpl  Hatchback   \n",
      "2265   Second Owner    Diesel     184bhp    5.0   17.05 kmpl        SUV   \n",
      "3028    First Owner    Diesel    98.6bhp    7.0    24.2 kmpl        MUV   \n",
      "...             ...       ...        ...    ...          ...        ...   \n",
      "13736  Second Owner    Diesel    73.9bhp    5.0   22.07 kmpl  Hatchback   \n",
      "13742   First Owner    Petrol     110bhp    5.0    16.5 kmpl        SUV   \n",
      "13787   First Owner    Petrol   103.6bhp    5.0   17.21 kmpl  Hatchback   \n",
      "13877   First Owner    Petrol   81.86bhp    5.0    18.6 kmpl  Hatchback   \n",
      "13889  Second Owner    Diesel     140bhp    7.0      16 kmpl        SUV   \n",
      "\n",
      "            city  resale_price_Lakh  \n",
      "1242        Agra               6.25  \n",
      "1778       Delhi              42.00  \n",
      "2250       Delhi               1.40  \n",
      "2265   Hyderabad               9.50  \n",
      "3028   Hyderabad               6.00  \n",
      "...          ...                ...  \n",
      "13736  Bangalore               3.60  \n",
      "13742  Hyderabad               6.30  \n",
      "13787  Hyderabad               6.00  \n",
      "13877  Bangalore               7.00  \n",
      "13889    Kolkata               8.50  \n",
      "\n",
      "[141 rows x 14 columns]\n"
     ]
    }
   ],
   "source": [
    "# Check for duplicates\n",
    "duplicate_rows = df[df.duplicated()]\n",
    "print('Columns with duplicate values: ')\n",
    "print(duplicate_rows)"
   ]
  },
  {
   "cell_type": "code",
   "execution_count": 5,
   "metadata": {},
   "outputs": [
    {
     "name": "stdout",
     "output_type": "stream",
     "text": [
      "Distinct full names with blank seats:\n",
      "2009 Maruti Estilo LXI\n",
      "2019 Nissan Kicks Diesel\n",
      "2008 Ford Endeavour 3.0 4x4 Thunder Plus\n",
      "2010 Maruti Estilo LXI\n"
     ]
    }
   ],
   "source": [
    "# Check for model cars with missing values in the 'seats' column\n",
    "distinct_full_names_with_blank_seats = df[df['seats'].isnull()]['full_name'].unique()\n",
    "print('Distinct full names with blank seats:')\n",
    "for full_name in distinct_full_names_with_blank_seats:\n",
    "    print(full_name)\n"
   ]
  },
  {
   "cell_type": "code",
   "execution_count": 69,
   "metadata": {},
   "outputs": [],
   "source": [
    "#elina brancos ou NAN quando é float\n",
    "df = df.dropna(subset=['kms_driven'])"
   ]
  },
  {
   "cell_type": "code",
   "execution_count": 64,
   "metadata": {},
   "outputs": [
    {
     "ename": "AttributeError",
     "evalue": "Can only use .str accessor with string values!",
     "output_type": "error",
     "traceback": [
      "\u001b[1;31m---------------------------------------------------------------------------\u001b[0m",
      "\u001b[1;31mAttributeError\u001b[0m                            Traceback (most recent call last)",
      "\u001b[1;32mc:\\Users\\seari\\OneDrive\\Documentos\\GitHub\\AASE\\dataQuality2.ipynb Cell 6\u001b[0m line \u001b[0;36m2\n\u001b[0;32m      <a href='vscode-notebook-cell:/c%3A/Users/seari/OneDrive/Documentos/GitHub/AASE/dataQuality2.ipynb#W5sZmlsZQ%3D%3D?line=0'>1</a>\u001b[0m \u001b[39m#remove cc from engine_capacity\u001b[39;00m\n\u001b[1;32m----> <a href='vscode-notebook-cell:/c%3A/Users/seari/OneDrive/Documentos/GitHub/AASE/dataQuality2.ipynb#W5sZmlsZQ%3D%3D?line=1'>2</a>\u001b[0m df[\u001b[39m'\u001b[39m\u001b[39mengine_capacity\u001b[39m\u001b[39m'\u001b[39m] \u001b[39m=\u001b[39m df[\u001b[39m'\u001b[39;49m\u001b[39mengine_capacity\u001b[39;49m\u001b[39m'\u001b[39;49m]\u001b[39m.\u001b[39;49mstr\u001b[39m.\u001b[39mreplace(\u001b[39m'\u001b[39m\u001b[39mcc\u001b[39m\u001b[39m'\u001b[39m, \u001b[39m'\u001b[39m\u001b[39m'\u001b[39m)\n\u001b[0;32m      <a href='vscode-notebook-cell:/c%3A/Users/seari/OneDrive/Documentos/GitHub/AASE/dataQuality2.ipynb#W5sZmlsZQ%3D%3D?line=2'>3</a>\u001b[0m \u001b[39m#remove kms from kms_driven\u001b[39;00m\n\u001b[0;32m      <a href='vscode-notebook-cell:/c%3A/Users/seari/OneDrive/Documentos/GitHub/AASE/dataQuality2.ipynb#W5sZmlsZQ%3D%3D?line=3'>4</a>\u001b[0m df[\u001b[39m'\u001b[39m\u001b[39mkms_driven\u001b[39m\u001b[39m'\u001b[39m] \u001b[39m=\u001b[39m df[\u001b[39m'\u001b[39m\u001b[39mkms_driven\u001b[39m\u001b[39m'\u001b[39m]\u001b[39m.\u001b[39mstr\u001b[39m.\u001b[39mreplace(\u001b[39m'\u001b[39m\u001b[39mKms\u001b[39m\u001b[39m'\u001b[39m, \u001b[39m'\u001b[39m\u001b[39m'\u001b[39m)\n",
      "File \u001b[1;32m~\\AppData\\Local\\Packages\\PythonSoftwareFoundation.Python.3.12_qbz5n2kfra8p0\\LocalCache\\local-packages\\Python312\\site-packages\\pandas\\core\\generic.py:6204\u001b[0m, in \u001b[0;36mNDFrame.__getattr__\u001b[1;34m(self, name)\u001b[0m\n\u001b[0;32m   6197\u001b[0m \u001b[39mif\u001b[39;00m (\n\u001b[0;32m   6198\u001b[0m     name \u001b[39mnot\u001b[39;00m \u001b[39min\u001b[39;00m \u001b[39mself\u001b[39m\u001b[39m.\u001b[39m_internal_names_set\n\u001b[0;32m   6199\u001b[0m     \u001b[39mand\u001b[39;00m name \u001b[39mnot\u001b[39;00m \u001b[39min\u001b[39;00m \u001b[39mself\u001b[39m\u001b[39m.\u001b[39m_metadata\n\u001b[0;32m   6200\u001b[0m     \u001b[39mand\u001b[39;00m name \u001b[39mnot\u001b[39;00m \u001b[39min\u001b[39;00m \u001b[39mself\u001b[39m\u001b[39m.\u001b[39m_accessors\n\u001b[0;32m   6201\u001b[0m     \u001b[39mand\u001b[39;00m \u001b[39mself\u001b[39m\u001b[39m.\u001b[39m_info_axis\u001b[39m.\u001b[39m_can_hold_identifiers_and_holds_name(name)\n\u001b[0;32m   6202\u001b[0m ):\n\u001b[0;32m   6203\u001b[0m     \u001b[39mreturn\u001b[39;00m \u001b[39mself\u001b[39m[name]\n\u001b[1;32m-> 6204\u001b[0m \u001b[39mreturn\u001b[39;00m \u001b[39mobject\u001b[39;49m\u001b[39m.\u001b[39;49m\u001b[39m__getattribute__\u001b[39;49m(\u001b[39mself\u001b[39;49m, name)\n",
      "File \u001b[1;32m~\\AppData\\Local\\Packages\\PythonSoftwareFoundation.Python.3.12_qbz5n2kfra8p0\\LocalCache\\local-packages\\Python312\\site-packages\\pandas\\core\\accessor.py:224\u001b[0m, in \u001b[0;36mCachedAccessor.__get__\u001b[1;34m(self, obj, cls)\u001b[0m\n\u001b[0;32m    221\u001b[0m \u001b[39mif\u001b[39;00m obj \u001b[39mis\u001b[39;00m \u001b[39mNone\u001b[39;00m:\n\u001b[0;32m    222\u001b[0m     \u001b[39m# we're accessing the attribute of the class, i.e., Dataset.geo\u001b[39;00m\n\u001b[0;32m    223\u001b[0m     \u001b[39mreturn\u001b[39;00m \u001b[39mself\u001b[39m\u001b[39m.\u001b[39m_accessor\n\u001b[1;32m--> 224\u001b[0m accessor_obj \u001b[39m=\u001b[39m \u001b[39mself\u001b[39;49m\u001b[39m.\u001b[39;49m_accessor(obj)\n\u001b[0;32m    225\u001b[0m \u001b[39m# Replace the property with the accessor object. Inspired by:\u001b[39;00m\n\u001b[0;32m    226\u001b[0m \u001b[39m# https://www.pydanny.com/cached-property.html\u001b[39;00m\n\u001b[0;32m    227\u001b[0m \u001b[39m# We need to use object.__setattr__ because we overwrite __setattr__ on\u001b[39;00m\n\u001b[0;32m    228\u001b[0m \u001b[39m# NDFrame\u001b[39;00m\n\u001b[0;32m    229\u001b[0m \u001b[39mobject\u001b[39m\u001b[39m.\u001b[39m\u001b[39m__setattr__\u001b[39m(obj, \u001b[39mself\u001b[39m\u001b[39m.\u001b[39m_name, accessor_obj)\n",
      "File \u001b[1;32m~\\AppData\\Local\\Packages\\PythonSoftwareFoundation.Python.3.12_qbz5n2kfra8p0\\LocalCache\\local-packages\\Python312\\site-packages\\pandas\\core\\strings\\accessor.py:190\u001b[0m, in \u001b[0;36mStringMethods.__init__\u001b[1;34m(self, data)\u001b[0m\n\u001b[0;32m    187\u001b[0m \u001b[39mdef\u001b[39;00m \u001b[39m__init__\u001b[39m(\u001b[39mself\u001b[39m, data) \u001b[39m-\u001b[39m\u001b[39m>\u001b[39m \u001b[39mNone\u001b[39;00m:\n\u001b[0;32m    188\u001b[0m     \u001b[39mfrom\u001b[39;00m \u001b[39mpandas\u001b[39;00m\u001b[39m.\u001b[39;00m\u001b[39mcore\u001b[39;00m\u001b[39m.\u001b[39;00m\u001b[39marrays\u001b[39;00m\u001b[39m.\u001b[39;00m\u001b[39mstring_\u001b[39;00m \u001b[39mimport\u001b[39;00m StringDtype\n\u001b[1;32m--> 190\u001b[0m     \u001b[39mself\u001b[39m\u001b[39m.\u001b[39m_inferred_dtype \u001b[39m=\u001b[39m \u001b[39mself\u001b[39;49m\u001b[39m.\u001b[39;49m_validate(data)\n\u001b[0;32m    191\u001b[0m     \u001b[39mself\u001b[39m\u001b[39m.\u001b[39m_is_categorical \u001b[39m=\u001b[39m \u001b[39misinstance\u001b[39m(data\u001b[39m.\u001b[39mdtype, CategoricalDtype)\n\u001b[0;32m    192\u001b[0m     \u001b[39mself\u001b[39m\u001b[39m.\u001b[39m_is_string \u001b[39m=\u001b[39m \u001b[39misinstance\u001b[39m(data\u001b[39m.\u001b[39mdtype, StringDtype)\n",
      "File \u001b[1;32m~\\AppData\\Local\\Packages\\PythonSoftwareFoundation.Python.3.12_qbz5n2kfra8p0\\LocalCache\\local-packages\\Python312\\site-packages\\pandas\\core\\strings\\accessor.py:244\u001b[0m, in \u001b[0;36mStringMethods._validate\u001b[1;34m(data)\u001b[0m\n\u001b[0;32m    241\u001b[0m inferred_dtype \u001b[39m=\u001b[39m lib\u001b[39m.\u001b[39minfer_dtype(values, skipna\u001b[39m=\u001b[39m\u001b[39mTrue\u001b[39;00m)\n\u001b[0;32m    243\u001b[0m \u001b[39mif\u001b[39;00m inferred_dtype \u001b[39mnot\u001b[39;00m \u001b[39min\u001b[39;00m allowed_types:\n\u001b[1;32m--> 244\u001b[0m     \u001b[39mraise\u001b[39;00m \u001b[39mAttributeError\u001b[39;00m(\u001b[39m\"\u001b[39m\u001b[39mCan only use .str accessor with string values!\u001b[39m\u001b[39m\"\u001b[39m)\n\u001b[0;32m    245\u001b[0m \u001b[39mreturn\u001b[39;00m inferred_dtype\n",
      "\u001b[1;31mAttributeError\u001b[0m: Can only use .str accessor with string values!"
     ]
    }
   ],
   "source": [
    "#remove cc from engine_capacity\n",
    "df['engine_capacity'] = df['engine_capacity'].str.replace('cc', '')\n",
    "#remove kms from kms_driven\n",
    "df['kms_driven'] = df['kms_driven'].str.replace('Kms', '')\n",
    "# Remover vírgula e espaço em branco da coluna 'kms_driven'\n",
    "df['kms_driven'] = df['kms_driven'].str.replace(',', '').str.strip()\n"
   ]
  },
  {
   "cell_type": "code",
   "execution_count": 7,
   "metadata": {},
   "outputs": [
    {
     "name": "stdout",
     "output_type": "stream",
     "text": [
      "0        1.0\n",
      "1        3.0\n",
      "2        2.0\n",
      "3        1.0\n",
      "4        1.0\n",
      "        ... \n",
      "13951    2.0\n",
      "13952    1.0\n",
      "13953    2.0\n",
      "13954    2.0\n",
      "13955    1.0\n",
      "Name: owner_type, Length: 13956, dtype: float64\n"
     ]
    }
   ],
   "source": [
    "#passar 'owner_type' para numero e converter em float\n",
    "df['owner_type'] = df['owner_type'].replace({\n",
    "    'First Owner': '1',\n",
    "    'Second Owner': '2',\n",
    "    'Third Owner': '3',\n",
    "    'Fourth Owner': '4',\n",
    "    'Fifth Owner': '5'\n",
    "}).astype(float)\n",
    "print(df['owner_type'])"
   ]
  },
  {
   "cell_type": "code",
   "execution_count": 8,
   "metadata": {},
   "outputs": [],
   "source": [
    "# Change the data types of multiple columns\n",
    "df = df.astype({\n",
    "    'full_name': 'string',\n",
    "    'engine_capacity': float,\n",
    "    'insurance': 'string',\n",
    "    'transmission_type': 'string',\n",
    "    'kms_driven': float,\n",
    "    'owner_type': float,\n",
    "    'fuel_type': 'string',\n",
    "    'max_power': 'string',\n",
    "    'seats': float,\n",
    "    'mileage': 'string',\n",
    "    'body_type': 'string',\n",
    "    'city': 'string',\n",
    "    'resale_price_Lakh': float\n",
    "})\n",
    "\n"
   ]
  },
  {
   "cell_type": "code",
   "execution_count": 111,
   "metadata": {},
   "outputs": [
    {
     "name": "stdout",
     "output_type": "stream",
     "text": [
      "Data type by column:\n",
      "full_name                  string[python]\n",
      "registered_year                    object\n",
      "engine_capacity                   float64\n",
      "insurance                  string[python]\n",
      "transmission_type          string[python]\n",
      "kms_driven                        float64\n",
      "owner_type                        float64\n",
      "fuel_type                  string[python]\n",
      "max_power                         float64\n",
      "seats                             float64\n",
      "mileage                    string[python]\n",
      "body_type                  string[python]\n",
      "city                       string[python]\n",
      "resale_price_Lakh                 float64\n",
      "max_power_group                  category\n",
      "kms_group                        category\n",
      "engine_capacity_group            category\n",
      "kms_group_numeric                 float64\n",
      "max_power_group_numeric           float64\n",
      "dtype: object\n"
     ]
    }
   ],
   "source": [
    "# Check data types\n",
    "data_types = df.dtypes\n",
    "print(\"Data type by column:\")\n",
    "print(data_types)"
   ]
  },
  {
   "cell_type": "code",
   "execution_count": 88,
   "metadata": {},
   "outputs": [
    {
     "name": "stdout",
     "output_type": "stream",
     "text": [
      "max_power_group\n",
      "0-100 bhp      8346\n",
      "100-200 bhp    5039\n",
      "200-300 bhp     367\n",
      "300-400 bhp      60\n",
      "400-500 bhp      10\n",
      "500-600 bhp       6\n",
      "Name: count, dtype: int64\n"
     ]
    }
   ],
   "source": [
    "contagem_valores = df['max_power_group'].value_counts()\n",
    "print(contagem_valores)\n",
    "\n"
   ]
  },
  {
   "cell_type": "code",
   "execution_count": 92,
   "metadata": {},
   "outputs": [
    {
     "name": "stdout",
     "output_type": "stream",
     "text": [
      "Empty DataFrame\n",
      "Columns: [kms_group, kms_group_numeric]\n",
      "Index: []\n",
      "                    kms_group  kms_group_numeric\n",
      "0               Até 50.000 km                1.0\n",
      "2      50.000 km a 150.000 km                2.0\n",
      "156   150.000 km a 300.000 km                3.0\n",
      "2693      Acima de 900.000 km                6.0\n",
      "4876  600.000 km a 900.000 km                5.0\n",
      "7819  300.000 km a 600.000 km                4.0\n"
     ]
    }
   ],
   "source": [
    "subset = df[df['kms_group_numeric'] == 0][['kms_group', 'kms_group_numeric']]\n",
    "print(subset)\n",
    "distinct_values = df['kms_group_numeric'].unique()\n",
    "num_distinct_values = len(distinct_values)\n",
    "\n",
    "\n",
    "correspondencia = df[['kms_group', 'kms_group_numeric']].drop_duplicates()\n",
    "print(correspondencia)"
   ]
  },
  {
   "cell_type": "code",
   "execution_count": 108,
   "metadata": {},
   "outputs": [
    {
     "name": "stdout",
     "output_type": "stream",
     "text": [
      "Empty DataFrame\n",
      "Columns: [max_power_group, max_power_group_numeric]\n",
      "Index: []\n",
      "     max_power_group  max_power_group_numeric\n",
      "0          0-100 bhp                        6\n",
      "2        100-200 bhp                        5\n",
      "5        200-300 bhp                        4\n",
      "265      300-400 bhp                        3\n",
      "1577     500-600 bhp                        1\n",
      "2656     400-500 bhp                        2\n"
     ]
    }
   ],
   "source": [
    "#mostra que os grupos foram bem feitos\n",
    "subset = df[df['max_power_group_numeric'] == 0][['max_power_group', 'max_power_group_numeric']]\n",
    "print(subset)\n",
    "distinct_values = df['max_power_group_numeric'].unique()\n",
    "num_distinct_values = len(distinct_values)\n",
    "\n",
    "\n",
    "correspondencia = df[['max_power_group', 'max_power_group_numeric']].drop_duplicates()\n",
    "print(correspondencia)\n",
    "\n",
    "\n"
   ]
  },
  {
   "cell_type": "code",
   "execution_count": 110,
   "metadata": {},
   "outputs": [
    {
     "name": "stdout",
     "output_type": "stream",
     "text": [
      "0\n",
      "      max_power_group  max_power_group_numeric\n",
      "0           0-100 bhp                        6\n",
      "1           0-100 bhp                        6\n",
      "2         100-200 bhp                        5\n",
      "3         100-200 bhp                        5\n",
      "4           0-100 bhp                        6\n",
      "...               ...                      ...\n",
      "13951     100-200 bhp                        5\n",
      "13952       0-100 bhp                        6\n",
      "13953     100-200 bhp                        5\n",
      "13954       0-100 bhp                        6\n",
      "13955       0-100 bhp                        6\n",
      "\n",
      "[13828 rows x 2 columns]\n"
     ]
    }
   ],
   "source": [
    "# Verificar nulos na coluna 'max_power_group'\n",
    "nulos_max_power_group = df['max_power_group'].isnull().sum()\n",
    "print(nulos_max_power_group)\n",
    "\n",
    "# Criar uma nova coluna 'max_power_group_numeric' com base na classificação da coluna 'max_power_group'\n",
    "df['max_power_group_numeric'] = df['max_power_group'].astype('category').cat.codes.max() - df['max_power_group'].astype('category').cat.codes\n",
    "\n",
    "# Adicionar 1 para começar a numeração de 1\n",
    "df['max_power_group_numeric'] += 1\n",
    "\n",
    "# Imprimir o DataFrame com as novas colunas\n",
    "print(df[['max_power_group', 'max_power_group_numeric']])\n",
    "\n",
    "# Converter a coluna 'max_power_group_numeric' para float\n",
    "df['max_power_group_numeric'] = df['max_power_group_numeric'].astype(float)\n",
    "\n"
   ]
  },
  {
   "cell_type": "code",
   "execution_count": 107,
   "metadata": {},
   "outputs": [
    {
     "name": "stdout",
     "output_type": "stream",
     "text": [
      "kms_group\n",
      "50.000 km a 150.000 km     7669\n",
      "Até 50.000 km              5989\n",
      "150.000 km a 300.000 km     164\n",
      "300.000 km a 600.000 km       2\n",
      "600.000 km a 900.000 km       2\n",
      "Acima de 900.000 km           2\n",
      "Name: count, dtype: int64\n",
      "                    kms_group  kms_group_numeric\n",
      "0               Até 50.000 km                  1\n",
      "1               Até 50.000 km                  1\n",
      "2      50.000 km a 150.000 km                  2\n",
      "3               Até 50.000 km                  1\n",
      "4      50.000 km a 150.000 km                  2\n",
      "...                       ...                ...\n",
      "13951  50.000 km a 150.000 km                  2\n",
      "13952           Até 50.000 km                  1\n",
      "13953  50.000 km a 150.000 km                  2\n",
      "13954           Até 50.000 km                  1\n",
      "13955           Até 50.000 km                  1\n",
      "\n",
      "[13828 rows x 2 columns]\n",
      "kms_group_numeric\n",
      "2    7669\n",
      "1    5989\n",
      "3     164\n",
      "6       2\n",
      "5       2\n",
      "4       2\n",
      "Name: count, dtype: int64\n",
      "                    kms_group  kms_group_numeric\n",
      "0               Até 50.000 km                1.0\n",
      "2      50.000 km a 150.000 km                2.0\n",
      "156   150.000 km a 300.000 km                3.0\n",
      "2693      Acima de 900.000 km                6.0\n",
      "4876  600.000 km a 900.000 km                5.0\n",
      "7819  300.000 km a 600.000 km                4.0\n"
     ]
    }
   ],
   "source": [
    "kms_group_counts = df['kms_group'].value_counts()\n",
    "print(kms_group_counts)\n",
    "# Criar uma nova coluna 'kms_group_numeric' com base na classificação da coluna 'kms_group'\n",
    "df['kms_group_numeric'] = df['kms_group'].astype('category').cat.codes + 1\n",
    "\n",
    "# Imprimir o DataFrame com a nova coluna\n",
    "print(df[['kms_group', 'kms_group_numeric']])\n",
    "\n",
    "kms_group_counts2 = df['kms_group_numeric'].value_counts()\n",
    "print(kms_group_counts2)\n",
    "\n",
    "#converte a coluna para float\n",
    "df['kms_group_numeric'] = df['kms_group_numeric'].astype(float)\n",
    "correspondencia = df[['kms_group', 'kms_group_numeric']].drop_duplicates()\n",
    "print(correspondencia)\n",
    "\n"
   ]
  },
  {
   "cell_type": "code",
   "execution_count": 52,
   "metadata": {},
   "outputs": [
    {
     "name": "stdout",
     "output_type": "stream",
     "text": [
      "Empty DataFrame\n",
      "Columns: [full_name, registered_year, engine_capacity, insurance, transmission_type, kms_driven, owner_type, fuel_type, max_power, seats, mileage, body_type, city, resale_price_Lakh, max_power_group, kms_group, engine_capacity_group]\n",
      "Index: []\n"
     ]
    }
   ],
   "source": [
    "#ver quais os valores que tem body_type errado\n",
    "honda_rows = df[df['body_type'] == 'Chevrolet']\n",
    "print(honda_rows)\n"
   ]
  },
  {
   "cell_type": "code",
   "execution_count": 11,
   "metadata": {},
   "outputs": [
    {
     "name": "stdout",
     "output_type": "stream",
     "text": [
      "body_type\n",
      "Hatchback        5890\n",
      "Sedan            3819\n",
      "SUV              3524\n",
      "MUV               600\n",
      "Minivans           53\n",
      "Maruti             17\n",
      "Pickup              9\n",
      "Coupe               9\n",
      "Cars                6\n",
      "Mercedes-Benz       6\n",
      "Tata                5\n",
      "Wagon               3\n",
      "Mahindra            2\n",
      "Jaguar              2\n",
      "Convertibles        2\n",
      "Volvo               1\n",
      "Skoda               1\n",
      "Isuzu               1\n",
      "Toyota              1\n",
      "Datsun              1\n",
      "Hyundai             1\n",
      "Honda               1\n",
      "BMW                 1\n",
      "Chevrolet           1\n",
      "Name: count, dtype: Int64\n"
     ]
    }
   ],
   "source": [
    "\n",
    "# Exibe os tipos únicos e suas contagens na coluna 'body_type'\n",
    "contagem_body_types = df['body_type'].value_counts()\n",
    "\n",
    "# Exibe o resultado\n",
    "print(contagem_body_types)"
   ]
  },
  {
   "cell_type": "code",
   "execution_count": 12,
   "metadata": {},
   "outputs": [
    {
     "name": "stdout",
     "output_type": "stream",
     "text": [
      "Distinct full names with blank body_type:\n"
     ]
    }
   ],
   "source": [
    "import pandas as pd\n",
    "\n",
    "# Assuming df is your DataFrame\n",
    "\n",
    "df.loc[df['full_name'].isin(['2009 Maruti Estilo LXI', '2019 Nissan Kicks Diesel', '2010 Maruti Estilo LXI', '2019 Maruti Wagon R ZXI AMT 1.2BSIV',\n",
    "                             '2016 Mercedes-Benz B Class B180 Sport', '2016 Mercedes-Benz A Class A200 D Sport Edition',\n",
    "                             '2004 Tata Indigo Marina GLX', '2017 Volvo V40 D3 R Design']), 'body_type'] = 'Hatchback'\n",
    "df.loc[df['full_name'].isin(['2005 Tata Sumo Victa EX 10/7 Str BSII', '2008 Tata Sumo CX', '2010 Tata New Safari DICOR 2.2 EX 4x2', \n",
    "                             '2017 Mahindra KUV 100 mFALCON G80 K8', '2019 Mahindra Bolero Camper GOLD ZX 2WD']), 'body_type'] = 'SUV'\n",
    "df.loc[df['full_name'].isin(['2015 Honda Mobilio E i-DTEC', '2018 Maruti Eeco 5 Seater AC BSIV', '2016 Datsun GO Plus A']), 'body_type'] = 'MUV'\n",
    "df.loc[df['full_name'].isin(['2021 BMW 7 Series 730Ld DPE Signature','2006 Hyundai Accent CRDi', '2007 Maruti SX4 Vxi BSIII',\n",
    "                             '2020 Mercedes-Benz S-Class Maybach S560', '2004 Skoda Octavia 1.8 Turbo Petrol RS MT']), 'body_type'] = 'Sedan'\n",
    "df.loc[df['full_name'].isin(['2012 Mercedes-Benz SLK-Class SLK 350', '2013 Mercedes-Benz E-Class E350 Cabriolet', \n",
    "                             '2009 Mercedes-Benz SLK-Class 55 AMG']), 'body_type'] = 'Convertibles'\n",
    "df.loc[df['full_name'] == '2011 Jaguar XK R V8 Coupe', 'body_type'] = 'Coupe'\n",
    "df.loc[df['full_name'].isin(['2015 Chevrolet Enjoy 1.4 LS 7', '2004 Maruti Versa DX2 8-SEATER BSIII TWIN A/C', '2021 Maruti Eeco 5 STR With AC Plus HTR CNG',\n",
    "                             '2022 Maruti Eeco 5 Seater AC 2020-2022', '2022 Maruti Eeco 5 Seater AC BSVI', '2017 Maruti Eeco Flexi Green', \n",
    "                             '2013 Maruti Omni Limited Edition', '2021 Maruti Eeco CNG 5 Seater AC', '2019 Maruti Eeco CNG 5 Seater AC BSIV', \n",
    "                             '2019 Maruti Eeco 5 Seater AC', '2013 Maruti Eeco 5 Seater Standard BSIV', '2015 Maruti Omni CNG', \n",
    "                             '2015 Maruti Omni MPI CARGO BSIV', '2016 Maruti Eeco CNG 5 Seater AC BSIV', '2013 Toyota Innova 2.5 E Diesel MS 7-seater',\n",
    "                             '2015 Chevrolet Enjoy 1.4 LS 7']), 'body_type'] = 'Minivans'\n",
    "df.loc[df['full_name'].isin(['2014 Tata Xenon XT EX 4X2', '2019 Isuzu D-Max High']), 'body_type'] = 'Pickup'\n",
    "\n",
    "# Check\n",
    "distinct_full_names_with_blank_body_type = df[df['body_type'].isnull()]['full_name'].unique()\n",
    "print('Distinct full names with blank body_type:')\n",
    "for full_name in distinct_full_names_with_blank_body_type:\n",
    "    print(full_name)\n"
   ]
  },
  {
   "cell_type": "code",
   "execution_count": 13,
   "metadata": {},
   "outputs": [
    {
     "name": "stdout",
     "output_type": "stream",
     "text": [
      "Distinct full names with blank seats:\n"
     ]
    }
   ],
   "source": [
    "# Update number of seats based on conditions\n",
    "df.loc[df['full_name'].isin(['2009 Maruti Estilo LXI', '2019 Nissan Kicks Diesel', '2010 Maruti Estilo LXI']), 'seats'] = 5\n",
    "df.loc[df['full_name'] == '2008 Ford Endeavour 3.0 4x4 Thunder Plus', 'seats'] = 7\n",
    "\n",
    "# Check\n",
    "distinct_full_names_with_blank_seats = df[df['seats'].isnull()]['full_name'].unique()\n",
    "print('Distinct full names with blank seats:')\n",
    "for full_name in distinct_full_names_with_blank_seats:\n",
    "    print(full_name)"
   ]
  },
  {
   "cell_type": "code",
   "execution_count": 101,
   "metadata": {},
   "outputs": [],
   "source": [
    "import re\n",
    "\n",
    "Correct_Max_Power = []\n",
    "for power in df['max_power']:\n",
    "    if pd.notna(power):\n",
    "        if isinstance(power, str):\n",
    "            if 'bhp' in power:\n",
    "                num_bhp = float(re.search(r'\\d+.?\\d', power).group())\n",
    "                Correct_Max_Power.append(num_bhp)\n",
    "            elif 'PS' in power:\n",
    "                num_ps = float(re.search(r'\\d+.?\\d', power).group())\n",
    "                num_bhp = round(num_ps * 0.98632, 2)\n",
    "                Correct_Max_Power.append(num_bhp)\n",
    "            else:\n",
    "                num = re.search(r'\\d+\\.?\\d*', power)\n",
    "                Correct_Max_Power.append(float(num.group()) if num else None)\n",
    "        else:\n",
    "            Correct_Max_Power.append(power)\n",
    "    else:\n",
    "        Correct_Max_Power.append(None)\n",
    "\n",
    "\n",
    "# Converter os valores não NaN para float\n",
    "Correct_Max_Power = [float(value) if value is not None else value for value in Correct_Max_Power]\n",
    "\n",
    "df['max_power'] = Correct_Max_Power\n",
    "\n",
    "\n",
    "\n"
   ]
  },
  {
   "cell_type": "code",
   "execution_count": 102,
   "metadata": {},
   "outputs": [
    {
     "name": "stdout",
     "output_type": "stream",
     "text": [
      "0         83.8\n",
      "1         88.7\n",
      "2        117.3\n",
      "3        167.6\n",
      "4         83.1\n",
      "         ...  \n",
      "13951    197.2\n",
      "13952     81.8\n",
      "13953    108.6\n",
      "13954     88.5\n",
      "13955     86.7\n",
      "Name: max_power, Length: 13828, dtype: float64\n"
     ]
    }
   ],
   "source": [
    "# Remover linhas com NaN na coluna 'max_power'\n",
    "df = df.dropna(subset=['max_power'])\n",
    "print(df['max_power'])"
   ]
  },
  {
   "cell_type": "code",
   "execution_count": 16,
   "metadata": {},
   "outputs": [
    {
     "name": "stdout",
     "output_type": "stream",
     "text": [
      "[1. 3. 2. 5. 4.]\n"
     ]
    }
   ],
   "source": [
    "# Removendo espaços em branco na coluna 'owner_type'\n",
    "df.dropna(subset=['owner_type'], inplace=True)\n",
    "\n",
    "# Verificando os valores únicos após a remoção dos espaços em branco\n",
    "unique_values = df['owner_type'].unique()\n",
    "print(unique_values)"
   ]
  },
  {
   "cell_type": "code",
   "execution_count": 17,
   "metadata": {},
   "outputs": [
    {
     "name": "stdout",
     "output_type": "stream",
     "text": [
      "owner_type\n",
      "1.0    9.613698\n",
      "2.0    7.377456\n",
      "3.0    5.181408\n",
      "4.0    3.809587\n",
      "5.0    2.329250\n",
      "Name: resale_price_Lakh, dtype: float64\n"
     ]
    }
   ],
   "source": [
    "# Calculando a média dos valores da coluna 'resale' para cada número na coluna 'owner_type'\n",
    "resale_means = df.groupby('owner_type')['resale_price_Lakh'].mean()\n",
    "\n",
    "print(resale_means)"
   ]
  },
  {
   "cell_type": "code",
   "execution_count": 18,
   "metadata": {},
   "outputs": [
    {
     "name": "stdout",
     "output_type": "stream",
     "text": [
      "owner_type\n",
      "1.0    9779\n",
      "2.0    3366\n",
      "3.0     626\n",
      "4.0     109\n",
      "5.0      40\n",
      "Name: count, dtype: int64\n"
     ]
    }
   ],
   "source": [
    "# Verificando a frequência de cada número na coluna 'owner_type'\n",
    "frequency = df['owner_type'].value_counts()\n",
    "print(frequency)"
   ]
  },
  {
   "cell_type": "code",
   "execution_count": 19,
   "metadata": {},
   "outputs": [
    {
     "name": "stdout",
     "output_type": "stream",
     "text": [
      "<StringArray>\n",
      "['Petrol', 'Diesel', 'CNG', 'Electric', 'LPG']\n",
      "Length: 5, dtype: string\n"
     ]
    }
   ],
   "source": [
    "# unique 'fuel_type'\n",
    "valores_unicos_fuel_type = df['fuel_type'].unique()\n",
    "print(valores_unicos_fuel_type)"
   ]
  },
  {
   "cell_type": "code",
   "execution_count": 20,
   "metadata": {},
   "outputs": [],
   "source": [
    "#CHECK AND CREAT ID ______________________________________________________________"
   ]
  },
  {
   "cell_type": "code",
   "execution_count": 21,
   "metadata": {},
   "outputs": [
    {
     "ename": "KeyError",
     "evalue": "206",
     "output_type": "error",
     "traceback": [
      "\u001b[1;31m---------------------------------------------------------------------------\u001b[0m",
      "\u001b[1;31mKeyError\u001b[0m                                  Traceback (most recent call last)",
      "File \u001b[1;32m~\\AppData\\Local\\Packages\\PythonSoftwareFoundation.Python.3.12_qbz5n2kfra8p0\\LocalCache\\local-packages\\Python312\\site-packages\\pandas\\core\\indexes\\base.py:3790\u001b[0m, in \u001b[0;36mIndex.get_loc\u001b[1;34m(self, key)\u001b[0m\n\u001b[0;32m   3789\u001b[0m \u001b[39mtry\u001b[39;00m:\n\u001b[1;32m-> 3790\u001b[0m     \u001b[39mreturn\u001b[39;00m \u001b[39mself\u001b[39;49m\u001b[39m.\u001b[39;49m_engine\u001b[39m.\u001b[39;49mget_loc(casted_key)\n\u001b[0;32m   3791\u001b[0m \u001b[39mexcept\u001b[39;00m \u001b[39mKeyError\u001b[39;00m \u001b[39mas\u001b[39;00m err:\n",
      "File \u001b[1;32mindex.pyx:152\u001b[0m, in \u001b[0;36mpandas._libs.index.IndexEngine.get_loc\u001b[1;34m()\u001b[0m\n",
      "File \u001b[1;32mindex.pyx:181\u001b[0m, in \u001b[0;36mpandas._libs.index.IndexEngine.get_loc\u001b[1;34m()\u001b[0m\n",
      "File \u001b[1;32mpandas\\_libs\\hashtable_class_helper.pxi:2606\u001b[0m, in \u001b[0;36mpandas._libs.hashtable.Int64HashTable.get_item\u001b[1;34m()\u001b[0m\n",
      "File \u001b[1;32mpandas\\_libs\\hashtable_class_helper.pxi:2630\u001b[0m, in \u001b[0;36mpandas._libs.hashtable.Int64HashTable.get_item\u001b[1;34m()\u001b[0m\n",
      "\u001b[1;31mKeyError\u001b[0m: 206",
      "\nThe above exception was the direct cause of the following exception:\n",
      "\u001b[1;31mKeyError\u001b[0m                                  Traceback (most recent call last)",
      "\u001b[1;32mc:\\Users\\seari\\OneDrive\\Documentos\\GitHub\\AASE\\dataQuality2.ipynb Cell 21\u001b[0m line \u001b[0;36m1\n\u001b[0;32m     <a href='vscode-notebook-cell:/c%3A/Users/seari/OneDrive/Documentos/GitHub/AASE/dataQuality2.ipynb#X26sZmlsZQ%3D%3D?line=14'>15</a>\u001b[0m \u001b[39m# Calcula o IDF para cada tipo de corpo\u001b[39;00m\n\u001b[0;32m     <a href='vscode-notebook-cell:/c%3A/Users/seari/OneDrive/Documentos/GitHub/AASE/dataQuality2.ipynb#X26sZmlsZQ%3D%3D?line=15'>16</a>\u001b[0m \u001b[39mfor\u001b[39;00m body_type \u001b[39min\u001b[39;00m unique_body_types:\n\u001b[1;32m---> <a href='vscode-notebook-cell:/c%3A/Users/seari/OneDrive/Documentos/GitHub/AASE/dataQuality2.ipynb#X26sZmlsZQ%3D%3D?line=16'>17</a>\u001b[0m     k \u001b[39m=\u001b[39m \u001b[39msum\u001b[39;49m(body_type \u001b[39min\u001b[39;49;00m df[\u001b[39m'\u001b[39;49m\u001b[39mbody_type\u001b[39;49m\u001b[39m'\u001b[39;49m][i] \u001b[39mfor\u001b[39;49;00m i \u001b[39min\u001b[39;49;00m \u001b[39mrange\u001b[39;49m(n_docs))\n\u001b[0;32m     <a href='vscode-notebook-cell:/c%3A/Users/seari/OneDrive/Documentos/GitHub/AASE/dataQuality2.ipynb#X26sZmlsZQ%3D%3D?line=17'>18</a>\u001b[0m     idf[body_type] \u001b[39m=\u001b[39m np\u001b[39m.\u001b[39mlog10(n_docs \u001b[39m/\u001b[39m (k \u001b[39m+\u001b[39m \u001b[39m1\u001b[39m))  \u001b[39m# Adicionei +1 para evitar divisão por zero\u001b[39;00m\n\u001b[0;32m     <a href='vscode-notebook-cell:/c%3A/Users/seari/OneDrive/Documentos/GitHub/AASE/dataQuality2.ipynb#X26sZmlsZQ%3D%3D?line=19'>20</a>\u001b[0m \u001b[39m# Exibe os resultados\u001b[39;00m\n",
      "\u001b[1;32mc:\\Users\\seari\\OneDrive\\Documentos\\GitHub\\AASE\\dataQuality2.ipynb Cell 21\u001b[0m line \u001b[0;36m1\n\u001b[0;32m     <a href='vscode-notebook-cell:/c%3A/Users/seari/OneDrive/Documentos/GitHub/AASE/dataQuality2.ipynb#X26sZmlsZQ%3D%3D?line=14'>15</a>\u001b[0m \u001b[39m# Calcula o IDF para cada tipo de corpo\u001b[39;00m\n\u001b[0;32m     <a href='vscode-notebook-cell:/c%3A/Users/seari/OneDrive/Documentos/GitHub/AASE/dataQuality2.ipynb#X26sZmlsZQ%3D%3D?line=15'>16</a>\u001b[0m \u001b[39mfor\u001b[39;00m body_type \u001b[39min\u001b[39;00m unique_body_types:\n\u001b[1;32m---> <a href='vscode-notebook-cell:/c%3A/Users/seari/OneDrive/Documentos/GitHub/AASE/dataQuality2.ipynb#X26sZmlsZQ%3D%3D?line=16'>17</a>\u001b[0m     k \u001b[39m=\u001b[39m \u001b[39msum\u001b[39m(body_type \u001b[39min\u001b[39;00m df[\u001b[39m'\u001b[39;49m\u001b[39mbody_type\u001b[39;49m\u001b[39m'\u001b[39;49m][i] \u001b[39mfor\u001b[39;00m i \u001b[39min\u001b[39;00m \u001b[39mrange\u001b[39m(n_docs))\n\u001b[0;32m     <a href='vscode-notebook-cell:/c%3A/Users/seari/OneDrive/Documentos/GitHub/AASE/dataQuality2.ipynb#X26sZmlsZQ%3D%3D?line=17'>18</a>\u001b[0m     idf[body_type] \u001b[39m=\u001b[39m np\u001b[39m.\u001b[39mlog10(n_docs \u001b[39m/\u001b[39m (k \u001b[39m+\u001b[39m \u001b[39m1\u001b[39m))  \u001b[39m# Adicionei +1 para evitar divisão por zero\u001b[39;00m\n\u001b[0;32m     <a href='vscode-notebook-cell:/c%3A/Users/seari/OneDrive/Documentos/GitHub/AASE/dataQuality2.ipynb#X26sZmlsZQ%3D%3D?line=19'>20</a>\u001b[0m \u001b[39m# Exibe os resultados\u001b[39;00m\n",
      "File \u001b[1;32m~\\AppData\\Local\\Packages\\PythonSoftwareFoundation.Python.3.12_qbz5n2kfra8p0\\LocalCache\\local-packages\\Python312\\site-packages\\pandas\\core\\series.py:1040\u001b[0m, in \u001b[0;36mSeries.__getitem__\u001b[1;34m(self, key)\u001b[0m\n\u001b[0;32m   1037\u001b[0m     \u001b[39mreturn\u001b[39;00m \u001b[39mself\u001b[39m\u001b[39m.\u001b[39m_values[key]\n\u001b[0;32m   1039\u001b[0m \u001b[39melif\u001b[39;00m key_is_scalar:\n\u001b[1;32m-> 1040\u001b[0m     \u001b[39mreturn\u001b[39;00m \u001b[39mself\u001b[39;49m\u001b[39m.\u001b[39;49m_get_value(key)\n\u001b[0;32m   1042\u001b[0m \u001b[39m# Convert generator to list before going through hashable part\u001b[39;00m\n\u001b[0;32m   1043\u001b[0m \u001b[39m# (We will iterate through the generator there to check for slices)\u001b[39;00m\n\u001b[0;32m   1044\u001b[0m \u001b[39mif\u001b[39;00m is_iterator(key):\n",
      "File \u001b[1;32m~\\AppData\\Local\\Packages\\PythonSoftwareFoundation.Python.3.12_qbz5n2kfra8p0\\LocalCache\\local-packages\\Python312\\site-packages\\pandas\\core\\series.py:1156\u001b[0m, in \u001b[0;36mSeries._get_value\u001b[1;34m(self, label, takeable)\u001b[0m\n\u001b[0;32m   1153\u001b[0m     \u001b[39mreturn\u001b[39;00m \u001b[39mself\u001b[39m\u001b[39m.\u001b[39m_values[label]\n\u001b[0;32m   1155\u001b[0m \u001b[39m# Similar to Index.get_value, but we do not fall back to positional\u001b[39;00m\n\u001b[1;32m-> 1156\u001b[0m loc \u001b[39m=\u001b[39m \u001b[39mself\u001b[39;49m\u001b[39m.\u001b[39;49mindex\u001b[39m.\u001b[39;49mget_loc(label)\n\u001b[0;32m   1158\u001b[0m \u001b[39mif\u001b[39;00m is_integer(loc):\n\u001b[0;32m   1159\u001b[0m     \u001b[39mreturn\u001b[39;00m \u001b[39mself\u001b[39m\u001b[39m.\u001b[39m_values[loc]\n",
      "File \u001b[1;32m~\\AppData\\Local\\Packages\\PythonSoftwareFoundation.Python.3.12_qbz5n2kfra8p0\\LocalCache\\local-packages\\Python312\\site-packages\\pandas\\core\\indexes\\base.py:3797\u001b[0m, in \u001b[0;36mIndex.get_loc\u001b[1;34m(self, key)\u001b[0m\n\u001b[0;32m   3792\u001b[0m     \u001b[39mif\u001b[39;00m \u001b[39misinstance\u001b[39m(casted_key, \u001b[39mslice\u001b[39m) \u001b[39mor\u001b[39;00m (\n\u001b[0;32m   3793\u001b[0m         \u001b[39misinstance\u001b[39m(casted_key, abc\u001b[39m.\u001b[39mIterable)\n\u001b[0;32m   3794\u001b[0m         \u001b[39mand\u001b[39;00m \u001b[39many\u001b[39m(\u001b[39misinstance\u001b[39m(x, \u001b[39mslice\u001b[39m) \u001b[39mfor\u001b[39;00m x \u001b[39min\u001b[39;00m casted_key)\n\u001b[0;32m   3795\u001b[0m     ):\n\u001b[0;32m   3796\u001b[0m         \u001b[39mraise\u001b[39;00m InvalidIndexError(key)\n\u001b[1;32m-> 3797\u001b[0m     \u001b[39mraise\u001b[39;00m \u001b[39mKeyError\u001b[39;00m(key) \u001b[39mfrom\u001b[39;00m \u001b[39merr\u001b[39;00m\n\u001b[0;32m   3798\u001b[0m \u001b[39mexcept\u001b[39;00m \u001b[39mTypeError\u001b[39;00m:\n\u001b[0;32m   3799\u001b[0m     \u001b[39m# If we have a listlike key, _check_indexing_error will raise\u001b[39;00m\n\u001b[0;32m   3800\u001b[0m     \u001b[39m#  InvalidIndexError. Otherwise we fall through and re-raise\u001b[39;00m\n\u001b[0;32m   3801\u001b[0m     \u001b[39m#  the TypeError.\u001b[39;00m\n\u001b[0;32m   3802\u001b[0m     \u001b[39mself\u001b[39m\u001b[39m.\u001b[39m_check_indexing_error(key)\n",
      "\u001b[1;31mKeyError\u001b[0m: 206"
     ]
    }
   ],
   "source": [
    "import numpy as np\n",
    "\n",
    "# Sua coluna de tipos de corpo\n",
    "body_types = df['body_type']\n",
    "\n",
    "# Número de documentos (ou entradas) no DataFrame\n",
    "n_docs = len(df)\n",
    "\n",
    "# Dicionário para armazenar os valores IDF\n",
    "idf = {}\n",
    "\n",
    "# Usando drop_duplicates para obter valores únicos\n",
    "unique_body_types = body_types.drop_duplicates()\n",
    "\n",
    "# Calcula o IDF para cada tipo de corpo\n",
    "for body_type in unique_body_types:\n",
    "    k = sum(body_type in df['body_type'][i] for i in range(n_docs))\n",
    "    idf[body_type] = np.log10(n_docs / (k + 1))  # Adicionei +1 para evitar divisão por zero\n",
    "\n",
    "# Exibe os resultados\n",
    "for body_type, value in idf.items():\n",
    "    print(f'{body_type:>15}: {value:>10}')\n"
   ]
  },
  {
   "cell_type": "code",
   "execution_count": 22,
   "metadata": {},
   "outputs": [
    {
     "ename": "KeyError",
     "evalue": "206",
     "output_type": "error",
     "traceback": [
      "\u001b[1;31m---------------------------------------------------------------------------\u001b[0m",
      "\u001b[1;31mKeyError\u001b[0m                                  Traceback (most recent call last)",
      "File \u001b[1;32m~\\AppData\\Local\\Packages\\PythonSoftwareFoundation.Python.3.12_qbz5n2kfra8p0\\LocalCache\\local-packages\\Python312\\site-packages\\pandas\\core\\indexes\\base.py:3790\u001b[0m, in \u001b[0;36mIndex.get_loc\u001b[1;34m(self, key)\u001b[0m\n\u001b[0;32m   3789\u001b[0m \u001b[39mtry\u001b[39;00m:\n\u001b[1;32m-> 3790\u001b[0m     \u001b[39mreturn\u001b[39;00m \u001b[39mself\u001b[39;49m\u001b[39m.\u001b[39;49m_engine\u001b[39m.\u001b[39;49mget_loc(casted_key)\n\u001b[0;32m   3791\u001b[0m \u001b[39mexcept\u001b[39;00m \u001b[39mKeyError\u001b[39;00m \u001b[39mas\u001b[39;00m err:\n",
      "File \u001b[1;32mindex.pyx:152\u001b[0m, in \u001b[0;36mpandas._libs.index.IndexEngine.get_loc\u001b[1;34m()\u001b[0m\n",
      "File \u001b[1;32mindex.pyx:181\u001b[0m, in \u001b[0;36mpandas._libs.index.IndexEngine.get_loc\u001b[1;34m()\u001b[0m\n",
      "File \u001b[1;32mpandas\\_libs\\hashtable_class_helper.pxi:2606\u001b[0m, in \u001b[0;36mpandas._libs.hashtable.Int64HashTable.get_item\u001b[1;34m()\u001b[0m\n",
      "File \u001b[1;32mpandas\\_libs\\hashtable_class_helper.pxi:2630\u001b[0m, in \u001b[0;36mpandas._libs.hashtable.Int64HashTable.get_item\u001b[1;34m()\u001b[0m\n",
      "\u001b[1;31mKeyError\u001b[0m: 206",
      "\nThe above exception was the direct cause of the following exception:\n",
      "\u001b[1;31mKeyError\u001b[0m                                  Traceback (most recent call last)",
      "\u001b[1;32mc:\\Users\\seari\\OneDrive\\Documentos\\GitHub\\AASE\\dataQuality2.ipynb Cell 22\u001b[0m line \u001b[0;36m1\n\u001b[0;32m     <a href='vscode-notebook-cell:/c%3A/Users/seari/OneDrive/Documentos/GitHub/AASE/dataQuality2.ipynb#X30sZmlsZQ%3D%3D?line=11'>12</a>\u001b[0m unique_fuel_types \u001b[39m=\u001b[39m fuel_types\u001b[39m.\u001b[39mdrop_duplicates()\n\u001b[0;32m     <a href='vscode-notebook-cell:/c%3A/Users/seari/OneDrive/Documentos/GitHub/AASE/dataQuality2.ipynb#X30sZmlsZQ%3D%3D?line=13'>14</a>\u001b[0m \u001b[39mfor\u001b[39;00m fuel_type \u001b[39min\u001b[39;00m unique_fuel_types:\n\u001b[1;32m---> <a href='vscode-notebook-cell:/c%3A/Users/seari/OneDrive/Documentos/GitHub/AASE/dataQuality2.ipynb#X30sZmlsZQ%3D%3D?line=14'>15</a>\u001b[0m     k \u001b[39m=\u001b[39m \u001b[39msum\u001b[39;49m(fuel_type \u001b[39min\u001b[39;49;00m df[\u001b[39m'\u001b[39;49m\u001b[39mfuel_type\u001b[39;49m\u001b[39m'\u001b[39;49m][i] \u001b[39mfor\u001b[39;49;00m i \u001b[39min\u001b[39;49;00m \u001b[39mrange\u001b[39;49m(n_docs))  \u001b[39m# contagem de documentos que contêm este tipo de combustível\u001b[39;00m\n\u001b[0;32m     <a href='vscode-notebook-cell:/c%3A/Users/seari/OneDrive/Documentos/GitHub/AASE/dataQuality2.ipynb#X30sZmlsZQ%3D%3D?line=15'>16</a>\u001b[0m     idf[fuel_type] \u001b[39m=\u001b[39m np\u001b[39m.\u001b[39mlog10(n_docs \u001b[39m/\u001b[39m (k \u001b[39m+\u001b[39m \u001b[39m1\u001b[39m))  \u001b[39m# Adicionei +1 para evitar divisão por zero\u001b[39;00m\n\u001b[0;32m     <a href='vscode-notebook-cell:/c%3A/Users/seari/OneDrive/Documentos/GitHub/AASE/dataQuality2.ipynb#X30sZmlsZQ%3D%3D?line=18'>19</a>\u001b[0m \u001b[39mfor\u001b[39;00m fuel_type, value \u001b[39min\u001b[39;00m idf\u001b[39m.\u001b[39mitems():\n",
      "\u001b[1;32mc:\\Users\\seari\\OneDrive\\Documentos\\GitHub\\AASE\\dataQuality2.ipynb Cell 22\u001b[0m line \u001b[0;36m1\n\u001b[0;32m     <a href='vscode-notebook-cell:/c%3A/Users/seari/OneDrive/Documentos/GitHub/AASE/dataQuality2.ipynb#X30sZmlsZQ%3D%3D?line=11'>12</a>\u001b[0m unique_fuel_types \u001b[39m=\u001b[39m fuel_types\u001b[39m.\u001b[39mdrop_duplicates()\n\u001b[0;32m     <a href='vscode-notebook-cell:/c%3A/Users/seari/OneDrive/Documentos/GitHub/AASE/dataQuality2.ipynb#X30sZmlsZQ%3D%3D?line=13'>14</a>\u001b[0m \u001b[39mfor\u001b[39;00m fuel_type \u001b[39min\u001b[39;00m unique_fuel_types:\n\u001b[1;32m---> <a href='vscode-notebook-cell:/c%3A/Users/seari/OneDrive/Documentos/GitHub/AASE/dataQuality2.ipynb#X30sZmlsZQ%3D%3D?line=14'>15</a>\u001b[0m     k \u001b[39m=\u001b[39m \u001b[39msum\u001b[39m(fuel_type \u001b[39min\u001b[39;00m df[\u001b[39m'\u001b[39;49m\u001b[39mfuel_type\u001b[39;49m\u001b[39m'\u001b[39;49m][i] \u001b[39mfor\u001b[39;00m i \u001b[39min\u001b[39;00m \u001b[39mrange\u001b[39m(n_docs))  \u001b[39m# contagem de documentos que contêm este tipo de combustível\u001b[39;00m\n\u001b[0;32m     <a href='vscode-notebook-cell:/c%3A/Users/seari/OneDrive/Documentos/GitHub/AASE/dataQuality2.ipynb#X30sZmlsZQ%3D%3D?line=15'>16</a>\u001b[0m     idf[fuel_type] \u001b[39m=\u001b[39m np\u001b[39m.\u001b[39mlog10(n_docs \u001b[39m/\u001b[39m (k \u001b[39m+\u001b[39m \u001b[39m1\u001b[39m))  \u001b[39m# Adicionei +1 para evitar divisão por zero\u001b[39;00m\n\u001b[0;32m     <a href='vscode-notebook-cell:/c%3A/Users/seari/OneDrive/Documentos/GitHub/AASE/dataQuality2.ipynb#X30sZmlsZQ%3D%3D?line=18'>19</a>\u001b[0m \u001b[39mfor\u001b[39;00m fuel_type, value \u001b[39min\u001b[39;00m idf\u001b[39m.\u001b[39mitems():\n",
      "File \u001b[1;32m~\\AppData\\Local\\Packages\\PythonSoftwareFoundation.Python.3.12_qbz5n2kfra8p0\\LocalCache\\local-packages\\Python312\\site-packages\\pandas\\core\\series.py:1040\u001b[0m, in \u001b[0;36mSeries.__getitem__\u001b[1;34m(self, key)\u001b[0m\n\u001b[0;32m   1037\u001b[0m     \u001b[39mreturn\u001b[39;00m \u001b[39mself\u001b[39m\u001b[39m.\u001b[39m_values[key]\n\u001b[0;32m   1039\u001b[0m \u001b[39melif\u001b[39;00m key_is_scalar:\n\u001b[1;32m-> 1040\u001b[0m     \u001b[39mreturn\u001b[39;00m \u001b[39mself\u001b[39;49m\u001b[39m.\u001b[39;49m_get_value(key)\n\u001b[0;32m   1042\u001b[0m \u001b[39m# Convert generator to list before going through hashable part\u001b[39;00m\n\u001b[0;32m   1043\u001b[0m \u001b[39m# (We will iterate through the generator there to check for slices)\u001b[39;00m\n\u001b[0;32m   1044\u001b[0m \u001b[39mif\u001b[39;00m is_iterator(key):\n",
      "File \u001b[1;32m~\\AppData\\Local\\Packages\\PythonSoftwareFoundation.Python.3.12_qbz5n2kfra8p0\\LocalCache\\local-packages\\Python312\\site-packages\\pandas\\core\\series.py:1156\u001b[0m, in \u001b[0;36mSeries._get_value\u001b[1;34m(self, label, takeable)\u001b[0m\n\u001b[0;32m   1153\u001b[0m     \u001b[39mreturn\u001b[39;00m \u001b[39mself\u001b[39m\u001b[39m.\u001b[39m_values[label]\n\u001b[0;32m   1155\u001b[0m \u001b[39m# Similar to Index.get_value, but we do not fall back to positional\u001b[39;00m\n\u001b[1;32m-> 1156\u001b[0m loc \u001b[39m=\u001b[39m \u001b[39mself\u001b[39;49m\u001b[39m.\u001b[39;49mindex\u001b[39m.\u001b[39;49mget_loc(label)\n\u001b[0;32m   1158\u001b[0m \u001b[39mif\u001b[39;00m is_integer(loc):\n\u001b[0;32m   1159\u001b[0m     \u001b[39mreturn\u001b[39;00m \u001b[39mself\u001b[39m\u001b[39m.\u001b[39m_values[loc]\n",
      "File \u001b[1;32m~\\AppData\\Local\\Packages\\PythonSoftwareFoundation.Python.3.12_qbz5n2kfra8p0\\LocalCache\\local-packages\\Python312\\site-packages\\pandas\\core\\indexes\\base.py:3797\u001b[0m, in \u001b[0;36mIndex.get_loc\u001b[1;34m(self, key)\u001b[0m\n\u001b[0;32m   3792\u001b[0m     \u001b[39mif\u001b[39;00m \u001b[39misinstance\u001b[39m(casted_key, \u001b[39mslice\u001b[39m) \u001b[39mor\u001b[39;00m (\n\u001b[0;32m   3793\u001b[0m         \u001b[39misinstance\u001b[39m(casted_key, abc\u001b[39m.\u001b[39mIterable)\n\u001b[0;32m   3794\u001b[0m         \u001b[39mand\u001b[39;00m \u001b[39many\u001b[39m(\u001b[39misinstance\u001b[39m(x, \u001b[39mslice\u001b[39m) \u001b[39mfor\u001b[39;00m x \u001b[39min\u001b[39;00m casted_key)\n\u001b[0;32m   3795\u001b[0m     ):\n\u001b[0;32m   3796\u001b[0m         \u001b[39mraise\u001b[39;00m InvalidIndexError(key)\n\u001b[1;32m-> 3797\u001b[0m     \u001b[39mraise\u001b[39;00m \u001b[39mKeyError\u001b[39;00m(key) \u001b[39mfrom\u001b[39;00m \u001b[39merr\u001b[39;00m\n\u001b[0;32m   3798\u001b[0m \u001b[39mexcept\u001b[39;00m \u001b[39mTypeError\u001b[39;00m:\n\u001b[0;32m   3799\u001b[0m     \u001b[39m# If we have a listlike key, _check_indexing_error will raise\u001b[39;00m\n\u001b[0;32m   3800\u001b[0m     \u001b[39m#  InvalidIndexError. Otherwise we fall through and re-raise\u001b[39;00m\n\u001b[0;32m   3801\u001b[0m     \u001b[39m#  the TypeError.\u001b[39;00m\n\u001b[0;32m   3802\u001b[0m     \u001b[39mself\u001b[39m\u001b[39m.\u001b[39m_check_indexing_error(key)\n",
      "\u001b[1;31mKeyError\u001b[0m: 206"
     ]
    }
   ],
   "source": [
    "#Check ID_fuel_type\n",
    "\n",
    "# Sua coluna de tipos de combustível\n",
    "fuel_types = df['fuel_type']\n",
    "\n",
    "# Número de documentos (ou entradas) no DataFrame\n",
    "n_docs = len(df)\n",
    "\n",
    "idf = {}\n",
    "\n",
    "# Usando drop_duplicates para obter valores únicos\n",
    "unique_fuel_types = fuel_types.drop_duplicates()\n",
    "\n",
    "for fuel_type in unique_fuel_types:\n",
    "    k = sum(fuel_type in df['fuel_type'][i] for i in range(n_docs))  # contagem de documentos que contêm este tipo de combustível\n",
    "    idf[fuel_type] = np.log10(n_docs / (k + 1))  # Adicionei +1 para evitar divisão por zero\n",
    "\n",
    "\n",
    "for fuel_type, value in idf.items():\n",
    "    print(f'{fuel_type:>15}: {value:>10}')"
   ]
  },
  {
   "cell_type": "code",
   "execution_count": 23,
   "metadata": {},
   "outputs": [
    {
     "ename": "KeyError",
     "evalue": "206",
     "output_type": "error",
     "traceback": [
      "\u001b[1;31m---------------------------------------------------------------------------\u001b[0m",
      "\u001b[1;31mKeyError\u001b[0m                                  Traceback (most recent call last)",
      "File \u001b[1;32m~\\AppData\\Local\\Packages\\PythonSoftwareFoundation.Python.3.12_qbz5n2kfra8p0\\LocalCache\\local-packages\\Python312\\site-packages\\pandas\\core\\indexes\\base.py:3790\u001b[0m, in \u001b[0;36mIndex.get_loc\u001b[1;34m(self, key)\u001b[0m\n\u001b[0;32m   3789\u001b[0m \u001b[39mtry\u001b[39;00m:\n\u001b[1;32m-> 3790\u001b[0m     \u001b[39mreturn\u001b[39;00m \u001b[39mself\u001b[39;49m\u001b[39m.\u001b[39;49m_engine\u001b[39m.\u001b[39;49mget_loc(casted_key)\n\u001b[0;32m   3791\u001b[0m \u001b[39mexcept\u001b[39;00m \u001b[39mKeyError\u001b[39;00m \u001b[39mas\u001b[39;00m err:\n",
      "File \u001b[1;32mindex.pyx:152\u001b[0m, in \u001b[0;36mpandas._libs.index.IndexEngine.get_loc\u001b[1;34m()\u001b[0m\n",
      "File \u001b[1;32mindex.pyx:181\u001b[0m, in \u001b[0;36mpandas._libs.index.IndexEngine.get_loc\u001b[1;34m()\u001b[0m\n",
      "File \u001b[1;32mpandas\\_libs\\hashtable_class_helper.pxi:2606\u001b[0m, in \u001b[0;36mpandas._libs.hashtable.Int64HashTable.get_item\u001b[1;34m()\u001b[0m\n",
      "File \u001b[1;32mpandas\\_libs\\hashtable_class_helper.pxi:2630\u001b[0m, in \u001b[0;36mpandas._libs.hashtable.Int64HashTable.get_item\u001b[1;34m()\u001b[0m\n",
      "\u001b[1;31mKeyError\u001b[0m: 206",
      "\nThe above exception was the direct cause of the following exception:\n",
      "\u001b[1;31mKeyError\u001b[0m                                  Traceback (most recent call last)",
      "\u001b[1;32mc:\\Users\\seari\\OneDrive\\Documentos\\GitHub\\AASE\\dataQuality2.ipynb Cell 23\u001b[0m line \u001b[0;36m1\n\u001b[0;32m     <a href='vscode-notebook-cell:/c%3A/Users/seari/OneDrive/Documentos/GitHub/AASE/dataQuality2.ipynb#X31sZmlsZQ%3D%3D?line=10'>11</a>\u001b[0m unique_fuel_types \u001b[39m=\u001b[39m fuel_types\u001b[39m.\u001b[39mdrop_duplicates()\n\u001b[0;32m     <a href='vscode-notebook-cell:/c%3A/Users/seari/OneDrive/Documentos/GitHub/AASE/dataQuality2.ipynb#X31sZmlsZQ%3D%3D?line=12'>13</a>\u001b[0m \u001b[39mfor\u001b[39;00m fuel_type \u001b[39min\u001b[39;00m unique_fuel_types:\n\u001b[1;32m---> <a href='vscode-notebook-cell:/c%3A/Users/seari/OneDrive/Documentos/GitHub/AASE/dataQuality2.ipynb#X31sZmlsZQ%3D%3D?line=13'>14</a>\u001b[0m     k \u001b[39m=\u001b[39m \u001b[39msum\u001b[39;49m(fuel_type \u001b[39min\u001b[39;49;00m df[\u001b[39m'\u001b[39;49m\u001b[39mfuel_type\u001b[39;49m\u001b[39m'\u001b[39;49m][i] \u001b[39mfor\u001b[39;49;00m i \u001b[39min\u001b[39;49;00m \u001b[39mrange\u001b[39;49m(n_docs))  \u001b[39m# contagem de 1 tipo de combustível\u001b[39;00m\n\u001b[0;32m     <a href='vscode-notebook-cell:/c%3A/Users/seari/OneDrive/Documentos/GitHub/AASE/dataQuality2.ipynb#X31sZmlsZQ%3D%3D?line=14'>15</a>\u001b[0m     idf[fuel_type] \u001b[39m=\u001b[39m np\u001b[39m.\u001b[39mlog10(n_docs \u001b[39m/\u001b[39m (k \u001b[39m+\u001b[39m \u001b[39m1\u001b[39m))  \u001b[39m# evitar divisão por zero\u001b[39;00m\n\u001b[0;32m     <a href='vscode-notebook-cell:/c%3A/Users/seari/OneDrive/Documentos/GitHub/AASE/dataQuality2.ipynb#X31sZmlsZQ%3D%3D?line=16'>17</a>\u001b[0m \u001b[39m# Criar nova coluna 'idf' no DataFrame\u001b[39;00m\n",
      "\u001b[1;32mc:\\Users\\seari\\OneDrive\\Documentos\\GitHub\\AASE\\dataQuality2.ipynb Cell 23\u001b[0m line \u001b[0;36m1\n\u001b[0;32m     <a href='vscode-notebook-cell:/c%3A/Users/seari/OneDrive/Documentos/GitHub/AASE/dataQuality2.ipynb#X31sZmlsZQ%3D%3D?line=10'>11</a>\u001b[0m unique_fuel_types \u001b[39m=\u001b[39m fuel_types\u001b[39m.\u001b[39mdrop_duplicates()\n\u001b[0;32m     <a href='vscode-notebook-cell:/c%3A/Users/seari/OneDrive/Documentos/GitHub/AASE/dataQuality2.ipynb#X31sZmlsZQ%3D%3D?line=12'>13</a>\u001b[0m \u001b[39mfor\u001b[39;00m fuel_type \u001b[39min\u001b[39;00m unique_fuel_types:\n\u001b[1;32m---> <a href='vscode-notebook-cell:/c%3A/Users/seari/OneDrive/Documentos/GitHub/AASE/dataQuality2.ipynb#X31sZmlsZQ%3D%3D?line=13'>14</a>\u001b[0m     k \u001b[39m=\u001b[39m \u001b[39msum\u001b[39m(fuel_type \u001b[39min\u001b[39;00m df[\u001b[39m'\u001b[39;49m\u001b[39mfuel_type\u001b[39;49m\u001b[39m'\u001b[39;49m][i] \u001b[39mfor\u001b[39;00m i \u001b[39min\u001b[39;00m \u001b[39mrange\u001b[39m(n_docs))  \u001b[39m# contagem de 1 tipo de combustível\u001b[39;00m\n\u001b[0;32m     <a href='vscode-notebook-cell:/c%3A/Users/seari/OneDrive/Documentos/GitHub/AASE/dataQuality2.ipynb#X31sZmlsZQ%3D%3D?line=14'>15</a>\u001b[0m     idf[fuel_type] \u001b[39m=\u001b[39m np\u001b[39m.\u001b[39mlog10(n_docs \u001b[39m/\u001b[39m (k \u001b[39m+\u001b[39m \u001b[39m1\u001b[39m))  \u001b[39m# evitar divisão por zero\u001b[39;00m\n\u001b[0;32m     <a href='vscode-notebook-cell:/c%3A/Users/seari/OneDrive/Documentos/GitHub/AASE/dataQuality2.ipynb#X31sZmlsZQ%3D%3D?line=16'>17</a>\u001b[0m \u001b[39m# Criar nova coluna 'idf' no DataFrame\u001b[39;00m\n",
      "File \u001b[1;32m~\\AppData\\Local\\Packages\\PythonSoftwareFoundation.Python.3.12_qbz5n2kfra8p0\\LocalCache\\local-packages\\Python312\\site-packages\\pandas\\core\\series.py:1040\u001b[0m, in \u001b[0;36mSeries.__getitem__\u001b[1;34m(self, key)\u001b[0m\n\u001b[0;32m   1037\u001b[0m     \u001b[39mreturn\u001b[39;00m \u001b[39mself\u001b[39m\u001b[39m.\u001b[39m_values[key]\n\u001b[0;32m   1039\u001b[0m \u001b[39melif\u001b[39;00m key_is_scalar:\n\u001b[1;32m-> 1040\u001b[0m     \u001b[39mreturn\u001b[39;00m \u001b[39mself\u001b[39;49m\u001b[39m.\u001b[39;49m_get_value(key)\n\u001b[0;32m   1042\u001b[0m \u001b[39m# Convert generator to list before going through hashable part\u001b[39;00m\n\u001b[0;32m   1043\u001b[0m \u001b[39m# (We will iterate through the generator there to check for slices)\u001b[39;00m\n\u001b[0;32m   1044\u001b[0m \u001b[39mif\u001b[39;00m is_iterator(key):\n",
      "File \u001b[1;32m~\\AppData\\Local\\Packages\\PythonSoftwareFoundation.Python.3.12_qbz5n2kfra8p0\\LocalCache\\local-packages\\Python312\\site-packages\\pandas\\core\\series.py:1156\u001b[0m, in \u001b[0;36mSeries._get_value\u001b[1;34m(self, label, takeable)\u001b[0m\n\u001b[0;32m   1153\u001b[0m     \u001b[39mreturn\u001b[39;00m \u001b[39mself\u001b[39m\u001b[39m.\u001b[39m_values[label]\n\u001b[0;32m   1155\u001b[0m \u001b[39m# Similar to Index.get_value, but we do not fall back to positional\u001b[39;00m\n\u001b[1;32m-> 1156\u001b[0m loc \u001b[39m=\u001b[39m \u001b[39mself\u001b[39;49m\u001b[39m.\u001b[39;49mindex\u001b[39m.\u001b[39;49mget_loc(label)\n\u001b[0;32m   1158\u001b[0m \u001b[39mif\u001b[39;00m is_integer(loc):\n\u001b[0;32m   1159\u001b[0m     \u001b[39mreturn\u001b[39;00m \u001b[39mself\u001b[39m\u001b[39m.\u001b[39m_values[loc]\n",
      "File \u001b[1;32m~\\AppData\\Local\\Packages\\PythonSoftwareFoundation.Python.3.12_qbz5n2kfra8p0\\LocalCache\\local-packages\\Python312\\site-packages\\pandas\\core\\indexes\\base.py:3797\u001b[0m, in \u001b[0;36mIndex.get_loc\u001b[1;34m(self, key)\u001b[0m\n\u001b[0;32m   3792\u001b[0m     \u001b[39mif\u001b[39;00m \u001b[39misinstance\u001b[39m(casted_key, \u001b[39mslice\u001b[39m) \u001b[39mor\u001b[39;00m (\n\u001b[0;32m   3793\u001b[0m         \u001b[39misinstance\u001b[39m(casted_key, abc\u001b[39m.\u001b[39mIterable)\n\u001b[0;32m   3794\u001b[0m         \u001b[39mand\u001b[39;00m \u001b[39many\u001b[39m(\u001b[39misinstance\u001b[39m(x, \u001b[39mslice\u001b[39m) \u001b[39mfor\u001b[39;00m x \u001b[39min\u001b[39;00m casted_key)\n\u001b[0;32m   3795\u001b[0m     ):\n\u001b[0;32m   3796\u001b[0m         \u001b[39mraise\u001b[39;00m InvalidIndexError(key)\n\u001b[1;32m-> 3797\u001b[0m     \u001b[39mraise\u001b[39;00m \u001b[39mKeyError\u001b[39;00m(key) \u001b[39mfrom\u001b[39;00m \u001b[39merr\u001b[39;00m\n\u001b[0;32m   3798\u001b[0m \u001b[39mexcept\u001b[39;00m \u001b[39mTypeError\u001b[39;00m:\n\u001b[0;32m   3799\u001b[0m     \u001b[39m# If we have a listlike key, _check_indexing_error will raise\u001b[39;00m\n\u001b[0;32m   3800\u001b[0m     \u001b[39m#  InvalidIndexError. Otherwise we fall through and re-raise\u001b[39;00m\n\u001b[0;32m   3801\u001b[0m     \u001b[39m#  the TypeError.\u001b[39;00m\n\u001b[0;32m   3802\u001b[0m     \u001b[39mself\u001b[39m\u001b[39m.\u001b[39m_check_indexing_error(key)\n",
      "\u001b[1;31mKeyError\u001b[0m: 206"
     ]
    }
   ],
   "source": [
    "#Create fuel_type ID: IDF\n",
    "\n",
    "fuel_types = df['fuel_type']\n",
    "\n",
    "# Número de entradas no DataFrame\n",
    "n_docs = len(df)\n",
    "\n",
    "idf = {}\n",
    "\n",
    "# valores únicos\n",
    "unique_fuel_types = fuel_types.drop_duplicates()\n",
    "\n",
    "for fuel_type in unique_fuel_types:\n",
    "    k = sum(fuel_type in df['fuel_type'][i] for i in range(n_docs))  # contagem de 1 tipo de combustível\n",
    "    idf[fuel_type] = np.log10(n_docs / (k + 1))  # evitar divisão por zero\n",
    "\n",
    "# Criar nova coluna 'idf' no DataFrame\n",
    "df['id_fuel_type'] = df['fuel_type'].map(idf)\n",
    "\n",
    "# Se desejar imprimir o DataFrame com a nova coluna\n",
    "print(df)\n"
   ]
  },
  {
   "cell_type": "code",
   "execution_count": 52,
   "metadata": {},
   "outputs": [
    {
     "data": {
      "text/html": [
       "<div>\n",
       "<style scoped>\n",
       "    .dataframe tbody tr th:only-of-type {\n",
       "        vertical-align: middle;\n",
       "    }\n",
       "\n",
       "    .dataframe tbody tr th {\n",
       "        vertical-align: top;\n",
       "    }\n",
       "\n",
       "    .dataframe thead th {\n",
       "        text-align: right;\n",
       "    }\n",
       "</style>\n",
       "<table border=\"1\" class=\"dataframe\">\n",
       "  <thead>\n",
       "    <tr style=\"text-align: right;\">\n",
       "      <th></th>\n",
       "      <th>fuel_type</th>\n",
       "      <th>fuel_type_id</th>\n",
       "    </tr>\n",
       "  </thead>\n",
       "  <tbody>\n",
       "    <tr>\n",
       "      <th>0</th>\n",
       "      <td>Petrol</td>\n",
       "      <td>0.01</td>\n",
       "    </tr>\n",
       "    <tr>\n",
       "      <th>1</th>\n",
       "      <td>Petrol</td>\n",
       "      <td>0.01</td>\n",
       "    </tr>\n",
       "    <tr>\n",
       "      <th>2</th>\n",
       "      <td>Petrol</td>\n",
       "      <td>0.01</td>\n",
       "    </tr>\n",
       "    <tr>\n",
       "      <th>3</th>\n",
       "      <td>Diesel</td>\n",
       "      <td>0.02</td>\n",
       "    </tr>\n",
       "    <tr>\n",
       "      <th>4</th>\n",
       "      <td>Petrol</td>\n",
       "      <td>0.01</td>\n",
       "    </tr>\n",
       "    <tr>\n",
       "      <th>...</th>\n",
       "      <td>...</td>\n",
       "      <td>...</td>\n",
       "    </tr>\n",
       "    <tr>\n",
       "      <th>13951</th>\n",
       "      <td>Diesel</td>\n",
       "      <td>0.02</td>\n",
       "    </tr>\n",
       "    <tr>\n",
       "      <th>13952</th>\n",
       "      <td>Petrol</td>\n",
       "      <td>0.01</td>\n",
       "    </tr>\n",
       "    <tr>\n",
       "      <th>13953</th>\n",
       "      <td>Diesel</td>\n",
       "      <td>0.02</td>\n",
       "    </tr>\n",
       "    <tr>\n",
       "      <th>13954</th>\n",
       "      <td>Diesel</td>\n",
       "      <td>0.02</td>\n",
       "    </tr>\n",
       "    <tr>\n",
       "      <th>13955</th>\n",
       "      <td>Petrol</td>\n",
       "      <td>0.01</td>\n",
       "    </tr>\n",
       "  </tbody>\n",
       "</table>\n",
       "<p>13956 rows 2 columns</p>\n",
       "</div>"
      ],
      "text/plain": [
       "      fuel_type  fuel_type_id\n",
       "0        Petrol          0.01\n",
       "1        Petrol          0.01\n",
       "2        Petrol          0.01\n",
       "3        Diesel          0.02\n",
       "4        Petrol          0.01\n",
       "...         ...           ...\n",
       "13951    Diesel          0.02\n",
       "13952    Petrol          0.01\n",
       "13953    Diesel          0.02\n",
       "13954    Diesel          0.02\n",
       "13955    Petrol          0.01\n",
       "\n",
       "[13956 rows x 2 columns]"
      ]
     },
     "execution_count": 52,
     "metadata": {},
     "output_type": "execute_result"
    }
   ],
   "source": [
    "\n",
    "# fuel_type_id = {\n",
    "#     'Petrol': 0.01,\n",
    "#     'Diesel': 0.02,\n",
    "#     'CNG': 0.12,\n",
    "#     'Electric': 1.02,\n",
    "#     'LPG': 2.27\n",
    "# }\n",
    "# df['fuel_type_id'] = df['fuel_type'].map(fuel_type_id)\n",
    "# df['fuel_type_id'] = df['fuel_type_id'].astype(float)\n",
    "# df[['fuel_type', 'fuel_type_id']]\n",
    "\n",
    "#testar com a abordagem IDF\n"
   ]
  },
  {
   "cell_type": "code",
   "execution_count": 12,
   "metadata": {},
   "outputs": [
    {
     "name": "stdout",
     "output_type": "stream",
     "text": [
      "Min value (seats, resale price): \n",
      "(2.0, 0.28)\n",
      "Max value(seats, resale price): \n",
      "(10.0, 225.0)\n",
      "Medium value(seats, resale price): \n",
      "(5.20213528231585, 8.845202874032676)\n"
     ]
    }
   ],
   "source": [
    "# max min mean \n",
    "# min_values = df['seats'].min(), df['resale_price_Lakh'].min()\n",
    "# print(\"Min value (seats, resale price): \")\n",
    "# print(min_values)\n",
    "# max_values = df['seats'].max(), df['resale_price_Lakh'].max()\n",
    "# print(\"Max value(seats, resale price): \")\n",
    "# print(max_values)\n",
    "# mean_values = df['seats'].mean(), df['resale_price_Lakh'].mean()\n",
    "# print(\"Medium value(seats, resale price): \")\n",
    "# print(mean_values)"
   ]
  },
  {
   "cell_type": "code",
   "execution_count": null,
   "metadata": {},
   "outputs": [],
   "source": [
    "#MIN MAX___________________________________________________________________-"
   ]
  },
  {
   "cell_type": "code",
   "execution_count": 24,
   "metadata": {},
   "outputs": [
    {
     "name": "stdout",
     "output_type": "stream",
     "text": [
      "Min price:  0.28 seats:  5.0\n",
      "Max price:  225.0 seats:  5.0\n"
     ]
    }
   ],
   "source": [
    "#see for the minimum and maximum value of resale what is the seats\n",
    "# min \n",
    "min_resale_index = df['resale_price_Lakh'].idxmin()\n",
    "min= df.loc[min_resale_index, 'seats']\n",
    "min_resale_price = df['resale_price_Lakh'].min()\n",
    "\n",
    "# max\n",
    "max_resale_index = df['resale_price_Lakh'].idxmax()\n",
    "max = df.loc[max_resale_index, 'seats']\n",
    "max_resale_price = df['resale_price_Lakh'].max()\n",
    "\n",
    "\n",
    "print(\"Min price: \", min_resale_price, \"seats: \", min)\n",
    "print(\"Max price: \", max_resale_price, \"seats: \", max)"
   ]
  },
  {
   "cell_type": "code",
   "execution_count": 25,
   "metadata": {},
   "outputs": [
    {
     "name": "stdout",
     "output_type": "stream",
     "text": [
      "Min price:  0.28 fuel_type:  Petrol\n",
      "Max price:  225.0 fuel_type:  Diesel\n"
     ]
    }
   ],
   "source": [
    "#see for the minimum and maximum value of resale what is the fuel_type\n",
    "# min \n",
    "min_resale_index = df['resale_price_Lakh'].idxmin()\n",
    "min= df.loc[min_resale_index, 'fuel_type']\n",
    "min_resale_price = df['resale_price_Lakh'].min()\n",
    "\n",
    "# max\n",
    "max_resale_index = df['resale_price_Lakh'].idxmax()\n",
    "max = df.loc[max_resale_index, 'fuel_type']\n",
    "max_resale_price = df['resale_price_Lakh'].max()\n",
    "\n",
    "\n",
    "print(\"Min price: \", min_resale_price, \"fuel_type: \", min)\n",
    "print(\"Max price: \", max_resale_price, \"fuel_type: \", max)\n"
   ]
  },
  {
   "cell_type": "code",
   "execution_count": 26,
   "metadata": {},
   "outputs": [
    {
     "name": "stdout",
     "output_type": "stream",
     "text": [
      "Min price:  0.28 engine_capacity:  796.0\n",
      "Max price:  225.0 engine_capacity:  2925.0\n"
     ]
    }
   ],
   "source": [
    "#see for the minimum and maximum value of resale what is the number of engine_capacity\n",
    "# min \n",
    "min_resale_index = df['resale_price_Lakh'].idxmin()\n",
    "min_seats = df.loc[min_resale_index, 'engine_capacity']\n",
    "min_resale_price = df['resale_price_Lakh'].min()\n",
    "\n",
    "# max\n",
    "max_resale_index = df['resale_price_Lakh'].idxmax()\n",
    "max_seats = df.loc[max_resale_index, 'engine_capacity']\n",
    "max_resale_price = df['resale_price_Lakh'].max()\n",
    "\n",
    "\n",
    "print(\"Min price: \", min_resale_price, \"engine_capacity: \", min_seats)\n",
    "print(\"Max price: \", max_resale_price, \"engine_capacity: \", max_seats)\n"
   ]
  },
  {
   "cell_type": "code",
   "execution_count": 28,
   "metadata": {},
   "outputs": [
    {
     "name": "stdout",
     "output_type": "stream",
     "text": [
      "Menor quilometragem: 286.0 kms, Preço: 89.5 Lakh\n",
      "Maior quilometragem: 1200000.0 kms, Preço: 11.5 Lakh\n"
     ]
    }
   ],
   "source": [
    "# Encontrando o menor valor de kms_driven e seu preço correspondente\n",
    "min_kms_index = df['kms_driven'].idxmin()\n",
    "min_kms_value = df.loc[min_kms_index, 'kms_driven']\n",
    "min_kms_price = df.loc[min_kms_index, 'resale_price_Lakh']\n",
    "\n",
    "# Encontrando o maior valor de kms_driven e seu preço correspondente\n",
    "max_kms_index = df['kms_driven'].idxmax()\n",
    "max_kms_value = df.loc[max_kms_index, 'kms_driven']\n",
    "max_kms_price = df.loc[max_kms_index, 'resale_price_Lakh']\n",
    "\n",
    "print(f\"Menor quilometragem: {min_kms_value} kms, Preço: {min_kms_price} Lakh\")\n",
    "print(f\"Maior quilometragem: {max_kms_value} kms, Preço: {max_kms_price} Lakh\")"
   ]
  },
  {
   "cell_type": "code",
   "execution_count": 29,
   "metadata": {},
   "outputs": [
    {
     "name": "stdout",
     "output_type": "stream",
     "text": [
      "Min price:  0.28 kms_driven:  30000.0\n",
      "Max price:  225.0 kms_driven:  36000.0\n"
     ]
    }
   ],
   "source": [
    "#coluna rafa\n",
    "#see for the minimum and maximum value of resale what is the number of Kms_driven\n",
    "\n",
    "# min \n",
    "min_resale_index = df['resale_price_Lakh'].idxmin()\n",
    "min_kms = df.loc[min_resale_index, 'kms_driven']\n",
    "min_resale_price = df['resale_price_Lakh'].min()\n",
    "\n",
    "# max\n",
    "max_resale_index = df['resale_price_Lakh'].idxmax()\n",
    "max_kms = df.loc[max_resale_index, 'kms_driven']\n",
    "max_resale_price = df['resale_price_Lakh'].max()\n",
    "\n",
    "\n",
    "print(\"Min price: \", min_resale_price, \"kms_driven: \", min_kms)\n",
    "print(\"Max price: \", max_resale_price, \"kms_driven: \", max_kms)"
   ]
  },
  {
   "cell_type": "code",
   "execution_count": 30,
   "metadata": {},
   "outputs": [
    {
     "name": "stdout",
     "output_type": "stream",
     "text": [
      "Min price:  0.28 max_power:  47.3\n",
      "Max price:  225.0 max_power:  281.6\n"
     ]
    }
   ],
   "source": [
    "#coluna rafa\n",
    "#see for the minimum and maximum value of resale what is the number of max_power\n",
    "\n",
    "# min \n",
    "min_resale_index = df['resale_price_Lakh'].idxmin()\n",
    "min_kms = df.loc[min_resale_index, 'max_power']\n",
    "min_resale_price = df['resale_price_Lakh'].min()\n",
    "\n",
    "# max\n",
    "max_resale_index = df['resale_price_Lakh'].idxmax()\n",
    "max_kms = df.loc[max_resale_index, 'max_power']\n",
    "max_resale_price = df['resale_price_Lakh'].max()\n",
    "\n",
    "\n",
    "print(\"Min price: \", min_resale_price, \"max_power: \", min_kms)\n",
    "print(\"Max price: \", max_resale_price, \"max_power: \", max_kms)"
   ]
  },
  {
   "cell_type": "code",
   "execution_count": 31,
   "metadata": {},
   "outputs": [
    {
     "name": "stdout",
     "output_type": "stream",
     "text": [
      "Menor max_power: 25.4 bhp, Preço: 2.75 Lakh\n",
      "Maior max_power: 558.0 bhp, Preço: 59.5 Lakh\n"
     ]
    }
   ],
   "source": [
    "# Encontrando o menor valor de max_power e seu preço correspondente\n",
    "min_power_index = df['max_power'].idxmin()\n",
    "min_power_value = df.loc[min_power_index, 'max_power']\n",
    "min_power_price = df.loc[min_power_index, 'resale_price_Lakh']\n",
    "\n",
    "# Encontrando o maior valor de max_power e seu preço correspondente\n",
    "max_power_index = df['max_power'].idxmax()\n",
    "max_power_value = df.loc[max_power_index, 'max_power']\n",
    "max_power_price = df.loc[max_power_index, 'resale_price_Lakh']\n",
    "\n",
    "print(f\"Menor max_power: {min_power_value} bhp, Preço: {min_power_price} Lakh\")\n",
    "print(f\"Maior max_power: {max_power_value} bhp, Preço: {max_power_price} Lakh\")\n"
   ]
  },
  {
   "cell_type": "code",
   "execution_count": null,
   "metadata": {},
   "outputs": [],
   "source": [
    "#CREATE GROUPS_______________________________________________________________________-"
   ]
  },
  {
   "cell_type": "code",
   "execution_count": 32,
   "metadata": {},
   "outputs": [
    {
     "name": "stdout",
     "output_type": "stream",
     "text": [
      "                                               full_name registered_year  \\\n",
      "0                                2019 Tata Tiago XZ Plus        Nov 2019   \n",
      "1                              2018 Honda WR-V i-VTEC VX        Apr 2018   \n",
      "2                              2015 Honda City i VTEC SV        May 2015   \n",
      "3      2021 Tata New Safari XZA Plus Adventure Editio...            2021   \n",
      "4                        2019 Maruti Baleno 1.2 CVT Zeta        Jun 2019   \n",
      "...                                                  ...             ...   \n",
      "13951                          2021 Kia Carnival Premium            2021   \n",
      "13952               2017 Hyundai i20 1.2 Magna Executive        Dec 2017   \n",
      "13953             2017 Skoda Rapid 1.5 TDI Ambition BSIV        Jan 2018   \n",
      "13954                      2017 Maruti Vitara Brezza ZDi        Apr 2017   \n",
      "13955                         2015 Honda Amaze S i-Vtech        Mar 2015   \n",
      "\n",
      "       engine_capacity              insurance transmission_type  kms_driven  \\\n",
      "0               1199.0            Third Party            Manual     30910.0   \n",
      "1               1199.0               Zero Dep            Manual     48089.0   \n",
      "2               1497.0  Third Party insurance            Manual     51000.0   \n",
      "3               1956.0  Third Party insurance         Automatic     30000.0   \n",
      "4               1197.0               Zero Dep         Automatic     61113.0   \n",
      "...                ...                    ...               ...         ...   \n",
      "13951           2199.0  Third Party insurance         Automatic     80000.0   \n",
      "13952           1197.0  Third Party insurance            Manual     17923.0   \n",
      "13953           1498.0          Comprehensive            Manual     63389.0   \n",
      "13954           1248.0          Comprehensive            Manual     40000.0   \n",
      "13955           1198.0          Comprehensive            Manual     33046.0   \n",
      "\n",
      "       owner_type fuel_type  max_power  seats     mileage  body_type  \\\n",
      "0             1.0    Petrol       83.8    5.0  23.84 kmpl  Hatchback   \n",
      "1             3.0    Petrol       88.7    5.0   17.5 kmpl        SUV   \n",
      "2             2.0    Petrol      117.3    5.0   17.4 kmpl      Sedan   \n",
      "3             1.0    Diesel      167.6    7.0  14.08 kmpl        SUV   \n",
      "4             1.0    Petrol       83.1    5.0   21.4 kmpl  Hatchback   \n",
      "...           ...       ...        ...    ...         ...        ...   \n",
      "13951         2.0    Diesel      197.2    7.0  14.11 kmpl        MUV   \n",
      "13952         1.0    Petrol       81.8    5.0   18.6 kmpl  Hatchback   \n",
      "13953         2.0    Diesel      108.6    5.0  21.13 kmpl      Sedan   \n",
      "13954         2.0    Diesel       88.5    5.0   24.3 kmpl        SUV   \n",
      "13955         1.0    Petrol       86.7    5.0     18 kmpl      Sedan   \n",
      "\n",
      "            city  resale_price_Lakh max_power_group  \n",
      "0           Pune               5.66       0-100 bhp  \n",
      "1         Jaipur               6.64       0-100 bhp  \n",
      "2         Mumbai               5.65     100-200 bhp  \n",
      "3         Mumbai              23.00     100-200 bhp  \n",
      "4        Kolkata               6.87       0-100 bhp  \n",
      "...          ...                ...             ...  \n",
      "13951  Hyderabad              26.50     100-200 bhp  \n",
      "13952    Gurgaon               5.87       0-100 bhp  \n",
      "13953  Hyderabad               7.43     100-200 bhp  \n",
      "13954  Bangalore               9.45       0-100 bhp  \n",
      "13955  Bangalore               4.55       0-100 bhp  \n",
      "\n",
      "[13920 rows x 15 columns]\n"
     ]
    }
   ],
   "source": [
    "# create groups: max_power\n",
    "\n",
    "# define os limites dos grupos\n",
    "limites = [0, 100, 200, 300, 400, 500, 600]  \n",
    "rotulos = ['0-100 bhp', '100-200 bhp', '200-300 bhp', '300-400 bhp', '400-500 bhp', '500-600 bhp']\n",
    "\n",
    "# nova coluna 'max_power_group'\n",
    "df['max_power_group'] = pd.cut(df['max_power'], bins=limites, labels=rotulos, right=False)\n",
    "\n",
    "print(df)\n"
   ]
  },
  {
   "cell_type": "code",
   "execution_count": 77,
   "metadata": {},
   "outputs": [
    {
     "name": "stdout",
     "output_type": "stream",
     "text": [
      "                                               full_name registered_year  \\\n",
      "0                                2019 Tata Tiago XZ Plus        Nov 2019   \n",
      "1                              2018 Honda WR-V i-VTEC VX        Apr 2018   \n",
      "2                              2015 Honda City i VTEC SV        May 2015   \n",
      "3      2021 Tata New Safari XZA Plus Adventure Editio...            2021   \n",
      "4                        2019 Maruti Baleno 1.2 CVT Zeta        Jun 2019   \n",
      "...                                                  ...             ...   \n",
      "13951                          2021 Kia Carnival Premium            2021   \n",
      "13952               2017 Hyundai i20 1.2 Magna Executive        Dec 2017   \n",
      "13953             2017 Skoda Rapid 1.5 TDI Ambition BSIV        Jan 2018   \n",
      "13954                      2017 Maruti Vitara Brezza ZDi        Apr 2017   \n",
      "13955                         2015 Honda Amaze S i-Vtech        Mar 2015   \n",
      "\n",
      "       engine_capacity              insurance transmission_type  kms_driven  \\\n",
      "0               1199.0            Third Party            Manual     30910.0   \n",
      "1               1199.0               Zero Dep            Manual     48089.0   \n",
      "2               1497.0  Third Party insurance            Manual     51000.0   \n",
      "3               1956.0  Third Party insurance         Automatic     30000.0   \n",
      "4               1197.0               Zero Dep         Automatic     61113.0   \n",
      "...                ...                    ...               ...         ...   \n",
      "13951           2199.0  Third Party insurance         Automatic     80000.0   \n",
      "13952           1197.0  Third Party insurance            Manual     17923.0   \n",
      "13953           1498.0          Comprehensive            Manual     63389.0   \n",
      "13954           1248.0          Comprehensive            Manual     40000.0   \n",
      "13955           1198.0          Comprehensive            Manual     33046.0   \n",
      "\n",
      "       owner_type fuel_type  max_power  seats     mileage  body_type  \\\n",
      "0             1.0    Petrol       83.8    5.0  23.84 kmpl  Hatchback   \n",
      "1             3.0    Petrol       88.7    5.0   17.5 kmpl        SUV   \n",
      "2             2.0    Petrol      117.3    5.0   17.4 kmpl      Sedan   \n",
      "3             1.0    Diesel      167.6    7.0  14.08 kmpl        SUV   \n",
      "4             1.0    Petrol       83.1    5.0   21.4 kmpl  Hatchback   \n",
      "...           ...       ...        ...    ...         ...        ...   \n",
      "13951         2.0    Diesel      197.2    7.0  14.11 kmpl        MUV   \n",
      "13952         1.0    Petrol       81.8    5.0   18.6 kmpl  Hatchback   \n",
      "13953         2.0    Diesel      108.6    5.0  21.13 kmpl      Sedan   \n",
      "13954         2.0    Diesel       88.5    5.0   24.3 kmpl        SUV   \n",
      "13955         1.0    Petrol       86.7    5.0     18 kmpl      Sedan   \n",
      "\n",
      "            city  resale_price_Lakh max_power_group               kms_group  \\\n",
      "0           Pune               5.66       0-100 bhp           Até 50.000 km   \n",
      "1         Jaipur               6.64       0-100 bhp           Até 50.000 km   \n",
      "2         Mumbai               5.65     100-200 bhp  50.000 km a 150.000 km   \n",
      "3         Mumbai              23.00     100-200 bhp           Até 50.000 km   \n",
      "4        Kolkata               6.87       0-100 bhp  50.000 km a 150.000 km   \n",
      "...          ...                ...             ...                     ...   \n",
      "13951  Hyderabad              26.50     100-200 bhp  50.000 km a 150.000 km   \n",
      "13952    Gurgaon               5.87       0-100 bhp           Até 50.000 km   \n",
      "13953  Hyderabad               7.43     100-200 bhp  50.000 km a 150.000 km   \n",
      "13954  Bangalore               9.45       0-100 bhp           Até 50.000 km   \n",
      "13955  Bangalore               4.55       0-100 bhp           Até 50.000 km   \n",
      "\n",
      "      engine_capacity_group  kms_group_numeric  \n",
      "0               até 2000 cc                  1  \n",
      "1               até 2000 cc                  1  \n",
      "2               até 2000 cc                  2  \n",
      "3               até 2000 cc                  1  \n",
      "4               até 2000 cc                  2  \n",
      "...                     ...                ...  \n",
      "13951           até 3000 cc                  2  \n",
      "13952           até 2000 cc                  1  \n",
      "13953           até 2000 cc                  2  \n",
      "13954           até 2000 cc                  1  \n",
      "13955           até 2000 cc                  1  \n",
      "\n",
      "[13917 rows x 18 columns]\n"
     ]
    }
   ],
   "source": [
    "# define os limites dos grupos\n",
    "limites = [0, 50000, 150000, 300000, 600000, 900000, float('inf')]  \n",
    "rotulos = ['Até 50.000 km', '50.000 km a 150.000 km', '150.000 km a 300.000 km', '300.000 km a 600.000 km', '600.000 km a 900.000 km', 'Acima de 900.000 km']\n",
    "\n",
    "# cria a nova coluna\n",
    "df['kms_group'] = pd.cut(df['kms_driven'], bins=limites, labels=rotulos, right=False)\n",
    "\n",
    "# Incluir a linha com 'kms_driven' igual a 1200000 na última categoria\n",
    "df.loc[df['kms_driven'] == 1200000, 'kms_group'] = 'Acima de 900.000 km'\n",
    "\n",
    "print(df)\n",
    "\n"
   ]
  },
  {
   "cell_type": "code",
   "execution_count": 34,
   "metadata": {},
   "outputs": [
    {
     "name": "stdout",
     "output_type": "stream",
     "text": [
      "                                               full_name registered_year  \\\n",
      "0                                2019 Tata Tiago XZ Plus        Nov 2019   \n",
      "1                              2018 Honda WR-V i-VTEC VX        Apr 2018   \n",
      "2                              2015 Honda City i VTEC SV        May 2015   \n",
      "3      2021 Tata New Safari XZA Plus Adventure Editio...            2021   \n",
      "4                        2019 Maruti Baleno 1.2 CVT Zeta        Jun 2019   \n",
      "...                                                  ...             ...   \n",
      "13951                          2021 Kia Carnival Premium            2021   \n",
      "13952               2017 Hyundai i20 1.2 Magna Executive        Dec 2017   \n",
      "13953             2017 Skoda Rapid 1.5 TDI Ambition BSIV        Jan 2018   \n",
      "13954                      2017 Maruti Vitara Brezza ZDi        Apr 2017   \n",
      "13955                         2015 Honda Amaze S i-Vtech        Mar 2015   \n",
      "\n",
      "       engine_capacity              insurance transmission_type  kms_driven  \\\n",
      "0               1199.0            Third Party            Manual     30910.0   \n",
      "1               1199.0               Zero Dep            Manual     48089.0   \n",
      "2               1497.0  Third Party insurance            Manual     51000.0   \n",
      "3               1956.0  Third Party insurance         Automatic     30000.0   \n",
      "4               1197.0               Zero Dep         Automatic     61113.0   \n",
      "...                ...                    ...               ...         ...   \n",
      "13951           2199.0  Third Party insurance         Automatic     80000.0   \n",
      "13952           1197.0  Third Party insurance            Manual     17923.0   \n",
      "13953           1498.0          Comprehensive            Manual     63389.0   \n",
      "13954           1248.0          Comprehensive            Manual     40000.0   \n",
      "13955           1198.0          Comprehensive            Manual     33046.0   \n",
      "\n",
      "       owner_type fuel_type  max_power  seats     mileage  body_type  \\\n",
      "0             1.0    Petrol       83.8    5.0  23.84 kmpl  Hatchback   \n",
      "1             3.0    Petrol       88.7    5.0   17.5 kmpl        SUV   \n",
      "2             2.0    Petrol      117.3    5.0   17.4 kmpl      Sedan   \n",
      "3             1.0    Diesel      167.6    7.0  14.08 kmpl        SUV   \n",
      "4             1.0    Petrol       83.1    5.0   21.4 kmpl  Hatchback   \n",
      "...           ...       ...        ...    ...         ...        ...   \n",
      "13951         2.0    Diesel      197.2    7.0  14.11 kmpl        MUV   \n",
      "13952         1.0    Petrol       81.8    5.0   18.6 kmpl  Hatchback   \n",
      "13953         2.0    Diesel      108.6    5.0  21.13 kmpl      Sedan   \n",
      "13954         2.0    Diesel       88.5    5.0   24.3 kmpl        SUV   \n",
      "13955         1.0    Petrol       86.7    5.0     18 kmpl      Sedan   \n",
      "\n",
      "            city  resale_price_Lakh max_power_group               kms_group  \\\n",
      "0           Pune               5.66       0-100 bhp           Até 50.000 km   \n",
      "1         Jaipur               6.64       0-100 bhp           Até 50.000 km   \n",
      "2         Mumbai               5.65     100-200 bhp  50.000 km a 150.000 km   \n",
      "3         Mumbai              23.00     100-200 bhp           Até 50.000 km   \n",
      "4        Kolkata               6.87       0-100 bhp  50.000 km a 150.000 km   \n",
      "...          ...                ...             ...                     ...   \n",
      "13951  Hyderabad              26.50     100-200 bhp  50.000 km a 150.000 km   \n",
      "13952    Gurgaon               5.87       0-100 bhp           Até 50.000 km   \n",
      "13953  Hyderabad               7.43     100-200 bhp  50.000 km a 150.000 km   \n",
      "13954  Bangalore               9.45       0-100 bhp           Até 50.000 km   \n",
      "13955  Bangalore               4.55       0-100 bhp           Até 50.000 km   \n",
      "\n",
      "      engine_capacity_group  \n",
      "0               até 2000 cc  \n",
      "1               até 2000 cc  \n",
      "2               até 2000 cc  \n",
      "3               até 2000 cc  \n",
      "4               até 2000 cc  \n",
      "...                     ...  \n",
      "13951           até 3000 cc  \n",
      "13952           até 2000 cc  \n",
      "13953           até 2000 cc  \n",
      "13954           até 2000 cc  \n",
      "13955           até 2000 cc  \n",
      "\n",
      "[13920 rows x 17 columns]\n"
     ]
    }
   ],
   "source": [
    "# create groups: engine_capacity\n",
    "\n",
    "# defines the groups limit\n",
    "limites = [0,1, 1000, 2000, 3000, 4000, float('inf')]  \n",
    "rotulos = ['Elétrico', 'até 1000 cc', 'até 2000 cc', 'até 3000 cc', 'até 4000 cc', 'mais de 4000 cc']\n",
    "\n",
    "# new column'engine_capacity_group' \n",
    "df['engine_capacity_group'] = pd.cut(df['engine_capacity'], bins=limites, labels=rotulos, right=False)\n",
    "\n",
    "print(df)\n"
   ]
  },
  {
   "cell_type": "code",
   "execution_count": 35,
   "metadata": {},
   "outputs": [],
   "source": [
    "#AVG PRICE _________________________________________________"
   ]
  },
  {
   "cell_type": "code",
   "execution_count": 36,
   "metadata": {},
   "outputs": [
    {
     "name": "stdout",
     "output_type": "stream",
     "text": [
      "max_power_group\n",
      "0-100 bhp       4.714217\n",
      "100-200 bhp    12.598798\n",
      "200-300 bhp    39.233569\n",
      "300-400 bhp    68.414333\n",
      "400-500 bhp    79.703000\n",
      "500-600 bhp    40.625000\n",
      "Name: resale_price_Lakh, dtype: float64\n"
     ]
    },
    {
     "name": "stderr",
     "output_type": "stream",
     "text": [
      "C:\\Users\\seari\\AppData\\Local\\Temp\\ipykernel_28224\\4119760779.py:2: FutureWarning: The default of observed=False is deprecated and will be changed to True in a future version of pandas. Pass observed=False to retain current behavior or observed=True to adopt the future default and silence this warning.\n",
      "  media_por_grupo = df.groupby('max_power_group')['resale_price_Lakh'].mean()\n"
     ]
    }
   ],
   "source": [
    "# Calcula a média do preço para cada rótulo da coluna 'kms_group'\n",
    "media_por_grupo = df.groupby('max_power_group')['resale_price_Lakh'].mean()\n",
    "\n",
    "print(media_por_grupo)"
   ]
  },
  {
   "cell_type": "code",
   "execution_count": 37,
   "metadata": {},
   "outputs": [
    {
     "name": "stdout",
     "output_type": "stream",
     "text": [
      "kms_group\n",
      "Até 50.000 km              11.286718\n",
      "50.000 km a 150.000 km      6.969167\n",
      "150.000 km a 300.000 km     5.171454\n",
      "300.000 km a 600.000 km     5.800000\n",
      "600.000 km a 900.000 km     7.650000\n",
      "Acima de 900.000 km         9.750000\n",
      "Name: resale_price_Lakh, dtype: float64\n"
     ]
    },
    {
     "name": "stderr",
     "output_type": "stream",
     "text": [
      "C:\\Users\\seari\\AppData\\Local\\Temp\\ipykernel_28224\\1767189650.py:2: FutureWarning: The default of observed=False is deprecated and will be changed to True in a future version of pandas. Pass observed=False to retain current behavior or observed=True to adopt the future default and silence this warning.\n",
      "  media_por_grupo = df.groupby('kms_group')['resale_price_Lakh'].mean()\n"
     ]
    }
   ],
   "source": [
    "# Calcula a média do preço para cada rótulo da coluna 'kms_group'\n",
    "media_por_grupo = df.groupby('kms_group')['resale_price_Lakh'].mean()\n",
    "\n",
    "print(media_por_grupo)"
   ]
  },
  {
   "cell_type": "code",
   "execution_count": 38,
   "metadata": {},
   "outputs": [
    {
     "name": "stdout",
     "output_type": "stream",
     "text": [
      "seats\n",
      "2.0     11.250000\n",
      "4.0     16.669612\n",
      "5.0      8.076871\n",
      "6.0     13.244026\n",
      "7.0     14.632633\n",
      "8.0      8.877851\n",
      "9.0      5.267059\n",
      "10.0     2.887500\n",
      "Name: resale_price_Lakh, dtype: float64\n"
     ]
    }
   ],
   "source": [
    "#on average what is the price based on seats\n",
    "average_price_by_seat= df.groupby('seats')['resale_price_Lakh'].mean()\n",
    "print(average_price_by_seat)"
   ]
  },
  {
   "cell_type": "code",
   "execution_count": 39,
   "metadata": {},
   "outputs": [
    {
     "name": "stdout",
     "output_type": "stream",
     "text": [
      "engine_capacity_group\n",
      "Elétrico           28.326667\n",
      "até 1000 cc         4.332731\n",
      "até 2000 cc         8.164008\n",
      "até 3000 cc        20.178232\n",
      "até 4000 cc        29.984848\n",
      "mais de 4000 cc    43.310000\n",
      "Name: resale_price_Lakh, dtype: float64\n"
     ]
    },
    {
     "name": "stderr",
     "output_type": "stream",
     "text": [
      "C:\\Users\\seari\\AppData\\Local\\Temp\\ipykernel_28224\\1365649427.py:2: FutureWarning: The default of observed=False is deprecated and will be changed to True in a future version of pandas. Pass observed=False to retain current behavior or observed=True to adopt the future default and silence this warning.\n",
      "  average_price_by_eng= df.groupby('engine_capacity_group')['resale_price_Lakh'].mean()\n"
     ]
    }
   ],
   "source": [
    "#on average what is the price based on eng\n",
    "average_price_by_eng= df.groupby('engine_capacity_group')['resale_price_Lakh'].mean()\n",
    "print(average_price_by_eng)"
   ]
  },
  {
   "cell_type": "code",
   "execution_count": 40,
   "metadata": {},
   "outputs": [
    {
     "name": "stdout",
     "output_type": "stream",
     "text": [
      "fuel_type\n",
      "CNG          4.843797\n",
      "Diesel      12.940781\n",
      "Electric    24.659362\n",
      "LPG          1.803362\n",
      "Petrol       6.911676\n",
      "Name: resale_price_Lakh, dtype: float64\n"
     ]
    }
   ],
   "source": [
    "#on average what is the price based on fuel_type\n",
    "average_price_by_fuel = df.groupby('fuel_type')['resale_price_Lakh'].mean()\n",
    "print(average_price_by_fuel)"
   ]
  },
  {
   "cell_type": "code",
   "execution_count": 41,
   "metadata": {},
   "outputs": [
    {
     "name": "stdout",
     "output_type": "stream",
     "text": [
      "kms_group\n",
      "Até 50.000 km              11.286718\n",
      "50.000 km a 150.000 km      6.969167\n",
      "150.000 km a 300.000 km     5.171454\n",
      "300.000 km a 600.000 km     5.800000\n",
      "600.000 km a 900.000 km     7.650000\n",
      "Acima de 900.000 km         9.750000\n",
      "Name: resale_price_Lakh, dtype: float64\n"
     ]
    },
    {
     "name": "stderr",
     "output_type": "stream",
     "text": [
      "C:\\Users\\seari\\AppData\\Local\\Temp\\ipykernel_28224\\4200223448.py:2: FutureWarning: The default of observed=False is deprecated and will be changed to True in a future version of pandas. Pass observed=False to retain current behavior or observed=True to adopt the future default and silence this warning.\n",
      "  average_price_by_seats = df.groupby('kms_group')['resale_price_Lakh'].mean()\n"
     ]
    }
   ],
   "source": [
    "#on average what is the price based on kms_driven\n",
    "average_price_by_seats = df.groupby('kms_group')['resale_price_Lakh'].mean()\n",
    "print(average_price_by_seats)"
   ]
  },
  {
   "cell_type": "code",
   "execution_count": null,
   "metadata": {},
   "outputs": [],
   "source": [
    "#FREQUENCY___________________________________________________"
   ]
  },
  {
   "cell_type": "code",
   "execution_count": 42,
   "metadata": {},
   "outputs": [
    {
     "name": "stdout",
     "output_type": "stream",
     "text": [
      "fuel_type\n",
      "Petrol      9053\n",
      "Diesel      4395\n",
      "CNG          403\n",
      "Electric      47\n",
      "LPG           22\n",
      "Name: count, dtype: Int64\n"
     ]
    }
   ],
   "source": [
    "# frequency \n",
    "frequencia_fueld = df['fuel_type'].value_counts()\n",
    "print(frequencia_fueld)\n"
   ]
  },
  {
   "cell_type": "code",
   "execution_count": 43,
   "metadata": {},
   "outputs": [
    {
     "name": "stdout",
     "output_type": "stream",
     "text": [
      "engine_capacity_group\n",
      "até 2000 cc        10288\n",
      "até 1000 cc         2252\n",
      "até 3000 cc         1278\n",
      "Elétrico              39\n",
      "até 4000 cc           33\n",
      "mais de 4000 cc       21\n",
      "Name: count, dtype: int64\n",
      "kms_group\n",
      "50.000 km a 150.000 km     7743\n",
      "Até 50.000 km              5999\n",
      "150.000 km a 300.000 km     169\n",
      "300.000 km a 600.000 km       2\n",
      "600.000 km a 900.000 km       2\n",
      "Acima de 900.000 km           1\n",
      "Name: count, dtype: int64\n"
     ]
    }
   ],
   "source": [
    "# frequency of each group \n",
    "frequencia_grupos = df['engine_capacity_group'].value_counts()\n",
    "print(frequencia_grupos)\n",
    "frequencia_grupos = df['kms_group'].value_counts()\n",
    "print(frequencia_grupos)"
   ]
  },
  {
   "cell_type": "code",
   "execution_count": 44,
   "metadata": {},
   "outputs": [
    {
     "name": "stdout",
     "output_type": "stream",
     "text": [
      "full_name            2016 Hyundai Grand i10 Sportz\n",
      "registered_year                               2017\n",
      "engine_capacity                             1197.0\n",
      "insurance                    Third Party insurance\n",
      "transmission_type                           Manual\n",
      "kms_driven                                120000.0\n",
      "owner_type                                     1.0\n",
      "fuel_type                                   Petrol\n",
      "max_power                                     81.8\n",
      "seats                                          5.0\n",
      "mileage                                  18.9 kmpl\n",
      "body_type                                Hatchback\n",
      "city                                         Delhi\n",
      "resale_price_Lakh                              4.5\n",
      "Name: 0, dtype: object\n"
     ]
    }
   ],
   "source": [
    "mode_values = df[[\"full_name\", \"registered_year\", \"engine_capacity\", \"insurance\", \"transmission_type\", \"kms_driven\", \"owner_type\", \"fuel_type\", \"max_power\", \"seats\", \"mileage\", \"body_type\", \"city\", \"resale_price_Lakh\"]].mode().iloc[0]\n",
    "print(mode_values)\n"
   ]
  },
  {
   "cell_type": "code",
   "execution_count": null,
   "metadata": {},
   "outputs": [],
   "source": [
    "# CORRELATION W PRICE _______________________________________________________________"
   ]
  },
  {
   "cell_type": "code",
   "execution_count": 45,
   "metadata": {},
   "outputs": [
    {
     "name": "stdout",
     "output_type": "stream",
     "text": [
      "                      seats  resale_price_Lakh\n",
      "seats              1.000000           0.128102\n",
      "resale_price_Lakh  0.128102           1.000000\n"
     ]
    }
   ],
   "source": [
    "# calculate correlation only between VAR and 'resale_price_Lakh' columns\n",
    "correlation = df[['seats', 'resale_price_Lakh']].corr()\n",
    "print(correlation)\n"
   ]
  },
  {
   "cell_type": "code",
   "execution_count": 79,
   "metadata": {},
   "outputs": [
    {
     "data": {
      "image/png": "[encoded data removed]",
      "text/plain": [
       "<Figure size 640x480 with 2 Axes>"
      ]
     },
     "metadata": {},
     "output_type": "display_data"
    }
   ],
   "source": [
    "sns.heatmap(correlation, annot=True, cmap='coolwarm')\n",
    "plt.title(\"Correlation Heatmap\")\n",
    "plt.show()"
   ]
  },
  {
   "cell_type": "code",
   "execution_count": 142,
   "metadata": {},
   "outputs": [
    {
     "data": {
      "image/png": "[encoded data removed]",
      "text/plain": [
       "<Figure size 300x500 with 2 Axes>"
      ]
     },
     "metadata": {},
     "output_type": "display_data"
    }
   ],
   "source": [
    "#correlation  with price - kms_driven\n",
    "\n",
    "# Select columns\n",
    "columns_of_interest = ['max_power', 'resale_price_Lakh']\n",
    "subset_df = df[columns_of_interest]\n",
    "\n",
    "plt.figure(figsize=(3, 5))\n",
    "\n",
    "# Creat heatmap\n",
    "heatmap = sns.heatmap(subset_df.corr()[['resale_price_Lakh']].sort_values(by='resale_price_Lakh', ascending=False), vmin=-1, vmax=1, annot=True, cmap='BrBG')\n",
    "heatmap.set_title('Features Correlating with resale_price_Lakh', fontdict={'fontsize': 12}, pad=16)\n",
    "\n",
    "plt.show()"
   ]
  },
  {
   "cell_type": "code",
   "execution_count": 96,
   "metadata": {},
   "outputs": [
    {
     "data": {
      "image/png": "[encoded data removed]",
      "text/plain": [
       "<Figure size 300x500 with 2 Axes>"
      ]
     },
     "metadata": {},
     "output_type": "display_data"
    }
   ],
   "source": [
    "#correlation  with price - kms_driven\n",
    "\n",
    "# Select columns\n",
    "columns_of_interest = ['kms_driven', 'resale_price_Lakh']\n",
    "subset_df = df[columns_of_interest]\n",
    "\n",
    "plt.figure(figsize=(3, 5))\n",
    "\n",
    "# Creat heatmap\n",
    "heatmap = sns.heatmap(subset_df.corr()[['resale_price_Lakh']].sort_values(by='resale_price_Lakh', ascending=False), vmin=-1, vmax=1, annot=True, cmap='BrBG')\n",
    "heatmap.set_title('Features Correlating with resale_price_Lakh', fontdict={'fontsize': 12}, pad=16)\n",
    "\n",
    "plt.show()"
   ]
  },
  {
   "cell_type": "code",
   "execution_count": 93,
   "metadata": {},
   "outputs": [
    {
     "data": {
      "image/png": "[encoded data removed]",
      "text/plain": [
       "<Figure size 300x500 with 2 Axes>"
      ]
     },
     "metadata": {},
     "output_type": "display_data"
    }
   ],
   "source": [
    "#correlation  with price - owner_type\n",
    "\n",
    "# Select columns\n",
    "columns_of_interest = ['owner_type', 'resale_price_Lakh']\n",
    "subset_df = df[columns_of_interest]\n",
    "\n",
    "plt.figure(figsize=(3, 5))\n",
    "\n",
    "# Creat heatmap\n",
    "heatmap = sns.heatmap(subset_df.corr()[['resale_price_Lakh']].sort_values(by='resale_price_Lakh', ascending=False), vmin=-1, vmax=1, annot=True, cmap='BrBG')\n",
    "heatmap.set_title('Features Correlating with resale_price_Lakh', fontdict={'fontsize': 12}, pad=16)\n",
    "\n",
    "plt.show()"
   ]
  },
  {
   "cell_type": "code",
   "execution_count": 80,
   "metadata": {},
   "outputs": [
    {
     "data": {
      "image/png": "[encoded data removed]",
      "text/plain": [
       "<Figure size 800x1200 with 2 Axes>"
      ]
     },
     "metadata": {},
     "output_type": "display_data"
    }
   ],
   "source": [
    "#correlation  with price\n",
    "\n",
    "# Select columns\n",
    "columns_of_interest = ['seats', 'resale_price_Lakh']\n",
    "subset_df = df[columns_of_interest]\n",
    "\n",
    "plt.figure(figsize=(8, 12))\n",
    "\n",
    "# Creat heatmap\n",
    "heatmap = sns.heatmap(subset_df.corr()[['resale_price_Lakh']].sort_values(by='resale_price_Lakh', ascending=False), vmin=-1, vmax=1, annot=True, cmap='BrBG')\n",
    "heatmap.set_title('Features Correlating with resale_price_Lakh', fontdict={'fontsize': 18}, pad=16)\n",
    "\n",
    "plt.show()"
   ]
  },
  {
   "cell_type": "code",
   "execution_count": 46,
   "metadata": {},
   "outputs": [
    {
     "ename": "KeyError",
     "evalue": "\"['id_fuel_type'] not in index\"",
     "output_type": "error",
     "traceback": [
      "\u001b[1;31m---------------------------------------------------------------------------\u001b[0m",
      "\u001b[1;31mKeyError\u001b[0m                                  Traceback (most recent call last)",
      "\u001b[1;32mc:\\Users\\seari\\OneDrive\\Documentos\\GitHub\\AASE\\dataQuality2.ipynb Cell 56\u001b[0m line \u001b[0;36m5\n\u001b[0;32m      <a href='vscode-notebook-cell:/c%3A/Users/seari/OneDrive/Documentos/GitHub/AASE/dataQuality2.ipynb#Y106sZmlsZQ%3D%3D?line=0'>1</a>\u001b[0m \u001b[39m#correlation of all features with price\u001b[39;00m\n\u001b[0;32m      <a href='vscode-notebook-cell:/c%3A/Users/seari/OneDrive/Documentos/GitHub/AASE/dataQuality2.ipynb#Y106sZmlsZQ%3D%3D?line=1'>2</a>\u001b[0m \n\u001b[0;32m      <a href='vscode-notebook-cell:/c%3A/Users/seari/OneDrive/Documentos/GitHub/AASE/dataQuality2.ipynb#Y106sZmlsZQ%3D%3D?line=2'>3</a>\u001b[0m \u001b[39m# Select columns\u001b[39;00m\n\u001b[0;32m      <a href='vscode-notebook-cell:/c%3A/Users/seari/OneDrive/Documentos/GitHub/AASE/dataQuality2.ipynb#Y106sZmlsZQ%3D%3D?line=3'>4</a>\u001b[0m columns_of_interest \u001b[39m=\u001b[39m [\u001b[39m'\u001b[39m\u001b[39mid_fuel_type\u001b[39m\u001b[39m'\u001b[39m,\u001b[39m'\u001b[39m\u001b[39mengine_capacity\u001b[39m\u001b[39m'\u001b[39m, \u001b[39m'\u001b[39m\u001b[39mkms_driven\u001b[39m\u001b[39m'\u001b[39m, \u001b[39m'\u001b[39m\u001b[39mresale_price_Lakh\u001b[39m\u001b[39m'\u001b[39m]\n\u001b[1;32m----> <a href='vscode-notebook-cell:/c%3A/Users/seari/OneDrive/Documentos/GitHub/AASE/dataQuality2.ipynb#Y106sZmlsZQ%3D%3D?line=4'>5</a>\u001b[0m subset_df \u001b[39m=\u001b[39m df[columns_of_interest]\n\u001b[0;32m      <a href='vscode-notebook-cell:/c%3A/Users/seari/OneDrive/Documentos/GitHub/AASE/dataQuality2.ipynb#Y106sZmlsZQ%3D%3D?line=6'>7</a>\u001b[0m plt\u001b[39m.\u001b[39mfigure(figsize\u001b[39m=\u001b[39m(\u001b[39m8\u001b[39m, \u001b[39m12\u001b[39m))\n\u001b[0;32m      <a href='vscode-notebook-cell:/c%3A/Users/seari/OneDrive/Documentos/GitHub/AASE/dataQuality2.ipynb#Y106sZmlsZQ%3D%3D?line=8'>9</a>\u001b[0m \u001b[39m# Creat heatmap\u001b[39;00m\n",
      "File \u001b[1;32m~\\AppData\\Local\\Packages\\PythonSoftwareFoundation.Python.3.12_qbz5n2kfra8p0\\LocalCache\\local-packages\\Python312\\site-packages\\pandas\\core\\frame.py:3899\u001b[0m, in \u001b[0;36mDataFrame.__getitem__\u001b[1;34m(self, key)\u001b[0m\n\u001b[0;32m   3897\u001b[0m     \u001b[39mif\u001b[39;00m is_iterator(key):\n\u001b[0;32m   3898\u001b[0m         key \u001b[39m=\u001b[39m \u001b[39mlist\u001b[39m(key)\n\u001b[1;32m-> 3899\u001b[0m     indexer \u001b[39m=\u001b[39m \u001b[39mself\u001b[39;49m\u001b[39m.\u001b[39;49mcolumns\u001b[39m.\u001b[39;49m_get_indexer_strict(key, \u001b[39m\"\u001b[39;49m\u001b[39mcolumns\u001b[39;49m\u001b[39m\"\u001b[39;49m)[\u001b[39m1\u001b[39m]\n\u001b[0;32m   3901\u001b[0m \u001b[39m# take() does not accept boolean indexers\u001b[39;00m\n\u001b[0;32m   3902\u001b[0m \u001b[39mif\u001b[39;00m \u001b[39mgetattr\u001b[39m(indexer, \u001b[39m\"\u001b[39m\u001b[39mdtype\u001b[39m\u001b[39m\"\u001b[39m, \u001b[39mNone\u001b[39;00m) \u001b[39m==\u001b[39m \u001b[39mbool\u001b[39m:\n",
      "File \u001b[1;32m~\\AppData\\Local\\Packages\\PythonSoftwareFoundation.Python.3.12_qbz5n2kfra8p0\\LocalCache\\local-packages\\Python312\\site-packages\\pandas\\core\\indexes\\base.py:6114\u001b[0m, in \u001b[0;36mIndex._get_indexer_strict\u001b[1;34m(self, key, axis_name)\u001b[0m\n\u001b[0;32m   6111\u001b[0m \u001b[39melse\u001b[39;00m:\n\u001b[0;32m   6112\u001b[0m     keyarr, indexer, new_indexer \u001b[39m=\u001b[39m \u001b[39mself\u001b[39m\u001b[39m.\u001b[39m_reindex_non_unique(keyarr)\n\u001b[1;32m-> 6114\u001b[0m \u001b[39mself\u001b[39;49m\u001b[39m.\u001b[39;49m_raise_if_missing(keyarr, indexer, axis_name)\n\u001b[0;32m   6116\u001b[0m keyarr \u001b[39m=\u001b[39m \u001b[39mself\u001b[39m\u001b[39m.\u001b[39mtake(indexer)\n\u001b[0;32m   6117\u001b[0m \u001b[39mif\u001b[39;00m \u001b[39misinstance\u001b[39m(key, Index):\n\u001b[0;32m   6118\u001b[0m     \u001b[39m# GH 42790 - Preserve name from an Index\u001b[39;00m\n",
      "File \u001b[1;32m~\\AppData\\Local\\Packages\\PythonSoftwareFoundation.Python.3.12_qbz5n2kfra8p0\\LocalCache\\local-packages\\Python312\\site-packages\\pandas\\core\\indexes\\base.py:6178\u001b[0m, in \u001b[0;36mIndex._raise_if_missing\u001b[1;34m(self, key, indexer, axis_name)\u001b[0m\n\u001b[0;32m   6175\u001b[0m     \u001b[39mraise\u001b[39;00m \u001b[39mKeyError\u001b[39;00m(\u001b[39mf\u001b[39m\u001b[39m\"\u001b[39m\u001b[39mNone of [\u001b[39m\u001b[39m{\u001b[39;00mkey\u001b[39m}\u001b[39;00m\u001b[39m] are in the [\u001b[39m\u001b[39m{\u001b[39;00maxis_name\u001b[39m}\u001b[39;00m\u001b[39m]\u001b[39m\u001b[39m\"\u001b[39m)\n\u001b[0;32m   6177\u001b[0m not_found \u001b[39m=\u001b[39m \u001b[39mlist\u001b[39m(ensure_index(key)[missing_mask\u001b[39m.\u001b[39mnonzero()[\u001b[39m0\u001b[39m]]\u001b[39m.\u001b[39munique())\n\u001b[1;32m-> 6178\u001b[0m \u001b[39mraise\u001b[39;00m \u001b[39mKeyError\u001b[39;00m(\u001b[39mf\u001b[39m\u001b[39m\"\u001b[39m\u001b[39m{\u001b[39;00mnot_found\u001b[39m}\u001b[39;00m\u001b[39m not in index\u001b[39m\u001b[39m\"\u001b[39m)\n",
      "\u001b[1;31mKeyError\u001b[0m: \"['id_fuel_type'] not in index\""
     ]
    }
   ],
   "source": [
    "#correlation of all features with price\n",
    "\n",
    "# Select columns\n",
    "columns_of_interest = ['id_fuel_type','engine_capacity', 'kms_driven', 'resale_price_Lakh']\n",
    "subset_df = df[columns_of_interest]\n",
    "\n",
    "plt.figure(figsize=(8, 12))\n",
    "\n",
    "# Creat heatmap\n",
    "heatmap = sns.heatmap(subset_df.corr()[['resale_price_Lakh']].sort_values(by='resale_price_Lakh', ascending=False), vmin=-1, vmax=1, annot=True, cmap='BrBG')\n",
    "heatmap.set_title('Features Correlating with resale_price_Lakh', fontdict={'fontsize': 18}, pad=16)\n",
    "\n",
    "plt.show()\n"
   ]
  },
  {
   "cell_type": "code",
   "execution_count": 47,
   "metadata": {},
   "outputs": [
    {
     "data": {
      "image/png": "[encoded data removed]",
      "text/plain": [
       "<Figure size 1600x600 with 2 Axes>"
      ]
     },
     "metadata": {},
     "output_type": "display_data"
    }
   ],
   "source": [
    "# Correlation triangular heatmap\n",
    "# Select columns\n",
    "columns_of_interest = ['seats', 'resale_price_Lakh']\n",
    "subset_df = df[columns_of_interest]\n",
    "\n",
    "plt.figure(figsize=(16, 6))\n",
    "\n",
    "# Set the mask to only display the bottom half of the heatmap\n",
    "mask = np.triu(np.ones_like(subset_df.corr(), dtype=bool))\n",
    "\n",
    "# heatmap\n",
    "heatmap = sns.heatmap(subset_df.corr(), mask=mask, vmin=-1, vmax=1, annot=True, cmap='BrBG')\n",
    "heatmap.set_title('Triangle Correlation Heatmap', fontdict={'fontsize': 18}, pad=16)\n",
    "\n",
    "plt.show()"
   ]
  },
  {
   "cell_type": "code",
   "execution_count": 33,
   "metadata": {},
   "outputs": [
    {
     "data": {
      "text/plain": [
       "Text(0.5, 1.0, 'Outliers year')"
      ]
     },
     "execution_count": 33,
     "metadata": {},
     "output_type": "execute_result"
    },
    {
     "data": {
      "image/png": "[encoded data removed]",
      "text/plain": [
       "<Figure size 640x480 with 1 Axes>"
      ]
     },
     "metadata": {},
     "output_type": "display_data"
    }
   ],
   "source": [
    "# sns.boxplot(data=df,x=df[\"registered_year\"])\n",
    "# plt.title(\"Outliers year\")"
   ]
  },
  {
   "cell_type": "code",
   "execution_count": null,
   "metadata": {},
   "outputs": [
    {
     "data": {
      "image/png": "[encoded data removed]",
      "text/plain": [
       "<Figure size 640x480 with 1 Axes>"
      ]
     },
     "metadata": {},
     "output_type": "display_data"
    }
   ],
   "source": [
    "# Create a box plot for the \"max_power\" column\n",
    "# ax = sns.boxplot(data=df, x=df[\"max_power\"])\n",
    "# plt.title(\"Outliers power\")\n",
    "\n",
    "# Adjust the x-axis scale\n",
    "# ax.set(xlim=(60, 70))  # Replace min_value and max_value with your desired limits\n",
    "\n",
    "# Show the plot\n",
    "# plt.show()"
   ]
  },
  {
   "cell_type": "code",
   "execution_count": null,
   "metadata": {},
   "outputs": [
    {
     "data": {
      "text/plain": [
       "Text(0.5, 1.0, 'Outliers price')"
      ]
     },
     "execution_count": 17,
     "metadata": {},
     "output_type": "execute_result"
    },
    {
     "data": {
      "image/png": "[encoded data removed]",
      "text/plain": [
       "<Figure size 640x480 with 1 Axes>"
      ]
     },
     "metadata": {},
     "output_type": "display_data"
    }
   ],
   "source": [
    "# sns.boxplot(data=df,x=df[\"resale_price_Lakh\"])\n",
    "# plt.title(\"Outliers price\")"
   ]
  },
  {
   "cell_type": "code",
   "execution_count": 83,
   "metadata": {},
   "outputs": [
    {
     "data": {
      "image/png": "[encoded data removed]",
      "text/plain": [
       "<Figure size 640x480 with 1 Axes>"
      ]
     },
     "metadata": {},
     "output_type": "display_data"
    }
   ],
   "source": [
    "#Create scatter plot\n",
    "plt.scatter(df['seats'], df['resale_price_Lakh'])\n",
    "plt.title('Scatter Plot')\n",
    "plt.xlabel('seats')\n",
    "plt.ylabel('resale price')\n",
    "plt.show()"
   ]
  }
 ],
 "metadata": {
  "kernelspec": {
   "display_name": "Python 3",
   "language": "python",
   "name": "python3"
  },
  "language_info": {
   "codemirror_mode": {
    "name": "ipython",
    "version": 3
   },
   "file_extension": ".py",
   "mimetype": "text/x-python",
   "name": "python",
   "nbconvert_exporter": "python",
   "pygments_lexer": "ipython3",
   "version": "3.12.0"
  }
 },
 "nbformat": 4,
 "nbformat_minor": 2
}
