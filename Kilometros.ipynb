{
 "cells": [
  {
   "cell_type": "code",
   "execution_count": 1,
   "metadata": {},
   "outputs": [],
   "source": [
    "import matplotlib.pyplot as plt\n",
    "import pandas as pd\n",
    "import seaborn as sns\n",
    "import numpy as np\n",
    "import re"
   ]
  },
  {
   "cell_type": "code",
   "execution_count": 2,
   "metadata": {},
   "outputs": [],
   "source": [
    "df = pd.read_csv('train.csv')"
   ]
  },
  {
   "cell_type": "code",
   "execution_count": 3,
   "metadata": {},
   "outputs": [],
   "source": [
    "#remove kms from kms_driven\n",
    "df['kms_driven'] = df['kms_driven'].str.replace('Kms', '')\n",
    "# Remover vírgula e espaço em branco da coluna 'kms_driven'\n",
    "df['kms_driven'] = df['kms_driven'].str.replace(',', '').str.strip()"
   ]
  },
  {
   "cell_type": "code",
   "execution_count": 4,
   "metadata": {},
   "outputs": [],
   "source": [
    "# Change the data types of multiple columns\n",
    "df = df.astype({\n",
    "    \n",
    "    'kms_driven': float,\n",
    "    \n",
    "})"
   ]
  },
  {
   "cell_type": "code",
   "execution_count": 5,
   "metadata": {},
   "outputs": [
    {
     "name": "stdout",
     "output_type": "stream",
     "text": [
      "Data type by column:\n",
      "full_name             object\n",
      "registered_year       object\n",
      "engine_capacity       object\n",
      "insurance             object\n",
      "transmission_type     object\n",
      "kms_driven           float64\n",
      "owner_type            object\n",
      "fuel_type             object\n",
      "max_power             object\n",
      "seats                float64\n",
      "mileage               object\n",
      "body_type             object\n",
      "city                  object\n",
      "resale_price_Lakh    float64\n",
      "dtype: object\n"
     ]
    }
   ],
   "source": [
    "# Check data types\n",
    "data_types = df.dtypes\n",
    "print(\"Data type by column:\")\n",
    "print(data_types)"
   ]
  },
  {
   "cell_type": "code",
   "execution_count": 6,
   "metadata": {},
   "outputs": [],
   "source": [
    "#elina brancos ou NAN quando é float\n",
    "df = df.dropna(subset=['kms_driven'])"
   ]
  },
  {
   "cell_type": "code",
   "execution_count": 7,
   "metadata": {},
   "outputs": [
    {
     "name": "stdout",
     "output_type": "stream",
     "text": [
      "                                               full_name registered_year  \\\n",
      "0                                2019 Tata Tiago XZ Plus        Nov 2019   \n",
      "1                              2018 Honda WR-V i-VTEC VX        Apr 2018   \n",
      "2                              2015 Honda City i VTEC SV        May 2015   \n",
      "3      2021 Tata New Safari XZA Plus Adventure Editio...            2021   \n",
      "4                        2019 Maruti Baleno 1.2 CVT Zeta        Jun 2019   \n",
      "...                                                  ...             ...   \n",
      "13951                          2021 Kia Carnival Premium            2021   \n",
      "13952               2017 Hyundai i20 1.2 Magna Executive        Dec 2017   \n",
      "13953             2017 Skoda Rapid 1.5 TDI Ambition BSIV        Jan 2018   \n",
      "13954                      2017 Maruti Vitara Brezza ZDi        Apr 2017   \n",
      "13955                         2015 Honda Amaze S i-Vtech        Mar 2015   \n",
      "\n",
      "      engine_capacity              insurance transmission_type  kms_driven  \\\n",
      "0             1199 cc            Third Party            Manual     30910.0   \n",
      "1             1199 cc               Zero Dep            Manual     48089.0   \n",
      "2             1497 cc  Third Party insurance            Manual     51000.0   \n",
      "3             1956 cc  Third Party insurance         Automatic     30000.0   \n",
      "4             1197 cc               Zero Dep         Automatic     61113.0   \n",
      "...               ...                    ...               ...         ...   \n",
      "13951         2199 cc  Third Party insurance         Automatic     80000.0   \n",
      "13952         1197 cc  Third Party insurance            Manual     17923.0   \n",
      "13953         1498 cc          Comprehensive            Manual     63389.0   \n",
      "13954         1248 cc          Comprehensive            Manual     40000.0   \n",
      "13955         1198 cc          Comprehensive            Manual     33046.0   \n",
      "\n",
      "         owner_type fuel_type  max_power  seats     mileage  body_type  \\\n",
      "0       First Owner    Petrol   83.83bhp    5.0  23.84 kmpl  Hatchback   \n",
      "1       Third Owner    Petrol    88.7bhp    5.0   17.5 kmpl        SUV   \n",
      "2      Second Owner    Petrol   117.3bhp    5.0   17.4 kmpl      Sedan   \n",
      "3       First Owner    Diesel  167.67bhp    7.0  14.08 kmpl        SUV   \n",
      "4       First Owner    Petrol    83.1bhp    5.0   21.4 kmpl  Hatchback   \n",
      "...             ...       ...        ...    ...         ...        ...   \n",
      "13951  Second Owner    Diesel   197.2bhp    7.0  14.11 kmpl        MUV   \n",
      "13952   First Owner    Petrol   81.83bhp    5.0   18.6 kmpl  Hatchback   \n",
      "13953  Second Owner    Diesel   108.6bhp    5.0  21.13 kmpl      Sedan   \n",
      "13954  Second Owner    Diesel    88.5bhp    5.0   24.3 kmpl        SUV   \n",
      "13955   First Owner    Petrol    86.7bhp    5.0     18 kmpl      Sedan   \n",
      "\n",
      "            city  resale_price_Lakh               kms_group  \n",
      "0           Pune               5.66           Até 50.000 km  \n",
      "1         Jaipur               6.64           Até 50.000 km  \n",
      "2         Mumbai               5.65  50.000 km a 150.000 km  \n",
      "3         Mumbai              23.00           Até 50.000 km  \n",
      "4        Kolkata               6.87  50.000 km a 150.000 km  \n",
      "...          ...                ...                     ...  \n",
      "13951  Hyderabad              26.50  50.000 km a 150.000 km  \n",
      "13952    Gurgaon               5.87           Até 50.000 km  \n",
      "13953  Hyderabad               7.43  50.000 km a 150.000 km  \n",
      "13954  Bangalore               9.45           Até 50.000 km  \n",
      "13955  Bangalore               4.55           Até 50.000 km  \n",
      "\n",
      "[13953 rows x 15 columns]\n"
     ]
    }
   ],
   "source": [
    "# define os limites dos grupos\n",
    "limites = [0, 50000, 150000, 300000, 600000, 900000, float('inf')]  \n",
    "rotulos = ['Até 50.000 km', '50.000 km a 150.000 km', '150.000 km a 300.000 km', '300.000 km a 600.000 km', '600.000 km a 900.000 km', 'Acima de 900.000 km']\n",
    "\n",
    "# cria a nova coluna\n",
    "df['kms_group'] = pd.cut(df['kms_driven'], bins=limites, labels=rotulos, right=False)\n",
    "\n",
    "# Incluir a linha com 'kms_driven' igual a 1200000 na última categoria\n",
    "df.loc[df['kms_driven'] == 1200000, 'kms_group'] = 'Acima de 900.000 km'\n",
    "\n",
    "print(df)\n"
   ]
  },
  {
   "cell_type": "code",
   "execution_count": 8,
   "metadata": {},
   "outputs": [
    {
     "name": "stdout",
     "output_type": "stream",
     "text": [
      "['Até 50.000 km', '50.000 km a 150.000 km', '150.000 km a 300.000 km', 'Acima de 900.000 km', '600.000 km a 900.000 km', '300.000 km a 600.000 km']\n",
      "Categories (6, object): ['Até 50.000 km' < '50.000 km a 150.000 km' < '150.000 km a 300.000 km' < '300.000 km a 600.000 km' < '600.000 km a 900.000 km' < 'Acima de 900.000 km']\n"
     ]
    }
   ],
   "source": [
    "# unique 'kms_group'\n",
    "valores_unicos_kms_group= df['kms_group'].unique()\n",
    "print(valores_unicos_kms_group)"
   ]
  },
  {
   "cell_type": "code",
   "execution_count": 9,
   "metadata": {},
   "outputs": [
    {
     "name": "stdout",
     "output_type": "stream",
     "text": [
      "  Até 50.000 km: 0.3647105429842729\n",
      "50.000 km a 150.000 km: 0.25514179755998767\n",
      "150.000 km a 300.000 km: 1.9116714838390252\n",
      "Acima de 900.000 km: 3.6675463395115164\n",
      "600.000 km a 900.000 km: 3.6675463395115164\n",
      "300.000 km a 600.000 km: 3.6675463395115164\n"
     ]
    }
   ],
   "source": [
    "# Check ID_kms\n",
    "\n",
    "# Sua coluna de tipos de combustível\n",
    "kms_group = df['kms_group']\n",
    "\n",
    "# Número de documentos (ou entradas) no DataFrame\n",
    "n_docs = len(df)\n",
    "\n",
    "idf = {}\n",
    "\n",
    "# Usando drop_duplicates para obter valores únicos\n",
    "unique_kms_group = kms_group.drop_duplicates()\n",
    "\n",
    "for km_group in unique_kms_group:\n",
    "    k = sum(km_group in row for row in df['kms_group'])  # contagem de documentos que contêm este tipo de combustível\n",
    "    idf[km_group] = np.log10(n_docs / (k + 1))  # Adicionei +1 para evitar divisão por zero\n",
    "\n",
    "for km_group, value in idf.items():\n",
    "    print(f'{km_group:>15}: {value:>10}')\n",
    "\n",
    "\n"
   ]
  },
  {
   "cell_type": "code",
   "execution_count": 10,
   "metadata": {},
   "outputs": [
    {
     "name": "stdout",
     "output_type": "stream",
     "text": [
      "  Até 50.000 km: 0.3647105429842729\n",
      "50.000 km a 150.000 km: 0.25514179755998767\n",
      "150.000 km a 300.000 km: 1.9116714838390252\n",
      "Acima de 900.000 km: 3.6675463395115164\n",
      "600.000 km a 900.000 km: 3.6675463395115164\n",
      "300.000 km a 600.000 km: 3.6675463395115164\n",
      "                                               full_name registered_year  \\\n",
      "0                                2019 Tata Tiago XZ Plus        Nov 2019   \n",
      "1                              2018 Honda WR-V i-VTEC VX        Apr 2018   \n",
      "2                              2015 Honda City i VTEC SV        May 2015   \n",
      "3      2021 Tata New Safari XZA Plus Adventure Editio...            2021   \n",
      "4                        2019 Maruti Baleno 1.2 CVT Zeta        Jun 2019   \n",
      "...                                                  ...             ...   \n",
      "13951                          2021 Kia Carnival Premium            2021   \n",
      "13952               2017 Hyundai i20 1.2 Magna Executive        Dec 2017   \n",
      "13953             2017 Skoda Rapid 1.5 TDI Ambition BSIV        Jan 2018   \n",
      "13954                      2017 Maruti Vitara Brezza ZDi        Apr 2017   \n",
      "13955                         2015 Honda Amaze S i-Vtech        Mar 2015   \n",
      "\n",
      "      engine_capacity              insurance transmission_type  kms_driven  \\\n",
      "0             1199 cc            Third Party            Manual     30910.0   \n",
      "1             1199 cc               Zero Dep            Manual     48089.0   \n",
      "2             1497 cc  Third Party insurance            Manual     51000.0   \n",
      "3             1956 cc  Third Party insurance         Automatic     30000.0   \n",
      "4             1197 cc               Zero Dep         Automatic     61113.0   \n",
      "...               ...                    ...               ...         ...   \n",
      "13951         2199 cc  Third Party insurance         Automatic     80000.0   \n",
      "13952         1197 cc  Third Party insurance            Manual     17923.0   \n",
      "13953         1498 cc          Comprehensive            Manual     63389.0   \n",
      "13954         1248 cc          Comprehensive            Manual     40000.0   \n",
      "13955         1198 cc          Comprehensive            Manual     33046.0   \n",
      "\n",
      "         owner_type fuel_type  max_power  seats     mileage  body_type  \\\n",
      "0       First Owner    Petrol   83.83bhp    5.0  23.84 kmpl  Hatchback   \n",
      "1       Third Owner    Petrol    88.7bhp    5.0   17.5 kmpl        SUV   \n",
      "2      Second Owner    Petrol   117.3bhp    5.0   17.4 kmpl      Sedan   \n",
      "3       First Owner    Diesel  167.67bhp    7.0  14.08 kmpl        SUV   \n",
      "4       First Owner    Petrol    83.1bhp    5.0   21.4 kmpl  Hatchback   \n",
      "...             ...       ...        ...    ...         ...        ...   \n",
      "13951  Second Owner    Diesel   197.2bhp    7.0  14.11 kmpl        MUV   \n",
      "13952   First Owner    Petrol   81.83bhp    5.0   18.6 kmpl  Hatchback   \n",
      "13953  Second Owner    Diesel   108.6bhp    5.0  21.13 kmpl      Sedan   \n",
      "13954  Second Owner    Diesel    88.5bhp    5.0   24.3 kmpl        SUV   \n",
      "13955   First Owner    Petrol    86.7bhp    5.0     18 kmpl      Sedan   \n",
      "\n",
      "            city  resale_price_Lakh               kms_group  id_kms_group  \n",
      "0           Pune               5.66           Até 50.000 km      0.364711  \n",
      "1         Jaipur               6.64           Até 50.000 km      0.364711  \n",
      "2         Mumbai               5.65  50.000 km a 150.000 km      0.255142  \n",
      "3         Mumbai              23.00           Até 50.000 km      0.364711  \n",
      "4        Kolkata               6.87  50.000 km a 150.000 km      0.255142  \n",
      "...          ...                ...                     ...           ...  \n",
      "13951  Hyderabad              26.50  50.000 km a 150.000 km      0.255142  \n",
      "13952    Gurgaon               5.87           Até 50.000 km      0.364711  \n",
      "13953  Hyderabad               7.43  50.000 km a 150.000 km      0.255142  \n",
      "13954  Bangalore               9.45           Até 50.000 km      0.364711  \n",
      "13955  Bangalore               4.55           Até 50.000 km      0.364711  \n",
      "\n",
      "[13953 rows x 16 columns]\n"
     ]
    }
   ],
   "source": [
    "#Create kms_group ID: IDF\n",
    "\n",
    "# Sua coluna de tipos de combustível\n",
    "kms_group = df['kms_group']\n",
    "\n",
    "# Número de documentos (ou entradas) no DataFrame\n",
    "n_docs = len(df)\n",
    "\n",
    "idf = {}\n",
    "\n",
    "# Usando drop_duplicates para obter valores únicos\n",
    "unique_kms_group = kms_group.drop_duplicates()\n",
    "\n",
    "for km_group in unique_kms_group:\n",
    "    k = sum(km_group in row for row in df['kms_group'])  # contagem de documentos que contêm este tipo de combustível\n",
    "    idf[km_group] = np.log10(n_docs / (k + 1))  # Adicionei +1 para evitar divisão por zero\n",
    "\n",
    "for km_group, value in idf.items():\n",
    "    print(f'{km_group:>15}: {value:>10}')\n",
    "\n",
    "# Criar nova coluna 'idf' no DataFrame\n",
    "df['id_kms_group'] = df['kms_group'].map(idf)\n",
    "\n",
    "# Se desejar imprimir o DataFrame com a nova coluna\n",
    "print(df)"
   ]
  }
 ],
 "metadata": {
  "kernelspec": {
   "display_name": "Python 3",
   "language": "python",
   "name": "python3"
  },
  "language_info": {
   "codemirror_mode": {
    "name": "ipython",
    "version": 3
   },
   "file_extension": ".py",
   "mimetype": "text/x-python",
   "name": "python",
   "nbconvert_exporter": "python",
   "pygments_lexer": "ipython3",
   "version": "3.11.6"
  }
 },
 "nbformat": 4,
 "nbformat_minor": 2
}
