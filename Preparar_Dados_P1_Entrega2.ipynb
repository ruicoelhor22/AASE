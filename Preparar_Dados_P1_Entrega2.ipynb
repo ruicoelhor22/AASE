{
 "cells": [
  {
   "cell_type": "code",
   "execution_count": 1,
   "metadata": {},
   "outputs": [],
   "source": [
    "import matplotlib.pyplot as plt\n",
    "import pandas as pd\n",
    "import seaborn as sns\n",
    "import numpy as np\n",
    "import re\n",
    "import matplotlib.pyplot as plt\n",
    "import seaborn as sns"
   ]
  },
  {
   "cell_type": "code",
   "execution_count": 2,
   "metadata": {},
   "outputs": [],
   "source": [
    "df = pd.read_csv('train.csv')"
   ]
  },
  {
   "cell_type": "markdown",
   "metadata": {},
   "source": [
    "TRATAMENTO DE DADOS ANTES DE ALTERAR O TIPO"
   ]
  },
  {
   "cell_type": "code",
   "execution_count": 3,
   "metadata": {},
   "outputs": [
    {
     "name": "stdout",
     "output_type": "stream",
     "text": [
      "Distinct full names with blank seats:\n",
      "2009 Maruti Estilo LXI\n",
      "2019 Nissan Kicks Diesel\n",
      "2008 Ford Endeavour 3.0 4x4 Thunder Plus\n",
      "2010 Maruti Estilo LXI\n",
      "\n",
      "Distinct full names with blank seats:\n",
      "\n",
      "['Petrol' 'Diesel' 'CNG' 'Electric' 'LPG']\n",
      "\n",
      "['First Owner' 'Third Owner' 'Second Owner' 'Fifth Owner' 'Fourth Owner']\n"
     ]
    }
   ],
   "source": [
    "# SEATS __________________________________________________\n",
    "# Check for model cars with missing values in the 'seats' column\n",
    "distinct_full_names_with_blank_seats = df[df['seats'].isnull()]['full_name'].unique()\n",
    "print('Distinct full names with blank seats:')\n",
    "for full_name in distinct_full_names_with_blank_seats:\n",
    "    print(full_name)\n",
    "\n",
    "# Update number of seats based on conditions\n",
    "df.loc[df['full_name'].isin(['2009 Maruti Estilo LXI', '2019 Nissan Kicks Diesel', '2010 Maruti Estilo LXI']), 'seats'] = 5\n",
    "df.loc[df['full_name'] == '2008 Ford Endeavour 3.0 4x4 Thunder Plus', 'seats'] = 7\n",
    "\n",
    "# Check\n",
    "distinct_full_names_with_blank_seats = df[df['seats'].isnull()]['full_name'].unique()\n",
    "print()\n",
    "print('Distinct full names with blank seats:')\n",
    "for full_name in distinct_full_names_with_blank_seats:\n",
    "    print(full_name)\n",
    "\n",
    "\n",
    "# ENGINE __________________________________________________\n",
    "#remove cc from engine_capacity\n",
    "df['engine_capacity'] = df['engine_capacity'].str.replace('cc', '')\n",
    "\n",
    "# FUEL TYPE __________________________________________________\n",
    "# unique 'fuel_type'\n",
    "valores_unicos_fuel_type = df['fuel_type'].unique()\n",
    "print()\n",
    "print(valores_unicos_fuel_type)\n",
    "\n",
    "# KMS __________________________________________________\n",
    "#remove kms from kms_driven\n",
    "df['kms_driven'] = df['kms_driven'].str.replace('Kms', '')\n",
    "# Remove , and blanks from 'kms_driven'\n",
    "df['kms_driven'] = df['kms_driven'].str.replace(',', '').str.strip()\n",
    "\n",
    "# MAX POWER \n",
    "# #convert to bhp__________________________________________________\n",
    "Correct_Max_Power = []\n",
    "for power in df['max_power']:\n",
    "    if pd.notna(power):\n",
    "        if isinstance(power, str):\n",
    "            if 'bhp' in power:\n",
    "                num_bhp = float(re.search(r'\\d+.?\\d', power).group())\n",
    "                Correct_Max_Power.append(num_bhp)\n",
    "            elif 'PS' in power:\n",
    "                num_ps = float(re.search(r'\\d+.?\\d', power).group())\n",
    "                num_bhp = round(num_ps * 0.98632, 2)\n",
    "                Correct_Max_Power.append(num_bhp)\n",
    "            else:\n",
    "                num = re.search(r'\\d+\\.?\\d*', power)\n",
    "                Correct_Max_Power.append(float(num.group()) if num else None)\n",
    "        else:\n",
    "            Correct_Max_Power.append(power)\n",
    "    else:\n",
    "        Correct_Max_Power.append(None)\n",
    "\n",
    "\n",
    "# Convert not NaN to float\n",
    "Correct_Max_Power = [float(value) if value is not None else value for value in Correct_Max_Power]\n",
    "\n",
    "df['max_power'] = Correct_Max_Power\n",
    "\n",
    "# OWNER TYPE __________________________________________________\n",
    "# Delet blank spaces in 'owner_type'\n",
    "df.dropna(subset=['owner_type'], inplace=True)\n",
    "\n",
    "# Check\n",
    "unique_values = df['owner_type'].unique()\n",
    "print()\n",
    "print(unique_values)\n",
    "\n",
    "\n",
    "\n",
    "# INSURANCE __________________________________________________\n",
    "#Delet \"insurance\" \n",
    "df['insurance'] = df['insurance'].str.replace('insurance', '')\n",
    "\n",
    "#Assign value to blank lines\n",
    "df['insurance'].fillna('No Insurance', inplace=True)\n",
    "\n",
    "#Blank space on \"Third Party\" lines\n",
    "df['insurance'] = df['insurance'].str.replace('Third Party ', 'Third Party')\n",
    "\n",
    "#Remove integer values\n",
    "df = df[~df['insurance'].astype(str).str.isnumeric()]\n",
    "\n",
    "\n",
    "#MILEAGE\n",
    "#assign value to blank lines\n",
    "df['mileage'] = df['mileage'].fillna(0)\n",
    "\n",
    "#convert km/kg to kmpl\n",
    "\n",
    "df = df[df['mileage'].notna()]\n",
    "consumo_correto = []\n",
    "\n",
    "for i in df['mileage']:\n",
    "    match = re.search(r'(\\d+.\\d+|\\d+)', str(i)) \n",
    "\n",
    "    if match:\n",
    "        valor = float(match.group())\n",
    "\n",
    "        if 'km/kg' in str(i):\n",
    "            valor *= 1.40  \n",
    "\n",
    "        consumo_correto.append(valor)\n",
    "\n",
    "df['mileage'] = consumo_correto"
   ]
  },
  {
   "cell_type": "code",
   "execution_count": 4,
   "metadata": {},
   "outputs": [
    {
     "name": "stdout",
     "output_type": "stream",
     "text": [
      "0        2019\n",
      "1        2018\n",
      "2        2015\n",
      "3        2021\n",
      "4        2019\n",
      "         ... \n",
      "13951    2021\n",
      "13952    2017\n",
      "13953    2017\n",
      "13954    2017\n",
      "13955    2015\n",
      "Name: ano, Length: 13912, dtype: object\n",
      "0           Tata\n",
      "1          Honda\n",
      "2          Honda\n",
      "3           Tata\n",
      "4         Maruti\n",
      "          ...   \n",
      "13951        Kia\n",
      "13952    Hyundai\n",
      "13953      Skoda\n",
      "13954     Maruti\n",
      "13955      Honda\n",
      "Name: marca, Length: 13912, dtype: object\n"
     ]
    }
   ],
   "source": [
    "#FullName ______________________________________\n",
    "\n",
    "#ANO\n",
    "# Extract the year and create a new column\n",
    "df['ano'] = df['full_name'].str.extract(r'(\\d{4})')\n",
    "\n",
    "# Display the resulting DataFrame\n",
    "print(df['ano'])\n",
    "\n",
    "#MARCA\n",
    "# Extract the first word after the year and create a new column\n",
    "df['marca'] = df['full_name'].str.extract(r'\\d{4}\\s(\\w+)')\n",
    "\n",
    "# Print the resulting DataFrame\n",
    "print(df['marca'])"
   ]
  },
  {
   "cell_type": "code",
   "execution_count": 5,
   "metadata": {},
   "outputs": [
    {
     "name": "stdout",
     "output_type": "stream",
     "text": [
      "Distinct full names with blank body_type:\n"
     ]
    }
   ],
   "source": [
    "#BODY TYPE ----------------------\n",
    "#Replace the missing types and the ones that were wrong\n",
    "df.loc[df['full_name'].isin(['2009 Maruti Estilo LXI', '2019 Nissan Kicks Diesel', '2010 Maruti Estilo LXI', '2019 Maruti Wagon R ZXI AMT 1.2BSIV',\n",
    "                             '2016 Mercedes-Benz B Class B180 Sport', '2016 Mercedes-Benz A Class A200 D Sport Edition',\n",
    "                             '2004 Tata Indigo Marina GLX', '2017 Volvo V40 D3 R Design']), 'body_type'] = 'Hatchback'\n",
    "df.loc[df['full_name'].isin(['2005 Tata Sumo Victa EX 10/7 Str BSII', '2008 Tata Sumo CX', '2010 Tata New Safari DICOR 2.2 EX 4x2', \n",
    "                             '2017 Mahindra KUV 100 mFALCON G80 K8', '2019 Mahindra Bolero Camper GOLD ZX 2WD']), 'body_type'] = 'SUV'\n",
    "df.loc[df['full_name'].isin(['2015 Honda Mobilio E i-DTEC', '2018 Maruti Eeco 5 Seater AC BSIV', '2016 Datsun GO Plus A']), 'body_type'] = 'MUV'\n",
    "df.loc[df['full_name'].isin(['2021 BMW 7 Series 730Ld DPE Signature','2006 Hyundai Accent CRDi', '2007 Maruti SX4 Vxi BSIII',\n",
    "                             '2020 Mercedes-Benz S-Class Maybach S560', '2004 Skoda Octavia 1.8 Turbo Petrol RS MT']), 'body_type'] = 'Sedan'\n",
    "df.loc[df['full_name'].isin(['2012 Mercedes-Benz SLK-Class SLK 350', '2013 Mercedes-Benz E-Class E350 Cabriolet', \n",
    "                             '2009 Mercedes-Benz SLK-Class 55 AMG']), 'body_type'] = 'Convertibles'\n",
    "df.loc[df['full_name'] == '2011 Jaguar XK R V8 Coupe', 'body_type'] = 'Coupe'\n",
    "df.loc[df['full_name'].isin(['2015 Chevrolet Enjoy 1.4 LS 7', '2004 Maruti Versa DX2 8-SEATER BSIII TWIN A/C', '2021 Maruti Eeco 5 STR With AC Plus HTR CNG',\n",
    "                             '2022 Maruti Eeco 5 Seater AC 2020-2022', '2022 Maruti Eeco 5 Seater AC BSVI', '2017 Maruti Eeco Flexi Green', \n",
    "                             '2013 Maruti Omni Limited Edition', '2021 Maruti Eeco CNG 5 Seater AC', '2019 Maruti Eeco CNG 5 Seater AC BSIV', \n",
    "                             '2019 Maruti Eeco 5 Seater AC', '2013 Maruti Eeco 5 Seater Standard BSIV', '2015 Maruti Omni CNG', \n",
    "                             '2015 Maruti Omni MPI CARGO BSIV', '2016 Maruti Eeco CNG 5 Seater AC BSIV', '2013 Toyota Innova 2.5 E Diesel MS 7-seater',\n",
    "                             '2015 Chevrolet Enjoy 1.4 LS 7']), 'body_type'] = 'Minivans'\n",
    "df.loc[df['full_name'].isin(['2014 Tata Xenon XT EX 4X2', '2019 Isuzu D-Max High']), 'body_type'] = 'Pickup'\n",
    "\n",
    "# Check\n",
    "distinct_full_names_with_blank_body_type = df[df['body_type'].isnull()]['full_name'].unique()\n",
    "print('Distinct full names with blank body_type:')\n",
    "for full_name in distinct_full_names_with_blank_body_type:\n",
    "    print(full_name)"
   ]
  },
  {
   "cell_type": "code",
   "execution_count": 6,
   "metadata": {},
   "outputs": [
    {
     "name": "stdout",
     "output_type": "stream",
     "text": [
      "0         83.8\n",
      "1         88.7\n",
      "2        117.3\n",
      "3        167.6\n",
      "4         83.1\n",
      "         ...  \n",
      "13951    197.2\n",
      "13952     81.8\n",
      "13953    108.6\n",
      "13954     88.5\n",
      "13955     86.7\n",
      "Name: max_power, Length: 13820, dtype: float64\n"
     ]
    }
   ],
   "source": [
    "#Delet blanks or NAN \n",
    "# KMS __________________________________________________\n",
    "df = df.dropna(subset=['kms_driven'])\n",
    "# MAX POWER __________________________________________________\n",
    "df = df.dropna(subset=['max_power'])\n",
    "print(df['max_power'])\n",
    "# MARCA __________________________________________________\n",
    "df = df.dropna(subset=['marca'])\n",
    "#ENGINE_CAPACITY_________________________________________\n",
    "df = df.dropna(subset=['engine_capacity'])"
   ]
  },
  {
   "cell_type": "markdown",
   "metadata": {},
   "source": [
    "ALTERAR O TIPO DE DADOS"
   ]
  },
  {
   "cell_type": "code",
   "execution_count": 7,
   "metadata": {},
   "outputs": [],
   "source": [
    "# Mudar formatos\n",
    "\n",
    "df = df.astype({\n",
    "    'seats': float,\n",
    "    'engine_capacity': float,\n",
    "    'kms_driven': float,\n",
    "    'max_power': float,\n",
    "    'ano': float,\n",
    "    'marca': 'string',\n",
    "    'body_type': 'string',\n",
    "    'mileage': float,\n",
    "})"
   ]
  },
  {
   "cell_type": "code",
   "execution_count": 8,
   "metadata": {},
   "outputs": [
    {
     "name": "stdout",
     "output_type": "stream",
     "text": [
      "Data type by column:\n",
      "full_name                    object\n",
      "registered_year              object\n",
      "engine_capacity             float64\n",
      "insurance                    object\n",
      "transmission_type            object\n",
      "kms_driven                  float64\n",
      "owner_type                   object\n",
      "fuel_type                    object\n",
      "max_power                   float64\n",
      "seats                       float64\n",
      "mileage                     float64\n",
      "body_type            string[python]\n",
      "city                         object\n",
      "resale_price_Lakh           float64\n",
      "ano                         float64\n",
      "marca                string[python]\n",
      "dtype: object\n"
     ]
    }
   ],
   "source": [
    "# Check data types\n",
    "data_types = df.dtypes\n",
    "print(\"Data type by column:\")\n",
    "print(data_types)"
   ]
  },
  {
   "cell_type": "markdown",
   "metadata": {},
   "source": [
    "GRUPOS"
   ]
  },
  {
   "cell_type": "code",
   "execution_count": 9,
   "metadata": {},
   "outputs": [
    {
     "name": "stdout",
     "output_type": "stream",
     "text": [
      "Valor máximo de 'mileage': 140.0\n",
      "Valor mínimo de 'mileage': 0.0\n",
      "['10k-30k km', '0-10k km', '30k-50k km', '90k+ km']\n",
      "Categories (6, object): ['0-10k km' < '10k-30k km' < '30k-50k km' < '50k-70k km' < '70k-90k km' < '90k+ km']\n"
     ]
    }
   ],
   "source": [
    "# MILEAGE\n",
    "\n",
    "# max value of the column 'mileage'\n",
    "max_mileage = df['mileage'].max()\n",
    "\n",
    "# min value of the column 'mileage'\n",
    "min_mileage = df['mileage'].min()\n",
    "\n",
    "# show values max and min\n",
    "print(\"Valor máximo de 'mileage':\", max_mileage)\n",
    "print(\"Valor mínimo de 'mileage':\", min_mileage)\n",
    "\n",
    "\n",
    "limites_mileage = [0, 10.000, 30.000, 50.000, 70.000, 90.000, float('inf')] \n",
    "\n",
    "rotulos_mileage = ['0-10k km', '10k-30k km', '30k-50k km', '50k-70k km', '70k-90k km', '90k+ km']\n",
    "\n",
    "df['mileage_group'] = pd.cut(df['mileage'], bins=limites_mileage, labels=rotulos_mileage, right=False)\n",
    "\n",
    "valores_unicos_mileage_group = df['mileage_group'].unique()\n",
    "\n",
    "# Exibe os valores únicos\n",
    "print(valores_unicos_mileage_group)"
   ]
  },
  {
   "cell_type": "code",
   "execution_count": 10,
   "metadata": {},
   "outputs": [],
   "source": [
    "#MAX_POWER\n",
    "\n",
    "limites = [0, 100, 200, 300, 400, 500, 600]  \n",
    "rotulos = ['0-100 bhp', '100-200 bhp', '200-300 bhp', '300-400 bhp', '400-500 bhp', '500-600 bhp']\n",
    "\n",
    "df['max_power_group'] = pd.cut(df['max_power'], bins=limites, labels=rotulos, right=False)"
   ]
  },
  {
   "cell_type": "code",
   "execution_count": 11,
   "metadata": {},
   "outputs": [],
   "source": [
    "# KMS\n",
    "\n",
    "limites = [0, 50000, 150000, 300000, 600000, 900000, float('inf')]  \n",
    "rotulos = ['Até 50.000 km', '50.000 km a 150.000 km', '150.000 km a 300.000 km', '300.000 km a 600.000 km', '600.000 km a 900.000 km', 'Acima de 900.000 km']\n",
    "\n",
    "df['kms_group'] = pd.cut(df['kms_driven'], bins=limites, labels=rotulos, right=False)\n",
    "\n",
    "df.loc[df['kms_driven'] == 1200000, 'kms_group'] = 'Acima de 900.000 km'"
   ]
  },
  {
   "cell_type": "code",
   "execution_count": 12,
   "metadata": {},
   "outputs": [],
   "source": [
    "#ENGINE_CAPACITY\n",
    "\n",
    "limites = [0,1, 1000, 2000, 3000, 4000, float('inf')]  \n",
    "rotulos = ['Elétrico', 'até 1000 cc', 'até 2000 cc', 'até 3000 cc', 'até 4000 cc', 'mais de 4000 cc']\n",
    "\n",
    "df['engine_capacity_group'] = pd.cut(df['engine_capacity'], bins=limites, labels=rotulos, right=False)"
   ]
  },
  {
   "cell_type": "code",
   "execution_count": 13,
   "metadata": {},
   "outputs": [],
   "source": [
    "# MARCAS\n",
    "\n",
    "limites = [0, 10, 30, df['resale_price_Lakh'].max()]\n",
    "rotulos = ['baixa', 'media', 'alta']\n",
    "\n",
    "df['categoria_marca'] = pd.cut(df.groupby('marca')['resale_price_Lakh'].transform('mean'), bins=limites, labels=rotulos, right=False)"
   ]
  }
 ],
 "metadata": {
  "kernelspec": {
   "display_name": "Python 3",
   "language": "python",
   "name": "python3"
  },
  "language_info": {
   "codemirror_mode": {
    "name": "ipython",
    "version": 3
   },
   "file_extension": ".py",
   "mimetype": "text/x-python",
   "name": "python",
   "nbconvert_exporter": "python",
   "pygments_lexer": "ipython3",
   "version": "3.12.0"
  }
 },
 "nbformat": 4,
 "nbformat_minor": 2
}
