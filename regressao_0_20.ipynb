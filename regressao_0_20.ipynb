{
 "cells": [
  {
   "cell_type": "markdown",
   "metadata": {},
   "source": [
    "# Importar os módulos necessários"
   ]
  },
  {
   "cell_type": "code",
   "execution_count": 17,
   "metadata": {},
   "outputs": [],
   "source": [
    "import warnings\n",
    "warnings.filterwarnings(\"ignore\")"
   ]
  },
  {
   "cell_type": "code",
   "execution_count": 18,
   "metadata": {},
   "outputs": [],
   "source": [
    "import pandas as pd\n",
    "#necessario por causa do metodo de avaliaçao\n",
    "from sklearn.model_selection import KFold\n",
    "from sklearn.metrics import (\n",
    "        make_scorer,\n",
    "        confusion_matrix, \n",
    "        cohen_kappa_score, \n",
    "        accuracy_score, \n",
    "        precision_score, \n",
    "        recall_score, \n",
    "        f1_score, \n",
    "        roc_auc_score\n",
    ")\n",
    "from sklearn.model_selection import cross_validate, StratifiedKFold\n",
    "from sklearn.tree import DecisionTreeClassifier # decision trees for classification\n",
    "from sklearn.neural_network import  MLPClassifier # neural networks for classification\n",
    "from sklearn.naive_bayes import GaussianNB # naive bayes for classification\n",
    "from sklearn.svm import SVC # support vector machines for classification"
   ]
  },
  {
   "cell_type": "markdown",
   "metadata": {},
   "source": [
    "# Definir as Métricas para Avaliação dos Modelos"
   ]
  },
  {
   "cell_type": "code",
   "execution_count": 19,
   "metadata": {},
   "outputs": [],
   "source": [
    "#metricas regressao\n",
    "from sklearn.metrics import mean_squared_error, mean_absolute_error, r2_score\n",
    "\n",
    "def custom_regression_metrics(y_true, y_pred):\n",
    "    mse = mean_squared_error(y_true, y_pred)\n",
    "    mae = mean_absolute_error(y_true, y_pred)\n",
    "    r2 = r2_score(y_true, y_pred)\n",
    "    \n",
    "    return mse, mae, r2\n"
   ]
  },
  {
   "cell_type": "code",
   "execution_count": 20,
   "metadata": {},
   "outputs": [],
   "source": [
    "#metricas classificação\n",
    "def specificity_score(y_true, y_pred):\n",
    "    tn, fp, fn, tp = confusion_matrix(y_true, y_pred).ravel()\n",
    "    return tn / (tn+fp)"
   ]
  },
  {
   "cell_type": "code",
   "execution_count": 21,
   "metadata": {},
   "outputs": [],
   "source": [
    "from sklearn.metrics import mean_squared_error, mean_absolute_error, r2_score\n",
    "from sklearn.metrics import make_scorer\n",
    "import numpy as np\n",
    "\n",
    "# Função para calcular o RMSE\n",
    "def root_mean_squared_error(y_true, y_pred):\n",
    "    return np.sqrt(mean_squared_error(y_true, y_pred))\n",
    "\n",
    "# Dicionário de métricas de regressão\n",
    "REGRESSION_METRICS = {\n",
    "    \"MSE\": make_scorer(mean_squared_error),\n",
    "    \"MAE\": make_scorer(mean_absolute_error),\n",
    "    \"R2\": make_scorer(r2_score),\n",
    "    \"RMSE\": make_scorer(root_mean_squared_error)  # Adicionando o RMSE\n",
    "}\n"
   ]
  },
  {
   "cell_type": "code",
   "execution_count": 22,
   "metadata": {},
   "outputs": [],
   "source": [
    "METRICS = {\n",
    "        \"accuracy\": make_scorer(accuracy_score),\n",
    "        \"precision\": make_scorer(precision_score),\n",
    "        \"recall\": make_scorer(recall_score),\n",
    "        \"f1\": make_scorer(f1_score),\n",
    "        \"AUC\": make_scorer(roc_auc_score, needs_proba=True),\n",
    "        \"specificity\": make_scorer(specificity_score),\n",
    "        \"kappa\":make_scorer(cohen_kappa_score)\n",
    "}"
   ]
  },
  {
   "cell_type": "markdown",
   "metadata": {},
   "source": [
    "# Ler o Conjunto de Dados"
   ]
  },
  {
   "cell_type": "code",
   "execution_count": 23,
   "metadata": {},
   "outputs": [
    {
     "data": {
      "text/html": [
       "<div>\n",
       "<style scoped>\n",
       "    .dataframe tbody tr th:only-of-type {\n",
       "        vertical-align: middle;\n",
       "    }\n",
       "\n",
       "    .dataframe tbody tr th {\n",
       "        vertical-align: top;\n",
       "    }\n",
       "\n",
       "    .dataframe thead th {\n",
       "        text-align: right;\n",
       "    }\n",
       "</style>\n",
       "<table border=\"1\" class=\"dataframe\">\n",
       "  <thead>\n",
       "    <tr style=\"text-align: right;\">\n",
       "      <th></th>\n",
       "      <th>id_body_type</th>\n",
       "      <th>id_categoria_marca</th>\n",
       "      <th>ano</th>\n",
       "      <th>mileage</th>\n",
       "      <th>id_max_power_group</th>\n",
       "      <th>id_transmissao</th>\n",
       "      <th>id_modelos</th>\n",
       "      <th>resale_price_Lakh</th>\n",
       "    </tr>\n",
       "  </thead>\n",
       "  <tbody>\n",
       "    <tr>\n",
       "      <th>0</th>\n",
       "      <td>0.364112</td>\n",
       "      <td>0.073531</td>\n",
       "      <td>2019.0</td>\n",
       "      <td>23.84</td>\n",
       "      <td>0.206644</td>\n",
       "      <td>0.131359</td>\n",
       "      <td>3.086522</td>\n",
       "      <td>5.66</td>\n",
       "    </tr>\n",
       "    <tr>\n",
       "      <th>1</th>\n",
       "      <td>0.598869</td>\n",
       "      <td>0.073531</td>\n",
       "      <td>2018.0</td>\n",
       "      <td>17.50</td>\n",
       "      <td>0.206644</td>\n",
       "      <td>0.131359</td>\n",
       "      <td>2.403638</td>\n",
       "      <td>6.64</td>\n",
       "    </tr>\n",
       "    <tr>\n",
       "      <th>2</th>\n",
       "      <td>0.578053</td>\n",
       "      <td>0.073531</td>\n",
       "      <td>2015.0</td>\n",
       "      <td>17.40</td>\n",
       "      <td>0.446040</td>\n",
       "      <td>0.131359</td>\n",
       "      <td>2.583846</td>\n",
       "      <td>5.65</td>\n",
       "    </tr>\n",
       "    <tr>\n",
       "      <th>3</th>\n",
       "      <td>0.598869</td>\n",
       "      <td>0.073531</td>\n",
       "      <td>2021.0</td>\n",
       "      <td>14.08</td>\n",
       "      <td>0.446040</td>\n",
       "      <td>0.583102</td>\n",
       "      <td>3.650793</td>\n",
       "      <td>23.00</td>\n",
       "    </tr>\n",
       "    <tr>\n",
       "      <th>4</th>\n",
       "      <td>0.364112</td>\n",
       "      <td>0.073531</td>\n",
       "      <td>2019.0</td>\n",
       "      <td>21.40</td>\n",
       "      <td>0.206644</td>\n",
       "      <td>0.583102</td>\n",
       "      <td>2.747703</td>\n",
       "      <td>6.87</td>\n",
       "    </tr>\n",
       "    <tr>\n",
       "      <th>...</th>\n",
       "      <td>...</td>\n",
       "      <td>...</td>\n",
       "      <td>...</td>\n",
       "      <td>...</td>\n",
       "      <td>...</td>\n",
       "      <td>...</td>\n",
       "      <td>...</td>\n",
       "      <td>...</td>\n",
       "    </tr>\n",
       "    <tr>\n",
       "      <th>13420</th>\n",
       "      <td>1.347597</td>\n",
       "      <td>0.903640</td>\n",
       "      <td>2021.0</td>\n",
       "      <td>14.11</td>\n",
       "      <td>0.446040</td>\n",
       "      <td>0.583102</td>\n",
       "      <td>3.650793</td>\n",
       "      <td>26.50</td>\n",
       "    </tr>\n",
       "    <tr>\n",
       "      <th>13421</th>\n",
       "      <td>0.364112</td>\n",
       "      <td>0.073531</td>\n",
       "      <td>2017.0</td>\n",
       "      <td>18.60</td>\n",
       "      <td>0.206644</td>\n",
       "      <td>0.131359</td>\n",
       "      <td>2.951823</td>\n",
       "      <td>5.87</td>\n",
       "    </tr>\n",
       "    <tr>\n",
       "      <th>13422</th>\n",
       "      <td>0.578053</td>\n",
       "      <td>0.903640</td>\n",
       "      <td>2017.0</td>\n",
       "      <td>21.13</td>\n",
       "      <td>0.446040</td>\n",
       "      <td>0.131359</td>\n",
       "      <td>3.282816</td>\n",
       "      <td>7.43</td>\n",
       "    </tr>\n",
       "    <tr>\n",
       "      <th>13423</th>\n",
       "      <td>0.598869</td>\n",
       "      <td>0.073531</td>\n",
       "      <td>2017.0</td>\n",
       "      <td>24.30</td>\n",
       "      <td>0.206644</td>\n",
       "      <td>0.131359</td>\n",
       "      <td>2.747703</td>\n",
       "      <td>9.45</td>\n",
       "    </tr>\n",
       "    <tr>\n",
       "      <th>13424</th>\n",
       "      <td>0.578053</td>\n",
       "      <td>0.073531</td>\n",
       "      <td>2015.0</td>\n",
       "      <td>18.00</td>\n",
       "      <td>0.206644</td>\n",
       "      <td>0.131359</td>\n",
       "      <td>2.428944</td>\n",
       "      <td>4.55</td>\n",
       "    </tr>\n",
       "  </tbody>\n",
       "</table>\n",
       "<p>13425 rows × 8 columns</p>\n",
       "</div>"
      ],
      "text/plain": [
       "       id_body_type  id_categoria_marca     ano  mileage  id_max_power_group  \\\n",
       "0          0.364112            0.073531  2019.0    23.84            0.206644   \n",
       "1          0.598869            0.073531  2018.0    17.50            0.206644   \n",
       "2          0.578053            0.073531  2015.0    17.40            0.446040   \n",
       "3          0.598869            0.073531  2021.0    14.08            0.446040   \n",
       "4          0.364112            0.073531  2019.0    21.40            0.206644   \n",
       "...             ...                 ...     ...      ...                 ...   \n",
       "13420      1.347597            0.903640  2021.0    14.11            0.446040   \n",
       "13421      0.364112            0.073531  2017.0    18.60            0.206644   \n",
       "13422      0.578053            0.903640  2017.0    21.13            0.446040   \n",
       "13423      0.598869            0.073531  2017.0    24.30            0.206644   \n",
       "13424      0.578053            0.073531  2015.0    18.00            0.206644   \n",
       "\n",
       "       id_transmissao  id_modelos  resale_price_Lakh  \n",
       "0            0.131359    3.086522               5.66  \n",
       "1            0.131359    2.403638               6.64  \n",
       "2            0.131359    2.583846               5.65  \n",
       "3            0.583102    3.650793              23.00  \n",
       "4            0.583102    2.747703               6.87  \n",
       "...               ...         ...                ...  \n",
       "13420        0.583102    3.650793              26.50  \n",
       "13421        0.131359    2.951823               5.87  \n",
       "13422        0.131359    3.282816               7.43  \n",
       "13423        0.131359    2.747703               9.45  \n",
       "13424        0.131359    2.428944               4.55  \n",
       "\n",
       "[13425 rows x 8 columns]"
      ]
     },
     "execution_count": 23,
     "metadata": {},
     "output_type": "execute_result"
    }
   ],
   "source": [
    "d = pd.read_csv(\"Acenario2Coluna_0_20.csv\")\n",
    "d"
   ]
  },
  {
   "cell_type": "code",
   "execution_count": 24,
   "metadata": {},
   "outputs": [],
   "source": [
    "X, y = d.drop(\"resale_price_Lakh\", axis=1), d[\"resale_price_Lakh\"]"
   ]
  },
  {
   "cell_type": "markdown",
   "metadata": {},
   "source": [
    "# Definir o Método de Validação Cruzada"
   ]
  },
  {
   "cell_type": "code",
   "execution_count": 25,
   "metadata": {},
   "outputs": [],
   "source": [
    "#Classificação\n",
    "splitter = StratifiedKFold(n_splits=10, shuffle=True, random_state=1234)\n",
    "\n",
    "# Utilize KFold para um problema de regressão\n",
    "kf = KFold(n_splits=10, shuffle=True, random_state=1234)\n"
   ]
  },
  {
   "cell_type": "markdown",
   "metadata": {},
   "source": [
    "# Implementação dos Algoritmos de Machine Learning"
   ]
  },
  {
   "cell_type": "markdown",
   "metadata": {},
   "source": [
    "### Árvores de Decisão"
   ]
  },
  {
   "cell_type": "code",
   "execution_count": 40,
   "metadata": {},
   "outputs": [
    {
     "data": {
      "text/html": [
       "<div>\n",
       "<style scoped>\n",
       "    .dataframe tbody tr th:only-of-type {\n",
       "        vertical-align: middle;\n",
       "    }\n",
       "\n",
       "    .dataframe tbody tr th {\n",
       "        vertical-align: top;\n",
       "    }\n",
       "\n",
       "    .dataframe thead th {\n",
       "        text-align: right;\n",
       "    }\n",
       "</style>\n",
       "<table border=\"1\" class=\"dataframe\">\n",
       "  <thead>\n",
       "    <tr style=\"text-align: right;\">\n",
       "      <th></th>\n",
       "      <th>fit_time</th>\n",
       "      <th>score_time</th>\n",
       "      <th>test_MSE</th>\n",
       "      <th>test_MAE</th>\n",
       "      <th>test_R2</th>\n",
       "      <th>test_RMSE</th>\n",
       "    </tr>\n",
       "  </thead>\n",
       "  <tbody>\n",
       "    <tr>\n",
       "      <th>0</th>\n",
       "      <td>-0.021015</td>\n",
       "      <td>-0.002783</td>\n",
       "      <td>-12.70487</td>\n",
       "      <td>-1.490666</td>\n",
       "      <td>-0.858247</td>\n",
       "      <td>-3.45363</td>\n",
       "    </tr>\n",
       "  </tbody>\n",
       "</table>\n",
       "</div>"
      ],
      "text/plain": [
       "   fit_time  score_time  test_MSE  test_MAE   test_R2  test_RMSE\n",
       "0 -0.021015   -0.002783 -12.70487 -1.490666 -0.858247   -3.45363"
      ]
     },
     "execution_count": 40,
     "metadata": {},
     "output_type": "execute_result"
    }
   ],
   "source": [
    "from sklearn.model_selection import KFold, cross_validate\n",
    "from sklearn.tree import DecisionTreeRegressor\n",
    "from sklearn.metrics import mean_squared_error, mean_absolute_error, r2_score\n",
    "\n",
    "\n",
    "\n",
    "# Definir o regressor e o método de validação cruzada\n",
    "dt_regressor = DecisionTreeRegressor(max_depth=11, random_state=1234)\n",
    "kf = KFold(n_splits=10, shuffle=True, random_state=1234)\n",
    "\n",
    "# Realizar a validação cruzada e avaliar as métricas\n",
    "scores = cross_validate(dt_regressor, X, y, cv=kf, scoring=REGRESSION_METRICS)\n",
    "dt_scores = {k: -v.mean() for k, v in scores.items()}  # Negar os valores para tornar os scores positivos\n",
    "pd.DataFrame(dt_scores, index=[0])\n",
    "\n"
   ]
  },
  {
   "cell_type": "code",
   "execution_count": 27,
   "metadata": {},
   "outputs": [
    {
     "data": {
      "text/html": [
       "<div>\n",
       "<style scoped>\n",
       "    .dataframe tbody tr th:only-of-type {\n",
       "        vertical-align: middle;\n",
       "    }\n",
       "\n",
       "    .dataframe tbody tr th {\n",
       "        vertical-align: top;\n",
       "    }\n",
       "\n",
       "    .dataframe thead th {\n",
       "        text-align: right;\n",
       "    }\n",
       "</style>\n",
       "<table border=\"1\" class=\"dataframe\">\n",
       "  <thead>\n",
       "    <tr style=\"text-align: right;\">\n",
       "      <th></th>\n",
       "      <th>fit_time</th>\n",
       "      <th>score_time</th>\n",
       "      <th>test_MSE</th>\n",
       "      <th>test_MAE</th>\n",
       "      <th>test_R2</th>\n",
       "      <th>test_RMSE</th>\n",
       "    </tr>\n",
       "  </thead>\n",
       "  <tbody>\n",
       "    <tr>\n",
       "      <th>0</th>\n",
       "      <td>0.009253</td>\n",
       "      <td>0.0036</td>\n",
       "      <td>28.956865</td>\n",
       "      <td>3.084134</td>\n",
       "      <td>0.668536</td>\n",
       "      <td>5.348883</td>\n",
       "    </tr>\n",
       "  </tbody>\n",
       "</table>\n",
       "</div>"
      ],
      "text/plain": [
       "   fit_time  score_time   test_MSE  test_MAE   test_R2  test_RMSE\n",
       "0  0.009253      0.0036  28.956865  3.084134  0.668536   5.348883"
      ]
     },
     "execution_count": 27,
     "metadata": {},
     "output_type": "execute_result"
    }
   ],
   "source": [
    "from sklearn.model_selection import KFold\n",
    "from sklearn.tree import DecisionTreeRegressor\n",
    "from sklearn.model_selection import cross_validate\n",
    "\n",
    "# Utilize KFold para um problema de regressão\n",
    "kf = KFold(n_splits=10, shuffle=True, random_state=1234)\n",
    "\n",
    "# Continue com a validação cruzada e a avaliação de métricas\n",
    "dt_regressor = DecisionTreeRegressor(max_depth=3, random_state=1234)\n",
    "scores = cross_validate(dt_regressor, X, y, cv=kf, scoring=REGRESSION_METRICS)\n",
    "dt_scores = pd.DataFrame(scores)\n",
    "pd.DataFrame(dt_scores.mean()).T\n",
    "\n",
    "\n",
    "\n"
   ]
  },
  {
   "cell_type": "code",
   "execution_count": 28,
   "metadata": {},
   "outputs": [
    {
     "data": {
      "text/html": [
       "<div>\n",
       "<style scoped>\n",
       "    .dataframe tbody tr th:only-of-type {\n",
       "        vertical-align: middle;\n",
       "    }\n",
       "\n",
       "    .dataframe tbody tr th {\n",
       "        vertical-align: top;\n",
       "    }\n",
       "\n",
       "    .dataframe thead th {\n",
       "        text-align: right;\n",
       "    }\n",
       "</style>\n",
       "<table border=\"1\" class=\"dataframe\">\n",
       "  <thead>\n",
       "    <tr style=\"text-align: right;\">\n",
       "      <th></th>\n",
       "      <th>fit_time</th>\n",
       "      <th>score_time</th>\n",
       "      <th>test_accuracy</th>\n",
       "      <th>test_precision</th>\n",
       "      <th>test_recall</th>\n",
       "      <th>test_f1</th>\n",
       "      <th>test_AUC</th>\n",
       "      <th>test_specificity</th>\n",
       "      <th>test_kappa</th>\n",
       "    </tr>\n",
       "  </thead>\n",
       "  <tbody>\n",
       "    <tr>\n",
       "      <th>0</th>\n",
       "      <td>0.010443</td>\n",
       "      <td>0.012031</td>\n",
       "      <td>NaN</td>\n",
       "      <td>NaN</td>\n",
       "      <td>NaN</td>\n",
       "      <td>NaN</td>\n",
       "      <td>NaN</td>\n",
       "      <td>NaN</td>\n",
       "      <td>NaN</td>\n",
       "    </tr>\n",
       "  </tbody>\n",
       "</table>\n",
       "</div>"
      ],
      "text/plain": [
       "   fit_time  score_time  test_accuracy  test_precision  test_recall  test_f1  \\\n",
       "0  0.010443    0.012031            NaN             NaN          NaN      NaN   \n",
       "\n",
       "   test_AUC  test_specificity  test_kappa  \n",
       "0       NaN               NaN         NaN  "
      ]
     },
     "execution_count": 28,
     "metadata": {},
     "output_type": "execute_result"
    }
   ],
   "source": [
    "\n",
    "\n",
    "# Criar um modelo de regressão de árvore de decisão\n",
    "dt_regressor = DecisionTreeRegressor(max_depth=3, random_state=1234)\n",
    "\n",
    "# Estratégia de validação cruzada (KFold) para um problema de regressão\n",
    "kf = KFold(n_splits=10, shuffle=True, random_state=1234)\n",
    "\n",
    "# Continuar com a validação cruzada e avaliação de métricas\n",
    "scores = cross_validate(dt_regressor, X, y, cv=kf, scoring=METRICS)\n",
    "dt_scores = pd.DataFrame(scores)\n",
    "pd.DataFrame(dt_scores.mean()).T\n",
    "\n"
   ]
  },
  {
   "cell_type": "markdown",
   "metadata": {},
   "source": [
    "### Redes Neuronais"
   ]
  },
  {
   "cell_type": "code",
   "execution_count": 29,
   "metadata": {},
   "outputs": [
    {
     "data": {
      "text/html": [
       "<div>\n",
       "<style scoped>\n",
       "    .dataframe tbody tr th:only-of-type {\n",
       "        vertical-align: middle;\n",
       "    }\n",
       "\n",
       "    .dataframe tbody tr th {\n",
       "        vertical-align: top;\n",
       "    }\n",
       "\n",
       "    .dataframe thead th {\n",
       "        text-align: right;\n",
       "    }\n",
       "</style>\n",
       "<table border=\"1\" class=\"dataframe\">\n",
       "  <thead>\n",
       "    <tr style=\"text-align: right;\">\n",
       "      <th></th>\n",
       "      <th>fit_time</th>\n",
       "      <th>score_time</th>\n",
       "      <th>test_MSE</th>\n",
       "      <th>test_MAE</th>\n",
       "      <th>test_R2</th>\n",
       "      <th>test_RMSE</th>\n",
       "    </tr>\n",
       "  </thead>\n",
       "  <tbody>\n",
       "    <tr>\n",
       "      <th>0</th>\n",
       "      <td>1.652913</td>\n",
       "      <td>0.002397</td>\n",
       "      <td>65.281062</td>\n",
       "      <td>4.623208</td>\n",
       "      <td>0.26191</td>\n",
       "      <td>7.983727</td>\n",
       "    </tr>\n",
       "  </tbody>\n",
       "</table>\n",
       "</div>"
      ],
      "text/plain": [
       "   fit_time  score_time   test_MSE  test_MAE  test_R2  test_RMSE\n",
       "0  1.652913    0.002397  65.281062  4.623208  0.26191   7.983727"
      ]
     },
     "execution_count": 29,
     "metadata": {},
     "output_type": "execute_result"
    }
   ],
   "source": [
    "from sklearn.neural_network import MLPRegressor\n",
    "from sklearn.model_selection import cross_validate\n",
    "\n",
    "# Criar uma Rede Neural para regressão\n",
    "nn_regressor = MLPRegressor(hidden_layer_sizes=(50, 50), max_iter=20, random_state=1234)\n",
    "\n",
    "# Realizar a validação cruzada e avaliar as métricas\n",
    "scores_nn = cross_validate(nn_regressor, X, y, cv=kf, scoring=REGRESSION_METRICS)\n",
    "nn_scores = pd.DataFrame(scores_nn)\n",
    "pd.DataFrame(nn_scores.mean()).T\n"
   ]
  },
  {
   "cell_type": "code",
   "execution_count": 30,
   "metadata": {},
   "outputs": [
    {
     "data": {
      "text/html": [
       "<div>\n",
       "<style scoped>\n",
       "    .dataframe tbody tr th:only-of-type {\n",
       "        vertical-align: middle;\n",
       "    }\n",
       "\n",
       "    .dataframe tbody tr th {\n",
       "        vertical-align: top;\n",
       "    }\n",
       "\n",
       "    .dataframe thead th {\n",
       "        text-align: right;\n",
       "    }\n",
       "</style>\n",
       "<table border=\"1\" class=\"dataframe\">\n",
       "  <thead>\n",
       "    <tr style=\"text-align: right;\">\n",
       "      <th></th>\n",
       "      <th>fit_time</th>\n",
       "      <th>score_time</th>\n",
       "      <th>test_accuracy</th>\n",
       "      <th>test_precision</th>\n",
       "      <th>test_recall</th>\n",
       "      <th>test_f1</th>\n",
       "      <th>test_AUC</th>\n",
       "      <th>test_specificity</th>\n",
       "      <th>test_kappa</th>\n",
       "    </tr>\n",
       "  </thead>\n",
       "  <tbody>\n",
       "    <tr>\n",
       "      <th>0</th>\n",
       "      <td>2.313141</td>\n",
       "      <td>0.011761</td>\n",
       "      <td>NaN</td>\n",
       "      <td>NaN</td>\n",
       "      <td>NaN</td>\n",
       "      <td>NaN</td>\n",
       "      <td>NaN</td>\n",
       "      <td>NaN</td>\n",
       "      <td>NaN</td>\n",
       "    </tr>\n",
       "  </tbody>\n",
       "</table>\n",
       "</div>"
      ],
      "text/plain": [
       "   fit_time  score_time  test_accuracy  test_precision  test_recall  test_f1  \\\n",
       "0  2.313141    0.011761            NaN             NaN          NaN      NaN   \n",
       "\n",
       "   test_AUC  test_specificity  test_kappa  \n",
       "0       NaN               NaN         NaN  "
      ]
     },
     "execution_count": 30,
     "metadata": {},
     "output_type": "execute_result"
    }
   ],
   "source": [
    "from sklearn.neural_network import MLPRegressor\n",
    "from sklearn.model_selection import cross_validate\n",
    "\n",
    "# Criar uma Rede Neural para regressão\n",
    "nn_regressor = MLPRegressor(hidden_layer_sizes=(50, 50), max_iter=20, random_state=1234)\n",
    "\n",
    "# Realizar a validação cruzada e avaliar as métricas\n",
    "scores_nn = cross_validate(nn_regressor, X, y, cv=kf, scoring=METRICS)\n",
    "nn_scores = pd.DataFrame(scores_nn)\n",
    "pd.DataFrame(nn_scores.mean()).T"
   ]
  },
  {
   "cell_type": "markdown",
   "metadata": {},
   "source": [
    "### Naive Bayes"
   ]
  },
  {
   "cell_type": "code",
   "execution_count": 31,
   "metadata": {},
   "outputs": [
    {
     "data": {
      "text/html": [
       "<div>\n",
       "<style scoped>\n",
       "    .dataframe tbody tr th:only-of-type {\n",
       "        vertical-align: middle;\n",
       "    }\n",
       "\n",
       "    .dataframe tbody tr th {\n",
       "        vertical-align: top;\n",
       "    }\n",
       "\n",
       "    .dataframe thead th {\n",
       "        text-align: right;\n",
       "    }\n",
       "</style>\n",
       "<table border=\"1\" class=\"dataframe\">\n",
       "  <thead>\n",
       "    <tr style=\"text-align: right;\">\n",
       "      <th></th>\n",
       "      <th>fit_time</th>\n",
       "      <th>score_time</th>\n",
       "      <th>test_MSE</th>\n",
       "      <th>test_MAE</th>\n",
       "      <th>test_R2</th>\n",
       "      <th>test_RMSE</th>\n",
       "    </tr>\n",
       "  </thead>\n",
       "  <tbody>\n",
       "    <tr>\n",
       "      <th>0</th>\n",
       "      <td>3.602327</td>\n",
       "      <td>0.034763</td>\n",
       "      <td>8.700436</td>\n",
       "      <td>1.199458</td>\n",
       "      <td>0.902088</td>\n",
       "      <td>2.89697</td>\n",
       "    </tr>\n",
       "  </tbody>\n",
       "</table>\n",
       "</div>"
      ],
      "text/plain": [
       "   fit_time  score_time  test_MSE  test_MAE   test_R2  test_RMSE\n",
       "0  3.602327    0.034763  8.700436  1.199458  0.902088    2.89697"
      ]
     },
     "execution_count": 31,
     "metadata": {},
     "output_type": "execute_result"
    }
   ],
   "source": [
    "from sklearn.ensemble import RandomForestRegressor\n",
    "from sklearn.model_selection import cross_validate\n",
    "from sklearn.metrics import make_scorer, mean_squared_error, mean_absolute_error\n",
    "\n",
    "\n",
    "\n",
    "# Criar um regressor RandomForest\n",
    "rf_regressor = RandomForestRegressor(n_estimators=100, random_state=1234)\n",
    "\n",
    "# Realizar a validação cruzada e avaliar as métricas\n",
    "scores_rf = cross_validate(rf_regressor, X, y, cv=kf, scoring=REGRESSION_METRICS)\n",
    "rf_scores = pd.DataFrame(scores_rf)\n",
    "pd.DataFrame(rf_scores.mean()).T\n"
   ]
  },
  {
   "cell_type": "code",
   "execution_count": 32,
   "metadata": {},
   "outputs": [
    {
     "data": {
      "text/html": [
       "<div>\n",
       "<style scoped>\n",
       "    .dataframe tbody tr th:only-of-type {\n",
       "        vertical-align: middle;\n",
       "    }\n",
       "\n",
       "    .dataframe tbody tr th {\n",
       "        vertical-align: top;\n",
       "    }\n",
       "\n",
       "    .dataframe thead th {\n",
       "        text-align: right;\n",
       "    }\n",
       "</style>\n",
       "<table border=\"1\" class=\"dataframe\">\n",
       "  <thead>\n",
       "    <tr style=\"text-align: right;\">\n",
       "      <th></th>\n",
       "      <th>fit_time</th>\n",
       "      <th>score_time</th>\n",
       "      <th>test_accuracy</th>\n",
       "      <th>test_precision</th>\n",
       "      <th>test_recall</th>\n",
       "      <th>test_f1</th>\n",
       "      <th>test_AUC</th>\n",
       "      <th>test_specificity</th>\n",
       "      <th>test_kappa</th>\n",
       "    </tr>\n",
       "  </thead>\n",
       "  <tbody>\n",
       "    <tr>\n",
       "      <th>0</th>\n",
       "      <td>3.586144</td>\n",
       "      <td>0.037466</td>\n",
       "      <td>NaN</td>\n",
       "      <td>NaN</td>\n",
       "      <td>NaN</td>\n",
       "      <td>NaN</td>\n",
       "      <td>NaN</td>\n",
       "      <td>NaN</td>\n",
       "      <td>NaN</td>\n",
       "    </tr>\n",
       "  </tbody>\n",
       "</table>\n",
       "</div>"
      ],
      "text/plain": [
       "   fit_time  score_time  test_accuracy  test_precision  test_recall  test_f1  \\\n",
       "0  3.586144    0.037466            NaN             NaN          NaN      NaN   \n",
       "\n",
       "   test_AUC  test_specificity  test_kappa  \n",
       "0       NaN               NaN         NaN  "
      ]
     },
     "execution_count": 32,
     "metadata": {},
     "output_type": "execute_result"
    }
   ],
   "source": [
    "from sklearn.ensemble import RandomForestRegressor\n",
    "from sklearn.model_selection import cross_validate\n",
    "from sklearn.metrics import make_scorer, mean_squared_error, mean_absolute_error\n",
    "\n",
    "\n",
    "\n",
    "# Criar um regressor RandomForest\n",
    "rf_regressor = RandomForestRegressor(n_estimators=100, random_state=1234)\n",
    "\n",
    "# Realizar a validação cruzada e avaliar as métricas\n",
    "scores_rf = cross_validate(rf_regressor, X, y, cv=kf, scoring=METRICS)\n",
    "rf_scores = pd.DataFrame(scores_rf)\n",
    "pd.DataFrame(rf_scores.mean()).T"
   ]
  },
  {
   "cell_type": "markdown",
   "metadata": {},
   "source": [
    "### Support Vector Machine"
   ]
  }
 ],
 "metadata": {
  "kernelspec": {
   "display_name": "Python 3.9.13 ('aase')",
   "language": "python",
   "name": "python3"
  },
  "language_info": {
   "codemirror_mode": {
    "name": "ipython",
    "version": 3
   },
   "file_extension": ".py",
   "mimetype": "text/x-python",
   "name": "python",
   "nbconvert_exporter": "python",
   "pygments_lexer": "ipython3",
   "version": "3.12.0"
  },
  "orig_nbformat": 4,
  "vscode": {
   "interpreter": {
    "hash": "941a02c14a17852a9cb07cad892c4a36ec1d8a3f93fc8ad448615ff7fbd85d7b"
   }
  }
 },
 "nbformat": 4,
 "nbformat_minor": 2
}
