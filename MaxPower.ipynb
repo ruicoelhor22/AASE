{
 "cells": [
  {
   "cell_type": "code",
   "execution_count": 11,
   "metadata": {},
   "outputs": [],
   "source": [
    "import matplotlib.pyplot as plt\n",
    "import pandas as pd\n",
    "import seaborn as sns\n",
    "import numpy as np\n",
    "import re"
   ]
  },
  {
   "cell_type": "code",
   "execution_count": 12,
   "metadata": {},
   "outputs": [],
   "source": [
    "df = pd.read_csv('train.csv')"
   ]
  },
  {
   "cell_type": "code",
   "execution_count": 13,
   "metadata": {},
   "outputs": [],
   "source": [
    "Correct_Max_Power = []\n",
    "for power in df['max_power']:\n",
    "    if pd.notna(power):\n",
    "        if isinstance(power, str):\n",
    "            if 'bhp' in power:\n",
    "                num_bhp = float(re.search(r'\\d+.?\\d', power).group())\n",
    "                Correct_Max_Power.append(num_bhp)\n",
    "            elif 'PS' in power:\n",
    "                num_ps = float(re.search(r'\\d+.?\\d', power).group())\n",
    "                num_bhp = round(num_ps * 0.98632, 2)\n",
    "                Correct_Max_Power.append(num_bhp)\n",
    "            else:\n",
    "                num = re.search(r'\\d+\\.?\\d*', power)\n",
    "                Correct_Max_Power.append(float(num.group()) if num else None)\n",
    "        else:\n",
    "            Correct_Max_Power.append(power)\n",
    "    else:\n",
    "        Correct_Max_Power.append(None)\n",
    "\n",
    "\n",
    "# Converter os valores não NaN para float\n",
    "Correct_Max_Power = [float(value) if value is not None else value for value in Correct_Max_Power]\n",
    "\n",
    "df['max_power'] = Correct_Max_Power\n"
   ]
  },
  {
   "cell_type": "code",
   "execution_count": 14,
   "metadata": {},
   "outputs": [
    {
     "name": "stdout",
     "output_type": "stream",
     "text": [
      "0         83.8\n",
      "1         88.7\n",
      "2        117.3\n",
      "3        167.6\n",
      "4         83.1\n",
      "         ...  \n",
      "13951    197.2\n",
      "13952     81.8\n",
      "13953    108.6\n",
      "13954     88.5\n",
      "13955     86.7\n",
      "Name: max_power, Length: 13867, dtype: float64\n"
     ]
    }
   ],
   "source": [
    "# Remover linhas com NaN na coluna 'max_power'\n",
    "df = df.dropna(subset=['max_power'])\n",
    "print(df['max_power'])"
   ]
  },
  {
   "cell_type": "code",
   "execution_count": 15,
   "metadata": {},
   "outputs": [],
   "source": [
    "# Change the data types of multiple columns\n",
    "df = df.astype({\n",
    "    \n",
    "    'max_power': float,\n",
    "    \n",
    "})"
   ]
  },
  {
   "cell_type": "code",
   "execution_count": 16,
   "metadata": {},
   "outputs": [
    {
     "name": "stdout",
     "output_type": "stream",
     "text": [
      "Data type by column:\n",
      "full_name             object\n",
      "registered_year       object\n",
      "engine_capacity       object\n",
      "insurance             object\n",
      "transmission_type     object\n",
      "kms_driven            object\n",
      "owner_type            object\n",
      "fuel_type             object\n",
      "max_power            float64\n",
      "seats                float64\n",
      "mileage               object\n",
      "body_type             object\n",
      "city                  object\n",
      "resale_price_Lakh    float64\n",
      "dtype: object\n"
     ]
    }
   ],
   "source": [
    "# Check data types\n",
    "data_types = df.dtypes\n",
    "print(\"Data type by column:\")\n",
    "print(data_types)"
   ]
  },
  {
   "cell_type": "code",
   "execution_count": 17,
   "metadata": {},
   "outputs": [
    {
     "name": "stdout",
     "output_type": "stream",
     "text": [
      "                                               full_name registered_year  \\\n",
      "0                                2019 Tata Tiago XZ Plus        Nov 2019   \n",
      "1                              2018 Honda WR-V i-VTEC VX        Apr 2018   \n",
      "2                              2015 Honda City i VTEC SV        May 2015   \n",
      "3      2021 Tata New Safari XZA Plus Adventure Editio...            2021   \n",
      "4                        2019 Maruti Baleno 1.2 CVT Zeta        Jun 2019   \n",
      "...                                                  ...             ...   \n",
      "13951                          2021 Kia Carnival Premium            2021   \n",
      "13952               2017 Hyundai i20 1.2 Magna Executive        Dec 2017   \n",
      "13953             2017 Skoda Rapid 1.5 TDI Ambition BSIV        Jan 2018   \n",
      "13954                      2017 Maruti Vitara Brezza ZDi        Apr 2017   \n",
      "13955                         2015 Honda Amaze S i-Vtech        Mar 2015   \n",
      "\n",
      "      engine_capacity              insurance transmission_type  kms_driven  \\\n",
      "0             1199 cc            Third Party            Manual  30,910 Kms   \n",
      "1             1199 cc               Zero Dep            Manual  48,089 Kms   \n",
      "2             1497 cc  Third Party insurance            Manual  51,000 Kms   \n",
      "3             1956 cc  Third Party insurance         Automatic  30,000 Kms   \n",
      "4             1197 cc               Zero Dep         Automatic  61,113 Kms   \n",
      "...               ...                    ...               ...         ...   \n",
      "13951         2199 cc  Third Party insurance         Automatic  80,000 Kms   \n",
      "13952         1197 cc  Third Party insurance            Manual  17,923 Kms   \n",
      "13953         1498 cc          Comprehensive            Manual  63,389 Kms   \n",
      "13954         1248 cc          Comprehensive            Manual  40,000 Kms   \n",
      "13955         1198 cc          Comprehensive            Manual  33,046 Kms   \n",
      "\n",
      "         owner_type fuel_type  max_power  seats     mileage  body_type  \\\n",
      "0       First Owner    Petrol       83.8    5.0  23.84 kmpl  Hatchback   \n",
      "1       Third Owner    Petrol       88.7    5.0   17.5 kmpl        SUV   \n",
      "2      Second Owner    Petrol      117.3    5.0   17.4 kmpl      Sedan   \n",
      "3       First Owner    Diesel      167.6    7.0  14.08 kmpl        SUV   \n",
      "4       First Owner    Petrol       83.1    5.0   21.4 kmpl  Hatchback   \n",
      "...             ...       ...        ...    ...         ...        ...   \n",
      "13951  Second Owner    Diesel      197.2    7.0  14.11 kmpl        MUV   \n",
      "13952   First Owner    Petrol       81.8    5.0   18.6 kmpl  Hatchback   \n",
      "13953  Second Owner    Diesel      108.6    5.0  21.13 kmpl      Sedan   \n",
      "13954  Second Owner    Diesel       88.5    5.0   24.3 kmpl        SUV   \n",
      "13955   First Owner    Petrol       86.7    5.0     18 kmpl      Sedan   \n",
      "\n",
      "            city  resale_price_Lakh max_power_group  \n",
      "0           Pune               5.66       0-100 bhp  \n",
      "1         Jaipur               6.64       0-100 bhp  \n",
      "2         Mumbai               5.65     100-200 bhp  \n",
      "3         Mumbai              23.00     100-200 bhp  \n",
      "4        Kolkata               6.87       0-100 bhp  \n",
      "...          ...                ...             ...  \n",
      "13951  Hyderabad              26.50     100-200 bhp  \n",
      "13952    Gurgaon               5.87       0-100 bhp  \n",
      "13953  Hyderabad               7.43     100-200 bhp  \n",
      "13954  Bangalore               9.45       0-100 bhp  \n",
      "13955  Bangalore               4.55       0-100 bhp  \n",
      "\n",
      "[13867 rows x 15 columns]\n"
     ]
    }
   ],
   "source": [
    "# create groups: max_power\n",
    "\n",
    "# define os limites dos grupos\n",
    "limites = [0, 100, 200, 300, 400, 500, 600]  \n",
    "rotulos = ['0-100 bhp', '100-200 bhp', '200-300 bhp', '300-400 bhp', '400-500 bhp', '500-600 bhp']\n",
    "\n",
    "# nova coluna 'max_power_group'\n",
    "df['max_power_group'] = pd.cut(df['max_power'], bins=limites, labels=rotulos, right=False)\n",
    "\n",
    "print(df)\n"
   ]
  },
  {
   "cell_type": "code",
   "execution_count": 18,
   "metadata": {},
   "outputs": [
    {
     "name": "stdout",
     "output_type": "stream",
     "text": [
      "['0-100 bhp', '100-200 bhp', '200-300 bhp', '300-400 bhp', '500-600 bhp', '400-500 bhp']\n",
      "Categories (6, object): ['0-100 bhp' < '100-200 bhp' < '200-300 bhp' < '300-400 bhp' < '400-500 bhp' < '500-600 bhp']\n"
     ]
    }
   ],
   "source": [
    "# unique 'max_power_group'\n",
    "valores_unicos_kms_group= df['max_power_group'].unique()\n",
    "print(valores_unicos_kms_group)"
   ]
  },
  {
   "cell_type": "code",
   "execution_count": 19,
   "metadata": {},
   "outputs": [
    {
     "name": "stdout",
     "output_type": "stream",
     "text": [
      "      0-100 bhp: 0.2193089476942497\n",
      "    100-200 bhp: 0.4385191736695107\n",
      "    200-300 bhp: 1.5737807914858088\n",
      "    300-400 bhp: 2.3426419660992224\n",
      "    500-600 bhp: 3.2388925285608603\n",
      "    400-500 bhp: 3.1005898303945787\n"
     ]
    }
   ],
   "source": [
    "# Check ID_kms\n",
    "\n",
    "# Sua coluna de tipos de combustível\n",
    "max_power_group = df['max_power_group']\n",
    "\n",
    "# Número de documentos (ou entradas) no DataFrame\n",
    "n_docs = len(df)\n",
    "\n",
    "idf = {}\n",
    "\n",
    "# Usando drop_duplicates para obter valores únicos\n",
    "unique_max_power_group = max_power_group.drop_duplicates()\n",
    "\n",
    "for max_power_group in unique_max_power_group:\n",
    "    k = sum(max_power_group in row for row in df['max_power_group'])  # contagem de documentos que contêm este tipo de combustível\n",
    "    idf[max_power_group] = np.log10(n_docs / (k + 1))  # Adicionei +1 para evitar divisão por zero\n",
    "\n",
    "for max_power_group, value in idf.items():\n",
    "    print(f'{max_power_group:>15}: {value:>10}')\n",
    "\n",
    "\n"
   ]
  },
  {
   "cell_type": "code",
   "execution_count": 20,
   "metadata": {},
   "outputs": [
    {
     "name": "stdout",
     "output_type": "stream",
     "text": [
      "      0-100 bhp: 0.2193089476942497\n",
      "    100-200 bhp: 0.4385191736695107\n",
      "    200-300 bhp: 1.5737807914858088\n",
      "    300-400 bhp: 2.3426419660992224\n",
      "    500-600 bhp: 3.2388925285608603\n",
      "    400-500 bhp: 3.1005898303945787\n",
      "                                               full_name registered_year  \\\n",
      "0                                2019 Tata Tiago XZ Plus        Nov 2019   \n",
      "1                              2018 Honda WR-V i-VTEC VX        Apr 2018   \n",
      "2                              2015 Honda City i VTEC SV        May 2015   \n",
      "3      2021 Tata New Safari XZA Plus Adventure Editio...            2021   \n",
      "4                        2019 Maruti Baleno 1.2 CVT Zeta        Jun 2019   \n",
      "...                                                  ...             ...   \n",
      "13951                          2021 Kia Carnival Premium            2021   \n",
      "13952               2017 Hyundai i20 1.2 Magna Executive        Dec 2017   \n",
      "13953             2017 Skoda Rapid 1.5 TDI Ambition BSIV        Jan 2018   \n",
      "13954                      2017 Maruti Vitara Brezza ZDi        Apr 2017   \n",
      "13955                         2015 Honda Amaze S i-Vtech        Mar 2015   \n",
      "\n",
      "      engine_capacity              insurance transmission_type  kms_driven  \\\n",
      "0             1199 cc            Third Party            Manual  30,910 Kms   \n",
      "1             1199 cc               Zero Dep            Manual  48,089 Kms   \n",
      "2             1497 cc  Third Party insurance            Manual  51,000 Kms   \n",
      "3             1956 cc  Third Party insurance         Automatic  30,000 Kms   \n",
      "4             1197 cc               Zero Dep         Automatic  61,113 Kms   \n",
      "...               ...                    ...               ...         ...   \n",
      "13951         2199 cc  Third Party insurance         Automatic  80,000 Kms   \n",
      "13952         1197 cc  Third Party insurance            Manual  17,923 Kms   \n",
      "13953         1498 cc          Comprehensive            Manual  63,389 Kms   \n",
      "13954         1248 cc          Comprehensive            Manual  40,000 Kms   \n",
      "13955         1198 cc          Comprehensive            Manual  33,046 Kms   \n",
      "\n",
      "         owner_type fuel_type  max_power  seats     mileage  body_type  \\\n",
      "0       First Owner    Petrol       83.8    5.0  23.84 kmpl  Hatchback   \n",
      "1       Third Owner    Petrol       88.7    5.0   17.5 kmpl        SUV   \n",
      "2      Second Owner    Petrol      117.3    5.0   17.4 kmpl      Sedan   \n",
      "3       First Owner    Diesel      167.6    7.0  14.08 kmpl        SUV   \n",
      "4       First Owner    Petrol       83.1    5.0   21.4 kmpl  Hatchback   \n",
      "...             ...       ...        ...    ...         ...        ...   \n",
      "13951  Second Owner    Diesel      197.2    7.0  14.11 kmpl        MUV   \n",
      "13952   First Owner    Petrol       81.8    5.0   18.6 kmpl  Hatchback   \n",
      "13953  Second Owner    Diesel      108.6    5.0  21.13 kmpl      Sedan   \n",
      "13954  Second Owner    Diesel       88.5    5.0   24.3 kmpl        SUV   \n",
      "13955   First Owner    Petrol       86.7    5.0     18 kmpl      Sedan   \n",
      "\n",
      "            city  resale_price_Lakh max_power_group id_max_power_group  \n",
      "0           Pune               5.66       0-100 bhp           0.219309  \n",
      "1         Jaipur               6.64       0-100 bhp           0.219309  \n",
      "2         Mumbai               5.65     100-200 bhp           0.438519  \n",
      "3         Mumbai              23.00     100-200 bhp           0.438519  \n",
      "4        Kolkata               6.87       0-100 bhp           0.219309  \n",
      "...          ...                ...             ...                ...  \n",
      "13951  Hyderabad              26.50     100-200 bhp           0.438519  \n",
      "13952    Gurgaon               5.87       0-100 bhp           0.219309  \n",
      "13953  Hyderabad               7.43     100-200 bhp           0.438519  \n",
      "13954  Bangalore               9.45       0-100 bhp           0.219309  \n",
      "13955  Bangalore               4.55       0-100 bhp           0.219309  \n",
      "\n",
      "[13867 rows x 16 columns]\n"
     ]
    }
   ],
   "source": [
    "# Check ID_kms\n",
    "\n",
    "# Sua coluna de tipos de combustível\n",
    "max_power_group = df['max_power_group']\n",
    "\n",
    "# Número de documentos (ou entradas) no DataFrame\n",
    "n_docs = len(df)\n",
    "\n",
    "idf = {}\n",
    "\n",
    "# Usando drop_duplicates para obter valores únicos\n",
    "unique_max_power_group = max_power_group.drop_duplicates()\n",
    "\n",
    "for max_power_group in unique_max_power_group:\n",
    "    k = sum(max_power_group in row for row in df['max_power_group'])  # contagem de documentos que contêm este tipo de combustível\n",
    "    idf[max_power_group] = np.log10(n_docs / (k + 1))  # Adicionei +1 para evitar divisão por zero\n",
    "\n",
    "for max_power_group, value in idf.items():\n",
    "    print(f'{max_power_group:>15}: {value:>10}')\n",
    "\n",
    "\n",
    "# Criar nova coluna 'idf' no DataFrame\n",
    "df['id_max_power_group'] = df['max_power_group'].map(idf)\n",
    "\n",
    "# Se desejar imprimir o DataFrame com a nova coluna\n",
    "print(df)"
   ]
  }
 ],
 "metadata": {
  "kernelspec": {
   "display_name": "Python 3",
   "language": "python",
   "name": "python3"
  },
  "language_info": {
   "codemirror_mode": {
    "name": "ipython",
    "version": 3
   },
   "file_extension": ".py",
   "mimetype": "text/x-python",
   "name": "python",
   "nbconvert_exporter": "python",
   "pygments_lexer": "ipython3",
   "version": "3.11.3"
  }
 },
 "nbformat": 4,
 "nbformat_minor": 2
}
