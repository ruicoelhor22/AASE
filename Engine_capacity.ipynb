{
 "cells": [
  {
   "cell_type": "code",
   "execution_count": 18,
   "metadata": {},
   "outputs": [],
   "source": [
    "import matplotlib.pyplot as plt\n",
    "import pandas as pd\n",
    "import seaborn as sns\n",
    "import numpy as np\n",
    "import re"
   ]
  },
  {
   "cell_type": "code",
   "execution_count": 19,
   "metadata": {},
   "outputs": [],
   "source": [
    "df = pd.read_csv('train.csv')"
   ]
  },
  {
   "cell_type": "code",
   "execution_count": 20,
   "metadata": {},
   "outputs": [],
   "source": [
    "#remove cc from engine_capacity\n",
    "df['engine_capacity'] = df['engine_capacity'].str.replace('cc', '')"
   ]
  },
  {
   "cell_type": "code",
   "execution_count": 21,
   "metadata": {},
   "outputs": [],
   "source": [
    "# Change the data types of multiple columns\n",
    "df = df.astype({\n",
    "    'engine_capacity': float,\n",
    "})"
   ]
  },
  {
   "cell_type": "code",
   "execution_count": 22,
   "metadata": {},
   "outputs": [
    {
     "name": "stdout",
     "output_type": "stream",
     "text": [
      "Data type by column:\n",
      "full_name             object\n",
      "registered_year       object\n",
      "engine_capacity      float64\n",
      "insurance             object\n",
      "transmission_type     object\n",
      "kms_driven            object\n",
      "owner_type            object\n",
      "fuel_type             object\n",
      "max_power             object\n",
      "seats                float64\n",
      "mileage               object\n",
      "body_type             object\n",
      "city                  object\n",
      "resale_price_Lakh    float64\n",
      "dtype: object\n"
     ]
    }
   ],
   "source": [
    "# Check data types\n",
    "data_types = df.dtypes\n",
    "print(\"Data type by column:\")\n",
    "print(data_types)"
   ]
  },
  {
   "cell_type": "code",
   "execution_count": 24,
   "metadata": {},
   "outputs": [
    {
     "name": "stdout",
     "output_type": "stream",
     "text": [
      "                                               full_name registered_year  \\\n",
      "0                                2019 Tata Tiago XZ Plus        Nov 2019   \n",
      "1                              2018 Honda WR-V i-VTEC VX        Apr 2018   \n",
      "2                              2015 Honda City i VTEC SV        May 2015   \n",
      "3      2021 Tata New Safari XZA Plus Adventure Editio...            2021   \n",
      "4                        2019 Maruti Baleno 1.2 CVT Zeta        Jun 2019   \n",
      "...                                                  ...             ...   \n",
      "13951                          2021 Kia Carnival Premium            2021   \n",
      "13952               2017 Hyundai i20 1.2 Magna Executive        Dec 2017   \n",
      "13953             2017 Skoda Rapid 1.5 TDI Ambition BSIV        Jan 2018   \n",
      "13954                      2017 Maruti Vitara Brezza ZDi        Apr 2017   \n",
      "13955                         2015 Honda Amaze S i-Vtech        Mar 2015   \n",
      "\n",
      "       engine_capacity              insurance transmission_type  kms_driven  \\\n",
      "0               1199.0            Third Party            Manual  30,910 Kms   \n",
      "1               1199.0               Zero Dep            Manual  48,089 Kms   \n",
      "2               1497.0  Third Party insurance            Manual  51,000 Kms   \n",
      "3               1956.0  Third Party insurance         Automatic  30,000 Kms   \n",
      "4               1197.0               Zero Dep         Automatic  61,113 Kms   \n",
      "...                ...                    ...               ...         ...   \n",
      "13951           2199.0  Third Party insurance         Automatic  80,000 Kms   \n",
      "13952           1197.0  Third Party insurance            Manual  17,923 Kms   \n",
      "13953           1498.0          Comprehensive            Manual  63,389 Kms   \n",
      "13954           1248.0          Comprehensive            Manual  40,000 Kms   \n",
      "13955           1198.0          Comprehensive            Manual  33,046 Kms   \n",
      "\n",
      "         owner_type fuel_type  max_power  seats     mileage  body_type  \\\n",
      "0       First Owner    Petrol   83.83bhp    5.0  23.84 kmpl  Hatchback   \n",
      "1       Third Owner    Petrol    88.7bhp    5.0   17.5 kmpl        SUV   \n",
      "2      Second Owner    Petrol   117.3bhp    5.0   17.4 kmpl      Sedan   \n",
      "3       First Owner    Diesel  167.67bhp    7.0  14.08 kmpl        SUV   \n",
      "4       First Owner    Petrol    83.1bhp    5.0   21.4 kmpl  Hatchback   \n",
      "...             ...       ...        ...    ...         ...        ...   \n",
      "13951  Second Owner    Diesel   197.2bhp    7.0  14.11 kmpl        MUV   \n",
      "13952   First Owner    Petrol   81.83bhp    5.0   18.6 kmpl  Hatchback   \n",
      "13953  Second Owner    Diesel   108.6bhp    5.0  21.13 kmpl      Sedan   \n",
      "13954  Second Owner    Diesel    88.5bhp    5.0   24.3 kmpl        SUV   \n",
      "13955   First Owner    Petrol    86.7bhp    5.0     18 kmpl      Sedan   \n",
      "\n",
      "            city  resale_price_Lakh engine_capacity_group  \n",
      "0           Pune               5.66           até 2000 cc  \n",
      "1         Jaipur               6.64           até 2000 cc  \n",
      "2         Mumbai               5.65           até 2000 cc  \n",
      "3         Mumbai              23.00           até 2000 cc  \n",
      "4        Kolkata               6.87           até 2000 cc  \n",
      "...          ...                ...                   ...  \n",
      "13951  Hyderabad              26.50           até 3000 cc  \n",
      "13952    Gurgaon               5.87           até 2000 cc  \n",
      "13953  Hyderabad               7.43           até 2000 cc  \n",
      "13954  Bangalore               9.45           até 2000 cc  \n",
      "13955  Bangalore               4.55           até 2000 cc  \n",
      "\n",
      "[13956 rows x 15 columns]\n"
     ]
    }
   ],
   "source": [
    "# create groups: engine_capacity\n",
    "\n",
    "# defines the groups limit\n",
    "limites = [0,1, 1000, 2000, 3000, 4000, float('inf')]  \n",
    "rotulos = ['Elétrico', 'até 1000 cc', 'até 2000 cc', 'até 3000 cc', 'até 4000 cc', 'mais de 4000 cc']\n",
    "\n",
    "# new column'engine_capacity_group' \n",
    "df['engine_capacity_group'] = pd.cut(df['engine_capacity'], bins=limites, labels=rotulos, right=False)\n",
    "\n",
    "print(df)"
   ]
  },
  {
   "cell_type": "code",
   "execution_count": 25,
   "metadata": {},
   "outputs": [
    {
     "name": "stdout",
     "output_type": "stream",
     "text": [
      "engine_capacity_group\n",
      "Elétrico           33.018049\n",
      "até 1000 cc         4.352258\n",
      "até 2000 cc         8.187028\n",
      "até 3000 cc        20.232041\n",
      "até 4000 cc        29.984848\n",
      "mais de 4000 cc    43.310000\n",
      "Name: resale_price_Lakh, dtype: float64\n"
     ]
    },
    {
     "name": "stderr",
     "output_type": "stream",
     "text": [
      "C:\\Users\\letic\\AppData\\Local\\Temp\\ipykernel_5700\\1365649427.py:2: FutureWarning: The default of observed=False is deprecated and will be changed to True in a future version of pandas. Pass observed=False to retain current behavior or observed=True to adopt the future default and silence this warning.\n",
      "  average_price_by_eng= df.groupby('engine_capacity_group')['resale_price_Lakh'].mean()\n"
     ]
    }
   ],
   "source": [
    "#on average what is the price based on eng\n",
    "average_price_by_eng= df.groupby('engine_capacity_group')['resale_price_Lakh'].mean()\n",
    "print(average_price_by_eng)"
   ]
  },
  {
   "cell_type": "code",
   "execution_count": 26,
   "metadata": {},
   "outputs": [
    {
     "name": "stdout",
     "output_type": "stream",
     "text": [
      "engine_capacity_group\n",
      "até 2000 cc        10310\n",
      "até 1000 cc         2263\n",
      "até 3000 cc         1279\n",
      "Elétrico              41\n",
      "até 4000 cc           33\n",
      "mais de 4000 cc       21\n",
      "Name: count, dtype: int64\n"
     ]
    }
   ],
   "source": [
    "# frequency of each group \n",
    "frequencia_grupos = df['engine_capacity_group'].value_counts()\n",
    "print(frequencia_grupos)\n"
   ]
  },
  {
   "cell_type": "code",
   "execution_count": 31,
   "metadata": {},
   "outputs": [],
   "source": [
    "engine_capacity_group = df['engine_capacity_group'].astype(str)\n",
    "engine_capacity_group = df['engine_capacity_group'].astype(str).dropna()\n"
   ]
  },
  {
   "cell_type": "code",
   "execution_count": 35,
   "metadata": {},
   "outputs": [
    {
     "name": "stdout",
     "output_type": "stream",
     "text": [
      "    até 2000 cc: 0.1314601739191855\n",
      "    até 3000 cc: 1.0375509911282048\n",
      "    até 1000 cc: 0.7898845382598394\n",
      "            nan: 4.144760960776074\n",
      "    até 4000 cc: 2.6132820437338182\n",
      "       Elétrico: 2.521511670378173\n",
      "mais de 4000 cc: 2.802338279953867\n"
     ]
    }
   ],
   "source": [
    "#Check ID_engine_capacity\n",
    "\n",
    "# Sua coluna de tipos de combustível\n",
    "engine_capacity_group = df['engine_capacity_group']\n",
    "\n",
    "# Número de documentos (ou entradas) no DataFrame\n",
    "n_docs = len(df)\n",
    "\n",
    "idf = {}\n",
    "\n",
    "# Usando drop_duplicates para obter valores únicos\n",
    "unique_engine_capacity_group = engine_capacity_group.drop_duplicates()\n",
    "\n",
    "for engine_capacity_group_val in unique_engine_capacity_group:\n",
    "    k = sum(engine_capacity_group_val == val for val in engine_capacity_group)  # contagem de documentos que contêm este tipo de combustível\n",
    "    idf[engine_capacity_group_val] = np.log10(n_docs / (k + 1))  # Adicionei +1 para evitar divisão por zero\n",
    "\n",
    "for engine_capacity_group_val, value in idf.items():\n",
    "    print(f'{engine_capacity_group_val:>15}: {value:>10}')"
   ]
  },
  {
   "cell_type": "code",
   "execution_count": 40,
   "metadata": {},
   "outputs": [
    {
     "name": "stdout",
     "output_type": "stream",
     "text": [
      "    até 2000 cc: 0.1314601739191855\n",
      "    até 3000 cc: 1.0375509911282048\n",
      "    até 1000 cc: 0.7898845382598394\n",
      "            nan: 4.144760960776074\n",
      "    até 4000 cc: 2.6132820437338182\n",
      "       Elétrico: 2.521511670378173\n",
      "mais de 4000 cc: 2.802338279953867\n",
      "                                               full_name registered_year  \\\n",
      "0                                2019 Tata Tiago XZ Plus        Nov 2019   \n",
      "1                              2018 Honda WR-V i-VTEC VX        Apr 2018   \n",
      "2                              2015 Honda City i VTEC SV        May 2015   \n",
      "3      2021 Tata New Safari XZA Plus Adventure Editio...            2021   \n",
      "4                        2019 Maruti Baleno 1.2 CVT Zeta        Jun 2019   \n",
      "...                                                  ...             ...   \n",
      "13951                          2021 Kia Carnival Premium            2021   \n",
      "13952               2017 Hyundai i20 1.2 Magna Executive        Dec 2017   \n",
      "13953             2017 Skoda Rapid 1.5 TDI Ambition BSIV        Jan 2018   \n",
      "13954                      2017 Maruti Vitara Brezza ZDi        Apr 2017   \n",
      "13955                         2015 Honda Amaze S i-Vtech        Mar 2015   \n",
      "\n",
      "       engine_capacity              insurance transmission_type  kms_driven  \\\n",
      "0               1199.0            Third Party            Manual  30,910 Kms   \n",
      "1               1199.0               Zero Dep            Manual  48,089 Kms   \n",
      "2               1497.0  Third Party insurance            Manual  51,000 Kms   \n",
      "3               1956.0  Third Party insurance         Automatic  30,000 Kms   \n",
      "4               1197.0               Zero Dep         Automatic  61,113 Kms   \n",
      "...                ...                    ...               ...         ...   \n",
      "13951           2199.0  Third Party insurance         Automatic  80,000 Kms   \n",
      "13952           1197.0  Third Party insurance            Manual  17,923 Kms   \n",
      "13953           1498.0          Comprehensive            Manual  63,389 Kms   \n",
      "13954           1248.0          Comprehensive            Manual  40,000 Kms   \n",
      "13955           1198.0          Comprehensive            Manual  33,046 Kms   \n",
      "\n",
      "         owner_type fuel_type  max_power  seats     mileage  body_type  \\\n",
      "0       First Owner    Petrol   83.83bhp    5.0  23.84 kmpl  Hatchback   \n",
      "1       Third Owner    Petrol    88.7bhp    5.0   17.5 kmpl        SUV   \n",
      "2      Second Owner    Petrol   117.3bhp    5.0   17.4 kmpl      Sedan   \n",
      "3       First Owner    Diesel  167.67bhp    7.0  14.08 kmpl        SUV   \n",
      "4       First Owner    Petrol    83.1bhp    5.0   21.4 kmpl  Hatchback   \n",
      "...             ...       ...        ...    ...         ...        ...   \n",
      "13951  Second Owner    Diesel   197.2bhp    7.0  14.11 kmpl        MUV   \n",
      "13952   First Owner    Petrol   81.83bhp    5.0   18.6 kmpl  Hatchback   \n",
      "13953  Second Owner    Diesel   108.6bhp    5.0  21.13 kmpl      Sedan   \n",
      "13954  Second Owner    Diesel    88.5bhp    5.0   24.3 kmpl        SUV   \n",
      "13955   First Owner    Petrol    86.7bhp    5.0     18 kmpl      Sedan   \n",
      "\n",
      "            city  resale_price_Lakh engine_capacity_group  \\\n",
      "0           Pune               5.66           até 2000 cc   \n",
      "1         Jaipur               6.64           até 2000 cc   \n",
      "2         Mumbai               5.65           até 2000 cc   \n",
      "3         Mumbai              23.00           até 2000 cc   \n",
      "4        Kolkata               6.87           até 2000 cc   \n",
      "...          ...                ...                   ...   \n",
      "13951  Hyderabad              26.50           até 3000 cc   \n",
      "13952    Gurgaon               5.87           até 2000 cc   \n",
      "13953  Hyderabad               7.43           até 2000 cc   \n",
      "13954  Bangalore               9.45           até 2000 cc   \n",
      "13955  Bangalore               4.55           até 2000 cc   \n",
      "\n",
      "       id_engine_capacity_group  \n",
      "0                      0.131460  \n",
      "1                      0.131460  \n",
      "2                      0.131460  \n",
      "3                      0.131460  \n",
      "4                      0.131460  \n",
      "...                         ...  \n",
      "13951                  1.037551  \n",
      "13952                  0.131460  \n",
      "13953                  0.131460  \n",
      "13954                  0.131460  \n",
      "13955                  0.131460  \n",
      "\n",
      "[13956 rows x 16 columns]\n"
     ]
    }
   ],
   "source": [
    "# Create ID_engine_capacity: IDF\n",
    "\n",
    "# Sua coluna de tipos de combustível\n",
    "engine_capacity_group = df['engine_capacity_group']\n",
    "\n",
    "# Número de documentos (ou entradas) no DataFrame\n",
    "n_docs = len(df)\n",
    "\n",
    "idf = {}\n",
    "\n",
    "# Usando drop_duplicates para obter valores únicos\n",
    "unique_engine_capacity_group = engine_capacity_group.drop_duplicates()\n",
    "\n",
    "for engine_capacity_group_val in unique_engine_capacity_group:\n",
    "    k = sum(engine_capacity_group_val == val for val in engine_capacity_group)  # contagem de documentos que contêm este tipo de combustível\n",
    "    idf[engine_capacity_group_val] = np.log10(n_docs / (k + 1))  # Adicionei +1 para evitar divisão por zero\n",
    "\n",
    "for engine_capacity_group_val, value in idf.items():\n",
    "    print(f'{engine_capacity_group_val:>15}: {value:>10}')\n",
    "\n",
    "# Criar nova coluna 'id_engine_capacity_group' no DataFrame\n",
    "df['id_engine_capacity_group'] = df['engine_capacity_group'].map(idf)\n",
    "\n",
    "# Se desejar imprimir o DataFrame com a nova coluna\n",
    "print(df)\n"
   ]
  },
  {
   "cell_type": "code",
   "execution_count": 41,
   "metadata": {},
   "outputs": [
    {
     "data": {
      "image/png": "[encoded data removed]",
      "text/plain": [
       "<Figure size 300x500 with 2 Axes>"
      ]
     },
     "metadata": {},
     "output_type": "display_data"
    }
   ],
   "source": [
    "#correlation  \n",
    "\n",
    "# Select columns\n",
    "columns_of_interest = ['id_engine_capacity_group', 'resale_price_Lakh']\n",
    "subset_df = df[columns_of_interest]\n",
    "\n",
    "plt.figure(figsize=(3, 5))\n",
    "\n",
    "# Creat heatmap\n",
    "heatmap = sns.heatmap(subset_df.corr()[['resale_price_Lakh']].sort_values(by='resale_price_Lakh', ascending=False), vmin=-1, vmax=1, annot=True, cmap='BrBG')\n",
    "heatmap.set_title('Features Correlating with resale_price_Lakh', fontdict={'fontsize': 12}, pad=16)\n",
    "\n",
    "plt.show()"
   ]
  }
 ],
 "metadata": {
  "kernelspec": {
   "display_name": "Python 3",
   "language": "python",
   "name": "python3"
  },
  "language_info": {
   "codemirror_mode": {
    "name": "ipython",
    "version": 3
   },
   "file_extension": ".py",
   "mimetype": "text/x-python",
   "name": "python",
   "nbconvert_exporter": "python",
   "pygments_lexer": "ipython3",
   "version": "3.11.6"
  }
 },
 "nbformat": 4,
 "nbformat_minor": 2
}
