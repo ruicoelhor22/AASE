{
 "cells": [
  {
   "cell_type": "code",
   "execution_count": 567,
   "metadata": {},
   "outputs": [],
   "source": [
    "import warnings\n",
    "warnings.filterwarnings(\"ignore\")"
   ]
  },
  {
   "cell_type": "code",
   "execution_count": 568,
   "metadata": {},
   "outputs": [],
   "source": [
    "import pandas as pd\n",
    "#necessario por causa do metodo de avaliaçao\n",
    "from sklearn.model_selection import KFold\n",
    "from sklearn.metrics import (\n",
    "        make_scorer,\n",
    "        confusion_matrix, \n",
    "        cohen_kappa_score, \n",
    "        accuracy_score, \n",
    "        precision_score, \n",
    "        recall_score, \n",
    "        f1_score, \n",
    "        roc_auc_score\n",
    ")\n",
    "from sklearn.model_selection import cross_validate, StratifiedKFold\n",
    "from sklearn.tree import DecisionTreeClassifier # decision trees for classification\n",
    "from sklearn.neural_network import  MLPClassifier # neural networks for classification\n",
    "from sklearn.naive_bayes import GaussianNB # naive bayes for classification\n",
    "from sklearn.svm import SVC # support vector machines for classification"
   ]
  },
  {
   "cell_type": "code",
   "execution_count": 569,
   "metadata": {},
   "outputs": [],
   "source": [
    "#metricas regressao\n",
    "from sklearn.metrics import mean_squared_error, mean_absolute_error, r2_score\n",
    "\n",
    "def custom_regression_metrics(y_true, y_pred):\n",
    "    mse = mean_squared_error(y_true, y_pred)\n",
    "    mae = mean_absolute_error(y_true, y_pred)\n",
    "    r2 = r2_score(y_true, y_pred)\n",
    "    \n",
    "    return mse, mae, r2"
   ]
  },
  {
   "cell_type": "code",
   "execution_count": 570,
   "metadata": {},
   "outputs": [],
   "source": [
    "#metricas classificação\n",
    "def specificity_score(y_true, y_pred):\n",
    "    tn, fp, fn, tp = confusion_matrix(y_true, y_pred).ravel()\n",
    "    return tn / (tn+fp)"
   ]
  },
  {
   "cell_type": "code",
   "execution_count": 571,
   "metadata": {},
   "outputs": [],
   "source": [
    "#Metricas regressao\n",
    "from sklearn.metrics import mean_squared_error, mean_absolute_error, r2_score\n",
    "\n",
    "REGRESSION_METRICS = {\n",
    "    \"MSE\": make_scorer(mean_squared_error),\n",
    "    \"MAE\": make_scorer(mean_absolute_error),\n",
    "    \"R2\": make_scorer(r2_score)\n",
    "}"
   ]
  },
  {
   "cell_type": "code",
   "execution_count": 572,
   "metadata": {},
   "outputs": [],
   "source": [
    "d = pd.read_csv(\"LMSV5cenario2.csv\")\n"
   ]
  },
  {
   "cell_type": "code",
   "execution_count": 573,
   "metadata": {},
   "outputs": [
    {
     "name": "stdout",
     "output_type": "stream",
     "text": [
      "Colunas em d:\n",
      "Index(['id_body_type', 'id_marca', 'ano', 'id_city', 'id_insurance', 'seats',\n",
      "       'id_transmissao', 'mileage', 'id_engine_capacity_group', 'id_fuel_type',\n",
      "       'id_kms_group', 'id_max_power_group', 'id_owner_type',\n",
      "       'resale_price_Lakh'],\n",
      "      dtype='object')\n"
     ]
    }
   ],
   "source": [
    "print(\"Colunas em d:\")\n",
    "print(d.columns)\n",
    "\n",
    "\n"
   ]
  },
  {
   "cell_type": "code",
   "execution_count": 574,
   "metadata": {},
   "outputs": [],
   "source": [
    "X, y = d.drop(\"resale_price_Lakh\", axis=1), d[\"resale_price_Lakh\"]\n",
    "\n"
   ]
  },
  {
   "cell_type": "code",
   "execution_count": 575,
   "metadata": {},
   "outputs": [],
   "source": [
    "# Utilize KFold para um problema de regressão\n",
    "kf = KFold(n_splits=10, shuffle=True, random_state=1234)"
   ]
  },
  {
   "cell_type": "code",
   "execution_count": 576,
   "metadata": {},
   "outputs": [
    {
     "name": "stdout",
     "output_type": "stream",
     "text": [
      "     id_body_type  id_marca     ano   id_city  id_insurance  seats  \\\n",
      "0        0.950026  0.880390  2007.0  1.232573      0.068716    8.0   \n",
      "1        0.639656  0.820392  2008.0  0.780275      0.068716    5.0   \n",
      "2        0.211383  0.820392  2010.0  0.849356      0.068716    5.0   \n",
      "3        0.211383  1.107634  2009.0  0.668301      0.068716    5.0   \n",
      "4        1.232573  1.834633  2021.0  0.849356      0.806604    5.0   \n",
      "..            ...       ...     ...       ...           ...    ...   \n",
      "200      1.232573  1.135663  2008.0  0.668301      0.068716    8.0   \n",
      "201      0.211383  0.820392  2006.0  0.668301      0.806604    5.0   \n",
      "202      0.211383  1.408664  2014.0  0.849356      0.068716    5.0   \n",
      "203      0.211383  1.107634  2009.0  1.533603      0.068716    5.0   \n",
      "204      0.950026  0.880390  2015.0  1.232573      0.068716    8.0   \n",
      "\n",
      "     id_transmissao  mileage  id_engine_capacity_group  id_fuel_type  \\\n",
      "0          0.089037    12.80                  0.780275      0.436693   \n",
      "1          0.089037    17.80                  1.010724      0.204544   \n",
      "2          0.089037    16.80                  0.168739      0.436693   \n",
      "3          0.089037    17.80                  0.168739      0.436693   \n",
      "4          0.709694    18.60                  0.168739      0.436693   \n",
      "..              ...      ...                       ...           ...   \n",
      "200        0.089037    14.40                  0.780275      0.436693   \n",
      "201        0.089037    16.80                  0.168739      0.436693   \n",
      "202        0.709694    16.55                  0.168739      0.436693   \n",
      "203        0.089037    13.80                  0.168739      0.204544   \n",
      "204        0.089037    12.80                  0.780275      0.436693   \n",
      "\n",
      "     id_kms_group  id_max_power_group  id_owner_type  \n",
      "0        0.454421            2.311754       0.408664  \n",
      "1        0.454421            2.311754       0.408664  \n",
      "2        0.307432            2.311754       0.414127  \n",
      "3        0.454421            2.311754       1.408664  \n",
      "4        1.107634            2.311754       0.414127  \n",
      "..            ...                 ...            ...  \n",
      "200      0.454421            2.311754       0.414127  \n",
      "201      0.454421            2.311754       0.408664  \n",
      "202      0.307432            2.311754       0.408664  \n",
      "203      0.307432            2.311754       0.414127  \n",
      "204      0.454421            2.311754       0.408664  \n",
      "\n",
      "[205 rows x 13 columns]\n",
      "Data type by column:\n",
      "id_body_type                float64\n",
      "id_marca                    float64\n",
      "ano                         float64\n",
      "id_city                     float64\n",
      "id_insurance                float64\n",
      "seats                       float64\n",
      "id_transmissao              float64\n",
      "mileage                     float64\n",
      "id_engine_capacity_group    float64\n",
      "id_fuel_type                float64\n",
      "id_kms_group                float64\n",
      "id_max_power_group          float64\n",
      "id_owner_type               float64\n",
      "dtype: object\n"
     ]
    }
   ],
   "source": [
    "print(X)\n",
    "# Check data types\n",
    "data_types = X.dtypes\n",
    "print(\"Data type by column:\")\n",
    "print(data_types)"
   ]
  },
  {
   "cell_type": "code",
   "execution_count": 577,
   "metadata": {},
   "outputs": [],
   "source": [
    "from sklearn.tree import DecisionTreeRegressor\n",
    "import pandas as pd\n",
    "\n",
    "# Carregar o conjunto de teste a partir de um arquivo CSV\n",
    "df_test = pd.read_csv(\"LMSV5testcenario2.csv\") \n",
    "\n",
    "# Criar um novo DataFrame apenas com a coluna 'ID'\n",
    "id_column = df_test[['ID']].copy()\n",
    "\n",
    "# Remover a coluna 'ID' do DataFrame original\n",
    "df_test.drop('ID', axis=1, inplace=True)\n"
   ]
  },
  {
   "cell_type": "code",
   "execution_count": 578,
   "metadata": {},
   "outputs": [
    {
     "name": "stdout",
     "output_type": "stream",
     "text": [
      "      body_type  id_marca     ano      city  insurance  seats  \\\n",
      "0      0.639656  0.820392  2017.0  0.780275   0.806604    5.0   \n",
      "1      0.639656  0.698970  2020.0  1.232573   0.068716    5.0   \n",
      "2      0.639656  0.698970  2010.0  1.533603   0.068716    5.0   \n",
      "3      0.639656  0.698970  2010.0  1.056481   0.068716    5.0   \n",
      "4      0.639656  0.820392  2018.0  1.056481   0.806604    5.0   \n",
      "...         ...       ...     ...       ...        ...    ...   \n",
      "3485   0.211383  1.135663  2022.0  0.913814   0.068716    5.0   \n",
      "3486   0.639656  3.010724  2017.0  0.668301   0.068716    5.0   \n",
      "3487   0.211383  0.849356  2017.0  1.056481   0.806604    5.0   \n",
      "3488   0.639656  0.849356  2016.0  0.780275   0.806604    5.0   \n",
      "3489   0.639656  0.698970  2017.0  1.056481   0.806604    5.0   \n",
      "\n",
      "      transmission_type  mileage  id_engine_capacity_group  fuel_type  \\\n",
      "0              0.089037    18.90                  1.010724   0.204544   \n",
      "1              0.709694    21.21                  1.010724   0.204544   \n",
      "2              0.089037    18.20                  1.834633   0.204544   \n",
      "3              0.089037    19.70                  1.834633   0.204544   \n",
      "4              0.089037    17.19                  1.010724   0.204544   \n",
      "...                 ...      ...                       ...        ...   \n",
      "3485           0.709694     0.00                  2.834633   1.712784   \n",
      "3486           0.089037    23.01                  1.834633   0.204544   \n",
      "3487           0.089037    17.80                  0.168739   0.204544   \n",
      "3488           0.089037    18.70                  1.010724   0.204544   \n",
      "3489           0.089037    22.38                  1.010724   0.204544   \n",
      "\n",
      "      id_kms_group  id_max_power_group  owner_type  \n",
      "0         0.307432            3.311754    0.414127  \n",
      "1         1.107634            3.311754    0.408664  \n",
      "2         0.307432            3.311754    0.834633  \n",
      "3         0.454421            3.311754    0.414127  \n",
      "4         0.307432            3.311754    0.408664  \n",
      "...            ...                 ...         ...  \n",
      "3485      1.107634            3.311754    0.414127  \n",
      "3486      0.307432            3.311754    0.414127  \n",
      "3487      1.107634            3.311754    0.414127  \n",
      "3488      1.107634            3.311754    0.414127  \n",
      "3489      1.709694            3.311754    0.408664  \n",
      "\n",
      "[3490 rows x 13 columns]\n",
      "Data type by column:\n",
      "body_type                   float64\n",
      "id_marca                    float64\n",
      "ano                         float64\n",
      "city                        float64\n",
      "insurance                   float64\n",
      "seats                       float64\n",
      "transmission_type           float64\n",
      "mileage                     float64\n",
      "id_engine_capacity_group    float64\n",
      "fuel_type                   float64\n",
      "id_kms_group                float64\n",
      "id_max_power_group          float64\n",
      "owner_type                  float64\n",
      "dtype: object\n"
     ]
    }
   ],
   "source": [
    "\n",
    "print(df_test)\n",
    "# Check data types\n",
    "data_types = df_test.dtypes\n",
    "print(\"Data type by column:\")\n",
    "print(data_types)"
   ]
  },
  {
   "cell_type": "code",
   "execution_count": 579,
   "metadata": {},
   "outputs": [
    {
     "name": "stdout",
     "output_type": "stream",
     "text": [
      "id_body_type                0\n",
      "id_marca                    0\n",
      "ano                         0\n",
      "id_city                     0\n",
      "id_insurance                0\n",
      "seats                       0\n",
      "id_transmissao              0\n",
      "mileage                     0\n",
      "id_engine_capacity_group    0\n",
      "id_fuel_type                0\n",
      "id_kms_group                0\n",
      "id_max_power_group          0\n",
      "id_owner_type               0\n",
      "dtype: int64\n"
     ]
    }
   ],
   "source": [
    "# Contar a quantidade de NaN em cada coluna do DataFrame X\n",
    "nan_count = X.isna().sum()\n",
    "\n",
    "# Exibir a contagem de NaN por coluna\n",
    "print(nan_count)"
   ]
  },
  {
   "cell_type": "code",
   "execution_count": 580,
   "metadata": {},
   "outputs": [
    {
     "name": "stdout",
     "output_type": "stream",
     "text": [
      "body_type                   0\n",
      "id_marca                    0\n",
      "ano                         0\n",
      "city                        0\n",
      "insurance                   0\n",
      "seats                       0\n",
      "transmission_type           0\n",
      "mileage                     0\n",
      "id_engine_capacity_group    0\n",
      "fuel_type                   0\n",
      "id_kms_group                9\n",
      "id_max_power_group          0\n",
      "owner_type                  0\n",
      "dtype: int64\n"
     ]
    }
   ],
   "source": [
    "# Contar a quantidade de NaN em cada coluna do DataFrame X\n",
    "nan_count = df_test.isna().sum()\n",
    "\n",
    "# Exibir a contagem de NaN por coluna\n",
    "print(nan_count)"
   ]
  },
  {
   "cell_type": "code",
   "execution_count": 581,
   "metadata": {},
   "outputs": [
    {
     "name": "stdout",
     "output_type": "stream",
     "text": [
      "id_body_type                float64\n",
      "id_marca                    float64\n",
      "ano                         float64\n",
      "id_city                     float64\n",
      "id_insurance                float64\n",
      "seats                       float64\n",
      "id_transmissao              float64\n",
      "mileage                     float64\n",
      "id_engine_capacity_group    float64\n",
      "id_fuel_type                float64\n",
      "id_kms_group                float64\n",
      "id_max_power_group          float64\n",
      "id_owner_type               float64\n",
      "dtype: object\n"
     ]
    }
   ],
   "source": [
    "print(X.dtypes)"
   ]
  },
  {
   "cell_type": "code",
   "execution_count": null,
   "metadata": {},
   "outputs": [],
   "source": []
  },
  {
   "cell_type": "code",
   "execution_count": 582,
   "metadata": {},
   "outputs": [
    {
     "name": "stdout",
     "output_type": "stream",
     "text": [
      "A coluna 'id_body_type' não existe em df_test.\n",
      "A coluna 'id_city' não existe em df_test.\n",
      "A coluna 'id_insurance' não existe em df_test.\n",
      "A coluna 'id_fuel_type' não existe em df_test.\n",
      "A coluna 'id_owner_type' não existe em df_test.\n",
      "A coluna 'id_transmissao' não existe em df_test.\n"
     ]
    }
   ],
   "source": [
    "# Mapeando os nomes das colunas de d_test para os correspondentes em d\n",
    "mapeamento_colunas = {\n",
    "    'body_type': 'id_body_type',\n",
    "    'city': 'id_city',\n",
    "    'insurance': 'id_insurance',\n",
    "    'fuel_type': 'id_fuel_type',\n",
    "    'owner_type': 'id_owner_type',\n",
    "    'transmission_type': 'id_transmissao',\n",
    "    \n",
    "}\n",
    "\n",
    "# Certifique-se de que as colunas existem em df_test antes de renomear\n",
    "for coluna_original in mapeamento_colunas.values():\n",
    "    if coluna_original not in df_test.columns:\n",
    "        print(f\"A coluna '{coluna_original}' não existe em df_test.\")\n",
    "\n",
    "# Renomeando as colunas em df_test\n",
    "df_test.rename(columns=mapeamento_colunas, inplace=True)"
   ]
  },
  {
   "cell_type": "code",
   "execution_count": 583,
   "metadata": {},
   "outputs": [
    {
     "name": "stdout",
     "output_type": "stream",
     "text": [
      "float64\n"
     ]
    }
   ],
   "source": [
    "# Check data types\n",
    "print(y.dtypes)"
   ]
  },
  {
   "cell_type": "code",
   "execution_count": 584,
   "metadata": {},
   "outputs": [
    {
     "name": "stdout",
     "output_type": "stream",
     "text": [
      "id_body_type                float64\n",
      "id_marca                    float64\n",
      "ano                         float64\n",
      "id_city                     float64\n",
      "id_insurance                float64\n",
      "seats                       float64\n",
      "id_transmissao              float64\n",
      "mileage                     float64\n",
      "id_engine_capacity_group    float64\n",
      "id_fuel_type                float64\n",
      "id_kms_group                float64\n",
      "id_max_power_group          float64\n",
      "id_owner_type               float64\n",
      "dtype: object\n"
     ]
    }
   ],
   "source": [
    "# Check data types\n",
    "print(X.dtypes)"
   ]
  },
  {
   "cell_type": "code",
   "execution_count": 585,
   "metadata": {},
   "outputs": [
    {
     "name": "stdout",
     "output_type": "stream",
     "text": [
      "id_body_type                float64\n",
      "id_marca                    float64\n",
      "ano                         float64\n",
      "id_city                     float64\n",
      "id_insurance                float64\n",
      "seats                       float64\n",
      "id_transmissao              float64\n",
      "mileage                     float64\n",
      "id_engine_capacity_group    float64\n",
      "id_fuel_type                float64\n",
      "id_kms_group                float64\n",
      "id_max_power_group          float64\n",
      "id_owner_type               float64\n",
      "dtype: object\n"
     ]
    }
   ],
   "source": [
    "# Check data types\n",
    "print(df_test.dtypes)"
   ]
  },
  {
   "cell_type": "code",
   "execution_count": 586,
   "metadata": {},
   "outputs": [],
   "source": [
    "from sklearn import tree\n",
    "clf = tree.DecisionTreeRegressor(max_depth=3, random_state=1234)\n",
    "clf = clf.fit(X, y)\n",
    "predictions=clf.predict(df_test)\n"
   ]
  },
  {
   "cell_type": "code",
   "execution_count": 587,
   "metadata": {},
   "outputs": [
    {
     "name": "stdout",
     "output_type": "stream",
     "text": [
      "3490\n"
     ]
    }
   ],
   "source": [
    "\n",
    "print(len(predictions))  # Check the length of predictions\n"
   ]
  },
  {
   "cell_type": "code",
   "execution_count": 588,
   "metadata": {},
   "outputs": [],
   "source": [
    "id_series = id_column.squeeze()\n",
    "df_predictions = pd.DataFrame({\"ID\": id_series, \"prediction\": predictions})"
   ]
  },
  {
   "cell_type": "code",
   "execution_count": 589,
   "metadata": {},
   "outputs": [
    {
     "name": "stdout",
     "output_type": "stream",
     "text": [
      "        ID  prediction\n",
      "0        0    1.703835\n",
      "1        1    3.000000\n",
      "2        2    1.703835\n",
      "3        3    1.703835\n",
      "4        4    1.703835\n",
      "...    ...         ...\n",
      "3485  3485   90.000000\n",
      "3486  3486    1.703835\n",
      "3487  3487    1.703835\n",
      "3488  3488    1.703835\n",
      "3489  3489    1.703835\n",
      "\n",
      "[3490 rows x 2 columns]\n"
     ]
    }
   ],
   "source": [
    "print(df_predictions)"
   ]
  },
  {
   "cell_type": "code",
   "execution_count": 590,
   "metadata": {},
   "outputs": [],
   "source": [
    "# Exporte o DataFrame para um arquivo CSV\n",
    "df_predictions.to_csv('LMS V5 treeCenario2.csv', index=False)"
   ]
  }
 ],
 "metadata": {
  "kernelspec": {
   "display_name": "Python 3",
   "language": "python",
   "name": "python3"
  },
  "language_info": {
   "codemirror_mode": {
    "name": "ipython",
    "version": 3
   },
   "file_extension": ".py",
   "mimetype": "text/x-python",
   "name": "python",
   "nbconvert_exporter": "python",
   "pygments_lexer": "ipython3",
   "version": "3.11.6"
  }
 },
 "nbformat": 4,
 "nbformat_minor": 2
}
