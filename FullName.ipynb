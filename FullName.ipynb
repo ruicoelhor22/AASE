{
 "cells": [
  {
   "cell_type": "code",
   "execution_count": 33,
   "metadata": {},
   "outputs": [],
   "source": [
    "import matplotlib.pyplot as plt\n",
    "import pandas as pd\n",
    "import seaborn as sns\n",
    "import numpy as np"
   ]
  },
  {
   "cell_type": "code",
   "execution_count": 34,
   "metadata": {},
   "outputs": [],
   "source": [
    "df = pd.read_csv('train.csv')"
   ]
  },
  {
   "cell_type": "code",
   "execution_count": 35,
   "metadata": {},
   "outputs": [
    {
     "name": "stdout",
     "output_type": "stream",
     "text": [
      "0        2019\n",
      "1        2018\n",
      "2        2015\n",
      "3        2021\n",
      "4        2019\n",
      "         ... \n",
      "13951    2021\n",
      "13952    2017\n",
      "13953    2017\n",
      "13954    2017\n",
      "13955    2015\n",
      "Name: ano, Length: 13956, dtype: object\n"
     ]
    }
   ],
   "source": [
    "# Extract the year and create a new column\n",
    "df['ano'] = df['full_name'].str.extract(r'(\\d{4})')\n",
    "\n",
    "# Display the resulting DataFrame\n",
    "print(df['ano'])"
   ]
  },
  {
   "cell_type": "code",
   "execution_count": 36,
   "metadata": {},
   "outputs": [
    {
     "name": "stdout",
     "output_type": "stream",
     "text": [
      "0           Tata\n",
      "1          Honda\n",
      "2          Honda\n",
      "3           Tata\n",
      "4         Maruti\n",
      "          ...   \n",
      "13951        Kia\n",
      "13952    Hyundai\n",
      "13953      Skoda\n",
      "13954     Maruti\n",
      "13955      Honda\n",
      "Name: marca, Length: 13956, dtype: object\n"
     ]
    }
   ],
   "source": [
    "# Extract the first word after the year and create a new column\n",
    "df['marca'] = df['full_name'].str.extract(r'\\d{4}\\s(\\w+)')\n",
    "\n",
    "# Print the resulting DataFrame\n",
    "print(df['marca'])\n"
   ]
  },
  {
   "cell_type": "code",
   "execution_count": 37,
   "metadata": {},
   "outputs": [
    {
     "name": "stdout",
     "output_type": "stream",
     "text": [
      "0                                        Tiago XZ Plus\n",
      "1                                       WR-V i-VTEC VX\n",
      "2                                       City i VTEC SV\n",
      "3        New Safari XZA Plus Adventure Edition AT BSVI\n",
      "4                                  Baleno 1.2 CVT Zeta\n",
      "                             ...                      \n",
      "13951                                 Carnival Premium\n",
      "13952                          i20 1.2 Magna Executive\n",
      "13953                      Rapid 1.5 TDI Ambition BSIV\n",
      "13954                                Vitara Brezza ZDi\n",
      "13955                                  Amaze S i-Vtech\n",
      "Name: modelo, Length: 13956, dtype: object\n"
     ]
    }
   ],
   "source": [
    "# Get everything that comes after \"marca\"\n",
    "df['modelo'] = df['full_name'].str.extract(r'\\d{4}\\s\\w+\\s(.+)')\n",
    "\n",
    "# Print the resulting DataFrame\n",
    "print(df['modelo'])"
   ]
  },
  {
   "cell_type": "code",
   "execution_count": 38,
   "metadata": {},
   "outputs": [
    {
     "name": "stdout",
     "output_type": "stream",
     "text": [
      "['Tata' 'Honda' 'Maruti' 'BMW' 'Hyundai' 'Volkswagen' 'Renault' 'Mercedes'\n",
      " 'Mahindra' 'Ford' 'Toyota' 'MG' 'Jaguar' 'Datsun' 'Chevrolet' 'Kia'\n",
      " 'Land' 'Nissan' 'Skoda' 'Mitsubishi' 'Volvo' 'Audi' 'Citroen' 'Jeep'\n",
      " 'Force' 'Fiat' 'Lexus' 'Mini' 'Isuzu' 'OpelCorsa' 'Porsche' 'Bentley'\n",
      " 'Hindustan' 'Daewoo']\n"
     ]
    }
   ],
   "source": [
    "print(df['marca'].unique())"
   ]
  },
  {
   "cell_type": "code",
   "execution_count": 39,
   "metadata": {},
   "outputs": [
    {
     "name": "stdout",
     "output_type": "stream",
     "text": [
      "marca\n",
      "Maruti        3890\n",
      "Hyundai       2851\n",
      "Honda         1422\n",
      "Tata           791\n",
      "Mahindra       633\n",
      "Toyota         582\n",
      "Renault        515\n",
      "Ford           460\n",
      "Volkswagen     443\n",
      "Mercedes       399\n",
      "BMW            307\n",
      "Skoda          272\n",
      "Kia            240\n",
      "Audi           222\n",
      "MG             152\n",
      "Nissan         147\n",
      "Jeep           135\n",
      "Chevrolet      127\n",
      "Datsun          81\n",
      "Jaguar          72\n",
      "Land            50\n",
      "Fiat            49\n",
      "Volvo           44\n",
      "Mitsubishi      21\n",
      "Mini            11\n",
      "Porsche         11\n",
      "Isuzu            9\n",
      "Citroen          7\n",
      "Force            4\n",
      "Lexus            4\n",
      "OpelCorsa        2\n",
      "Bentley          1\n",
      "Hindustan        1\n",
      "Daewoo           1\n",
      "Name: count, dtype: int64\n"
     ]
    }
   ],
   "source": [
    "brand_counts = df['marca'].value_counts()\n",
    "print(brand_counts)\n"
   ]
  },
  {
   "cell_type": "code",
   "execution_count": 40,
   "metadata": {},
   "outputs": [
    {
     "name": "stdout",
     "output_type": "stream",
     "text": [
      "           Tata: 1.2460357791865797\n",
      "          Honda: 0.9915560606917889\n",
      "         Maruti: 0.5546997299723307\n",
      "            BMW: 1.656210244275629\n",
      "        Hyundai: 0.6896114395962453\n",
      "     Volkswagen: 1.4973779906614535\n",
      "        Renault: 1.4321112591488618\n",
      "       Mercedes: 1.5427009694481109\n",
      "       Mahindra: 1.3426717028943405\n",
      "           Ford: 1.4810600353864252\n",
      "         Toyota: 1.379092406017059\n",
      "             MG: 1.9600695299584745\n",
      "         Jaguar: 2.2814381006556173\n",
      "         Datsun: 2.2309471083923564\n",
      "      Chevrolet: 2.037550991128205\n",
      "            Kia: 1.7627439182012048\n",
      "           Land: 2.437190784678137\n",
      "         Nissan: 1.9744992453811159\n",
      "          Skoda: 1.7085983137353171\n",
      "     Mitsubishi: 2.802338279953867\n",
      "          Volvo: 2.4915484470007296\n",
      "           Audi: 1.7964560977279125\n",
      "        Citroen: 3.24167097378413\n",
      "           Jeep: 2.0112220524058557\n",
      "          Force: 3.4457909564400544\n",
      "           Fiat: 2.4457909564400544\n",
      "          Lexus: 3.4457909564400544\n",
      "           Mini: 3.0655797147284485\n",
      "          Isuzu: 3.144760960776073\n",
      "      OpelCorsa: 3.667639706056411\n",
      "        Porsche: 3.0655797147284485\n",
      "        Bentley: 3.843730965112092\n",
      "      Hindustan: 3.843730965112092\n",
      "         Daewoo: 3.843730965112092\n"
     ]
    }
   ],
   "source": [
    "\n",
    "\n",
    "# Sua coluna de marcas\n",
    "marcas = df['marca']\n",
    "\n",
    "# Número de documentos (ou entradas) no DataFrame\n",
    "n_docs = len(df)\n",
    "\n",
    "idf = {}\n",
    "\n",
    "# Usando drop_duplicates para obter valores únicos\n",
    "unique_marcas = marcas.drop_duplicates()\n",
    "\n",
    "for marcas in unique_marcas:\n",
    "    k = sum(marcas in df['marca'][i] for i in range(n_docs))  # contagem de documentos que contêm esta marca\n",
    "    idf[marcas] = np.log10(n_docs / (k + 1))  # Adicionei +1 para evitar divisão por zero\n",
    "\n",
    "\n",
    "for marcas, value in idf.items():\n",
    "    print(f'{marcas:>15}: {value:>10}')"
   ]
  },
  {
   "cell_type": "code",
   "execution_count": 41,
   "metadata": {},
   "outputs": [
    {
     "name": "stdout",
     "output_type": "stream",
     "text": [
      "                                               full_name registered_year  \\\n",
      "0                                2019 Tata Tiago XZ Plus        Nov 2019   \n",
      "1                              2018 Honda WR-V i-VTEC VX        Apr 2018   \n",
      "2                              2015 Honda City i VTEC SV        May 2015   \n",
      "3      2021 Tata New Safari XZA Plus Adventure Editio...            2021   \n",
      "4                        2019 Maruti Baleno 1.2 CVT Zeta        Jun 2019   \n",
      "...                                                  ...             ...   \n",
      "13951                          2021 Kia Carnival Premium            2021   \n",
      "13952               2017 Hyundai i20 1.2 Magna Executive        Dec 2017   \n",
      "13953             2017 Skoda Rapid 1.5 TDI Ambition BSIV        Jan 2018   \n",
      "13954                      2017 Maruti Vitara Brezza ZDi        Apr 2017   \n",
      "13955                         2015 Honda Amaze S i-Vtech        Mar 2015   \n",
      "\n",
      "      engine_capacity              insurance transmission_type  kms_driven  \\\n",
      "0             1199 cc            Third Party            Manual  30,910 Kms   \n",
      "1             1199 cc               Zero Dep            Manual  48,089 Kms   \n",
      "2             1497 cc  Third Party insurance            Manual  51,000 Kms   \n",
      "3             1956 cc  Third Party insurance         Automatic  30,000 Kms   \n",
      "4             1197 cc               Zero Dep         Automatic  61,113 Kms   \n",
      "...               ...                    ...               ...         ...   \n",
      "13951         2199 cc  Third Party insurance         Automatic  80,000 Kms   \n",
      "13952         1197 cc  Third Party insurance            Manual  17,923 Kms   \n",
      "13953         1498 cc          Comprehensive            Manual  63,389 Kms   \n",
      "13954         1248 cc          Comprehensive            Manual  40,000 Kms   \n",
      "13955         1198 cc          Comprehensive            Manual  33,046 Kms   \n",
      "\n",
      "         owner_type fuel_type  max_power  seats     mileage  body_type  \\\n",
      "0       First Owner    Petrol   83.83bhp    5.0  23.84 kmpl  Hatchback   \n",
      "1       Third Owner    Petrol    88.7bhp    5.0   17.5 kmpl        SUV   \n",
      "2      Second Owner    Petrol   117.3bhp    5.0   17.4 kmpl      Sedan   \n",
      "3       First Owner    Diesel  167.67bhp    7.0  14.08 kmpl        SUV   \n",
      "4       First Owner    Petrol    83.1bhp    5.0   21.4 kmpl  Hatchback   \n",
      "...             ...       ...        ...    ...         ...        ...   \n",
      "13951  Second Owner    Diesel   197.2bhp    7.0  14.11 kmpl        MUV   \n",
      "13952   First Owner    Petrol   81.83bhp    5.0   18.6 kmpl  Hatchback   \n",
      "13953  Second Owner    Diesel   108.6bhp    5.0  21.13 kmpl      Sedan   \n",
      "13954  Second Owner    Diesel    88.5bhp    5.0   24.3 kmpl        SUV   \n",
      "13955   First Owner    Petrol    86.7bhp    5.0     18 kmpl      Sedan   \n",
      "\n",
      "            city  resale_price_Lakh   ano    marca  \\\n",
      "0           Pune               5.66  2019     Tata   \n",
      "1         Jaipur               6.64  2018    Honda   \n",
      "2         Mumbai               5.65  2015    Honda   \n",
      "3         Mumbai              23.00  2021     Tata   \n",
      "4        Kolkata               6.87  2019   Maruti   \n",
      "...          ...                ...   ...      ...   \n",
      "13951  Hyderabad              26.50  2021      Kia   \n",
      "13952    Gurgaon               5.87  2017  Hyundai   \n",
      "13953  Hyderabad               7.43  2017    Skoda   \n",
      "13954  Bangalore               9.45  2017   Maruti   \n",
      "13955  Bangalore               4.55  2015    Honda   \n",
      "\n",
      "                                              modelo  id_marcas  \n",
      "0                                      Tiago XZ Plus   1.246036  \n",
      "1                                     WR-V i-VTEC VX   0.991556  \n",
      "2                                     City i VTEC SV   0.991556  \n",
      "3      New Safari XZA Plus Adventure Edition AT BSVI   1.246036  \n",
      "4                                Baleno 1.2 CVT Zeta   0.554700  \n",
      "...                                              ...        ...  \n",
      "13951                               Carnival Premium   1.762744  \n",
      "13952                        i20 1.2 Magna Executive   0.689611  \n",
      "13953                    Rapid 1.5 TDI Ambition BSIV   1.708598  \n",
      "13954                              Vitara Brezza ZDi   0.554700  \n",
      "13955                                Amaze S i-Vtech   0.991556  \n",
      "\n",
      "[13956 rows x 18 columns]\n"
     ]
    }
   ],
   "source": [
    "#Create id_marca: IDF\n",
    "\n",
    "marcas = df['marca']\n",
    "\n",
    "# Número de entradas no DataFrame\n",
    "n_docs = len(df)\n",
    "\n",
    "idf = {}\n",
    "\n",
    "# valores únicos\n",
    "unique_marcas = marcas.drop_duplicates()\n",
    "\n",
    "for marcas in unique_marcas:\n",
    "    k = sum(marcas in df['marca'][i] for i in range(n_docs))  # contagem de 1 tipo de combustível\n",
    "    idf[marcas] = np.log10(n_docs / (k + 1))  # evitar divisão por zero\n",
    "\n",
    "# Criar nova coluna 'idf' no DataFrame\n",
    "df['id_marcas'] = df['marca'].map(idf)\n",
    "\n",
    "# Se desejar imprimir o DataFrame com a nova coluna\n",
    "print(df)"
   ]
  },
  {
   "cell_type": "code",
   "execution_count": 42,
   "metadata": {},
   "outputs": [
    {
     "name": "stdout",
     "output_type": "stream",
     "text": [
      "                                               full_name registered_year  \\\n",
      "0                                2019 Tata Tiago XZ Plus        Nov 2019   \n",
      "1                              2018 Honda WR-V i-VTEC VX        Apr 2018   \n",
      "2                              2015 Honda City i VTEC SV        May 2015   \n",
      "3      2021 Tata New Safari XZA Plus Adventure Editio...            2021   \n",
      "4                        2019 Maruti Baleno 1.2 CVT Zeta        Jun 2019   \n",
      "...                                                  ...             ...   \n",
      "13951                          2021 Kia Carnival Premium            2021   \n",
      "13952               2017 Hyundai i20 1.2 Magna Executive        Dec 2017   \n",
      "13953             2017 Skoda Rapid 1.5 TDI Ambition BSIV        Jan 2018   \n",
      "13954                      2017 Maruti Vitara Brezza ZDi        Apr 2017   \n",
      "13955                         2015 Honda Amaze S i-Vtech        Mar 2015   \n",
      "\n",
      "      engine_capacity              insurance transmission_type  kms_driven  \\\n",
      "0             1199 cc            Third Party            Manual  30,910 Kms   \n",
      "1             1199 cc               Zero Dep            Manual  48,089 Kms   \n",
      "2             1497 cc  Third Party insurance            Manual  51,000 Kms   \n",
      "3             1956 cc  Third Party insurance         Automatic  30,000 Kms   \n",
      "4             1197 cc               Zero Dep         Automatic  61,113 Kms   \n",
      "...               ...                    ...               ...         ...   \n",
      "13951         2199 cc  Third Party insurance         Automatic  80,000 Kms   \n",
      "13952         1197 cc  Third Party insurance            Manual  17,923 Kms   \n",
      "13953         1498 cc          Comprehensive            Manual  63,389 Kms   \n",
      "13954         1248 cc          Comprehensive            Manual  40,000 Kms   \n",
      "13955         1198 cc          Comprehensive            Manual  33,046 Kms   \n",
      "\n",
      "         owner_type fuel_type  max_power  seats     mileage  body_type  \\\n",
      "0       First Owner    Petrol   83.83bhp    5.0  23.84 kmpl  Hatchback   \n",
      "1       Third Owner    Petrol    88.7bhp    5.0   17.5 kmpl        SUV   \n",
      "2      Second Owner    Petrol   117.3bhp    5.0   17.4 kmpl      Sedan   \n",
      "3       First Owner    Diesel  167.67bhp    7.0  14.08 kmpl        SUV   \n",
      "4       First Owner    Petrol    83.1bhp    5.0   21.4 kmpl  Hatchback   \n",
      "...             ...       ...        ...    ...         ...        ...   \n",
      "13951  Second Owner    Diesel   197.2bhp    7.0  14.11 kmpl        MUV   \n",
      "13952   First Owner    Petrol   81.83bhp    5.0   18.6 kmpl  Hatchback   \n",
      "13953  Second Owner    Diesel   108.6bhp    5.0  21.13 kmpl      Sedan   \n",
      "13954  Second Owner    Diesel    88.5bhp    5.0   24.3 kmpl        SUV   \n",
      "13955   First Owner    Petrol    86.7bhp    5.0     18 kmpl      Sedan   \n",
      "\n",
      "            city  resale_price_Lakh   ano    marca  \\\n",
      "0           Pune               5.66  2019     Tata   \n",
      "1         Jaipur               6.64  2018    Honda   \n",
      "2         Mumbai               5.65  2015    Honda   \n",
      "3         Mumbai              23.00  2021     Tata   \n",
      "4        Kolkata               6.87  2019   Maruti   \n",
      "...          ...                ...   ...      ...   \n",
      "13951  Hyderabad              26.50  2021      Kia   \n",
      "13952    Gurgaon               5.87  2017  Hyundai   \n",
      "13953  Hyderabad               7.43  2017    Skoda   \n",
      "13954  Bangalore               9.45  2017   Maruti   \n",
      "13955  Bangalore               4.55  2015    Honda   \n",
      "\n",
      "                                              modelo  id_marcas  id_modelos  \n",
      "0                                      Tiago XZ Plus   1.246036    3.103368  \n",
      "1                                     WR-V i-VTEC VX   0.991556    2.420485  \n",
      "2                                     City i VTEC SV   0.991556    2.588458  \n",
      "3      New Safari XZA Plus Adventure Edition AT BSVI   1.246036    3.667640  \n",
      "4                                Baleno 1.2 CVT Zeta   0.554700    2.764550  \n",
      "...                                              ...        ...         ...  \n",
      "13951                               Carnival Premium   1.762744    3.667640  \n",
      "13952                        i20 1.2 Magna Executive   0.689611    2.968670  \n",
      "13953                    Rapid 1.5 TDI Ambition BSIV   1.708598    3.299663  \n",
      "13954                              Vitara Brezza ZDi   0.554700    2.764550  \n",
      "13955                                Amaze S i-Vtech   0.991556    2.445791  \n",
      "\n",
      "[13956 rows x 19 columns]\n"
     ]
    }
   ],
   "source": [
    "# Create id_modelos: IDF\n",
    "\n",
    "modelos = df['modelo']\n",
    "\n",
    "# Número de entradas no DataFrame\n",
    "n_docs = len(df)\n",
    "\n",
    "idf = {}\n",
    "\n",
    "# Valores únicos\n",
    "unique_modelos = modelos.drop_duplicates()\n",
    "\n",
    "for modelo in unique_modelos:\n",
    "    k = sum(modelo == val for val in modelos)  # contagem de documentos que contêm este modelo\n",
    "    idf[modelo] = np.log10(n_docs / (k + 1))  # evitar divisão por zero\n",
    "\n",
    "# Criar nova coluna 'id_modelos' no DataFrame\n",
    "df['id_modelos'] = df['modelo'].map(idf)\n",
    "\n",
    "# Se desejar imprimir o DataFrame com a nova coluna\n",
    "print(df)"
   ]
  },
  {
   "cell_type": "code",
   "execution_count": 43,
   "metadata": {},
   "outputs": [],
   "source": [
    "# Change the data types of multiple columns\n",
    "df = df.astype({\n",
    "    \n",
    "    'ano': int,\n",
    "    'marca': 'string',\n",
    "    'modelo': 'string',\n",
    "    'id_marcas': float,\n",
    "    'id_modelos': float\n",
    "    \n",
    "})\n",
    "\n"
   ]
  },
  {
   "cell_type": "code",
   "execution_count": 44,
   "metadata": {},
   "outputs": [
    {
     "name": "stdout",
     "output_type": "stream",
     "text": [
      "Data type by column:\n",
      "full_name                    object\n",
      "registered_year              object\n",
      "engine_capacity              object\n",
      "insurance                    object\n",
      "transmission_type            object\n",
      "kms_driven                   object\n",
      "owner_type                   object\n",
      "fuel_type                    object\n",
      "max_power                    object\n",
      "seats                       float64\n",
      "mileage                      object\n",
      "body_type                    object\n",
      "city                         object\n",
      "resale_price_Lakh           float64\n",
      "ano                           int32\n",
      "marca                string[python]\n",
      "modelo               string[python]\n",
      "id_marcas                   float64\n",
      "id_modelos                  float64\n",
      "dtype: object\n"
     ]
    }
   ],
   "source": [
    "# Check data types\n",
    "data_types = df.dtypes\n",
    "print(\"Data type by column:\")\n",
    "print(data_types)"
   ]
  },
  {
   "cell_type": "code",
   "execution_count": 45,
   "metadata": {},
   "outputs": [
    {
     "data": {
      "image/png": "[encoded data removed]",
      "text/plain": [
       "<Figure size 800x1200 with 2 Axes>"
      ]
     },
     "metadata": {},
     "output_type": "display_data"
    }
   ],
   "source": [
    "#correlation of all features with price\n",
    "\n",
    "# Select columns\n",
    "columns_of_interest = ['id_marcas', 'resale_price_Lakh']\n",
    "subset_df = df[columns_of_interest]\n",
    "\n",
    "plt.figure(figsize=(8, 12))\n",
    "\n",
    "# Creat heatmap\n",
    "heatmap = sns.heatmap(subset_df.corr()[['resale_price_Lakh']].sort_values(by='resale_price_Lakh', ascending=False), vmin=-1, vmax=1, annot=True, cmap='BrBG')\n",
    "heatmap.set_title('Features Correlating with resale_price_Lakh', fontdict={'fontsize': 18}, pad=16)\n",
    "\n",
    "plt.show()"
   ]
  },
  {
   "cell_type": "code",
   "execution_count": 46,
   "metadata": {},
   "outputs": [
    {
     "data": {
      "image/png": "[encoded data removed]",
      "text/plain": [
       "<Figure size 800x1200 with 2 Axes>"
      ]
     },
     "metadata": {},
     "output_type": "display_data"
    }
   ],
   "source": [
    "#correlation of all features with price\n",
    "\n",
    "# Select columns\n",
    "columns_of_interest = ['id_modelos', 'resale_price_Lakh']\n",
    "subset_df = df[columns_of_interest]\n",
    "\n",
    "plt.figure(figsize=(8, 12))\n",
    "\n",
    "# Creat heatmap\n",
    "heatmap = sns.heatmap(subset_df.corr()[['resale_price_Lakh']].sort_values(by='resale_price_Lakh', ascending=False), vmin=-1, vmax=1, annot=True, cmap='BrBG')\n",
    "heatmap.set_title('Features Correlating with resale_price_Lakh', fontdict={'fontsize': 18}, pad=16)\n",
    "\n",
    "plt.show()"
   ]
  }
 ],
 "metadata": {
  "kernelspec": {
   "display_name": "Python 3",
   "language": "python",
   "name": "python3"
  },
  "language_info": {
   "codemirror_mode": {
    "name": "ipython",
    "version": 3
   },
   "file_extension": ".py",
   "mimetype": "text/x-python",
   "name": "python",
   "nbconvert_exporter": "python",
   "pygments_lexer": "ipython3",
   "version": "3.11.3"
  }
 },
 "nbformat": 4,
 "nbformat_minor": 2
}
