{
 "cells": [
  {
   "cell_type": "code",
   "execution_count": 43,
   "metadata": {},
   "outputs": [],
   "source": [
    "import warnings\n",
    "warnings.filterwarnings(\"ignore\")"
   ]
  },
  {
   "cell_type": "code",
   "execution_count": 44,
   "metadata": {},
   "outputs": [],
   "source": [
    "import pandas as pd\n",
    "#necessario por causa do metodo de avaliaçao\n",
    "from sklearn.model_selection import KFold\n",
    "from sklearn.metrics import (\n",
    "        make_scorer,\n",
    "        confusion_matrix, \n",
    "        cohen_kappa_score, \n",
    "        accuracy_score, \n",
    "        precision_score, \n",
    "        recall_score, \n",
    "        f1_score, \n",
    "        roc_auc_score\n",
    ")\n",
    "from sklearn.model_selection import cross_validate, StratifiedKFold\n",
    "from sklearn.tree import DecisionTreeClassifier # decision trees for classification\n",
    "from sklearn.neural_network import  MLPClassifier # neural networks for classification\n",
    "from sklearn.naive_bayes import GaussianNB # naive bayes for classification\n",
    "from sklearn.svm import SVC # support vector machines for classification"
   ]
  },
  {
   "cell_type": "code",
   "execution_count": 45,
   "metadata": {},
   "outputs": [],
   "source": [
    "#metricas regressao\n",
    "from sklearn.metrics import mean_squared_error, mean_absolute_error, r2_score\n",
    "\n",
    "def custom_regression_metrics(y_true, y_pred):\n",
    "    mse = mean_squared_error(y_true, y_pred)\n",
    "    mae = mean_absolute_error(y_true, y_pred)\n",
    "    r2 = r2_score(y_true, y_pred)\n",
    "    \n",
    "    return mse, mae, r2"
   ]
  },
  {
   "cell_type": "code",
   "execution_count": 46,
   "metadata": {},
   "outputs": [],
   "source": [
    "#metricas classificação\n",
    "def specificity_score(y_true, y_pred):\n",
    "    tn, fp, fn, tp = confusion_matrix(y_true, y_pred).ravel()\n",
    "    return tn / (tn+fp)"
   ]
  },
  {
   "cell_type": "code",
   "execution_count": 47,
   "metadata": {},
   "outputs": [],
   "source": [
    "#Metricas regressao\n",
    "from sklearn.metrics import mean_squared_error, mean_absolute_error, r2_score\n",
    "\n",
    "REGRESSION_METRICS = {\n",
    "    \"MSE\": make_scorer(mean_squared_error),\n",
    "    \"MAE\": make_scorer(mean_absolute_error),\n",
    "    \"R2\": make_scorer(r2_score)\n",
    "}"
   ]
  },
  {
   "cell_type": "code",
   "execution_count": 48,
   "metadata": {},
   "outputs": [],
   "source": [
    "d = pd.read_csv(\"PREV1.csv\")\n"
   ]
  },
  {
   "cell_type": "code",
   "execution_count": 49,
   "metadata": {},
   "outputs": [
    {
     "name": "stdout",
     "output_type": "stream",
     "text": [
      "Colunas em d:\n",
      "Index(['id_marcas', 'ano', 'engine_capacity', 'id_insurance', 'id_transmissao',\n",
      "       'kms_driven', 'id_owner_type', 'id_fuel_type', 'max_power', 'seats',\n",
      "       'mileage', 'id_body_type', 'id_city', 'resale_price_Lakh'],\n",
      "      dtype='object')\n"
     ]
    }
   ],
   "source": [
    "print(\"Colunas em d:\")\n",
    "print(d.columns)\n",
    "\n",
    "\n"
   ]
  },
  {
   "cell_type": "code",
   "execution_count": 50,
   "metadata": {},
   "outputs": [],
   "source": [
    "X, y = d.drop(\"resale_price_Lakh\", axis=1), d[\"resale_price_Lakh\"]\n",
    "\n"
   ]
  },
  {
   "cell_type": "code",
   "execution_count": 51,
   "metadata": {},
   "outputs": [],
   "source": [
    "# Utilize KFold para um problema de regressão\n",
    "kf = KFold(n_splits=10, shuffle=True, random_state=1234)"
   ]
  },
  {
   "cell_type": "code",
   "execution_count": 52,
   "metadata": {},
   "outputs": [
    {
     "name": "stdout",
     "output_type": "stream",
     "text": [
      "       id_marcas     ano  engine_capacity  id_insurance  id_transmissao  \\\n",
      "0       1.230837  2019.0           1199.0      0.256633        0.131359   \n",
      "1       0.976238  2018.0           1199.0      1.306401        0.131359   \n",
      "2       0.976238  2015.0           1497.0      0.256633        0.131359   \n",
      "3       1.230837  2021.0           1956.0      0.256633        0.583102   \n",
      "4       0.541440  2019.0           1197.0      1.306401        0.583102   \n",
      "...          ...     ...              ...           ...             ...   \n",
      "13414   1.745897  2021.0           2199.0      0.256633        0.583102   \n",
      "13415   0.677665  2017.0           1197.0      0.256633        0.131359   \n",
      "13416   1.693345  2017.0           1498.0      0.445408        0.131359   \n",
      "13417   0.541440  2017.0           1248.0      0.445408        0.131359   \n",
      "13418   0.976238  2015.0           1198.0      0.445408        0.131359   \n",
      "\n",
      "       kms_driven  id_owner_type  id_fuel_type  max_power  seats  mileage  \\\n",
      "0         30910.0       0.150465      0.180334       83.8    5.0    23.84   \n",
      "1         48089.0       1.365236      0.180334       88.7    5.0    17.50   \n",
      "2         51000.0       0.620328      0.180334      117.3    5.0    17.40   \n",
      "3         30000.0       0.150465      0.514919      167.6    7.0    14.08   \n",
      "4         61113.0       0.150465      0.180334       83.1    5.0    21.40   \n",
      "...           ...            ...           ...        ...    ...      ...   \n",
      "13414     80000.0       0.620328      0.514919      197.2    7.0    14.11   \n",
      "13415     17923.0       0.150465      0.180334       81.8    5.0    18.60   \n",
      "13416     63389.0       0.620328      0.514919      108.6    5.0    21.13   \n",
      "13417     40000.0       0.620328      0.514919       88.5    5.0    24.30   \n",
      "13418     33046.0       0.150465      0.180334       86.7    5.0    18.00   \n",
      "\n",
      "       id_body_type   id_city  \n",
      "0          0.364112  1.096102  \n",
      "1          0.598869  1.281577  \n",
      "2          0.578053  0.922710  \n",
      "3          0.598869  0.922710  \n",
      "4          0.364112  1.170307  \n",
      "...             ...       ...  \n",
      "13414      1.347597  1.027199  \n",
      "13415      0.364112  1.223199  \n",
      "13416      0.578053  1.027199  \n",
      "13417      0.598869  0.868320  \n",
      "13418      0.578053  0.868320  \n",
      "\n",
      "[13419 rows x 13 columns]\n",
      "Data type by column:\n",
      "id_marcas          float64\n",
      "ano                float64\n",
      "engine_capacity    float64\n",
      "id_insurance       float64\n",
      "id_transmissao     float64\n",
      "kms_driven         float64\n",
      "id_owner_type      float64\n",
      "id_fuel_type       float64\n",
      "max_power          float64\n",
      "seats              float64\n",
      "mileage            float64\n",
      "id_body_type       float64\n",
      "id_city            float64\n",
      "dtype: object\n"
     ]
    }
   ],
   "source": [
    "print(X)\n",
    "# Check data types\n",
    "data_types = X.dtypes\n",
    "print(\"Data type by column:\")\n",
    "print(data_types)"
   ]
  },
  {
   "cell_type": "code",
   "execution_count": 53,
   "metadata": {},
   "outputs": [],
   "source": [
    "from sklearn.tree import DecisionTreeRegressor\n",
    "import pandas as pd\n",
    "\n",
    "# Carregar o conjunto de teste a partir de um arquivo CSV\n",
    "df_test = pd.read_csv(\"testcenario1.csv\") \n",
    "\n",
    "# Criar um novo DataFrame apenas com a coluna 'ID'\n",
    "id_column = df_test[['ID']].copy()\n",
    "\n",
    "# Remover a coluna 'ID' do DataFrame original\n",
    "df_test.drop('ID', axis=1, inplace=True)\n"
   ]
  },
  {
   "cell_type": "code",
   "execution_count": 54,
   "metadata": {},
   "outputs": [
    {
     "name": "stdout",
     "output_type": "stream",
     "text": [
      "      id_marcas     ano  engine_capacity  insurance  transmission_type  \\\n",
      "0      0.677665  2017.0      1197.000000   0.445408           0.131359   \n",
      "1      0.541440  2020.0      1197.000000   1.418644           0.583102   \n",
      "2      0.541440  2010.0       998.000000   0.256633           0.131359   \n",
      "3      0.541440  2010.0       796.000000   0.256633           0.131359   \n",
      "4      0.677665  2018.0      1197.000000   0.445408           0.131359   \n",
      "...         ...     ...              ...        ...                ...   \n",
      "3485   1.230837  2022.0      1399.651986   0.256633           0.583102   \n",
      "3486   1.419493  2017.0       999.000000   0.256633           0.131359   \n",
      "3487   0.976238  2017.0      1497.000000   0.445408           0.131359   \n",
      "3488   0.976238  2016.0      1199.000000   0.445408           0.131359   \n",
      "3489   0.541440  2017.0      1197.000000   0.445408           0.131359   \n",
      "\n",
      "      kms_driven  owner_type  fuel_type  max_power  seats  mileage  body_type  \\\n",
      "0        53658.0    0.150465   0.180334       81.8    5.0    18.90   0.364112   \n",
      "1        33055.0    0.620328   0.180334       81.8    5.0    21.21   0.364112   \n",
      "2        90385.0    1.365236   0.180334       67.1    5.0    18.20   0.364112   \n",
      "3       110000.0    0.150465   0.180334       46.3    5.0    19.70   0.364112   \n",
      "4        58000.0    0.620328   0.180334       81.8    5.0    17.19   0.364112   \n",
      "...          ...         ...        ...        ...    ...      ...        ...   \n",
      "3485     30000.0    0.150465   2.455816       73.7    5.0     0.00   0.578053   \n",
      "3486     64024.0    0.150465   0.180334       67.0    5.0    23.01   0.364112   \n",
      "3487     39000.0    0.150465   0.180334      117.3    5.0    17.80   0.578053   \n",
      "3488     33000.0    0.150465   0.180334       88.7    5.0    18.70   0.364112   \n",
      "3489     14097.0    0.620328   0.180334       88.5    5.0    22.38   0.364112   \n",
      "\n",
      "          city  \n",
      "0     0.922710  \n",
      "1     1.281577  \n",
      "2     1.593888  \n",
      "3     0.767700  \n",
      "4     0.767700  \n",
      "...        ...  \n",
      "3485  1.096102  \n",
      "3486  0.868320  \n",
      "3487  0.767700  \n",
      "3488  0.922710  \n",
      "3489  0.767700  \n",
      "\n",
      "[3490 rows x 13 columns]\n",
      "Data type by column:\n",
      "id_marcas            float64\n",
      "ano                  float64\n",
      "engine_capacity      float64\n",
      "insurance            float64\n",
      "transmission_type    float64\n",
      "kms_driven           float64\n",
      "owner_type           float64\n",
      "fuel_type            float64\n",
      "max_power            float64\n",
      "seats                float64\n",
      "mileage              float64\n",
      "body_type            float64\n",
      "city                 float64\n",
      "dtype: object\n"
     ]
    }
   ],
   "source": [
    "\n",
    "print(df_test)\n",
    "# Check data types\n",
    "data_types = df_test.dtypes\n",
    "print(\"Data type by column:\")\n",
    "print(data_types)"
   ]
  },
  {
   "cell_type": "code",
   "execution_count": 55,
   "metadata": {},
   "outputs": [
    {
     "name": "stdout",
     "output_type": "stream",
     "text": [
      "id_marcas          0\n",
      "ano                0\n",
      "engine_capacity    0\n",
      "id_insurance       0\n",
      "id_transmissao     0\n",
      "kms_driven         0\n",
      "id_owner_type      0\n",
      "id_fuel_type       0\n",
      "max_power          0\n",
      "seats              0\n",
      "mileage            0\n",
      "id_body_type       0\n",
      "id_city            0\n",
      "dtype: int64\n"
     ]
    }
   ],
   "source": [
    "# Contar a quantidade de NaN em cada coluna do DataFrame X\n",
    "nan_count = X.isna().sum()\n",
    "\n",
    "# Exibir a contagem de NaN por coluna\n",
    "print(nan_count)"
   ]
  },
  {
   "cell_type": "code",
   "execution_count": 56,
   "metadata": {},
   "outputs": [
    {
     "name": "stdout",
     "output_type": "stream",
     "text": [
      "id_marcas            0\n",
      "ano                  0\n",
      "engine_capacity      0\n",
      "insurance            0\n",
      "transmission_type    0\n",
      "kms_driven           0\n",
      "owner_type           0\n",
      "fuel_type            0\n",
      "max_power            0\n",
      "seats                0\n",
      "mileage              0\n",
      "body_type            0\n",
      "city                 0\n",
      "dtype: int64\n"
     ]
    }
   ],
   "source": [
    "# Contar a quantidade de NaN em cada coluna do DataFrame X\n",
    "nan_count = df_test.isna().sum()\n",
    "\n",
    "# Exibir a contagem de NaN por coluna\n",
    "print(nan_count)"
   ]
  },
  {
   "cell_type": "code",
   "execution_count": 57,
   "metadata": {},
   "outputs": [],
   "source": [
    "# Mapeando os nomes das colunas de d_test para os correspondentes em d\n",
    "mapeamento_colunas = {\n",
    "    'insurance': 'id_insurance',\n",
    "    'transmission_type': 'id_transmissao',\n",
    "    'owner_type': 'id_owner_type',\n",
    "    'fuel_type': 'id_fuel_type',\n",
    "    'body_type': 'id_body_type',\n",
    "    'city': 'id_city',\n",
    "    \n",
    "}\n",
    "\n",
    "# Renomeando as colunas em d_test\n",
    "df_test.rename(columns=mapeamento_colunas, inplace=True)"
   ]
  },
  {
   "cell_type": "code",
   "execution_count": 58,
   "metadata": {},
   "outputs": [
    {
     "name": "stdout",
     "output_type": "stream",
     "text": [
      "float64\n"
     ]
    }
   ],
   "source": [
    "# Check data types\n",
    "print(y.dtypes)"
   ]
  },
  {
   "cell_type": "code",
   "execution_count": 59,
   "metadata": {},
   "outputs": [
    {
     "name": "stdout",
     "output_type": "stream",
     "text": [
      "id_marcas          float64\n",
      "ano                float64\n",
      "engine_capacity    float64\n",
      "id_insurance       float64\n",
      "id_transmissao     float64\n",
      "kms_driven         float64\n",
      "id_owner_type      float64\n",
      "id_fuel_type       float64\n",
      "max_power          float64\n",
      "seats              float64\n",
      "mileage            float64\n",
      "id_body_type       float64\n",
      "id_city            float64\n",
      "dtype: object\n"
     ]
    }
   ],
   "source": [
    "# Check data types\n",
    "print(X.dtypes)"
   ]
  },
  {
   "cell_type": "code",
   "execution_count": 60,
   "metadata": {},
   "outputs": [
    {
     "name": "stdout",
     "output_type": "stream",
     "text": [
      "id_marcas          float64\n",
      "ano                float64\n",
      "engine_capacity    float64\n",
      "id_insurance       float64\n",
      "id_transmissao     float64\n",
      "kms_driven         float64\n",
      "id_owner_type      float64\n",
      "id_fuel_type       float64\n",
      "max_power          float64\n",
      "seats              float64\n",
      "mileage            float64\n",
      "id_body_type       float64\n",
      "id_city            float64\n",
      "dtype: object\n"
     ]
    }
   ],
   "source": [
    "# Check data types\n",
    "print(df_test.dtypes)"
   ]
  },
  {
   "cell_type": "code",
   "execution_count": 61,
   "metadata": {},
   "outputs": [],
   "source": [
    "from sklearn.datasets import load_iris\n",
    "from sklearn.model_selection import train_test_split\n",
    "from sklearn.svm import SVR\n",
    "from sklearn.metrics import mean_squared_error\n",
    "\n",
    "# Supondo que X, y sejam seus dados de treino e df_test seja seus dados de teste\n",
    "\n",
    "# Inicializa um modelo SVR\n",
    "svr = SVR()\n",
    "\n",
    "# Treina o modelo SVR\n",
    "svr.fit(X, y)\n",
    "\n",
    "# Faz previsões no conjunto de testes\n",
    "predictions = svr.predict(df_test)\n",
    "\n",
    "# Se tiver rótulos verdadeiros (y_test, por exemplo), você pode calcular a métrica de erro, como o erro médio quadrático (MSE)\n",
    "# mse = mean_squared_error(y_test, predictions)\n",
    "\n"
   ]
  },
  {
   "cell_type": "code",
   "execution_count": 62,
   "metadata": {},
   "outputs": [
    {
     "name": "stdout",
     "output_type": "stream",
     "text": [
      "3490\n"
     ]
    }
   ],
   "source": [
    "\n",
    "print(len(predictions))  # Check the length of predictions\n"
   ]
  },
  {
   "cell_type": "code",
   "execution_count": 63,
   "metadata": {},
   "outputs": [],
   "source": [
    "id_series = id_column.squeeze()\n",
    "df_predictions = pd.DataFrame({\"ID\": id_series, \"prediction\": predictions})"
   ]
  },
  {
   "cell_type": "code",
   "execution_count": 64,
   "metadata": {},
   "outputs": [
    {
     "name": "stdout",
     "output_type": "stream",
     "text": [
      "        ID  prediction\n",
      "0        0    5.403121\n",
      "1        1    6.543171\n",
      "2        2    4.270268\n",
      "3        3    3.802558\n",
      "4        4    5.242612\n",
      "...    ...         ...\n",
      "3485  3485    6.949318\n",
      "3486  3486    4.867215\n",
      "3487  3487    6.417791\n",
      "3488  3488    6.549638\n",
      "3489  3489    8.196647\n",
      "\n",
      "[3490 rows x 2 columns]\n"
     ]
    }
   ],
   "source": [
    "print(df_predictions)"
   ]
  },
  {
   "cell_type": "code",
   "execution_count": 65,
   "metadata": {},
   "outputs": [],
   "source": [
    "# Exporte o DataFrame para um arquivo CSV\n",
    "df_predictions.to_csv('BayesCenario1.csv', index=False)"
   ]
  }
 ],
 "metadata": {
  "kernelspec": {
   "display_name": "Python 3",
   "language": "python",
   "name": "python3"
  },
  "language_info": {
   "codemirror_mode": {
    "name": "ipython",
    "version": 3
   },
   "file_extension": ".py",
   "mimetype": "text/x-python",
   "name": "python",
   "nbconvert_exporter": "python",
   "pygments_lexer": "ipython3",
   "version": "3.12.0"
  }
 },
 "nbformat": 4,
 "nbformat_minor": 2
}
