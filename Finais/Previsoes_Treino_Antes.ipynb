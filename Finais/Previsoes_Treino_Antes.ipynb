{
 "cells": [
  {
   "cell_type": "code",
   "execution_count": 1,
   "metadata": {},
   "outputs": [],
   "source": [
    "import warnings\n",
    "warnings.filterwarnings(\"ignore\")"
   ]
  },
  {
   "cell_type": "code",
   "execution_count": 2,
   "metadata": {},
   "outputs": [],
   "source": [
    "import pandas as pd\n",
    "#necessario por causa do metodo de avaliaçao\n",
    "from sklearn.model_selection import KFold\n",
    "from sklearn.metrics import (\n",
    "        make_scorer,\n",
    "        confusion_matrix, \n",
    "        cohen_kappa_score, \n",
    "        accuracy_score, \n",
    "        precision_score, \n",
    "        recall_score, \n",
    "        f1_score, \n",
    "        roc_auc_score\n",
    ")\n",
    "from sklearn.model_selection import cross_validate, StratifiedKFold\n",
    "from sklearn.tree import DecisionTreeClassifier # decision trees for classification\n",
    "from sklearn.neural_network import  MLPClassifier # neural networks for classification\n",
    "from sklearn.naive_bayes import GaussianNB # naive bayes for classification\n",
    "from sklearn.svm import SVC # support vector machines for classification"
   ]
  },
  {
   "cell_type": "code",
   "execution_count": 3,
   "metadata": {},
   "outputs": [],
   "source": [
    "#metricas regressao\n",
    "from sklearn.metrics import mean_squared_error, mean_absolute_error, r2_score\n",
    "\n",
    "def custom_regression_metrics(y_true, y_pred):\n",
    "    mse = mean_squared_error(y_true, y_pred)\n",
    "    mae = mean_absolute_error(y_true, y_pred)\n",
    "    r2 = r2_score(y_true, y_pred)\n",
    "    \n",
    "    return mse, mae, r2"
   ]
  },
  {
   "cell_type": "code",
   "execution_count": 4,
   "metadata": {},
   "outputs": [],
   "source": [
    "#metricas classificação\n",
    "def specificity_score(y_true, y_pred):\n",
    "    tn, fp, fn, tp = confusion_matrix(y_true, y_pred).ravel()\n",
    "    return tn / (tn+fp)"
   ]
  },
  {
   "cell_type": "code",
   "execution_count": 5,
   "metadata": {},
   "outputs": [],
   "source": [
    "#Metricas regressao\n",
    "from sklearn.metrics import mean_squared_error, mean_absolute_error, r2_score\n",
    "\n",
    "REGRESSION_METRICS = {\n",
    "    \"MSE\": make_scorer(mean_squared_error),\n",
    "    \"MAE\": make_scorer(mean_absolute_error),\n",
    "    \"R2\": make_scorer(r2_score)\n",
    "}"
   ]
  },
  {
   "cell_type": "code",
   "execution_count": 6,
   "metadata": {},
   "outputs": [],
   "source": [
    "d = pd.read_csv(\"Cenario9Old.csv\")\n"
   ]
  },
  {
   "cell_type": "code",
   "execution_count": 7,
   "metadata": {},
   "outputs": [
    {
     "name": "stdout",
     "output_type": "stream",
     "text": [
      "Colunas em d:\n",
      "Index(['id_categoria_marca', 'kms_driven', 'resale_price_Lakh'], dtype='object')\n"
     ]
    }
   ],
   "source": [
    "print(\"Colunas em d:\")\n",
    "print(d.columns)\n",
    "\n",
    "\n"
   ]
  },
  {
   "cell_type": "code",
   "execution_count": 8,
   "metadata": {},
   "outputs": [],
   "source": [
    "X, y = d.drop(\"resale_price_Lakh\", axis=1), d[\"resale_price_Lakh\"]\n",
    "\n"
   ]
  },
  {
   "cell_type": "code",
   "execution_count": 9,
   "metadata": {},
   "outputs": [],
   "source": [
    "# Utilize KFold para um problema de regressão\n",
    "kf = KFold(n_splits=10, shuffle=True, random_state=1234)"
   ]
  },
  {
   "cell_type": "code",
   "execution_count": 10,
   "metadata": {},
   "outputs": [
    {
     "name": "stdout",
     "output_type": "stream",
     "text": [
      "       id_categoria_marca  kms_driven\n",
      "0                0.036241     30910.0\n",
      "1                0.036241     48089.0\n",
      "2                0.036241     51000.0\n",
      "3                0.036241     30000.0\n",
      "4                0.036241     61113.0\n",
      "...                   ...         ...\n",
      "13897            0.036241     80000.0\n",
      "13898            0.036241     17923.0\n",
      "13899            0.036241     63389.0\n",
      "13900            0.036241     40000.0\n",
      "13901            0.036241     33046.0\n",
      "\n",
      "[13902 rows x 2 columns]\n",
      "Data type by column:\n",
      "id_categoria_marca    float64\n",
      "kms_driven            float64\n",
      "dtype: object\n"
     ]
    }
   ],
   "source": [
    "print(X)\n",
    "# Check data types\n",
    "data_types = X.dtypes\n",
    "print(\"Data type by column:\")\n",
    "print(data_types)"
   ]
  },
  {
   "cell_type": "code",
   "execution_count": 11,
   "metadata": {},
   "outputs": [],
   "source": [
    "\n",
    "from sklearn.tree import DecisionTreeRegressor\n",
    "import pandas as pd\n",
    "\n",
    "# Carregar o conjunto de teste a partir de um arquivo CSV\n",
    "df_test = pd.read_csv(\"Cenario9Old.csv\") \n",
    "\n",
    "# Criar um novo DataFrame apenas com a coluna 'ID'\n",
    "id_column = df_test[['resale_price_Lakh']].copy()\n",
    "\n",
    "# Remover a coluna 'ID' do DataFrame original\n",
    "df_test.drop('resale_price_Lakh', axis=1, inplace=True)\n"
   ]
  },
  {
   "cell_type": "code",
   "execution_count": 12,
   "metadata": {},
   "outputs": [
    {
     "name": "stdout",
     "output_type": "stream",
     "text": [
      "       id_categoria_marca  kms_driven\n",
      "0                0.036241     30910.0\n",
      "1                0.036241     48089.0\n",
      "2                0.036241     51000.0\n",
      "3                0.036241     30000.0\n",
      "4                0.036241     61113.0\n",
      "...                   ...         ...\n",
      "13897            0.036241     80000.0\n",
      "13898            0.036241     17923.0\n",
      "13899            0.036241     63389.0\n",
      "13900            0.036241     40000.0\n",
      "13901            0.036241     33046.0\n",
      "\n",
      "[13902 rows x 2 columns]\n",
      "Data type by column:\n",
      "id_categoria_marca    float64\n",
      "kms_driven            float64\n",
      "dtype: object\n"
     ]
    }
   ],
   "source": [
    "\n",
    "print(df_test)\n",
    "# Check data types\n",
    "data_types = df_test.dtypes\n",
    "print(\"Data type by column:\")\n",
    "print(data_types)"
   ]
  },
  {
   "cell_type": "code",
   "execution_count": 13,
   "metadata": {},
   "outputs": [
    {
     "name": "stdout",
     "output_type": "stream",
     "text": [
      "id_categoria_marca    0\n",
      "kms_driven            0\n",
      "dtype: int64\n"
     ]
    }
   ],
   "source": [
    "# Contar a quantidade de NaN em cada coluna do DataFrame X\n",
    "nan_count = X.isna().sum()\n",
    "\n",
    "# Exibir a contagem de NaN por coluna\n",
    "print(nan_count)"
   ]
  },
  {
   "cell_type": "code",
   "execution_count": 14,
   "metadata": {},
   "outputs": [
    {
     "name": "stdout",
     "output_type": "stream",
     "text": [
      "id_categoria_marca    0\n",
      "kms_driven            0\n",
      "dtype: int64\n"
     ]
    }
   ],
   "source": [
    "\n",
    "# Contar a quantidade de NaN em cada coluna do DataFrame X\n",
    "nan_count = df_test.isna().sum()\n",
    "\n",
    "# Exibir a contagem de NaN por coluna\n",
    "print(nan_count)"
   ]
  },
  {
   "cell_type": "code",
   "execution_count": 15,
   "metadata": {},
   "outputs": [
    {
     "name": "stdout",
     "output_type": "stream",
     "text": [
      "float64\n"
     ]
    }
   ],
   "source": [
    "# Check data types\n",
    "print(y.dtypes)"
   ]
  },
  {
   "cell_type": "code",
   "execution_count": 16,
   "metadata": {},
   "outputs": [
    {
     "name": "stdout",
     "output_type": "stream",
     "text": [
      "id_categoria_marca    float64\n",
      "kms_driven            float64\n",
      "dtype: object\n"
     ]
    }
   ],
   "source": [
    "# Check data types\n",
    "print(X.dtypes)"
   ]
  },
  {
   "cell_type": "code",
   "execution_count": 17,
   "metadata": {},
   "outputs": [
    {
     "name": "stdout",
     "output_type": "stream",
     "text": [
      "id_categoria_marca    float64\n",
      "kms_driven            float64\n",
      "dtype: object\n"
     ]
    }
   ],
   "source": [
    "# Check data types\n",
    "print(df_test.dtypes)"
   ]
  },
  {
   "cell_type": "code",
   "execution_count": 18,
   "metadata": {},
   "outputs": [],
   "source": [
    "#from sklearn import tree\n",
    "#clf = tree.DecisionTreeRegressor()\n",
    "#clf = clf.fit(X, y)\n",
    "#predictions=clf.predict(df_test)\n",
    "\n"
   ]
  },
  {
   "cell_type": "code",
   "execution_count": 19,
   "metadata": {},
   "outputs": [],
   "source": [
    "#from sklearn.neural_network import MLPRegressor\n",
    "\n",
    " \n",
    "#clf= MLPRegressor(random_state=1, max_iter=500)\n",
    "\n",
    "#clf=clf.fit(X, y)\n",
    "#predictions=clf.predict(df_test)"
   ]
  },
  {
   "cell_type": "code",
   "execution_count": 20,
   "metadata": {},
   "outputs": [],
   "source": [
    "from sklearn.ensemble import RandomForestRegressor\n",
    "from sklearn.model_selection import train_test_split\n",
    "\n",
    "# Dividir os dados em conjuntos de treino e teste\n",
    "X_train, X_test, y_train, y_test = train_test_split(X, y, test_size=0.2, random_state=42)\n",
    "\n",
    "# Criar um regressor RandomForest\n",
    "rf_regressor = RandomForestRegressor(n_estimators=100, random_state=1234)\n",
    "\n",
    "# Treinar o modelo com os dados de treino\n",
    "rf_regressor.fit(X_train, y_train)\n",
    "\n",
    "# Fazer previsões nos dados de teste\n",
    "best_predictions = rf_regressor.predict(df_test)\n",
    "\n"
   ]
  },
  {
   "cell_type": "code",
   "execution_count": 21,
   "metadata": {},
   "outputs": [
    {
     "name": "stdout",
     "output_type": "stream",
     "text": [
      "13902\n"
     ]
    }
   ],
   "source": [
    "\n",
    "print(len(best_predictions))  # Check the length of predictions\n"
   ]
  },
  {
   "cell_type": "code",
   "execution_count": 22,
   "metadata": {},
   "outputs": [],
   "source": [
    "id_series = id_column.squeeze()\n",
    "df_predictions = pd.DataFrame({\"resale_price_Lakh\": id_series, \"prediction\": best_predictions})"
   ]
  },
  {
   "cell_type": "code",
   "execution_count": 23,
   "metadata": {},
   "outputs": [
    {
     "name": "stdout",
     "output_type": "stream",
     "text": [
      "       resale_price_Lakh  prediction\n",
      "0                   5.66    6.920600\n",
      "1                   6.64    5.443900\n",
      "2                   5.65    7.537213\n",
      "3                  23.00    8.273599\n",
      "4                   6.87    5.978642\n",
      "...                  ...         ...\n",
      "13897              26.50    5.351855\n",
      "13898               5.87    5.406700\n",
      "13899               7.43    6.800500\n",
      "13900               9.45    7.025905\n",
      "13901               4.55    4.315700\n",
      "\n",
      "[13902 rows x 2 columns]\n"
     ]
    }
   ],
   "source": [
    "print(df_predictions)"
   ]
  },
  {
   "cell_type": "code",
   "execution_count": 24,
   "metadata": {},
   "outputs": [],
   "source": [
    "# Exporte o DataFrame para um arquivo CSV\n",
    "df_predictions.to_csv('PredictsTrainOld.csv', index=False)"
   ]
  }
 ],
 "metadata": {
  "kernelspec": {
   "display_name": "Python 3",
   "language": "python",
   "name": "python3"
  },
  "language_info": {
   "codemirror_mode": {
    "name": "ipython",
    "version": 3
   },
   "file_extension": ".py",
   "mimetype": "text/x-python",
   "name": "python",
   "nbconvert_exporter": "python",
   "pygments_lexer": "ipython3",
   "version": "3.12.1"
  }
 },
 "nbformat": 4,
 "nbformat_minor": 2
}
