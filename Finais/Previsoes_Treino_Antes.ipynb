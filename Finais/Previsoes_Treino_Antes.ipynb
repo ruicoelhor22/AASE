{
 "cells": [
  {
   "cell_type": "code",
   "execution_count": 27,
   "metadata": {},
   "outputs": [],
   "source": [
    "import warnings\n",
    "warnings.filterwarnings(\"ignore\")"
   ]
  },
  {
   "cell_type": "code",
   "execution_count": 28,
   "metadata": {},
   "outputs": [],
   "source": [
    "import pandas as pd\n",
    "#necessario por causa do metodo de avaliaçao\n",
    "from sklearn.model_selection import KFold\n",
    "from sklearn.metrics import (\n",
    "        make_scorer,\n",
    "        confusion_matrix, \n",
    "        cohen_kappa_score, \n",
    "        accuracy_score, \n",
    "        precision_score, \n",
    "        recall_score, \n",
    "        f1_score, \n",
    "        roc_auc_score\n",
    ")\n",
    "from sklearn.model_selection import cross_validate, StratifiedKFold\n",
    "from sklearn.tree import DecisionTreeClassifier # decision trees for classification\n",
    "from sklearn.neural_network import  MLPClassifier # neural networks for classification\n",
    "from sklearn.naive_bayes import GaussianNB # naive bayes for classification\n",
    "from sklearn.svm import SVC # support vector machines for classification"
   ]
  },
  {
   "cell_type": "code",
   "execution_count": 29,
   "metadata": {},
   "outputs": [],
   "source": [
    "#metricas regressao\n",
    "from sklearn.metrics import mean_squared_error, mean_absolute_error, r2_score\n",
    "\n",
    "def custom_regression_metrics(y_true, y_pred):\n",
    "    mse = mean_squared_error(y_true, y_pred)\n",
    "    mae = mean_absolute_error(y_true, y_pred)\n",
    "    r2 = r2_score(y_true, y_pred)\n",
    "    \n",
    "    return mse, mae, r2"
   ]
  },
  {
   "cell_type": "code",
   "execution_count": 30,
   "metadata": {},
   "outputs": [],
   "source": [
    "#metricas classificação\n",
    "def specificity_score(y_true, y_pred):\n",
    "    tn, fp, fn, tp = confusion_matrix(y_true, y_pred).ravel()\n",
    "    return tn / (tn+fp)"
   ]
  },
  {
   "cell_type": "code",
   "execution_count": 31,
   "metadata": {},
   "outputs": [],
   "source": [
    "#Metricas regressao\n",
    "from sklearn.metrics import mean_squared_error, mean_absolute_error, r2_score\n",
    "\n",
    "REGRESSION_METRICS = {\n",
    "    \"MSE\": make_scorer(mean_squared_error),\n",
    "    \"MAE\": make_scorer(mean_absolute_error),\n",
    "    \"R2\": make_scorer(r2_score)\n",
    "}"
   ]
  },
  {
   "cell_type": "code",
   "execution_count": 32,
   "metadata": {},
   "outputs": [],
   "source": [
    "d = pd.read_csv(\"CenarioOld.csv\")\n"
   ]
  },
  {
   "cell_type": "code",
   "execution_count": 33,
   "metadata": {},
   "outputs": [
    {
     "name": "stdout",
     "output_type": "stream",
     "text": [
      "Colunas em d:\n",
      "Index(['id_nome', 'id_ano', 'resale_price_Lakh'], dtype='object')\n"
     ]
    }
   ],
   "source": [
    "print(\"Colunas em d:\")\n",
    "print(d.columns)\n",
    "\n",
    "\n"
   ]
  },
  {
   "cell_type": "code",
   "execution_count": 34,
   "metadata": {},
   "outputs": [],
   "source": [
    "X, y = d.drop(\"resale_price_Lakh\", axis=1), d[\"resale_price_Lakh\"]\n",
    "\n"
   ]
  },
  {
   "cell_type": "code",
   "execution_count": 35,
   "metadata": {},
   "outputs": [],
   "source": [
    "# Utilize KFold para um problema de regressão\n",
    "kf = KFold(n_splits=10, shuffle=True, random_state=1234)"
   ]
  },
  {
   "cell_type": "code",
   "execution_count": 36,
   "metadata": {},
   "outputs": [
    {
     "name": "stdout",
     "output_type": "stream",
     "text": [
      "        id_nome    id_ano\n",
      "0      3.364926  2.273846\n",
      "1      2.887805  2.151851\n",
      "2      3.063896  2.234592\n",
      "3      3.665956  1.702168\n",
      "4      3.444107  1.878259\n",
      "...         ...       ...\n",
      "13897  3.665956  1.702168\n",
      "13898  3.364926  2.330164\n",
      "13899  3.444107  2.169949\n",
      "13900  3.101685  2.160806\n",
      "13901  2.762866  2.394889\n",
      "\n",
      "[13902 rows x 2 columns]\n",
      "Data type by column:\n",
      "id_nome    float64\n",
      "id_ano     float64\n",
      "dtype: object\n"
     ]
    }
   ],
   "source": [
    "print(X)\n",
    "# Check data types\n",
    "data_types = X.dtypes\n",
    "print(\"Data type by column:\")\n",
    "print(data_types)"
   ]
  },
  {
   "cell_type": "code",
   "execution_count": 37,
   "metadata": {},
   "outputs": [],
   "source": [
    "\n",
    "from sklearn.tree import DecisionTreeRegressor\n",
    "import pandas as pd\n",
    "\n",
    "# Carregar o conjunto de teste a partir de um arquivo CSV\n",
    "df_test = pd.read_csv(\"CenarioOld.csv\") \n",
    "\n",
    "# Criar um novo DataFrame apenas com a coluna 'ID'\n",
    "id_column = df_test[['resale_price_Lakh']].copy()\n",
    "\n",
    "# Remover a coluna 'ID' do DataFrame original\n",
    "df_test.drop('resale_price_Lakh', axis=1, inplace=True)\n"
   ]
  },
  {
   "cell_type": "code",
   "execution_count": 38,
   "metadata": {},
   "outputs": [
    {
     "name": "stdout",
     "output_type": "stream",
     "text": [
      "        id_nome    id_ano\n",
      "0      3.364926  2.273846\n",
      "1      2.887805  2.151851\n",
      "2      3.063896  2.234592\n",
      "3      3.665956  1.702168\n",
      "4      3.444107  1.878259\n",
      "...         ...       ...\n",
      "13897  3.665956  1.702168\n",
      "13898  3.364926  2.330164\n",
      "13899  3.444107  2.169949\n",
      "13900  3.101685  2.160806\n",
      "13901  2.762866  2.394889\n",
      "\n",
      "[13902 rows x 2 columns]\n",
      "Data type by column:\n",
      "id_nome    float64\n",
      "id_ano     float64\n",
      "dtype: object\n"
     ]
    }
   ],
   "source": [
    "\n",
    "print(df_test)\n",
    "# Check data types\n",
    "data_types = df_test.dtypes\n",
    "print(\"Data type by column:\")\n",
    "print(data_types)"
   ]
  },
  {
   "cell_type": "code",
   "execution_count": 39,
   "metadata": {},
   "outputs": [
    {
     "name": "stdout",
     "output_type": "stream",
     "text": [
      "id_nome    0\n",
      "id_ano     0\n",
      "dtype: int64\n"
     ]
    }
   ],
   "source": [
    "# Contar a quantidade de NaN em cada coluna do DataFrame X\n",
    "nan_count = X.isna().sum()\n",
    "\n",
    "# Exibir a contagem de NaN por coluna\n",
    "print(nan_count)"
   ]
  },
  {
   "cell_type": "code",
   "execution_count": 40,
   "metadata": {},
   "outputs": [
    {
     "name": "stdout",
     "output_type": "stream",
     "text": [
      "id_nome    0\n",
      "id_ano     0\n",
      "dtype: int64\n"
     ]
    }
   ],
   "source": [
    "\n",
    "# Contar a quantidade de NaN em cada coluna do DataFrame X\n",
    "nan_count = df_test.isna().sum()\n",
    "\n",
    "# Exibir a contagem de NaN por coluna\n",
    "print(nan_count)"
   ]
  },
  {
   "cell_type": "code",
   "execution_count": 41,
   "metadata": {},
   "outputs": [
    {
     "name": "stdout",
     "output_type": "stream",
     "text": [
      "float64\n"
     ]
    }
   ],
   "source": [
    "# Check data types\n",
    "print(y.dtypes)"
   ]
  },
  {
   "cell_type": "code",
   "execution_count": 42,
   "metadata": {},
   "outputs": [
    {
     "name": "stdout",
     "output_type": "stream",
     "text": [
      "id_nome    float64\n",
      "id_ano     float64\n",
      "dtype: object\n"
     ]
    }
   ],
   "source": [
    "# Check data types\n",
    "print(X.dtypes)"
   ]
  },
  {
   "cell_type": "code",
   "execution_count": 43,
   "metadata": {},
   "outputs": [
    {
     "name": "stdout",
     "output_type": "stream",
     "text": [
      "id_nome    float64\n",
      "id_ano     float64\n",
      "dtype: object\n"
     ]
    }
   ],
   "source": [
    "# Check data types\n",
    "print(df_test.dtypes)"
   ]
  },
  {
   "cell_type": "code",
   "execution_count": 44,
   "metadata": {},
   "outputs": [],
   "source": [
    "#from sklearn import tree\n",
    "#clf = tree.DecisionTreeRegressor()\n",
    "#clf = clf.fit(X, y)\n",
    "#predictions=clf.predict(df_test)\n",
    "\n"
   ]
  },
  {
   "cell_type": "code",
   "execution_count": 45,
   "metadata": {},
   "outputs": [],
   "source": [
    "#from sklearn.neural_network import MLPRegressor\n",
    "\n",
    " \n",
    "#clf= MLPRegressor(random_state=1, max_iter=500)\n",
    "\n",
    "#clf=clf.fit(X, y)\n",
    "#predictions=clf.predict(df_test)"
   ]
  },
  {
   "cell_type": "code",
   "execution_count": 46,
   "metadata": {},
   "outputs": [],
   "source": [
    "from sklearn.ensemble import RandomForestRegressor\n",
    "from sklearn.model_selection import train_test_split\n",
    "\n",
    "# Dividir os dados em conjuntos de treino e teste\n",
    "X_train, X_test, y_train, y_test = train_test_split(X, y, test_size=0.2, random_state=42)\n",
    "\n",
    "# Criar um regressor RandomForest\n",
    "rf_regressor = RandomForestRegressor(n_estimators=100, random_state=1234)\n",
    "\n",
    "# Treinar o modelo com os dados de treino\n",
    "rf_regressor.fit(X_train, y_train)\n",
    "\n",
    "# Fazer previsões nos dados de teste\n",
    "best_predictions = rf_regressor.predict(df_test)\n",
    "\n"
   ]
  },
  {
   "cell_type": "code",
   "execution_count": 47,
   "metadata": {},
   "outputs": [
    {
     "name": "stdout",
     "output_type": "stream",
     "text": [
      "13902\n"
     ]
    }
   ],
   "source": [
    "\n",
    "print(len(best_predictions))  # Check the length of predictions\n"
   ]
  },
  {
   "cell_type": "code",
   "execution_count": 48,
   "metadata": {},
   "outputs": [],
   "source": [
    "id_series = id_column.squeeze()\n",
    "df_predictions = pd.DataFrame({\"resale_price_Lakh\": id_series, \"prediction\": best_predictions})"
   ]
  },
  {
   "cell_type": "code",
   "execution_count": 49,
   "metadata": {},
   "outputs": [
    {
     "name": "stdout",
     "output_type": "stream",
     "text": [
      "       resale_price_Lakh  prediction\n",
      "0                   5.66   12.971362\n",
      "1                   6.64    5.962988\n",
      "2                   5.65    4.845754\n",
      "3                  23.00   12.793383\n",
      "4                   6.87    9.790603\n",
      "...                  ...         ...\n",
      "13897              26.50   12.793383\n",
      "13898               5.87    6.069885\n",
      "13899               7.43    9.710802\n",
      "13900               9.45    6.405943\n",
      "13901               4.55    4.327224\n",
      "\n",
      "[13902 rows x 2 columns]\n"
     ]
    }
   ],
   "source": [
    "print(df_predictions)"
   ]
  },
  {
   "cell_type": "code",
   "execution_count": 50,
   "metadata": {},
   "outputs": [
    {
     "name": "stdout",
     "output_type": "stream",
     "text": [
      "\n",
      "Perdas antes 16535.11634922707\n",
      "\n",
      "Valor das vendas antes: 106030.83496077292\n",
      "\n",
      "Precisao antes: 11949\n"
     ]
    }
   ],
   "source": [
    "\n",
    "df_predictions['difference'] = df_predictions['resale_price_Lakh'] - df_predictions['prediction']\n",
    "'''\n",
    "for index, row in df_predictions.iterrows():\n",
    "    #prejuizo\n",
    "    if row['difference'] > 10:\n",
    "        df_predictions.at[index, 'prediction'] += 5.5\n",
    "for index, row in df_predictions.iterrows():\n",
    "    #lucro\n",
    "   if row['difference'] < -10:\n",
    "       df_predictions.at[index, 'prediction'] -= 8\n",
    "'''\n",
    "for index, row in df_predictions.iterrows():\n",
    "    #prejuizo\n",
    "    if row['difference'] > 3:\n",
    "        df_predictions.at[index, 'prediction'] -= 10\n",
    "for index, row in df_predictions.iterrows():\n",
    "    #lucro\n",
    "   if row['difference'] < -3:\n",
    "       df_predictions.at[index, 'prediction'] += 1\n",
    "\n",
    "\n",
    "# Adicione a coluna 'precisão' com base na condição fornecida\n",
    "# Calculate the absolute difference between the prediction and the actual resale price\n",
    "df_predictions['abs_error'] = abs(df_predictions['prediction'] - df_predictions['resale_price_Lakh'])\n",
    "\n",
    "# Calculate the percentage error\n",
    "df_predictions['pct_error'] = df_predictions['abs_error'] / df_predictions['resale_price_Lakh'] * 100\n",
    "\n",
    "# Create a new column for precision\n",
    "df_predictions['precisao'] = (df_predictions['pct_error'] >= 8).astype(int)\n",
    "\n",
    "\n",
    "\n",
    "df_predictions['difference'] = df_predictions['resale_price_Lakh'] - df_predictions['prediction']\n",
    "\n",
    "total_difference_antes = df_predictions['difference'].sum()\n",
    "total_vendas_antes= df_predictions['prediction'].sum()\n",
    "precisao_antes=df_predictions['precisao'] .sum()\n",
    "\n",
    "print(\"\\nPerdas antes\", total_difference_antes)\n",
    "print(\"\\nValor das vendas antes:\", total_vendas_antes)\n",
    "print(\"\\nPrecisao antes:\", precisao_antes)\n"
   ]
  },
  {
   "cell_type": "code",
   "execution_count": 51,
   "metadata": {},
   "outputs": [
    {
     "name": "stdout",
     "output_type": "stream",
     "text": [
      "\n",
      "Perdas agora -258.02718963333706\n",
      "\n",
      "Valor das vendas agora: 122823.97849963333\n",
      "\n",
      "Precisao agora: 4186\n"
     ]
    }
   ],
   "source": [
    "df_nova = pd.read_csv(\"PredictsTrain.csv\")\n",
    "\n",
    "df_nova['difference'] = df_nova['resale_price_Lakh'] - df_nova['prediction']\n",
    "\n",
    "# Adicione a coluna 'precisão' com base na condição fornecida\n",
    "# Calculate the absolute difference between the prediction and the actual resale price\n",
    "df_nova['abs_error'] = abs(df_nova['prediction'] - df_nova['resale_price_Lakh'])\n",
    "\n",
    "# Calculate the percentage error\n",
    "df_nova['pct_error'] = df_nova['abs_error'] / df_nova['resale_price_Lakh'] * 100\n",
    "\n",
    "# Create a new column for precision\n",
    "df_nova['precisao'] = (df_nova['pct_error'] >= 8).astype(int)\n",
    "\n",
    "# Calcular a soma das diferenças\n",
    "total_difference_agora = df_nova['difference'].sum()\n",
    "total_vendas_agora= df_nova['prediction'].sum()\n",
    "precisao_agora=df_nova['precisao'] .sum()\n",
    "\n",
    "\n",
    "print(\"\\nPerdas agora\", total_difference_agora)\n",
    "print(\"\\nValor das vendas agora:\", total_vendas_agora)\n",
    "print(\"\\nPrecisao agora:\", precisao_agora)"
   ]
  },
  {
   "cell_type": "code",
   "execution_count": 52,
   "metadata": {},
   "outputs": [],
   "source": [
    "# Exporte o DataFrame para um arquivo CSV\n",
    "df_predictions.to_csv('PredictsTrainOld.csv', index=False)"
   ]
  }
 ],
 "metadata": {
  "kernelspec": {
   "display_name": "Python 3",
   "language": "python",
   "name": "python3"
  },
  "language_info": {
   "codemirror_mode": {
    "name": "ipython",
    "version": 3
   },
   "file_extension": ".py",
   "mimetype": "text/x-python",
   "name": "python",
   "nbconvert_exporter": "python",
   "pygments_lexer": "ipython3",
   "version": "3.12.1"
  }
 },
 "nbformat": 4,
 "nbformat_minor": 2
}
