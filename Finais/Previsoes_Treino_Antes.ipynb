{
 "cells": [
  {
   "cell_type": "code",
   "execution_count": 168,
   "metadata": {},
   "outputs": [],
   "source": [
    "import warnings\n",
    "warnings.filterwarnings(\"ignore\")"
   ]
  },
  {
   "cell_type": "code",
   "execution_count": 169,
   "metadata": {},
   "outputs": [],
   "source": [
    "import pandas as pd\n",
    "#necessario por causa do metodo de avaliaçao\n",
    "from sklearn.model_selection import KFold\n",
    "from sklearn.metrics import (\n",
    "        make_scorer,\n",
    "        confusion_matrix, \n",
    "        cohen_kappa_score, \n",
    "        accuracy_score, \n",
    "        precision_score, \n",
    "        recall_score, \n",
    "        f1_score, \n",
    "        roc_auc_score\n",
    ")\n",
    "from sklearn.model_selection import cross_validate, StratifiedKFold\n",
    "from sklearn.tree import DecisionTreeClassifier # decision trees for classification\n",
    "from sklearn.neural_network import  MLPClassifier # neural networks for classification\n",
    "from sklearn.naive_bayes import GaussianNB # naive bayes for classification\n",
    "from sklearn.svm import SVC # support vector machines for classification"
   ]
  },
  {
   "cell_type": "code",
   "execution_count": 170,
   "metadata": {},
   "outputs": [],
   "source": [
    "#metricas regressao\n",
    "from sklearn.metrics import mean_squared_error, mean_absolute_error, r2_score\n",
    "\n",
    "def custom_regression_metrics(y_true, y_pred):\n",
    "    mse = mean_squared_error(y_true, y_pred)\n",
    "    mae = mean_absolute_error(y_true, y_pred)\n",
    "    r2 = r2_score(y_true, y_pred)\n",
    "    \n",
    "    return mse, mae, r2"
   ]
  },
  {
   "cell_type": "code",
   "execution_count": 171,
   "metadata": {},
   "outputs": [],
   "source": [
    "#metricas classificação\n",
    "def specificity_score(y_true, y_pred):\n",
    "    tn, fp, fn, tp = confusion_matrix(y_true, y_pred).ravel()\n",
    "    return tn / (tn+fp)"
   ]
  },
  {
   "cell_type": "code",
   "execution_count": 172,
   "metadata": {},
   "outputs": [],
   "source": [
    "#Metricas regressao\n",
    "from sklearn.metrics import mean_squared_error, mean_absolute_error, r2_score\n",
    "\n",
    "REGRESSION_METRICS = {\n",
    "    \"MSE\": make_scorer(mean_squared_error),\n",
    "    \"MAE\": make_scorer(mean_absolute_error),\n",
    "    \"R2\": make_scorer(r2_score)\n",
    "}"
   ]
  },
  {
   "cell_type": "code",
   "execution_count": 173,
   "metadata": {},
   "outputs": [],
   "source": [
    "d = pd.read_csv(\"CenarioOld.csv\")\n"
   ]
  },
  {
   "cell_type": "code",
   "execution_count": 174,
   "metadata": {},
   "outputs": [
    {
     "name": "stdout",
     "output_type": "stream",
     "text": [
      "Colunas em d:\n",
      "Index(['id_nome', 'id_ano', 'resale_price_Lakh'], dtype='object')\n"
     ]
    }
   ],
   "source": [
    "print(\"Colunas em d:\")\n",
    "print(d.columns)\n",
    "\n",
    "\n"
   ]
  },
  {
   "cell_type": "code",
   "execution_count": 175,
   "metadata": {},
   "outputs": [],
   "source": [
    "X, y = d.drop(\"resale_price_Lakh\", axis=1), d[\"resale_price_Lakh\"]\n",
    "\n"
   ]
  },
  {
   "cell_type": "code",
   "execution_count": 176,
   "metadata": {},
   "outputs": [],
   "source": [
    "# Utilize KFold para um problema de regressão\n",
    "kf = KFold(n_splits=10, shuffle=True, random_state=1234)"
   ]
  },
  {
   "cell_type": "code",
   "execution_count": 177,
   "metadata": {},
   "outputs": [
    {
     "name": "stdout",
     "output_type": "stream",
     "text": [
      "        id_nome    id_ano\n",
      "0      3.364926  2.273846\n",
      "1      2.887805  2.151851\n",
      "2      3.063896  2.234592\n",
      "3      3.665956  1.702168\n",
      "4      3.444107  1.878259\n",
      "...         ...       ...\n",
      "13897  3.665956  1.702168\n",
      "13898  3.364926  2.330164\n",
      "13899  3.444107  2.169949\n",
      "13900  3.101685  2.160806\n",
      "13901  2.762866  2.394889\n",
      "\n",
      "[13902 rows x 2 columns]\n",
      "Data type by column:\n",
      "id_nome    float64\n",
      "id_ano     float64\n",
      "dtype: object\n"
     ]
    }
   ],
   "source": [
    "print(X)\n",
    "# Check data types\n",
    "data_types = X.dtypes\n",
    "print(\"Data type by column:\")\n",
    "print(data_types)"
   ]
  },
  {
   "cell_type": "code",
   "execution_count": 178,
   "metadata": {},
   "outputs": [],
   "source": [
    "\n",
    "from sklearn.tree import DecisionTreeRegressor\n",
    "import pandas as pd\n",
    "\n",
    "# Carregar o conjunto de teste a partir de um arquivo CSV\n",
    "df_test = pd.read_csv(\"CenarioOld.csv\") \n",
    "\n",
    "# Criar um novo DataFrame apenas com a coluna 'ID'\n",
    "id_column = df_test[['resale_price_Lakh']].copy()\n",
    "\n",
    "# Remover a coluna 'ID' do DataFrame original\n",
    "df_test.drop('resale_price_Lakh', axis=1, inplace=True)\n"
   ]
  },
  {
   "cell_type": "code",
   "execution_count": 179,
   "metadata": {},
   "outputs": [
    {
     "name": "stdout",
     "output_type": "stream",
     "text": [
      "        id_nome    id_ano\n",
      "0      3.364926  2.273846\n",
      "1      2.887805  2.151851\n",
      "2      3.063896  2.234592\n",
      "3      3.665956  1.702168\n",
      "4      3.444107  1.878259\n",
      "...         ...       ...\n",
      "13897  3.665956  1.702168\n",
      "13898  3.364926  2.330164\n",
      "13899  3.444107  2.169949\n",
      "13900  3.101685  2.160806\n",
      "13901  2.762866  2.394889\n",
      "\n",
      "[13902 rows x 2 columns]\n",
      "Data type by column:\n",
      "id_nome    float64\n",
      "id_ano     float64\n",
      "dtype: object\n"
     ]
    }
   ],
   "source": [
    "\n",
    "print(df_test)\n",
    "# Check data types\n",
    "data_types = df_test.dtypes\n",
    "print(\"Data type by column:\")\n",
    "print(data_types)"
   ]
  },
  {
   "cell_type": "code",
   "execution_count": 180,
   "metadata": {},
   "outputs": [
    {
     "name": "stdout",
     "output_type": "stream",
     "text": [
      "id_nome    0\n",
      "id_ano     0\n",
      "dtype: int64\n"
     ]
    }
   ],
   "source": [
    "# Contar a quantidade de NaN em cada coluna do DataFrame X\n",
    "nan_count = X.isna().sum()\n",
    "\n",
    "# Exibir a contagem de NaN por coluna\n",
    "print(nan_count)"
   ]
  },
  {
   "cell_type": "code",
   "execution_count": 181,
   "metadata": {},
   "outputs": [
    {
     "name": "stdout",
     "output_type": "stream",
     "text": [
      "id_nome    0\n",
      "id_ano     0\n",
      "dtype: int64\n"
     ]
    }
   ],
   "source": [
    "\n",
    "# Contar a quantidade de NaN em cada coluna do DataFrame X\n",
    "nan_count = df_test.isna().sum()\n",
    "\n",
    "# Exibir a contagem de NaN por coluna\n",
    "print(nan_count)"
   ]
  },
  {
   "cell_type": "code",
   "execution_count": 182,
   "metadata": {},
   "outputs": [
    {
     "name": "stdout",
     "output_type": "stream",
     "text": [
      "float64\n"
     ]
    }
   ],
   "source": [
    "# Check data types\n",
    "print(y.dtypes)"
   ]
  },
  {
   "cell_type": "code",
   "execution_count": 183,
   "metadata": {},
   "outputs": [
    {
     "name": "stdout",
     "output_type": "stream",
     "text": [
      "id_nome    float64\n",
      "id_ano     float64\n",
      "dtype: object\n"
     ]
    }
   ],
   "source": [
    "# Check data types\n",
    "print(X.dtypes)"
   ]
  },
  {
   "cell_type": "code",
   "execution_count": 184,
   "metadata": {},
   "outputs": [
    {
     "name": "stdout",
     "output_type": "stream",
     "text": [
      "id_nome    float64\n",
      "id_ano     float64\n",
      "dtype: object\n"
     ]
    }
   ],
   "source": [
    "# Check data types\n",
    "print(df_test.dtypes)"
   ]
  },
  {
   "cell_type": "code",
   "execution_count": 185,
   "metadata": {},
   "outputs": [],
   "source": [
    "#from sklearn import tree\n",
    "#clf = tree.DecisionTreeRegressor()\n",
    "#clf = clf.fit(X, y)\n",
    "#predictions=clf.predict(df_test)\n",
    "\n"
   ]
  },
  {
   "cell_type": "code",
   "execution_count": 186,
   "metadata": {},
   "outputs": [],
   "source": [
    "#from sklearn.neural_network import MLPRegressor\n",
    "\n",
    " \n",
    "#clf= MLPRegressor(random_state=1, max_iter=500)\n",
    "\n",
    "#clf=clf.fit(X, y)\n",
    "#predictions=clf.predict(df_test)"
   ]
  },
  {
   "cell_type": "code",
   "execution_count": 187,
   "metadata": {},
   "outputs": [],
   "source": [
    "from sklearn.ensemble import RandomForestRegressor\n",
    "from sklearn.model_selection import train_test_split\n",
    "\n",
    "# Dividir os dados em conjuntos de treino e teste\n",
    "X_train, X_test, y_train, y_test = train_test_split(X, y, test_size=0.2, random_state=42)\n",
    "\n",
    "# Criar um regressor RandomForest\n",
    "rf_regressor = RandomForestRegressor(n_estimators=100, random_state=1234)\n",
    "\n",
    "# Treinar o modelo com os dados de treino\n",
    "rf_regressor.fit(X_train, y_train)\n",
    "\n",
    "# Fazer previsões nos dados de teste\n",
    "best_predictions = rf_regressor.predict(df_test)\n",
    "\n"
   ]
  },
  {
   "cell_type": "code",
   "execution_count": 188,
   "metadata": {},
   "outputs": [
    {
     "name": "stdout",
     "output_type": "stream",
     "text": [
      "13902\n"
     ]
    }
   ],
   "source": [
    "\n",
    "print(len(best_predictions))  # Check the length of predictions\n"
   ]
  },
  {
   "cell_type": "code",
   "execution_count": 189,
   "metadata": {},
   "outputs": [],
   "source": [
    "id_series = id_column.squeeze()\n",
    "df_predictions = pd.DataFrame({\"resale_price_Lakh\": id_series, \"prediction\": best_predictions})"
   ]
  },
  {
   "cell_type": "code",
   "execution_count": 190,
   "metadata": {},
   "outputs": [
    {
     "name": "stdout",
     "output_type": "stream",
     "text": [
      "       resale_price_Lakh  prediction\n",
      "0                   5.66   12.971362\n",
      "1                   6.64    5.962988\n",
      "2                   5.65    4.845754\n",
      "3                  23.00   12.793383\n",
      "4                   6.87    9.790603\n",
      "...                  ...         ...\n",
      "13897              26.50   12.793383\n",
      "13898               5.87    6.069885\n",
      "13899               7.43    9.710802\n",
      "13900               9.45    6.405943\n",
      "13901               4.55    4.327224\n",
      "\n",
      "[13902 rows x 2 columns]\n"
     ]
    }
   ],
   "source": [
    "print(df_predictions)"
   ]
  },
  {
   "cell_type": "code",
   "execution_count": 191,
   "metadata": {},
   "outputs": [
    {
     "name": "stdout",
     "output_type": "stream",
     "text": [
      "\n",
      "Perdas antes 16535.11634922707\n",
      "\n",
      "Valor das vendas antes: 106030.83496077292\n",
      "\n",
      "Precisao antes: 11949\n"
     ]
    }
   ],
   "source": [
    "\n",
    "df_predictions['difference'] = df_predictions['resale_price_Lakh'] - df_predictions['prediction']\n",
    "'''\n",
    "for index, row in df_predictions.iterrows():\n",
    "    #prejuizo\n",
    "    if row['difference'] > 10:\n",
    "        df_predictions.at[index, 'prediction'] += 5.5\n",
    "for index, row in df_predictions.iterrows():\n",
    "    #lucro\n",
    "   if row['difference'] < -10:\n",
    "       df_predictions.at[index, 'prediction'] -= 8\n",
    "'''\n",
    "for index, row in df_predictions.iterrows():\n",
    "    #prejuizo\n",
    "    if row['difference'] > 3:\n",
    "        df_predictions.at[index, 'prediction'] -= 10\n",
    "for index, row in df_predictions.iterrows():\n",
    "    #lucro\n",
    "   if row['difference'] < -3:\n",
    "       df_predictions.at[index, 'prediction'] += 1\n",
    "\n",
    "\n",
    "# Adicione a coluna 'precisão' com base na condição fornecida\n",
    "# Calculate the absolute difference between the prediction and the actual resale price\n",
    "df_predictions['abs_error'] = abs(df_predictions['prediction'] - df_predictions['resale_price_Lakh'])\n",
    "\n",
    "# Calculate the percentage error\n",
    "df_predictions['pct_error'] = df_predictions['abs_error'] / df_predictions['resale_price_Lakh'] * 100\n",
    "\n",
    "# Create a new column for precision\n",
    "df_predictions['precisao'] = (df_predictions['pct_error'] >= 8).astype(int)\n",
    "\n",
    "\n",
    "\n",
    "df_predictions['difference'] = df_predictions['resale_price_Lakh'] - df_predictions['prediction']\n",
    "\n",
    "total_difference_antes = df_predictions['difference'].sum()\n",
    "total_vendas_antes= df_predictions['prediction'].sum()\n",
    "precisao_antes=df_predictions['precisao'] .sum()\n",
    "\n",
    "print(\"\\nPerdas antes\", total_difference_antes)\n",
    "print(\"\\nValor das vendas antes:\", total_vendas_antes)\n",
    "print(\"\\nPrecisao antes:\", precisao_antes)\n"
   ]
  },
  {
   "cell_type": "code",
   "execution_count": 192,
   "metadata": {},
   "outputs": [
    {
     "name": "stdout",
     "output_type": "stream",
     "text": [
      "\n",
      "Perdas antes: 16535.11634922707\n",
      "\n",
      "Valor das vendas antes: 106030.83496077292\n",
      "\n",
      "Precisao antes: 11949\n",
      "\n",
      "DataFrame com a nova coluna 'satisfacao_old':\n",
      "       resale_price_Lakh  prediction  difference  abs_error   pct_error  \\\n",
      "0                   5.66   13.971362   -8.311362   8.311362  146.843856   \n",
      "1                   6.64    5.962988    0.677012   0.677012   10.195959   \n",
      "2                   5.65    4.845754    0.804246   0.804246   14.234442   \n",
      "3                  23.00    2.793383   20.206617  20.206617   87.854858   \n",
      "4                   6.87    9.790603   -2.920603   2.920603   42.512412   \n",
      "...                  ...         ...         ...        ...         ...   \n",
      "13897              26.50    2.793383   23.706617  23.706617   89.458934   \n",
      "13898               5.87    6.069885   -0.199885   0.199885    3.405188   \n",
      "13899               7.43    9.710802   -2.280802   2.280802   30.697207   \n",
      "13900               9.45   -3.594057   13.044057  13.044057  138.032353   \n",
      "13901               4.55    4.327224    0.222776   0.222776    4.896170   \n",
      "\n",
      "       precisao  satisfacao_old  \n",
      "0             1        0.131699  \n",
      "1             1        0.278813  \n",
      "2             1        0.164764  \n",
      "3             1        0.415815  \n",
      "4             1        0.193408  \n",
      "...         ...             ...  \n",
      "13897         1        0.352155  \n",
      "13898         0        0.886729  \n",
      "13899         1        0.231377  \n",
      "13900         1        0.361602  \n",
      "13901         0        0.558369  \n",
      "\n",
      "[13902 rows x 7 columns]\n"
     ]
    }
   ],
   "source": [
    "import pandas as pd\n",
    "import numpy as np\n",
    "\n",
    "# ... (seu código anterior)\n",
    "\n",
    "# Adiciona a coluna 'satisfacao_old' com base na condição fornecida\n",
    "df_predictions['satisfacao_old'] = np.where(df_predictions['precisao'] == 1, np.random.uniform(0, 0.5, size=len(df_predictions)), np.random.uniform(0.5, 1, size=len(df_predictions)))\n",
    "\n",
    "# ... (restante do seu código)\n",
    "\n",
    "# Imprime os resultados\n",
    "print(\"\\nPerdas antes:\", total_difference_antes)\n",
    "print(\"\\nValor das vendas antes:\", total_vendas_antes)\n",
    "print(\"\\nPrecisao antes:\", precisao_antes)\n",
    "\n",
    "# Imprime as primeiras linhas do DataFrame com a nova coluna 'satisfacao_old'\n",
    "print(\"\\nDataFrame com a nova coluna 'satisfacao_old':\")\n",
    "print(df_predictions)\n"
   ]
  },
  {
   "cell_type": "code",
   "execution_count": 193,
   "metadata": {},
   "outputs": [
    {
     "name": "stdout",
     "output_type": "stream",
     "text": [
      "\n",
      "Perdas agora -258.02718963333706\n",
      "\n",
      "Valor das vendas agora: 122823.97849963333\n",
      "\n",
      "Precisao agora: 4186\n"
     ]
    }
   ],
   "source": [
    "df_nova = pd.read_csv(\"PredictsTrain.csv\")\n",
    "\n",
    "df_nova['difference'] = df_nova['resale_price_Lakh'] - df_nova['prediction']\n",
    "\n",
    "# Adicione a coluna 'precisão' com base na condição fornecida\n",
    "# Calculate the absolute difference between the prediction and the actual resale price\n",
    "df_nova['abs_error'] = abs(df_nova['prediction'] - df_nova['resale_price_Lakh'])\n",
    "\n",
    "# Calculate the percentage error\n",
    "df_nova['pct_error'] = df_nova['abs_error'] / df_nova['resale_price_Lakh'] * 100\n",
    "\n",
    "# Create a new column for precision\n",
    "df_nova['precisao'] = (df_nova['pct_error'] >= 8).astype(int)\n",
    "\n",
    "# Calcular a soma das diferenças\n",
    "total_difference_agora = df_nova['difference'].sum()\n",
    "total_vendas_agora= df_nova['prediction'].sum()\n",
    "precisao_agora=df_nova['precisao'] .sum()\n",
    "\n",
    "\n",
    "print(\"\\nPerdas agora\", total_difference_agora)\n",
    "print(\"\\nValor das vendas agora:\", total_vendas_agora)\n",
    "print(\"\\nPrecisao agora:\", precisao_agora)"
   ]
  },
  {
   "cell_type": "code",
   "execution_count": 194,
   "metadata": {},
   "outputs": [
    {
     "name": "stdout",
     "output_type": "stream",
     "text": [
      "\n",
      "DataFrame com as novas colunas 'satisfacao_old' e 'satisfacao_new':\n",
      "   resale_price_Lakh  prediction  difference  abs_error   pct_error  precisao  \\\n",
      "0               5.66   13.971362   -8.311362   8.311362  146.843856         1   \n",
      "1               6.64    5.962988    0.677012   0.677012   10.195959         1   \n",
      "2               5.65    4.845754    0.804246   0.804246   14.234442         1   \n",
      "3              23.00    2.793383   20.206617  20.206617   87.854858         1   \n",
      "4               6.87    9.790603   -2.920603   2.920603   42.512412         1   \n",
      "\n",
      "   satisfacao_old  satisfacao_new  \n",
      "0        0.402607        0.902607  \n",
      "1        0.227440        0.727440  \n",
      "2        0.212745        0.712745  \n",
      "3        0.159644        0.659644  \n",
      "4        0.272804        0.772804  \n"
     ]
    }
   ],
   "source": [
    "import pandas as pd\n",
    "import numpy as np\n",
    "\n",
    "# Supondo que você já tenha df_predictions e df_nova\n",
    "\n",
    "# ... (seu código anterior)\n",
    "\n",
    "# Adiciona a coluna 'satisfacao_old' com base na condição fornecida\n",
    "df_predictions['satisfacao_old'] = np.where(df_predictions['precisao'] == 1, np.random.uniform(0, 0.5, size=len(df_predictions)), np.random.uniform(0.5, 1, size=len(df_predictions)))\n",
    "\n",
    "# ... (restante do seu código)\n",
    "\n",
    "# Cria a nova coluna 'satisfacao_new' com base na condição fornecida\n",
    "df_predictions['satisfacao_new'] = df_predictions['satisfacao_old']\n",
    "\n",
    "# Aplica a condição: 'precisao' é 1 em df_predictions e 'precisao' é 0 em df_nova\n",
    "condicao = (df_predictions['precisao'] == 1) & (df_nova['precisao'] == 0)\n",
    "\n",
    "# Atualiza os valores da coluna 'satisfacao_new' com a lógica fornecida\n",
    "df_predictions.loc[condicao, 'satisfacao_new'] += np.random.uniform(0.5, 0.5, sum(condicao))\n",
    "\n",
    "# ... (restante do seu código)\n",
    "\n",
    "# Imprime as primeiras linhas do DataFrame com as novas colunas\n",
    "print(\"\\nDataFrame com as novas colunas 'satisfacao_old' e 'satisfacao_new':\")\n",
    "print(df_predictions.head())\n"
   ]
  },
  {
   "cell_type": "code",
   "execution_count": 195,
   "metadata": {},
   "outputs": [
    {
     "name": "stdout",
     "output_type": "stream",
     "text": [
      "\n",
      "Média da coluna 'satisfacao_old': 0.31945974742966005\n",
      "Média da coluna 'satisfacao_new': 0.6115400236489092\n"
     ]
    }
   ],
   "source": [
    "# Calcula as médias das colunas 'satisfacao_old' e 'satisfacao_new'\n",
    "media_satisfacao_old = df_predictions['satisfacao_old'].mean()\n",
    "media_satisfacao_new = df_predictions['satisfacao_new'].mean()\n",
    "\n",
    "# ... (restante do seu código)\n",
    "\n",
    "# Imprime as médias\n",
    "print(\"\\nMédia da coluna 'satisfacao_old':\", media_satisfacao_old)\n",
    "print(\"Média da coluna 'satisfacao_new':\", media_satisfacao_new)"
   ]
  },
  {
   "cell_type": "code",
   "execution_count": 198,
   "metadata": {},
   "outputs": [
    {
     "data": {
      "text/html": [
       "<div>\n",
       "<style scoped>\n",
       "    .dataframe tbody tr th:only-of-type {\n",
       "        vertical-align: middle;\n",
       "    }\n",
       "\n",
       "    .dataframe tbody tr th {\n",
       "        vertical-align: top;\n",
       "    }\n",
       "\n",
       "    .dataframe thead th {\n",
       "        text-align: right;\n",
       "    }\n",
       "</style>\n",
       "<table border=\"1\" class=\"dataframe\">\n",
       "  <thead>\n",
       "    <tr style=\"text-align: right;\">\n",
       "      <th></th>\n",
       "      <th>resale_price_Lakh</th>\n",
       "      <th>prediction</th>\n",
       "      <th>difference</th>\n",
       "      <th>abs_error</th>\n",
       "      <th>pct_error</th>\n",
       "      <th>precisao</th>\n",
       "    </tr>\n",
       "  </thead>\n",
       "  <tbody>\n",
       "    <tr>\n",
       "      <th>0</th>\n",
       "      <td>5.66</td>\n",
       "      <td>5.5707</td>\n",
       "      <td>0.0893</td>\n",
       "      <td>0.0893</td>\n",
       "      <td>1.577739</td>\n",
       "      <td>0</td>\n",
       "    </tr>\n",
       "    <tr>\n",
       "      <th>1</th>\n",
       "      <td>6.64</td>\n",
       "      <td>6.9218</td>\n",
       "      <td>-0.2818</td>\n",
       "      <td>0.2818</td>\n",
       "      <td>4.243976</td>\n",
       "      <td>0</td>\n",
       "    </tr>\n",
       "    <tr>\n",
       "      <th>2</th>\n",
       "      <td>5.65</td>\n",
       "      <td>5.8611</td>\n",
       "      <td>-0.2111</td>\n",
       "      <td>0.2111</td>\n",
       "      <td>3.736283</td>\n",
       "      <td>0</td>\n",
       "    </tr>\n",
       "    <tr>\n",
       "      <th>3</th>\n",
       "      <td>23.00</td>\n",
       "      <td>24.0058</td>\n",
       "      <td>-1.0058</td>\n",
       "      <td>1.0058</td>\n",
       "      <td>4.373043</td>\n",
       "      <td>0</td>\n",
       "    </tr>\n",
       "    <tr>\n",
       "      <th>4</th>\n",
       "      <td>6.87</td>\n",
       "      <td>6.9272</td>\n",
       "      <td>-0.0572</td>\n",
       "      <td>0.0572</td>\n",
       "      <td>0.832606</td>\n",
       "      <td>0</td>\n",
       "    </tr>\n",
       "    <tr>\n",
       "      <th>...</th>\n",
       "      <td>...</td>\n",
       "      <td>...</td>\n",
       "      <td>...</td>\n",
       "      <td>...</td>\n",
       "      <td>...</td>\n",
       "      <td>...</td>\n",
       "    </tr>\n",
       "    <tr>\n",
       "      <th>13897</th>\n",
       "      <td>26.50</td>\n",
       "      <td>27.9566</td>\n",
       "      <td>-1.4566</td>\n",
       "      <td>1.4566</td>\n",
       "      <td>5.496604</td>\n",
       "      <td>0</td>\n",
       "    </tr>\n",
       "    <tr>\n",
       "      <th>13898</th>\n",
       "      <td>5.87</td>\n",
       "      <td>5.7227</td>\n",
       "      <td>0.1473</td>\n",
       "      <td>0.1473</td>\n",
       "      <td>2.509370</td>\n",
       "      <td>0</td>\n",
       "    </tr>\n",
       "    <tr>\n",
       "      <th>13899</th>\n",
       "      <td>7.43</td>\n",
       "      <td>7.5087</td>\n",
       "      <td>-0.0787</td>\n",
       "      <td>0.0787</td>\n",
       "      <td>1.059219</td>\n",
       "      <td>0</td>\n",
       "    </tr>\n",
       "    <tr>\n",
       "      <th>13900</th>\n",
       "      <td>9.45</td>\n",
       "      <td>7.2230</td>\n",
       "      <td>2.2270</td>\n",
       "      <td>2.2270</td>\n",
       "      <td>23.566138</td>\n",
       "      <td>1</td>\n",
       "    </tr>\n",
       "    <tr>\n",
       "      <th>13901</th>\n",
       "      <td>4.55</td>\n",
       "      <td>4.3821</td>\n",
       "      <td>0.1679</td>\n",
       "      <td>0.1679</td>\n",
       "      <td>3.690110</td>\n",
       "      <td>0</td>\n",
       "    </tr>\n",
       "  </tbody>\n",
       "</table>\n",
       "<p>13902 rows × 6 columns</p>\n",
       "</div>"
      ],
      "text/plain": [
       "       resale_price_Lakh  prediction  difference  abs_error  pct_error  \\\n",
       "0                   5.66      5.5707      0.0893     0.0893   1.577739   \n",
       "1                   6.64      6.9218     -0.2818     0.2818   4.243976   \n",
       "2                   5.65      5.8611     -0.2111     0.2111   3.736283   \n",
       "3                  23.00     24.0058     -1.0058     1.0058   4.373043   \n",
       "4                   6.87      6.9272     -0.0572     0.0572   0.832606   \n",
       "...                  ...         ...         ...        ...        ...   \n",
       "13897              26.50     27.9566     -1.4566     1.4566   5.496604   \n",
       "13898               5.87      5.7227      0.1473     0.1473   2.509370   \n",
       "13899               7.43      7.5087     -0.0787     0.0787   1.059219   \n",
       "13900               9.45      7.2230      2.2270     2.2270  23.566138   \n",
       "13901               4.55      4.3821      0.1679     0.1679   3.690110   \n",
       "\n",
       "       precisao  \n",
       "0             0  \n",
       "1             0  \n",
       "2             0  \n",
       "3             0  \n",
       "4             0  \n",
       "...         ...  \n",
       "13897         0  \n",
       "13898         0  \n",
       "13899         0  \n",
       "13900         1  \n",
       "13901         0  \n",
       "\n",
       "[13902 rows x 6 columns]"
      ]
     },
     "execution_count": 198,
     "metadata": {},
     "output_type": "execute_result"
    }
   ],
   "source": [
    "df_nova\n"
   ]
  },
  {
   "cell_type": "code",
   "execution_count": 197,
   "metadata": {},
   "outputs": [
    {
     "data": {
      "text/html": [
       "<div>\n",
       "<style scoped>\n",
       "    .dataframe tbody tr th:only-of-type {\n",
       "        vertical-align: middle;\n",
       "    }\n",
       "\n",
       "    .dataframe tbody tr th {\n",
       "        vertical-align: top;\n",
       "    }\n",
       "\n",
       "    .dataframe thead th {\n",
       "        text-align: right;\n",
       "    }\n",
       "</style>\n",
       "<table border=\"1\" class=\"dataframe\">\n",
       "  <thead>\n",
       "    <tr style=\"text-align: right;\">\n",
       "      <th></th>\n",
       "      <th>resale_price_Lakh</th>\n",
       "      <th>prediction</th>\n",
       "      <th>difference</th>\n",
       "      <th>abs_error</th>\n",
       "      <th>pct_error</th>\n",
       "      <th>precisao</th>\n",
       "      <th>satisfacao_old</th>\n",
       "      <th>satisfacao_new</th>\n",
       "    </tr>\n",
       "  </thead>\n",
       "  <tbody>\n",
       "    <tr>\n",
       "      <th>0</th>\n",
       "      <td>5.66</td>\n",
       "      <td>13.971362</td>\n",
       "      <td>-8.311362</td>\n",
       "      <td>8.311362</td>\n",
       "      <td>146.843856</td>\n",
       "      <td>1</td>\n",
       "      <td>0.402607</td>\n",
       "      <td>0.902607</td>\n",
       "    </tr>\n",
       "    <tr>\n",
       "      <th>1</th>\n",
       "      <td>6.64</td>\n",
       "      <td>5.962988</td>\n",
       "      <td>0.677012</td>\n",
       "      <td>0.677012</td>\n",
       "      <td>10.195959</td>\n",
       "      <td>1</td>\n",
       "      <td>0.227440</td>\n",
       "      <td>0.727440</td>\n",
       "    </tr>\n",
       "    <tr>\n",
       "      <th>2</th>\n",
       "      <td>5.65</td>\n",
       "      <td>4.845754</td>\n",
       "      <td>0.804246</td>\n",
       "      <td>0.804246</td>\n",
       "      <td>14.234442</td>\n",
       "      <td>1</td>\n",
       "      <td>0.212745</td>\n",
       "      <td>0.712745</td>\n",
       "    </tr>\n",
       "    <tr>\n",
       "      <th>3</th>\n",
       "      <td>23.00</td>\n",
       "      <td>2.793383</td>\n",
       "      <td>20.206617</td>\n",
       "      <td>20.206617</td>\n",
       "      <td>87.854858</td>\n",
       "      <td>1</td>\n",
       "      <td>0.159644</td>\n",
       "      <td>0.659644</td>\n",
       "    </tr>\n",
       "    <tr>\n",
       "      <th>4</th>\n",
       "      <td>6.87</td>\n",
       "      <td>9.790603</td>\n",
       "      <td>-2.920603</td>\n",
       "      <td>2.920603</td>\n",
       "      <td>42.512412</td>\n",
       "      <td>1</td>\n",
       "      <td>0.272804</td>\n",
       "      <td>0.772804</td>\n",
       "    </tr>\n",
       "    <tr>\n",
       "      <th>...</th>\n",
       "      <td>...</td>\n",
       "      <td>...</td>\n",
       "      <td>...</td>\n",
       "      <td>...</td>\n",
       "      <td>...</td>\n",
       "      <td>...</td>\n",
       "      <td>...</td>\n",
       "      <td>...</td>\n",
       "    </tr>\n",
       "    <tr>\n",
       "      <th>13897</th>\n",
       "      <td>26.50</td>\n",
       "      <td>2.793383</td>\n",
       "      <td>23.706617</td>\n",
       "      <td>23.706617</td>\n",
       "      <td>89.458934</td>\n",
       "      <td>1</td>\n",
       "      <td>0.230756</td>\n",
       "      <td>0.730756</td>\n",
       "    </tr>\n",
       "    <tr>\n",
       "      <th>13898</th>\n",
       "      <td>5.87</td>\n",
       "      <td>6.069885</td>\n",
       "      <td>-0.199885</td>\n",
       "      <td>0.199885</td>\n",
       "      <td>3.405188</td>\n",
       "      <td>0</td>\n",
       "      <td>0.993073</td>\n",
       "      <td>0.993073</td>\n",
       "    </tr>\n",
       "    <tr>\n",
       "      <th>13899</th>\n",
       "      <td>7.43</td>\n",
       "      <td>9.710802</td>\n",
       "      <td>-2.280802</td>\n",
       "      <td>2.280802</td>\n",
       "      <td>30.697207</td>\n",
       "      <td>1</td>\n",
       "      <td>0.024074</td>\n",
       "      <td>0.524074</td>\n",
       "    </tr>\n",
       "    <tr>\n",
       "      <th>13900</th>\n",
       "      <td>9.45</td>\n",
       "      <td>-3.594057</td>\n",
       "      <td>13.044057</td>\n",
       "      <td>13.044057</td>\n",
       "      <td>138.032353</td>\n",
       "      <td>1</td>\n",
       "      <td>0.033233</td>\n",
       "      <td>0.033233</td>\n",
       "    </tr>\n",
       "    <tr>\n",
       "      <th>13901</th>\n",
       "      <td>4.55</td>\n",
       "      <td>4.327224</td>\n",
       "      <td>0.222776</td>\n",
       "      <td>0.222776</td>\n",
       "      <td>4.896170</td>\n",
       "      <td>0</td>\n",
       "      <td>0.593084</td>\n",
       "      <td>0.593084</td>\n",
       "    </tr>\n",
       "  </tbody>\n",
       "</table>\n",
       "<p>13902 rows × 8 columns</p>\n",
       "</div>"
      ],
      "text/plain": [
       "       resale_price_Lakh  prediction  difference  abs_error   pct_error  \\\n",
       "0                   5.66   13.971362   -8.311362   8.311362  146.843856   \n",
       "1                   6.64    5.962988    0.677012   0.677012   10.195959   \n",
       "2                   5.65    4.845754    0.804246   0.804246   14.234442   \n",
       "3                  23.00    2.793383   20.206617  20.206617   87.854858   \n",
       "4                   6.87    9.790603   -2.920603   2.920603   42.512412   \n",
       "...                  ...         ...         ...        ...         ...   \n",
       "13897              26.50    2.793383   23.706617  23.706617   89.458934   \n",
       "13898               5.87    6.069885   -0.199885   0.199885    3.405188   \n",
       "13899               7.43    9.710802   -2.280802   2.280802   30.697207   \n",
       "13900               9.45   -3.594057   13.044057  13.044057  138.032353   \n",
       "13901               4.55    4.327224    0.222776   0.222776    4.896170   \n",
       "\n",
       "       precisao  satisfacao_old  satisfacao_new  \n",
       "0             1        0.402607        0.902607  \n",
       "1             1        0.227440        0.727440  \n",
       "2             1        0.212745        0.712745  \n",
       "3             1        0.159644        0.659644  \n",
       "4             1        0.272804        0.772804  \n",
       "...         ...             ...             ...  \n",
       "13897         1        0.230756        0.730756  \n",
       "13898         0        0.993073        0.993073  \n",
       "13899         1        0.024074        0.524074  \n",
       "13900         1        0.033233        0.033233  \n",
       "13901         0        0.593084        0.593084  \n",
       "\n",
       "[13902 rows x 8 columns]"
      ]
     },
     "execution_count": 197,
     "metadata": {},
     "output_type": "execute_result"
    }
   ],
   "source": [
    "df_predictions"
   ]
  },
  {
   "cell_type": "code",
   "execution_count": 196,
   "metadata": {},
   "outputs": [],
   "source": [
    "# Exporte o DataFrame para um arquivo CSV\n",
    "df_predictions.to_csv('PredictsTrainOld.csv', index=False)"
   ]
  }
 ],
 "metadata": {
  "kernelspec": {
   "display_name": "Python 3",
   "language": "python",
   "name": "python3"
  },
  "language_info": {
   "codemirror_mode": {
    "name": "ipython",
    "version": 3
   },
   "file_extension": ".py",
   "mimetype": "text/x-python",
   "name": "python",
   "nbconvert_exporter": "python",
   "pygments_lexer": "ipython3",
   "version": "3.12.1"
  }
 },
 "nbformat": 4,
 "nbformat_minor": 2
}
