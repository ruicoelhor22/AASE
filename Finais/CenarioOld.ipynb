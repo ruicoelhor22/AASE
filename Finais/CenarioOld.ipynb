{
 "cells": [
  {
   "cell_type": "code",
   "execution_count": 118,
   "metadata": {},
   "outputs": [],
   "source": [
    "import matplotlib.pyplot as plt\n",
    "import pandas as pd\n",
    "import seaborn as sns\n",
    "import numpy as np\n",
    "import re"
   ]
  },
  {
   "cell_type": "code",
   "execution_count": 119,
   "metadata": {},
   "outputs": [],
   "source": [
    "import matplotlib.pyplot as plt\n",
    "import pandas as pd\n",
    "import seaborn as sns\n",
    "import numpy as np\n",
    "import re"
   ]
  },
  {
   "cell_type": "code",
   "execution_count": 120,
   "metadata": {},
   "outputs": [],
   "source": [
    "df = pd.read_csv('train.csv')"
   ]
  },
  {
   "cell_type": "code",
   "execution_count": 121,
   "metadata": {},
   "outputs": [],
   "source": [
    "df = df.dropna(subset=['registered_year'])"
   ]
  },
  {
   "cell_type": "code",
   "execution_count": 122,
   "metadata": {},
   "outputs": [],
   "source": [
    "df.fillna(0, inplace=True)"
   ]
  },
  {
   "cell_type": "code",
   "execution_count": 123,
   "metadata": {},
   "outputs": [],
   "source": [
    "# KMS __________________________________________________\n",
    "\n",
    "df['kms_driven'] = df['kms_driven'].str.replace('Kms', '')\n",
    "df['kms_driven'] = df['kms_driven'].str.replace(',', '').str.strip()\n",
    "\n",
    "df = df.astype({\n",
    "    'kms_driven': float,\n",
    "})\n",
    "# ENGINE __________________________________________________\n",
    "\n",
    "df['engine_capacity'] = df['engine_capacity'].str.replace('cc', '')\n",
    "\n",
    "df = df.astype({\n",
    "    'engine_capacity': float,\n",
    "})\n",
    "\n",
    "# MAX POWER __________________________________________________\n",
    "#convert to bhp\n",
    "Correct_Max_Power = []\n",
    "for power in df['max_power']:\n",
    "    if pd.notna(power):\n",
    "        if isinstance(power, str):\n",
    "            if 'bhp' in power:\n",
    "                num_bhp = float(re.search(r'\\d+.?\\d', power).group())\n",
    "                Correct_Max_Power.append(num_bhp)\n",
    "            elif 'PS' in power:\n",
    "                num_ps = float(re.search(r'\\d+.?\\d', power).group())\n",
    "                num_bhp = round(num_ps * 0.98632, 2)\n",
    "                Correct_Max_Power.append(num_bhp)\n",
    "            else:\n",
    "                num = re.search(r'\\d+\\.?\\d*', power)\n",
    "                Correct_Max_Power.append(float(num.group()) if num else None)\n",
    "        else:\n",
    "            Correct_Max_Power.append(power)\n",
    "    else:\n",
    "        Correct_Max_Power.append(None)\n",
    "\n",
    "\n",
    "# Convert not NaN to float\n",
    "Correct_Max_Power = [float(value) if value is not None else value for value in Correct_Max_Power]\n",
    "\n",
    "df['max_power'] = Correct_Max_Power\n",
    "\n",
    "df = df.astype({\n",
    "    'max_power': float,\n",
    "})\n",
    "#assign value to blank lines\n",
    "df['mileage'] = df['mileage'].fillna(0)\n",
    "\n",
    "df = df[df['mileage'].notna()]\n",
    "consumo_correto = []\n",
    "\n",
    "for i in df['mileage']:\n",
    "    match = re.search(r'(\\d+.\\d+|\\d+)', str(i))  # Encontrar números (com ou sem ponto decimal)\n",
    "\n",
    "    if match:\n",
    "        valor = float(match.group())\n",
    "\n",
    "        if 'km/kg' in str(i):\n",
    "            valor *= 1.40  # Converter de km/kg para kmpl\n",
    "\n",
    "        consumo_correto.append(valor)\n",
    "\n",
    "df['mileage'] = consumo_correto\n",
    "\n",
    "df = df.astype({\n",
    "    'mileage': float,\n",
    "})\n",
    "df.loc[df[\"insurance\"] == \"Third Party insurance\",\"insurance\"] = \"Third Party\"\n",
    "df.loc[df[\"insurance\"] == \"1\",\"insurance\"] = \"First\"\n",
    "df.loc[df[\"insurance\"] == \"2\",\"insurance\"] = \"Second\"\n",
    "df.loc[df[\"insurance\"] == \"Not Available\",\"insurance\"] = np.nan\n",
    "df[\"insurance\"] = df[\"insurance\"].fillna(df[\"insurance\"].mode()[0])"
   ]
  },
  {
   "cell_type": "code",
   "execution_count": 124,
   "metadata": {},
   "outputs": [],
   "source": [
    "# Transmissao _____________________________________\n",
    "\n",
    "transmissao = df['full_name']\n",
    "\n",
    "n_docs = len(df)\n",
    "\n",
    "\n",
    "transmissao_counts = transmissao.value_counts()\n",
    "\n",
    "idf = {}\n",
    "\n",
    "for tipo_transmissao, count in transmissao_counts.items():\n",
    "    idf[tipo_transmissao] = np.log10(n_docs / (count + 1))  #+1 to avoid division by zero\n",
    "\n",
    "# Create new column \n",
    "df['id_nome'] = df['full_name'].map(idf)\n",
    "df = df.astype({\n",
    "    'id_nome': float,\n",
    "})"
   ]
  },
  {
   "cell_type": "code",
   "execution_count": 125,
   "metadata": {},
   "outputs": [],
   "source": [
    "# Transmissao _____________________________________\n",
    "\n",
    "transmissao = df['registered_year']\n",
    "\n",
    "n_docs = len(df)\n",
    "\n",
    "\n",
    "transmissao_counts = transmissao.value_counts()\n",
    "\n",
    "idf = {}\n",
    "\n",
    "for tipo_transmissao, count in transmissao_counts.items():\n",
    "    idf[tipo_transmissao] = np.log10(n_docs / (count + 1))  #+1 to avoid division by zero\n",
    "\n",
    "# Create new column \n",
    "df['id_ano'] = df['registered_year'].map(idf)\n",
    "df = df.astype({\n",
    "    'id_ano': float,\n",
    "})\n",
    "\n"
   ]
  },
  {
   "cell_type": "code",
   "execution_count": 126,
   "metadata": {},
   "outputs": [],
   "source": [
    "# Transmissao _____________________________________\n",
    "\n",
    "transmissao = df['insurance']\n",
    "\n",
    "n_docs = len(df)\n",
    "\n",
    "\n",
    "transmissao_counts = transmissao.value_counts()\n",
    "\n",
    "idf = {}\n",
    "\n",
    "for tipo_transmissao, count in transmissao_counts.items():\n",
    "    idf[tipo_transmissao] = np.log10(n_docs / (count + 1))  #+1 to avoid division by zero\n",
    "\n",
    "# Create new column \n",
    "df['id_insurance'] = df['insurance'].map(idf)\n",
    "df = df.astype({\n",
    "    'id_insurance': float,\n",
    "})"
   ]
  },
  {
   "cell_type": "code",
   "execution_count": 127,
   "metadata": {},
   "outputs": [],
   "source": [
    "# Transmissao _____________________________________\n",
    "\n",
    "transmissao = df['transmission_type']\n",
    "\n",
    "n_docs = len(df)\n",
    "\n",
    "\n",
    "transmissao_counts = transmissao.value_counts()\n",
    "\n",
    "idf = {}\n",
    "\n",
    "for tipo_transmissao, count in transmissao_counts.items():\n",
    "    idf[tipo_transmissao] = np.log10(n_docs / (count + 1))  #+1 to avoid division by zero\n",
    "\n",
    "# Create new column \n",
    "df['id_transmission_type'] = df['transmission_type'].map(idf)\n",
    "df = df.astype({\n",
    "    'id_transmission_type': float,\n",
    "})"
   ]
  },
  {
   "cell_type": "code",
   "execution_count": 128,
   "metadata": {},
   "outputs": [],
   "source": [
    "# Substituir valores na coluna 'owner_type'\n",
    "df['owner_type'] = df['owner_type'].replace({\n",
    "    'First Owner': '1.0',\n",
    "    'Second Owner': '2.0',\n",
    "    'Third Owner': '3.0',\n",
    "    'Fourth Owner': '4.0',\n",
    "    'Fifth Owner': '5.0'\n",
    "})\n",
    "\n",
    "# Converter para float\n",
    "df['owner_type'] = df['owner_type'].astype(float)\n"
   ]
  },
  {
   "cell_type": "code",
   "execution_count": 129,
   "metadata": {},
   "outputs": [
    {
     "name": "stdout",
     "output_type": "stream",
     "text": [
      "____________________FUEL TYPE_____________________\n",
      "         Petrol: 0.18705300189294208\n",
      "         Diesel: 0.5001184047638285\n",
      "            CNG: 1.5366959190630143\n",
      "       Electric: 2.461836046798032\n",
      "            LPG: 2.781349448156026\n"
     ]
    }
   ],
   "source": [
    "#Create ID IDF  \n",
    "\n",
    "# FUEL TYPE __________________________________________________\n",
    "\n",
    "fuel_types = df['fuel_type']\n",
    "n_docs = len(df)\n",
    "idf = {}\n",
    "\n",
    "# Uniques\n",
    "unique_fuel_types = fuel_types.drop_duplicates()\n",
    "\n",
    "print(\"FUEL TYPE\".center(50, \"_\"))\n",
    "\n",
    "for fuel_type in unique_fuel_types:\n",
    "    k = sum(fuel_type == val for val in fuel_types)  \n",
    "    idf[fuel_type] = np.log10(n_docs / (k + 1))  #+1 to avoid division by zero\n",
    "    print(f'{fuel_type:>15}: {idf[fuel_type]:>10}')\n",
    "\n",
    "# Create new column \n",
    "df['id_fuel_type'] = df['fuel_type'].map(idf)\n",
    "\n",
    "df = df.astype({\n",
    "    'id_fuel_type': float,\n",
    "})"
   ]
  },
  {
   "cell_type": "code",
   "execution_count": 130,
   "metadata": {},
   "outputs": [
    {
     "name": "stdout",
     "output_type": "stream",
     "text": [
      "      Hatchback: 0.37473522552908584\n",
      "            SUV: 0.5977701677077951\n",
      "          Sedan: 0.562038335401452\n",
      "            BMW: 3.842047288509638\n",
      "            MUV: 1.3642028121708796\n",
      "         Maruti: 2.9389573015176946\n",
      "       Minivans: 2.435507108075683\n",
      "  Mercedes-Benz: 3.2979792441593623\n",
      "           Cars: 3.2979792441593623\n",
      "          Coupe: 3.143077284173619\n",
      "         Jaguar: 3.6659560294539566\n",
      "          Wagon: 3.5410172928456567\n",
      "         Datsun: 3.842047288509638\n",
      "         Pickup: 3.143077284173619\n",
      "           Tata: 3.364926033789976\n",
      "          Honda: 3.842047288509638\n",
      "   Convertibles: 3.6659560294539566\n",
      "        Hyundai: 3.842047288509638\n",
      "       Mahindra: 3.6659560294539566\n",
      "          Volvo: 3.842047288509638\n",
      "         Toyota: 3.842047288509638\n",
      "          Isuzu: 3.842047288509638\n",
      "          Skoda: 3.842047288509638\n",
      "      Chevrolet: 3.842047288509638\n"
     ]
    }
   ],
   "source": [
    "#BODY TYPE __________________\n",
    "\n",
    "body_type = df['body_type']\n",
    "n_docs = len(df)\n",
    "idf = {}\n",
    "\n",
    "\n",
    "unique_body_type = body_type.drop_duplicates()\n",
    "\n",
    "for body_type in unique_body_type:\n",
    "    k = sum(body_type in row for row in df['body_type']) \n",
    "    idf[body_type] = np.log10(n_docs / (k + 1))  \n",
    "\n",
    "for body_type, value in idf.items():\n",
    "    print(f'{body_type:>15}: {value:>10}')\n",
    "\n",
    "df['id_body_type'] = df['body_type'].map(idf)\n",
    "\n",
    "df = df.astype({\n",
    "    'id_body_type': float,\n",
    "})"
   ]
  },
  {
   "cell_type": "code",
   "execution_count": 131,
   "metadata": {},
   "outputs": [
    {
     "name": "stdout",
     "output_type": "stream",
     "text": [
      "           Pune: 1.0911533681275127\n",
      "         Jaipur: 1.2893790723974448\n",
      "         Mumbai: 0.9167351970099885\n",
      "        Kolkata: 1.1722656733011014\n",
      "          Delhi: 0.7606999807055055\n",
      "      Bangalore: 0.8696130115522729\n",
      "      Hyderabad: 1.0334987372692326\n",
      "        Chennai: 1.1310841695143623\n",
      "        Gurgaon: 1.220871006734603\n",
      "     Chandigarh: 1.6040011853808425\n",
      "      Ahmedabad: 1.1181813240661342\n",
      "        Lucknow: 1.5086000140128877\n",
      "           Agra: 1.8902242531937261\n"
     ]
    }
   ],
   "source": [
    "# CITY __________________________________________________\n",
    "\n",
    "city= df['city']\n",
    "n_docs = len(df)\n",
    "idf = {}\n",
    "\n",
    "\n",
    "unique_cities = city.drop_duplicates()\n",
    "\n",
    "for city in unique_cities:\n",
    "    k = sum(city in row for row in df['city'])  \n",
    "    idf[city] = np.log10(n_docs / (k + 1))  \n",
    "\n",
    "for city, value in idf.items():\n",
    "    print(f'{city:>15}: {value:>10}')\n",
    "\n",
    "\n",
    "df['id_city'] = df['city'].map(idf)\n",
    "df = df.astype({\n",
    "    'id_city': float,\n",
    "})"
   ]
  },
  {
   "cell_type": "code",
   "execution_count": 132,
   "metadata": {},
   "outputs": [
    {
     "name": "stdout",
     "output_type": "stream",
     "text": [
      "full_name                object\n",
      "registered_year          object\n",
      "engine_capacity         float64\n",
      "insurance                object\n",
      "transmission_type        object\n",
      "kms_driven              float64\n",
      "owner_type              float64\n",
      "fuel_type                object\n",
      "max_power               float64\n",
      "seats                   float64\n",
      "mileage                 float64\n",
      "body_type                object\n",
      "city                     object\n",
      "resale_price_Lakh       float64\n",
      "id_nome                 float64\n",
      "id_ano                  float64\n",
      "id_insurance            float64\n",
      "id_transmission_type    float64\n",
      "id_fuel_type            float64\n",
      "id_body_type            float64\n",
      "id_city                 float64\n",
      "dtype: object\n"
     ]
    }
   ],
   "source": [
    "print(df.dtypes)\n"
   ]
  },
  {
   "cell_type": "code",
   "execution_count": 133,
   "metadata": {},
   "outputs": [
    {
     "data": {
      "text/plain": [
       "Index(['full_name', 'registered_year', 'engine_capacity', 'insurance',\n",
       "       'transmission_type', 'kms_driven', 'owner_type', 'fuel_type',\n",
       "       'max_power', 'seats', 'mileage', 'body_type', 'city',\n",
       "       'resale_price_Lakh', 'id_nome', 'id_ano', 'id_insurance',\n",
       "       'id_transmission_type', 'id_fuel_type', 'id_body_type', 'id_city'],\n",
       "      dtype='object')"
      ]
     },
     "execution_count": 133,
     "metadata": {},
     "output_type": "execute_result"
    }
   ],
   "source": [
    "df.columns"
   ]
  },
  {
   "cell_type": "code",
   "execution_count": 134,
   "metadata": {},
   "outputs": [
    {
     "name": "stdout",
     "output_type": "stream",
     "text": [
      "Valores nulos por columna:\n",
      "full_name               0\n",
      "registered_year         0\n",
      "engine_capacity         7\n",
      "insurance               0\n",
      "transmission_type       0\n",
      "kms_driven              3\n",
      "owner_type              0\n",
      "fuel_type               0\n",
      "max_power               0\n",
      "seats                   0\n",
      "mileage                 0\n",
      "body_type               0\n",
      "city                    0\n",
      "resale_price_Lakh       0\n",
      "id_nome                 0\n",
      "id_ano                  0\n",
      "id_insurance            0\n",
      "id_transmission_type    0\n",
      "id_fuel_type            0\n",
      "id_body_type            0\n",
      "id_city                 0\n",
      "dtype: int64\n"
     ]
    }
   ],
   "source": [
    "# Contar los valores nulos en cada columna\n",
    "nulos_por_columna = df.isnull().sum()\n",
    "\n",
    "print(\"Valores nulos por columna:\")\n",
    "print(nulos_por_columna)"
   ]
  },
  {
   "cell_type": "code",
   "execution_count": 135,
   "metadata": {},
   "outputs": [
    {
     "name": "stdout",
     "output_type": "stream",
     "text": [
      "Número de filas (Método 1): 13902\n",
      "Número de filas (Método 2): 13902\n"
     ]
    }
   ],
   "source": [
    "# Método 1: Utilizando la propiedad shape\n",
    "num_filas1 = df.shape[0]\n",
    "\n",
    "# Método 2: Utilizando la función len()\n",
    "num_filas2 = len(df)\n",
    "\n",
    "print(f\"Número de filas (Método 1): {num_filas1}\")\n",
    "print(f\"Número de filas (Método 2): {num_filas2}\")"
   ]
  },
  {
   "cell_type": "code",
   "execution_count": 136,
   "metadata": {},
   "outputs": [],
   "source": [
    "df.fillna(0, inplace=True)"
   ]
  },
  {
   "cell_type": "code",
   "execution_count": 137,
   "metadata": {},
   "outputs": [
    {
     "name": "stdout",
     "output_type": "stream",
     "text": [
      "Não há valores nulos nas colunas selecionadas.\n"
     ]
    }
   ],
   "source": [
    "# Exportar colunas selecionadas para um novo DataFrame\n",
    "colunas_selecionadas = ['id_nome', 'id_ano', 'engine_capacity', 'id_insurance', 'id_transmission_type','kms_driven', 'owner_type','id_fuel_type', 'max_power', 'seats', 'mileage', 'id_body_type', 'id_city','resale_price_Lakh']\n",
    "\n",
    "colunas_selecionadas = ['id_nome', 'id_ano', 'engine_capacity', 'id_insurance', 'id_transmission_type', 'kms_driven', 'owner_type', 'id_fuel_type', 'max_power', 'seats', 'mileage', 'id_body_type', 'id_city', 'resale_price_Lakh']\n",
    "\n",
    "# Verifica nulos nas colunas selecionadas\n",
    "colunas_com_nulos = df[colunas_selecionadas].columns[df[colunas_selecionadas].isnull().any()].tolist()\n",
    "\n",
    "if colunas_com_nulos:\n",
    "    print(\"Colunas com valores nulos:\", colunas_com_nulos)\n",
    "    # Elimina linhas com valores nulos nessas colunas\n",
    "    df.dropna(subset=colunas_com_nulos, inplace=True)\n",
    "    print(\"Linhas com valores nulos eliminadas.\")\n",
    "else:\n",
    "    print(\"Não há valores nulos nas colunas selecionadas.\")\n",
    "\n",
    "df_selecionado = df[colunas_selecionadas]\n",
    "df_selecionado.to_csv('treino.csv', index=False)"
   ]
  },
  {
   "cell_type": "code",
   "execution_count": 138,
   "metadata": {},
   "outputs": [
    {
     "name": "stdout",
     "output_type": "stream",
     "text": [
      "Número de filas (Método 1): 13902\n",
      "Número de filas (Método 2): 13902\n"
     ]
    }
   ],
   "source": [
    "# Método 1: Utilizando la propiedad shape\n",
    "num_filas1 = df_selecionado.shape[0]\n",
    "\n",
    "# Método 2: Utilizando la función len()\n",
    "num_filas2 = len(df)\n",
    "\n",
    "print(f\"Número de filas (Método 1): {num_filas1}\")\n",
    "print(f\"Número de filas (Método 2): {num_filas2}\")"
   ]
  },
  {
   "cell_type": "code",
   "execution_count": 139,
   "metadata": {},
   "outputs": [],
   "source": [
    "#Export\n",
    "#Not the target\n",
    "colunas_selecionadas = ['id_nome', 'id_ano','resale_price_Lakh']\n",
    "\n",
    "\n",
    "if set(colunas_selecionadas).issubset(df.columns):\n",
    "    df_selecionado = df[colunas_selecionadas]\n",
    "    df_selecionado.to_csv('CenarioOld.csv', index=False)"
   ]
  }
 ],
 "metadata": {
  "kernelspec": {
   "display_name": "Python 3",
   "language": "python",
   "name": "python3"
  },
  "language_info": {
   "codemirror_mode": {
    "name": "ipython",
    "version": 3
   },
   "file_extension": ".py",
   "mimetype": "text/x-python",
   "name": "python",
   "nbconvert_exporter": "python",
   "pygments_lexer": "ipython3",
   "version": "3.12.1"
  }
 },
 "nbformat": 4,
 "nbformat_minor": 2
}
