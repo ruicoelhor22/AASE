{
 "cells": [
  {
   "cell_type": "code",
   "execution_count": 1,
   "metadata": {},
   "outputs": [],
   "source": [
    "import matplotlib.pyplot as plt\n",
    "import pandas as pd\n",
    "import seaborn as sns\n",
    "import numpy as np\n",
    "import re"
   ]
  },
  {
   "cell_type": "code",
   "execution_count": 2,
   "metadata": {},
   "outputs": [],
   "source": [
    "df = pd.read_csv('train.csv')\n"
   ]
  },
  {
   "cell_type": "code",
   "execution_count": 3,
   "metadata": {},
   "outputs": [
    {
     "name": "stdout",
     "output_type": "stream",
     "text": [
      "Valores únicos na coluna 'engine_capacity':\n",
      "['23.84 kmpl' '17.5 kmpl' '17.4 kmpl' '14.08 kmpl' '21.4 kmpl'\n",
      " '17.66 kmpl' '17.52 kmpl' '16.09 kmpl' '22.48 kmpl' '18.24 kmpl'\n",
      " '21.74 kmpl' '19.27 kmpl' '23.01 kmpl' '21.5 kmpl' '22.38 kmpl' '18 kmpl'\n",
      " '22.41 kmpl' '11 kmpl' '27.39 kmpl' '16.55 kmpl' '19 kmpl' '23.59 kmpl'\n",
      " '15.1 kmpl' '18.6 kmpl' nan '20.36 kmpl' '16.38 kmpl' '18.2 kmpl'\n",
      " '22.77 kmpl' '17 kmpl' '17.6 kmpl' '18.15 kmpl' '19.34 kmpl' '11.3 kmpl'\n",
      " '20.7 kmpl' '22.9 kmpl' '14.84 kmpl' '20.71 kmpl' '17.7 kmpl' '15.8 kmpl'\n",
      " '17.05 kmpl' '18.16 kmpl' '16 kmpl' '18.7 kmpl' '14.8 kmpl' '15.74 kmpl'\n",
      " '18.3 kmpl' '15.6 kmpl' '15.68 kmpl' '18.9 kmpl' '24.2 kmpl' '14.11 kmpl'\n",
      " '16.35 kmpl' '22.05 kmpl' '17.01 kmpl' '23.95 kmpl' '19.17 kmpl'\n",
      " '17.8 kmpl' '20 kmpl' '26.1 kmpl' '19.67 kmpl' '12.8 kmpl' '22.07 kmpl'\n",
      " '26.2 kmpl' '18.06 kmpl' '14.5 kmpl' '34.05 kmpl' '20.51 kmpl' '33 kmpl'\n",
      " '13.68 kmpl' '16.36 kmpl' '25.8 kmpl' '17.3 kmpl' '21.21 kmpl'\n",
      " '16.47 kmpl' '13.9 kmpl' '23 kmpl' '20.3 kmpl' '23.1 kmpl' '23.2 kmpl'\n",
      " '23.65 kmpl' '21.9 kmpl' '19.81 kmpl' '30.48 km/kg' '32.52 kmpl'\n",
      " '18.88 kmpl' '33.54 kmpl' '12.95 kmpl' '24.7 kmpl' '14.1 kmpl'\n",
      " '21.94 km/kg' '20.89 kmpl' '22.74 kmpl' '20.14 kmpl' '20.92 kmpl'\n",
      " '13.79 kmpl' '21.1 kmpl' '22.54 kmpl' '18.97 kmpl' '17.21 kmpl'\n",
      " '17.92 kmpl' '25.2 kmpl' '19.7 kmpl' '24.3 kmpl' '18.41 kmpl'\n",
      " '25.24 kmpl' '21.79 kmpl' '19.3 kmpl' '19.6 kmpl' '17.36 kmpl'\n",
      " '12.55 kmpl' '20.8 kmpl' '19.01 kmpl' '24 kmpl' '14.67 kmpl' '22.3 kmpl'\n",
      " '15.37 kmpl' '19.4 kmpl' '13.5 kmpl' '22.1 kmpl' '28.4 kmpl' '20.4 kmpl'\n",
      " '22 kmpl' '14.7 kmpl' '26.6 kmpl' '18.1 kmpl' '17.11 kmpl' '10.91 kmpl'\n",
      " '20.45 kmpl' '15.64 kmpl' '16.8 kmpl' '20.08 kmpl' '20.5 kmpl'\n",
      " '20.1 kmpl' '15.29 kmpl' '20.73 kmpl' '9.4 kmpl' '19.02 kmpl' '13 kmpl'\n",
      " '18.5 kmpl' '19.56 kmpl' '13.93 kmpl' '14.82 kmpl' '14.47 kmpl'\n",
      " '25.44 kmpl' '19.33 kmpl' '21.01 kmpl' '16.2 kmpl' '31.79 kmpl'\n",
      " '26.59 kmpl' '17.29 kmpl' '19.1 kmpl' '13.96 kmpl' '17.03 kmpl' '26 kmpl'\n",
      " '12.07 kmpl' '19.15 kmpl' '17.69 kmpl' '17.43 kmpl' '12.7 kmpl'\n",
      " '10.1 kmpl' '26.3 kmpl' '16.1 kmpl' '13.7 kmpl' '25.01 kmpl' '19.16 kmpl'\n",
      " '28.09 kmpl' '16.82 kmpl' '31.2 kmpl' '13.24 kmpl' '21.7 kmpl'\n",
      " '15.26 kmpl' '17.1 kmpl' '20.77 kmpl' '16.9 kmpl' '12.99 kmpl'\n",
      " '21.72 kmpl' '22.7 kmpl' '24.39 kmpl' '16.77 kmpl' '17.84 kmpl'\n",
      " '13.6 kmpl' '25.4 kmpl' '28 km/kg' '25 kmpl' '19.5 kmpl' '14.3 kmpl'\n",
      " '18.78 kmpl' '16.5 kmpl' '25.83 kmpl' '15.85 kmpl' '16.46 kmpl'\n",
      " '24.76 kmpl' '12.2 kmpl' '15.7 kmpl' '17.57 kmpl' '23.7 kmpl'\n",
      " '18.49 kmpl' '16.98 kmpl' '19.2 kmpl' '18.23 kmpl' '14.6 kmpl'\n",
      " '23.08 kmpl' '18.27 kmpl' '18.56 kmpl' '17.9 kmpl' '25.5 kmpl'\n",
      " '16.24 kmpl' '21.14 kmpl' '10.75 kmpl' '21.64 kmpl' '20.62 kmpl'\n",
      " '15.73 kmpl' '15.43 kmpl' '20.68 kmpl' '14.21 kmpl' '18.19 kmpl'\n",
      " '16.42 kmpl' '33.44 kmpl' '15 kmpl' '13.2 kmpl' '23.4 kmpl' '21.46 kmpl'\n",
      " '17.33 kmpl' '25.17 kmpl' '20.97 kmpl' '13.4 kmpl' '16.93 kmpl'\n",
      " '27.28 kmpl' '14.71 kmpl' '19.47 kmpl' '11.74 kmpl' '19.49 kmpl'\n",
      " '12.5 kmpl' '17.14 kmpl' '18.07 kmpl' '12.18 kmpl' '14.025 kmpl'\n",
      " '20.52 kmpl' '18.45 kmpl' '13.73 kmpl' '27.3 kmpl' '24.52 kmpl'\n",
      " '25.32 kmpl' '26.49 kmpl' '11.9 kmpl' '23.5 kmpl' '12.9 kmpl'\n",
      " '11.36 kmpl' '18.8 kmpl' '16.56 kmpl' '16.14 kmpl' '20.09 kmpl'\n",
      " '16.65 kmpl' '26.32 kmpl' '20.04 kmpl' '17.19 kmpl' '19.12 kmpl'\n",
      " '11.1 kmpl' '14.53 kmpl' '19.87 kmpl' '22.94 kmpl' '20.65 kmpl'\n",
      " '22.35 kmpl' '14.74 kmpl' '20.85 kmpl' '18.12 kmpl' '19.44 kmpl'\n",
      " '20.37 kmpl' '21.66 kmpl' '17.74 kmpl' '14.38 kmpl' '19.69 kmpl'\n",
      " '16.3 kmpl' '11.79 kmpl' '22.5 kmpl' '15.04 kmpl' '22.95 kmpl'\n",
      " '17.41 kmpl' '19.28 kmpl' '16.02 kmpl' '24.04 kmpl' '20.38 kmpl'\n",
      " '15.96 kmpl' '17.2 kmpl' '14.28 kmpl' '10.5 kmpl' '23.64 kmpl'\n",
      " '21.19 kmpl' '22.15 kmpl' '18.75 kmpl' '21.3 kmpl' '16.95 kmpl'\n",
      " '23.57 kmpl' '22.69 kmpl' '22.56 kmpl' '15.4 kmpl' '22.32 kmpl'\n",
      " '11.24 kmpl' '13.38 kmpl' '14.4 kmpl' '17.99 kmpl' '20.28 kmpl'\n",
      " '13.8 kmpl' '19.95 kmpl' '17.68 kmpl' '21.56 kmpl' '12 kmpl' '21.63 kmpl'\n",
      " '12.6 kmpl' '23.9 kmpl' '11.7 kmpl' '26.11 km/kg' '26.55 kmpl' '8 kmpl'\n",
      " '22.61 kmpl' '26.08 km/kg' '31.59 km/kg' '20.88 km/kg' '25.6 kmpl'\n",
      " '25.1 kmpl' '16.25 kmpl' '12.05 kmpl' '30.47 km/kg' '11.88 kmpl'\n",
      " '15.5 kmpl' '35.6 km/kg' '14.2 kmpl' '15.17 kmpl' '15.2 kmpl'\n",
      " '21.76 kmpl' '11.57 kmpl' '14.07 kmpl' '11.5 kmpl' '15.3 kmpl'\n",
      " '19.59 kmpl' '8.9 kmpl' '140 kmpl' '15.81 kmpl' '22.27 kmpl' '24.5 kmpl'\n",
      " '13.22 kmpl' '26.49 km/kg' '18.76 kmpl' '10.2 kmpl' '24.35 kmpl'\n",
      " '27.97 kmpl' '11.2 kmpl' '15.97 kmpl' '10.93 kmpl' '19.62 kmpl'\n",
      " '18.53 kmpl' '26.68 kmpl' '11.49 kmpl' '10.9 kmpl' '14.69 kmpl'\n",
      " '19.83 kmpl' '18.4 kmpl' '21 kmpl' '19.8 kmpl' '18.09 kmpl' '16.96 kmpl'\n",
      " '13.17 kmpl' '20.54 kmpl' '26.8 kmpl' '17.42 kmpl' '9.6 kmpl'\n",
      " '21.43 kmpl' '17.88 kmpl' '16.13 kmpl' '23.8 kmpl' '10.54 kmpl'\n",
      " '31.12 kmpl' '16.05 kmpl' '12.3 kmpl' '18.86 kmpl' '22.71 kmpl'\n",
      " '14.72 kmpl' '14.16 kmpl' '14.99 kmpl' '23.03 kmpl' '19.08 kmpl'\n",
      " '16.07 kmpl' '17.32 kmpl' '20.63 kmpl' '19.03 kmpl' '13.01 kmpl'\n",
      " '22.25 kmpl' '27.4 kmpl' '11.4 kmpl' '14 kmpl' '24.97 kmpl' '12.4 kmpl'\n",
      " '21.49 kmpl' '21.38 kmpl' '24.8 kmpl' '12.74 kmpl' '25.47 kmpl'\n",
      " '19.71 kmpl' '18.55 kmpl' '18.33 kmpl' '14.49 kmpl' '16.73 kmpl'\n",
      " '12.65 kmpl' '21.1 km/kg' '19.68 kmpl' '17.71 kmpl' '15.38 kmpl'\n",
      " '21.02 kmpl' '12.81 kmpl' '20.58 kmpl' '16.78 kmpl' '16.34 kmpl'\n",
      " '120 kmpl' '12.62 kmpl' '13.03 kmpl' '13.04 kmpl' '18.51 kmpl'\n",
      " '21.12 kmpl' '6.7 kmpl' '21.04 kmpl' '26.83 kmpl' '110 kmpl' '20.34 kmpl'\n",
      " '14.62 kmpl' '15.41 kmpl' '7.81 kmpl' '15.9 kmpl' '14.24 kmpl'\n",
      " '11.81 kmpl' '11.67 kmpl' '13.47 kmpl' '12.33 kmpl' '26.21 kmpl'\n",
      " '15.63 kmpl' '19.89 kmpl' '18.48 kmpl' '8.5 kmpl' '26.6 km/kg'\n",
      " '19.72 kmpl' '14.9 kmpl' '18.25 kmpl' '24.4 kmpl' '23.22 kmpl' '9.8 kmpl'\n",
      " '21.13 kmpl' '9.5 kmpl' '20.86 kmpl' '27 kmpl' '14.19 kmpl' '18.05 kmpl'\n",
      " '11.33 kmpl' '16.94 kmpl' '9.2 kmpl' '23.3 kmpl' '13.49 kmpl'\n",
      " '14.41 kmpl' '20.25 kmpl' '15.15 kmpl' '12.35 kmpl' '17.45 kmpl'\n",
      " '32.26 kmpl' '15.34 kmpl' '12.98 kmpl' '14.01 kmpl' '9.74 kmpl'\n",
      " '16.6 kmpl' '20.15 kmpl' '19.39 kmpl' '16.11 kmpl' '23.56 kmpl'\n",
      " '15.01 kmpl' '10.6 kmpl' '12.83 kmpl' '14.75 kmpl' '10.8 kmpl'\n",
      " '15.56 kmpl' '36 kmpl' '21.73 kmpl' '11.07 kmpl' '17.72 kmpl' '7.08 kmpl'\n",
      " '19.64 kmpl' '18.67 kmpl' '20.64 kmpl' '18.44 kmpl' '19.05 kmpl'\n",
      " '18.42 kmpl' '8.6 kmpl' '26.5 kmpl' '14.85 kmpl' '30.46 kmpl'\n",
      " '26.11 kmpl' '13.06 kmpl' '18.32 kmpl' '19.65 kmpl' '25.35 kmpl'\n",
      " '17.54 kmpl' '16.7 kmpl' '11.78 kmpl' '24.1 kmpl' '9.43 kmpl'\n",
      " '24.07 kmpl' '22.8 kmpl' '9 kmpl' '12.63 kmpl' '16.72 kmpl' '10.7 kmpl'\n",
      " '13.14 kmpl' '14.81 kmpl' '12.51 kmpl' '13.1 kmpl' '17.97 kmpl'\n",
      " '12.28 kmpl' '20.27 kmpl' '27.03 kmpl' '12.78 kmpl' '21.8 kmpl'\n",
      " '12.1 kmpl' '19.98 kmpl' '21.27 kmpl' '13.32 kmpl' '14.23 kmpl'\n",
      " '13.87 kmpl' '26.78 km/kg' '14.34 kmpl' '11.96 kmpl' '16.39 kmpl'\n",
      " '14.94 kmpl' '16.4 kmpl' '8.8 kmpl' '25.3 kmpl' '11.86 kmpl' '23.87 kmpl'\n",
      " '22.37 kmpl' '19.09 kmpl' '10.26 kmpl' '12.04 kmpl' '11.8 kmpl'\n",
      " '14.66 kmpl' '19.61 kmpl' '17.09 kmpl' '18.47 kmpl' '17.85 kmpl'\n",
      " '14.95 kmpl' '13.45 kmpl' '11.18 kmpl' '12.19 kmpl' '17.67 kmpl'\n",
      " '14.83 kmpl' '20.46 kmpl' '18.9 km/kg' '13.44 kmpl' '12.12 kmpl'\n",
      " '26.55 km/kg' '10 kmpl' '11.25 kmpl' '18.84 kmpl' '21.58 kmpl'\n",
      " '24.43 kmpl' '18.69 kmpl' '13.58 kmpl' '18.64 kmpl' '19.23 kmpl'\n",
      " '9.26 kmpl' '26.82 kmpl' '12.97 kmpl' '8.7 kmpl' '13.33 kmpl'\n",
      " '25.19 kmpl' '8.13 kmpl' '13.05 kmpl' '15.11 kmpl' '10.98 kmpl'\n",
      " '8.45 kmpl' '18.43 kmpl']\n"
     ]
    }
   ],
   "source": [
    "import pandas as pd\n",
    "\n",
    "# Supondo que 'data' seja o seu DataFrame e 'engine_capacity' seja o nome da coluna\n",
    "# Substitua 'data' e 'engine_capacity' com os seus dados reais\n",
    "valores_unicos = df['mileage'].unique()\n",
    "\n",
    "print(\"Valores únicos na coluna 'engine_capacity':\")\n",
    "print(valores_unicos)\n"
   ]
  },
  {
   "cell_type": "code",
   "execution_count": 4,
   "metadata": {},
   "outputs": [
    {
     "name": "stdout",
     "output_type": "stream",
     "text": [
      "Distinct full names with blank seats:\n",
      "2009 Maruti Estilo LXI\n",
      "2019 Nissan Kicks Diesel\n",
      "2008 Ford Endeavour 3.0 4x4 Thunder Plus\n",
      "2010 Maruti Estilo LXI\n",
      "\n",
      "Distinct full names with blank seats:\n"
     ]
    }
   ],
   "source": [
    "# SEATS __________________________________________________\n",
    "distinct_full_names_with_blank_seats = df[df['seats'].isnull()]['full_name'].unique()\n",
    "print('Distinct full names with blank seats:')\n",
    "for full_name in distinct_full_names_with_blank_seats:\n",
    "    print(full_name)\n",
    "\n",
    "df.loc[df['full_name'].isin(['2009 Maruti Estilo LXI', '2019 Nissan Kicks Diesel', '2010 Maruti Estilo LXI']), 'seats'] = 5\n",
    "df.loc[df['full_name'] == '2008 Ford Endeavour 3.0 4x4 Thunder Plus', 'seats'] = 7\n",
    "\n",
    "distinct_full_names_with_blank_seats = df[df['seats'].isnull()]['full_name'].unique()\n",
    "print()\n",
    "print('Distinct full names with blank seats:')\n",
    "for full_name in distinct_full_names_with_blank_seats:\n",
    "    print(full_name)\n",
    "\n",
    "\n",
    "# ENGINE __________________________________________________\n",
    "df['engine_capacity'] = df['engine_capacity'].str.replace('cc', '')\n",
    "\n",
    "\n",
    "# KMS __________________________________________________\n",
    "df['kms_driven'] = df['kms_driven'].str.replace('Kms', '')\n",
    "df['kms_driven'] = df['kms_driven'].str.replace(',', '').str.strip()\n",
    "\n",
    "# MAX POWER \n",
    "Correct_Max_Power = []\n",
    "for power in df['max_power']:\n",
    "    if pd.notna(power):\n",
    "        if isinstance(power, str):\n",
    "            if 'bhp' in power:\n",
    "                num_bhp = float(re.search(r'\\d+.?\\d', power).group())\n",
    "                Correct_Max_Power.append(num_bhp)\n",
    "            elif 'PS' in power:\n",
    "                num_ps = float(re.search(r'\\d+.?\\d', power).group())\n",
    "                num_bhp = round(num_ps * 0.98632, 2)\n",
    "                Correct_Max_Power.append(num_bhp)\n",
    "            else:\n",
    "                num = re.search(r'\\d+\\.?\\d*', power)\n",
    "                Correct_Max_Power.append(float(num.group()) if num else None)\n",
    "        else:\n",
    "            Correct_Max_Power.append(power)\n",
    "    else:\n",
    "        Correct_Max_Power.append(None)\n",
    "\n",
    "Correct_Max_Power = [float(value) if value is not None else value for value in Correct_Max_Power]\n",
    "df['max_power'] = Correct_Max_Power\n",
    "\n",
    "\n",
    "\n",
    "# MILEAGE __________________________________________________\n",
    "consumo_correto = []\n",
    "\n",
    "for i in df['mileage']:\n",
    "    match = re.search(r'(\\d+.\\d+|\\d+)', str(i))\n",
    "\n",
    "    if match:\n",
    "        valor = float(match.group())\n",
    "\n",
    "        if 'km/kg' in str(i):\n",
    "            valor *= 1.40\n",
    "\n",
    "        consumo_correto.append(valor if pd.notnull(i) else None)\n",
    "\n",
    "while len(consumo_correto) < len(df):\n",
    "    consumo_correto.append(None)\n",
    "\n",
    "df['mileage'] = consumo_correto\n",
    "\n",
    "media_mileage = df['mileage'].astype(float).mean()\n",
    "df['mileage'].fillna(media_mileage, inplace=True)\n",
    "\n",
    "# OWNER TYPE __________________________________________________\n",
    "\n",
    "# Substituir os valores em branco ('') pela moda ('mode') da coluna 'owner_type'\n",
    "moda_owner_type = df['owner_type'].mode()[0]  # Calcula a moda\n",
    "df['owner_type'].replace('', moda_owner_type, inplace=True)\n",
    "\n",
    "# INSURANCE __________________________________________________\n",
    "#Deletar \"insurance\"\n",
    "df['insurance'] = df['insurance'].str.replace('insurance', '')\n",
    "\n",
    "#Substituir valores em branco e valores numéricos por 'No Insurance'\n",
    "df['insurance'] = df['insurance'].apply(lambda x: 'No Insurance' if pd.isnull(x) or pd.api.types.is_numeric_dtype(x) else x)\n",
    "\n",
    "#Corrigir \"Third Party\" com espaço extra\n",
    "df['insurance'] = df['insurance'].str.replace('Third Party ', 'Third Party')\n",
    "\n",
    "\n",
    "\n",
    "\n",
    "\n"
   ]
  },
  {
   "cell_type": "code",
   "execution_count": 5,
   "metadata": {},
   "outputs": [
    {
     "name": "stdout",
     "output_type": "stream",
     "text": [
      "0        2019\n",
      "1        2018\n",
      "2        2015\n",
      "3        2021\n",
      "4        2019\n",
      "         ... \n",
      "13951    2021\n",
      "13952    2017\n",
      "13953    2017\n",
      "13954    2017\n",
      "13955    2015\n",
      "Name: ano, Length: 13956, dtype: object\n",
      "0           Tata\n",
      "1          Honda\n",
      "2          Honda\n",
      "3           Tata\n",
      "4         Maruti\n",
      "          ...   \n",
      "13951        Kia\n",
      "13952    Hyundai\n",
      "13953      Skoda\n",
      "13954     Maruti\n",
      "13955      Honda\n",
      "Name: marca, Length: 13956, dtype: object\n",
      "        ano    marca                                         modelo\n",
      "0      2019     Tata                                  Tiago XZ Plus\n",
      "1      2018    Honda                                 WR-V i-VTEC VX\n",
      "2      2015    Honda                                 City i VTEC SV\n",
      "3      2021     Tata  New Safari XZA Plus Adventure Edition AT BSVI\n",
      "4      2019   Maruti                            Baleno 1.2 CVT Zeta\n",
      "...     ...      ...                                            ...\n",
      "13951  2021      Kia                               Carnival Premium\n",
      "13952  2017  Hyundai                        i20 1.2 Magna Executive\n",
      "13953  2017    Skoda                    Rapid 1.5 TDI Ambition BSIV\n",
      "13954  2017   Maruti                              Vitara Brezza ZDi\n",
      "13955  2015    Honda                                Amaze S i-Vtech\n",
      "\n",
      "[13956 rows x 3 columns]\n"
     ]
    }
   ],
   "source": [
    "# Extract the year and create a new column 'ano'\n",
    "df['ano'] = df['full_name'].str.extract(r'^(\\d{4})')\n",
    "\n",
    "# Display the resulting DataFrame for 'ano'\n",
    "print(df['ano'])\n",
    "\n",
    "# Extract 'marca' with patterns 'word' or 'word-word' and create a new column\n",
    "df['marca'] = df['full_name'].str.extract(r'\\d{4}\\s(\\w+(?:-\\w+)?)')\n",
    "\n",
    "# Display the resulting DataFrame for 'marca'\n",
    "print(df['marca'])\n",
    "\n",
    "# Get everything after 'marca' for the 'modelo'\n",
    "df['modelo'] = df['full_name'].str.extract(r'\\d{4}\\s\\w+\\s(.+)')\n",
    "\n",
    "# If 'modelo' is null, fill it with the contents of 'full_name'\n",
    "df['modelo'].fillna(df['full_name'], inplace=True)\n",
    "\n",
    "# Remove 'marca' from 'modelo'\n",
    "df['modelo'] = df.apply(lambda x: x['modelo'].replace(x['marca'], ''), axis=1)\n",
    "\n",
    "# Print the resulting DataFrame\n",
    "print(df[['ano', 'marca', 'modelo']])\n",
    "\n",
    "\n",
    "\n",
    "\n",
    "\n",
    "\n"
   ]
  },
  {
   "cell_type": "code",
   "execution_count": 6,
   "metadata": {},
   "outputs": [
    {
     "name": "stdout",
     "output_type": "stream",
     "text": [
      "O número de valores nulos na coluna é: full_name             0\n",
      "registered_year      54\n",
      "engine_capacity       9\n",
      "insurance             0\n",
      "transmission_type     0\n",
      "kms_driven            3\n",
      "owner_type           36\n",
      "fuel_type             0\n",
      "max_power            89\n",
      "seats                 0\n",
      "mileage               0\n",
      "body_type             0\n",
      "city                  0\n",
      "resale_price_Lakh     0\n",
      "ano                   0\n",
      "marca                 0\n",
      "modelo                0\n",
      "dtype: int64\n"
     ]
    }
   ],
   "source": [
    "contagem_nulos = df.isnull().sum()\n",
    "\n",
    "print(f\"O número de valores nulos na coluna é: {contagem_nulos}\")"
   ]
  },
  {
   "cell_type": "code",
   "execution_count": 7,
   "metadata": {},
   "outputs": [
    {
     "name": "stdout",
     "output_type": "stream",
     "text": [
      "Distinct full names with blank body_type:\n"
     ]
    }
   ],
   "source": [
    "#BODY TYPE ----------------------\n",
    "#Replace the missing types and the ones that were wrong\n",
    "df.loc[df['full_name'].isin(['2009 Maruti Estilo LXI', '2019 Nissan Kicks Diesel', '2010 Maruti Estilo LXI', '2019 Maruti Wagon R ZXI AMT 1.2BSIV',\n",
    "                             '2016 Mercedes-Benz B Class B180 Sport', '2016 Mercedes-Benz A Class A200 D Sport Edition',\n",
    "                             '2004 Tata Indigo Marina GLX', '2017 Volvo V40 D3 R Design']), 'body_type'] = 'Hatchback'\n",
    "df.loc[df['full_name'].isin(['2005 Tata Sumo Victa EX 10/7 Str BSII', '2008 Tata Sumo CX', '2010 Tata New Safari DICOR 2.2 EX 4x2', \n",
    "                             '2017 Mahindra KUV 100 mFALCON G80 K8', '2019 Mahindra Bolero Camper GOLD ZX 2WD']), 'body_type'] = 'SUV'\n",
    "df.loc[df['full_name'].isin(['2015 Honda Mobilio E i-DTEC', '2018 Maruti Eeco 5 Seater AC BSIV', '2016 Datsun GO Plus A']), 'body_type'] = 'MUV'\n",
    "df.loc[df['full_name'].isin(['2021 BMW 7 Series 730Ld DPE Signature','2006 Hyundai Accent CRDi', '2007 Maruti SX4 Vxi BSIII',\n",
    "                             '2020 Mercedes-Benz S-Class Maybach S560', '2004 Skoda Octavia 1.8 Turbo Petrol RS MT']), 'body_type'] = 'Sedan'\n",
    "df.loc[df['full_name'].isin(['2012 Mercedes-Benz SLK-Class SLK 350', '2013 Mercedes-Benz E-Class E350 Cabriolet', \n",
    "                             '2009 Mercedes-Benz SLK-Class 55 AMG']), 'body_type'] = 'Convertibles'\n",
    "df.loc[df['full_name'] == '2011 Jaguar XK R V8 Coupe', 'body_type'] = 'Coupe'\n",
    "df.loc[df['full_name'].isin(['2015 Chevrolet Enjoy 1.4 LS 7', '2004 Maruti Versa DX2 8-SEATER BSIII TWIN A/C', '2021 Maruti Eeco 5 STR With AC Plus HTR CNG',\n",
    "                             '2022 Maruti Eeco 5 Seater AC 2020-2022', '2022 Maruti Eeco 5 Seater AC BSVI', '2017 Maruti Eeco Flexi Green', \n",
    "                             '2013 Maruti Omni Limited Edition', '2021 Maruti Eeco CNG 5 Seater AC', '2019 Maruti Eeco CNG 5 Seater AC BSIV', \n",
    "                             '2019 Maruti Eeco 5 Seater AC', '2013 Maruti Eeco 5 Seater Standard BSIV', '2015 Maruti Omni CNG', \n",
    "                             '2015 Maruti Omni MPI CARGO BSIV', '2016 Maruti Eeco CNG 5 Seater AC BSIV', '2013 Toyota Innova 2.5 E Diesel MS 7-seater',\n",
    "                             '2015 Chevrolet Enjoy 1.4 LS 7']), 'body_type'] = 'Minivans'\n",
    "df.loc[df['full_name'].isin(['2014 Tata Xenon XT EX 4X2', '2019 Isuzu D-Max High']), 'body_type'] = 'Pickup'\n",
    "\n",
    "# Check\n",
    "distinct_full_names_with_blank_body_type = df[df['body_type'].isnull()]['full_name'].unique()\n",
    "print('Distinct full names with blank body_type:')\n",
    "for full_name in distinct_full_names_with_blank_body_type:\n",
    "    print(full_name)"
   ]
  },
  {
   "cell_type": "code",
   "execution_count": 8,
   "metadata": {},
   "outputs": [],
   "source": [
    "# Mudar formatos\n",
    "\n",
    "df = df.astype({\n",
    "    'seats': float,\n",
    "    'engine_capacity': float,\n",
    "    'kms_driven': float,\n",
    "    'max_power': float,\n",
    "    'ano': float,\n",
    "    'marca': 'string',\n",
    "    'modelo': 'string',\n",
    "    'body_type': 'string',\n",
    "    'mileage': float,\n",
    "})"
   ]
  },
  {
   "cell_type": "code",
   "execution_count": 9,
   "metadata": {},
   "outputs": [],
   "source": [
    "\n",
    "novo_valor = df['mileage'].mean()\n",
    "df['mileage'] = df['mileage'].fillna(novo_valor)"
   ]
  },
  {
   "cell_type": "code",
   "execution_count": 10,
   "metadata": {},
   "outputs": [],
   "source": [
    "novo_valor = df['engine_capacity'].mean()\n",
    "df['engine_capacity'] = df['engine_capacity'].fillna(novo_valor)"
   ]
  },
  {
   "cell_type": "code",
   "execution_count": 11,
   "metadata": {},
   "outputs": [],
   "source": [
    "novo_valor = df['max_power'].mean()\n",
    "df['max_power'] = df['max_power'].fillna(novo_valor)"
   ]
  },
  {
   "cell_type": "code",
   "execution_count": 12,
   "metadata": {},
   "outputs": [],
   "source": [
    "novo_valor = df['kms_driven'].mean()\n",
    "df['kms_driven'] = df['kms_driven'].fillna(novo_valor)"
   ]
  },
  {
   "cell_type": "code",
   "execution_count": 13,
   "metadata": {},
   "outputs": [
    {
     "name": "stdout",
     "output_type": "stream",
     "text": [
      "Data type by column:\n",
      "full_name                    object\n",
      "registered_year              object\n",
      "engine_capacity             float64\n",
      "insurance                    object\n",
      "transmission_type            object\n",
      "kms_driven                  float64\n",
      "owner_type                   object\n",
      "fuel_type                    object\n",
      "max_power                   float64\n",
      "seats                       float64\n",
      "mileage                     float64\n",
      "body_type            string[python]\n",
      "city                         object\n",
      "resale_price_Lakh           float64\n",
      "ano                         float64\n",
      "marca                string[python]\n",
      "modelo               string[python]\n",
      "dtype: object\n"
     ]
    }
   ],
   "source": [
    "# Check data types\n",
    "data_types = df.dtypes\n",
    "print(\"Data type by column:\")\n",
    "print(data_types)"
   ]
  },
  {
   "cell_type": "code",
   "execution_count": 14,
   "metadata": {},
   "outputs": [],
   "source": [
    "df = df.dropna(subset=['registered_year'])\n",
    "# MARCA __________________________________________________\n",
    "#df = df.dropna(subset=['marca'])\"\n",
    "# MODELO __________________________________________________\n",
    "#df = df.dropna(subset=['modelo'])"
   ]
  },
  {
   "cell_type": "code",
   "execution_count": 15,
   "metadata": {},
   "outputs": [],
   "source": [
    "# Change formats\n",
    "\n",
    "df = df.astype({\n",
    "    'seats': float,\n",
    "    'engine_capacity': float,\n",
    "    'kms_driven': float,\n",
    "    'max_power': float,\n",
    "    'ano': float,\n",
    "    'marca': 'string',\n",
    "    'modelo': 'string',\n",
    "   \n",
    "})"
   ]
  },
  {
   "cell_type": "code",
   "execution_count": 16,
   "metadata": {},
   "outputs": [
    {
     "name": "stdout",
     "output_type": "stream",
     "text": [
      "<StringArray>\n",
      "[         'Tata',         'Honda',        'Maruti',           'BMW',\n",
      "       'Hyundai',    'Volkswagen',       'Renault', 'Mercedes-Benz',\n",
      "      'Mahindra',          'Ford',        'Toyota',            'MG',\n",
      "        'Jaguar',        'Datsun',     'Chevrolet',           'Kia',\n",
      "          'Land',        'Nissan',         'Skoda',    'Mitsubishi',\n",
      "         'Volvo',          'Audi',       'Citroen',          'Jeep',\n",
      "         'Force',          'Fiat',         'Lexus',          'Mini',\n",
      "         'Isuzu',     'OpelCorsa',       'Porsche',       'Bentley',\n",
      "        'Daewoo']\n",
      "Length: 33, dtype: string\n"
     ]
    }
   ],
   "source": [
    "# Obter os valores únicos da coluna 'marca'\n",
    "valores_unicos_marca = df['marca'].unique()\n",
    "\n",
    "# Exibir os valores únicos da coluna 'marca'\n",
    "print(valores_unicos_marca)\n",
    "\n"
   ]
  },
  {
   "cell_type": "code",
   "execution_count": 17,
   "metadata": {},
   "outputs": [
    {
     "name": "stdout",
     "output_type": "stream",
     "text": [
      "Valor mínimo: 0.28\n",
      "Valor máximo: 225.0\n",
      "Média: 8.816425788375774\n",
      "Moda: 4.5\n"
     ]
    }
   ],
   "source": [
    "# Encontre o valor mínimo, máximo, média e moda da coluna 'resale_price_Lakh'\n",
    "valor_minimo = df['resale_price_Lakh'].min()\n",
    "valor_maximo = df['resale_price_Lakh'].max()\n",
    "media = df['resale_price_Lakh'].mean()\n",
    "moda = df['resale_price_Lakh'].mode()[0]  # O método mode retorna uma série, pegamos o primeiro valor\n",
    "\n",
    "print(f\"Valor mínimo: {valor_minimo}\")\n",
    "print(f\"Valor máximo: {valor_maximo}\")\n",
    "print(f\"Média: {media}\")\n",
    "print(f\"Moda: {moda}\")\n"
   ]
  },
  {
   "cell_type": "code",
   "execution_count": 18,
   "metadata": {},
   "outputs": [],
   "source": [
    "# groups marca\n",
    "\n",
    "limites = [0,20, df['resale_price_Lakh'].max()]\n",
    "rotulos = [ 'baixa','alta']\n",
    "\n",
    "df['categoria_marca'] = pd.cut(df.groupby('marca')['resale_price_Lakh'].transform('mean'), bins=limites, labels=rotulos, right=False)\n",
    "\n"
   ]
  },
  {
   "cell_type": "code",
   "execution_count": 19,
   "metadata": {},
   "outputs": [
    {
     "name": "stdout",
     "output_type": "stream",
     "text": [
      "Series([], Name: marca, dtype: string)\n"
     ]
    }
   ],
   "source": [
    "# Filtrar o DataFrame para exibir os valores na coluna 'marca' quando 'modelo' é nulo\n",
    "marca_modelo_nulo = df.loc[df['categoria_marca'].isnull(), 'marca']\n",
    "\n",
    "# Exibir os valores na coluna 'marca' quando 'modelo' é nulo\n",
    "print(marca_modelo_nulo)\n"
   ]
  },
  {
   "cell_type": "code",
   "execution_count": 20,
   "metadata": {},
   "outputs": [
    {
     "name": "stdout",
     "output_type": "stream",
     "text": [
      "full_name            0\n",
      "registered_year      0\n",
      "engine_capacity      0\n",
      "insurance            0\n",
      "transmission_type    0\n",
      "kms_driven           0\n",
      "owner_type           0\n",
      "fuel_type            0\n",
      "max_power            0\n",
      "seats                0\n",
      "mileage              0\n",
      "body_type            0\n",
      "city                 0\n",
      "resale_price_Lakh    0\n",
      "ano                  0\n",
      "marca                0\n",
      "modelo               0\n",
      "categoria_marca      0\n",
      "dtype: int64\n"
     ]
    }
   ],
   "source": [
    "# Verificar valores nulos em todo o DataFrame\n",
    "nulos_df = df.isnull().sum()\n",
    "\n",
    "# Exibir a contagem de valores nulos por coluna\n",
    "print(nulos_df)"
   ]
  },
  {
   "cell_type": "code",
   "execution_count": 21,
   "metadata": {},
   "outputs": [
    {
     "data": {
      "text/plain": [
       "Index(['full_name', 'registered_year', 'engine_capacity', 'insurance',\n",
       "       'transmission_type', 'kms_driven', 'owner_type', 'fuel_type',\n",
       "       'max_power', 'seats', 'mileage', 'body_type', 'city',\n",
       "       'resale_price_Lakh', 'ano', 'marca', 'modelo', 'categoria_marca'],\n",
       "      dtype='object')"
      ]
     },
     "execution_count": 21,
     "metadata": {},
     "output_type": "execute_result"
    }
   ],
   "source": [
    "df.columns"
   ]
  },
  {
   "cell_type": "code",
   "execution_count": 22,
   "metadata": {},
   "outputs": [],
   "source": [
    "#Export\n",
    "#Not the target\n",
    "colunas_selecionadas = ['full_name', 'city','engine_capacity','insurance','transmission_type', 'categoria_marca','kms_driven','ano','marca','modelo','mileage','seats','engine_capacity','body_type','fuel_type','kms_driven','max_power','owner_type','resale_price_Lakh']\n",
    "\n",
    "\n",
    "if set(colunas_selecionadas).issubset(df.columns):\n",
    "    df_selecionado = df[colunas_selecionadas]\n",
    "    df_selecionado.to_csv('Cenario9Sem_IDS.csv', index=False)"
   ]
  },
  {
   "cell_type": "code",
   "execution_count": 23,
   "metadata": {},
   "outputs": [
    {
     "data": {
      "text/plain": [
       "Index(['full_name', 'registered_year', 'engine_capacity', 'insurance',\n",
       "       'transmission_type', 'kms_driven', 'owner_type', 'fuel_type',\n",
       "       'max_power', 'seats', 'mileage', 'body_type', 'city',\n",
       "       'resale_price_Lakh', 'ano', 'marca', 'modelo', 'categoria_marca'],\n",
       "      dtype='object')"
      ]
     },
     "execution_count": 23,
     "metadata": {},
     "output_type": "execute_result"
    }
   ],
   "source": [
    "df.columns"
   ]
  }
 ],
 "metadata": {
  "kernelspec": {
   "display_name": "Python 3",
   "language": "python",
   "name": "python3"
  },
  "language_info": {
   "codemirror_mode": {
    "name": "ipython",
    "version": 3
   },
   "file_extension": ".py",
   "mimetype": "text/x-python",
   "name": "python",
   "nbconvert_exporter": "python",
   "pygments_lexer": "ipython3",
   "version": "3.12.1"
  }
 },
 "nbformat": 4,
 "nbformat_minor": 2
}
