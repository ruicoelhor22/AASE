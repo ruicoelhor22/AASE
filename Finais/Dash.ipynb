{
 "cells": [
  {
   "cell_type": "code",
   "execution_count": 1,
   "metadata": {},
   "outputs": [],
   "source": [
    "import matplotlib.pyplot as plt\n",
    "import pandas as pd\n",
    "import seaborn as sns\n",
    "import numpy as np\n",
    "import re"
   ]
  },
  {
   "cell_type": "code",
   "execution_count": 2,
   "metadata": {},
   "outputs": [],
   "source": [
    "df = pd.read_csv('Cenario9Sem_IDS.csv')\n",
    "dft= pd.read_csv('PredictsTrain.csv')"
   ]
  },
  {
   "cell_type": "code",
   "execution_count": null,
   "metadata": {},
   "outputs": [],
   "source": [
    "\n",
    "\n",
    "# Realizar o merge baseado em uma coluna em comum, por exemplo, 'coluna_comum'\n",
    "df = pd.merge(df, dft[['resale_price_Lakh', 'prediction']], on='resale_price_Lakh', how='left')\n",
    "\n",
    "# 'coluna_comum' é a coluna que serve como chave para combinar os DataFrames\n",
    "# 'prediction' é a coluna que você deseja adicionar do dft para o df\n",
    "# O argumento 'how='left'' garante que todos os dados do df original sejam mantidos\n",
    "\n",
    "# Salvar o DataFrame combinado em um novo arquivo, se necessário\n",
    "df.to_csv('DadosDash.csv', index=False)\n"
   ]
  }
 ],
 "metadata": {
  "kernelspec": {
   "display_name": "Python 3",
   "language": "python",
   "name": "python3"
  },
  "language_info": {
   "codemirror_mode": {
    "name": "ipython",
    "version": 3
   },
   "file_extension": ".py",
   "mimetype": "text/x-python",
   "name": "python",
   "nbconvert_exporter": "python",
   "pygments_lexer": "ipython3",
   "version": "3.12.1"
  }
 },
 "nbformat": 4,
 "nbformat_minor": 2
}
