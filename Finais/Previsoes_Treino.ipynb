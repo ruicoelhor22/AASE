{
 "cells": [
  {
   "cell_type": "code",
   "execution_count": 21,
   "metadata": {},
   "outputs": [],
   "source": [
    "import warnings\n",
    "warnings.filterwarnings(\"ignore\")"
   ]
  },
  {
   "cell_type": "code",
   "execution_count": 22,
   "metadata": {},
   "outputs": [],
   "source": [
    "import pandas as pd\n",
    "#necessario por causa do metodo de avaliaçao\n",
    "from sklearn.model_selection import KFold\n",
    "from sklearn.metrics import (\n",
    "        make_scorer,\n",
    "        confusion_matrix, \n",
    "        cohen_kappa_score, \n",
    "        accuracy_score, \n",
    "        precision_score, \n",
    "        recall_score, \n",
    "        f1_score, \n",
    "        roc_auc_score\n",
    ")\n",
    "from sklearn.model_selection import cross_validate, StratifiedKFold\n",
    "from sklearn.tree import DecisionTreeClassifier # decision trees for classification\n",
    "from sklearn.neural_network import  MLPClassifier # neural networks for classification\n",
    "from sklearn.naive_bayes import GaussianNB # naive bayes for classification\n",
    "from sklearn.svm import SVC # support vector machines for classification"
   ]
  },
  {
   "cell_type": "code",
   "execution_count": 23,
   "metadata": {},
   "outputs": [],
   "source": [
    "#metricas regressao\n",
    "from sklearn.metrics import mean_squared_error, mean_absolute_error, r2_score\n",
    "\n",
    "def custom_regression_metrics(y_true, y_pred):\n",
    "    mse = mean_squared_error(y_true, y_pred)\n",
    "    mae = mean_absolute_error(y_true, y_pred)\n",
    "    r2 = r2_score(y_true, y_pred)\n",
    "    \n",
    "    return mse, mae, r2"
   ]
  },
  {
   "cell_type": "code",
   "execution_count": 24,
   "metadata": {},
   "outputs": [],
   "source": [
    "#metricas classificação\n",
    "def specificity_score(y_true, y_pred):\n",
    "    tn, fp, fn, tp = confusion_matrix(y_true, y_pred).ravel()\n",
    "    return tn / (tn+fp)"
   ]
  },
  {
   "cell_type": "code",
   "execution_count": 25,
   "metadata": {},
   "outputs": [],
   "source": [
    "#Metricas regressao\n",
    "from sklearn.metrics import mean_squared_error, mean_absolute_error, r2_score\n",
    "\n",
    "REGRESSION_METRICS = {\n",
    "    \"MSE\": make_scorer(mean_squared_error),\n",
    "    \"MAE\": make_scorer(mean_absolute_error),\n",
    "    \"R2\": make_scorer(r2_score)\n",
    "}"
   ]
  },
  {
   "cell_type": "code",
   "execution_count": 26,
   "metadata": {},
   "outputs": [],
   "source": [
    "d = pd.read_csv(\"Cenario9.csv\")\n"
   ]
  },
  {
   "cell_type": "code",
   "execution_count": 27,
   "metadata": {},
   "outputs": [
    {
     "name": "stdout",
     "output_type": "stream",
     "text": [
      "Colunas em d:\n",
      "Index(['id_transmissao', 'id_body_type', 'id_modelos', 'id_categoria_marca',\n",
      "       'mileage', 'ano', 'id_insurance', 'seats', 'engine_capacity',\n",
      "       'id_fuel_type', 'kms_driven', 'max_power', 'id_owner_type',\n",
      "       'resale_price_Lakh'],\n",
      "      dtype='object')\n"
     ]
    }
   ],
   "source": [
    "print(\"Colunas em d:\")\n",
    "print(d.columns)\n",
    "\n",
    "\n"
   ]
  },
  {
   "cell_type": "code",
   "execution_count": 28,
   "metadata": {},
   "outputs": [],
   "source": [
    "X, y = d.drop(\"resale_price_Lakh\", axis=1), d[\"resale_price_Lakh\"]\n",
    "\n"
   ]
  },
  {
   "cell_type": "code",
   "execution_count": 29,
   "metadata": {},
   "outputs": [],
   "source": [
    "# Utilize KFold para um problema de regressão\n",
    "kf = KFold(n_splits=10, shuffle=True, random_state=1234)"
   ]
  },
  {
   "cell_type": "code",
   "execution_count": 30,
   "metadata": {},
   "outputs": [
    {
     "name": "stdout",
     "output_type": "stream",
     "text": [
      "       id_transmissao  id_body_type  id_modelos  id_categoria_marca   mileage  \\\n",
      "0             0.14299      0.374291    3.101685            0.036241  23.84000   \n",
      "1             0.14299      0.597152    2.418801            0.036241  17.50000   \n",
      "2             0.14299      0.561469    2.599009            0.036241  17.40000   \n",
      "3             0.55179      0.597152    3.665956            0.036241  14.08000   \n",
      "4             0.55179      0.374291    2.762866            0.036241  21.40000   \n",
      "...               ...           ...         ...                 ...       ...   \n",
      "13897         0.55179      1.362760    3.665956            0.036241  19.49405   \n",
      "13898         0.14299      0.374291    2.966986            0.036241  19.49405   \n",
      "13899         0.14299      0.561469    3.297979            0.036241  19.49405   \n",
      "13900         0.14299      0.597152    2.762866            0.036241  19.49405   \n",
      "13901         0.14299      0.561469    2.444107            0.036241  19.49405   \n",
      "\n",
      "          ano  id_insurance  seats  engine_capacity  id_fuel_type  kms_driven  \\\n",
      "0      2019.0      0.260439    5.0           1199.0      0.187053     30910.0   \n",
      "1      2018.0      1.319603    5.0           1199.0      0.187053     48089.0   \n",
      "2      2015.0      0.260439    5.0           1497.0      0.187053     51000.0   \n",
      "3      2021.0      0.260439    7.0           1956.0      0.500118     30000.0   \n",
      "4      2019.0      1.319603    5.0           1197.0      0.187053     61113.0   \n",
      "...       ...           ...    ...              ...           ...         ...   \n",
      "13897  2021.0      0.260439    7.0           2199.0      0.500118     80000.0   \n",
      "13898  2017.0      0.260439    5.0           1197.0      0.187053     17923.0   \n",
      "13899  2017.0      0.438155    5.0           1498.0      0.500118     63389.0   \n",
      "13900  2017.0      0.438155    5.0           1248.0      0.500118     40000.0   \n",
      "13901  2015.0      0.438155    5.0           1198.0      0.187053     33046.0   \n",
      "\n",
      "       max_power  id_owner_type  \n",
      "0           83.8       0.153049  \n",
      "1           88.7       1.347893  \n",
      "2          117.3       0.616480  \n",
      "3          167.6       0.153049  \n",
      "4           83.1       0.153049  \n",
      "...          ...            ...  \n",
      "13897      197.2       0.616480  \n",
      "13898       81.8       0.153049  \n",
      "13899      108.6       0.616480  \n",
      "13900       88.5       0.616480  \n",
      "13901       86.7       0.153049  \n",
      "\n",
      "[13902 rows x 13 columns]\n",
      "Data type by column:\n",
      "id_transmissao        float64\n",
      "id_body_type          float64\n",
      "id_modelos            float64\n",
      "id_categoria_marca    float64\n",
      "mileage               float64\n",
      "ano                   float64\n",
      "id_insurance          float64\n",
      "seats                 float64\n",
      "engine_capacity       float64\n",
      "id_fuel_type          float64\n",
      "kms_driven            float64\n",
      "max_power             float64\n",
      "id_owner_type         float64\n",
      "dtype: object\n"
     ]
    }
   ],
   "source": [
    "print(X)\n",
    "# Check data types\n",
    "data_types = X.dtypes\n",
    "print(\"Data type by column:\")\n",
    "print(data_types)"
   ]
  },
  {
   "cell_type": "code",
   "execution_count": 31,
   "metadata": {},
   "outputs": [],
   "source": [
    "\n",
    "from sklearn.tree import DecisionTreeRegressor\n",
    "import pandas as pd\n",
    "\n",
    "# Carregar o conjunto de teste a partir de um arquivo CSV\n",
    "df_test = pd.read_csv(\"Cenario9.csv\") \n",
    "\n",
    "# Criar um novo DataFrame apenas com a coluna 'ID'\n",
    "id_column = df_test[['resale_price_Lakh']].copy()\n",
    "\n",
    "# Remover a coluna 'ID' do DataFrame original\n",
    "df_test.drop('resale_price_Lakh', axis=1, inplace=True)\n"
   ]
  },
  {
   "cell_type": "code",
   "execution_count": 32,
   "metadata": {},
   "outputs": [
    {
     "name": "stdout",
     "output_type": "stream",
     "text": [
      "       id_transmissao  id_body_type  id_modelos  id_categoria_marca   mileage  \\\n",
      "0             0.14299      0.374291    3.101685            0.036241  23.84000   \n",
      "1             0.14299      0.597152    2.418801            0.036241  17.50000   \n",
      "2             0.14299      0.561469    2.599009            0.036241  17.40000   \n",
      "3             0.55179      0.597152    3.665956            0.036241  14.08000   \n",
      "4             0.55179      0.374291    2.762866            0.036241  21.40000   \n",
      "...               ...           ...         ...                 ...       ...   \n",
      "13897         0.55179      1.362760    3.665956            0.036241  19.49405   \n",
      "13898         0.14299      0.374291    2.966986            0.036241  19.49405   \n",
      "13899         0.14299      0.561469    3.297979            0.036241  19.49405   \n",
      "13900         0.14299      0.597152    2.762866            0.036241  19.49405   \n",
      "13901         0.14299      0.561469    2.444107            0.036241  19.49405   \n",
      "\n",
      "          ano  id_insurance  seats  engine_capacity  id_fuel_type  kms_driven  \\\n",
      "0      2019.0      0.260439    5.0           1199.0      0.187053     30910.0   \n",
      "1      2018.0      1.319603    5.0           1199.0      0.187053     48089.0   \n",
      "2      2015.0      0.260439    5.0           1497.0      0.187053     51000.0   \n",
      "3      2021.0      0.260439    7.0           1956.0      0.500118     30000.0   \n",
      "4      2019.0      1.319603    5.0           1197.0      0.187053     61113.0   \n",
      "...       ...           ...    ...              ...           ...         ...   \n",
      "13897  2021.0      0.260439    7.0           2199.0      0.500118     80000.0   \n",
      "13898  2017.0      0.260439    5.0           1197.0      0.187053     17923.0   \n",
      "13899  2017.0      0.438155    5.0           1498.0      0.500118     63389.0   \n",
      "13900  2017.0      0.438155    5.0           1248.0      0.500118     40000.0   \n",
      "13901  2015.0      0.438155    5.0           1198.0      0.187053     33046.0   \n",
      "\n",
      "       max_power  id_owner_type  \n",
      "0           83.8       0.153049  \n",
      "1           88.7       1.347893  \n",
      "2          117.3       0.616480  \n",
      "3          167.6       0.153049  \n",
      "4           83.1       0.153049  \n",
      "...          ...            ...  \n",
      "13897      197.2       0.616480  \n",
      "13898       81.8       0.153049  \n",
      "13899      108.6       0.616480  \n",
      "13900       88.5       0.616480  \n",
      "13901       86.7       0.153049  \n",
      "\n",
      "[13902 rows x 13 columns]\n",
      "Data type by column:\n",
      "id_transmissao        float64\n",
      "id_body_type          float64\n",
      "id_modelos            float64\n",
      "id_categoria_marca    float64\n",
      "mileage               float64\n",
      "ano                   float64\n",
      "id_insurance          float64\n",
      "seats                 float64\n",
      "engine_capacity       float64\n",
      "id_fuel_type          float64\n",
      "kms_driven            float64\n",
      "max_power             float64\n",
      "id_owner_type         float64\n",
      "dtype: object\n"
     ]
    }
   ],
   "source": [
    "\n",
    "print(df_test)\n",
    "# Check data types\n",
    "data_types = df_test.dtypes\n",
    "print(\"Data type by column:\")\n",
    "print(data_types)"
   ]
  },
  {
   "cell_type": "code",
   "execution_count": 33,
   "metadata": {},
   "outputs": [
    {
     "name": "stdout",
     "output_type": "stream",
     "text": [
      "id_transmissao        0\n",
      "id_body_type          0\n",
      "id_modelos            0\n",
      "id_categoria_marca    0\n",
      "mileage               0\n",
      "ano                   0\n",
      "id_insurance          0\n",
      "seats                 0\n",
      "engine_capacity       0\n",
      "id_fuel_type          0\n",
      "kms_driven            0\n",
      "max_power             0\n",
      "id_owner_type         0\n",
      "dtype: int64\n"
     ]
    }
   ],
   "source": [
    "# Contar a quantidade de NaN em cada coluna do DataFrame X\n",
    "nan_count = X.isna().sum()\n",
    "\n",
    "# Exibir a contagem de NaN por coluna\n",
    "print(nan_count)"
   ]
  },
  {
   "cell_type": "code",
   "execution_count": 34,
   "metadata": {},
   "outputs": [
    {
     "name": "stdout",
     "output_type": "stream",
     "text": [
      "id_transmissao        0\n",
      "id_body_type          0\n",
      "id_modelos            0\n",
      "id_categoria_marca    0\n",
      "mileage               0\n",
      "ano                   0\n",
      "id_insurance          0\n",
      "seats                 0\n",
      "engine_capacity       0\n",
      "id_fuel_type          0\n",
      "kms_driven            0\n",
      "max_power             0\n",
      "id_owner_type         0\n",
      "dtype: int64\n"
     ]
    }
   ],
   "source": [
    "\n",
    "# Contar a quantidade de NaN em cada coluna do DataFrame X\n",
    "nan_count = df_test.isna().sum()\n",
    "\n",
    "# Exibir a contagem de NaN por coluna\n",
    "print(nan_count)"
   ]
  },
  {
   "cell_type": "code",
   "execution_count": 35,
   "metadata": {},
   "outputs": [
    {
     "name": "stdout",
     "output_type": "stream",
     "text": [
      "float64\n"
     ]
    }
   ],
   "source": [
    "# Check data types\n",
    "print(y.dtypes)"
   ]
  },
  {
   "cell_type": "code",
   "execution_count": 36,
   "metadata": {},
   "outputs": [
    {
     "name": "stdout",
     "output_type": "stream",
     "text": [
      "id_transmissao        float64\n",
      "id_body_type          float64\n",
      "id_modelos            float64\n",
      "id_categoria_marca    float64\n",
      "mileage               float64\n",
      "ano                   float64\n",
      "id_insurance          float64\n",
      "seats                 float64\n",
      "engine_capacity       float64\n",
      "id_fuel_type          float64\n",
      "kms_driven            float64\n",
      "max_power             float64\n",
      "id_owner_type         float64\n",
      "dtype: object\n"
     ]
    }
   ],
   "source": [
    "# Check data types\n",
    "print(X.dtypes)"
   ]
  },
  {
   "cell_type": "code",
   "execution_count": 37,
   "metadata": {},
   "outputs": [
    {
     "name": "stdout",
     "output_type": "stream",
     "text": [
      "id_transmissao        float64\n",
      "id_body_type          float64\n",
      "id_modelos            float64\n",
      "id_categoria_marca    float64\n",
      "mileage               float64\n",
      "ano                   float64\n",
      "id_insurance          float64\n",
      "seats                 float64\n",
      "engine_capacity       float64\n",
      "id_fuel_type          float64\n",
      "kms_driven            float64\n",
      "max_power             float64\n",
      "id_owner_type         float64\n",
      "dtype: object\n"
     ]
    }
   ],
   "source": [
    "# Check data types\n",
    "print(df_test.dtypes)"
   ]
  },
  {
   "cell_type": "code",
   "execution_count": 38,
   "metadata": {},
   "outputs": [],
   "source": [
    "#from sklearn import tree\n",
    "#clf = tree.DecisionTreeRegressor()\n",
    "#clf = clf.fit(X, y)\n",
    "#predictions=clf.predict(df_test)\n",
    "\n"
   ]
  },
  {
   "cell_type": "code",
   "execution_count": 39,
   "metadata": {},
   "outputs": [],
   "source": [
    "#from sklearn.neural_network import MLPRegressor\n",
    "\n",
    " \n",
    "#clf= MLPRegressor(random_state=1, max_iter=500)\n",
    "\n",
    "#clf=clf.fit(X, y)\n",
    "#predictions=clf.predict(df_test)"
   ]
  },
  {
   "cell_type": "code",
   "execution_count": 40,
   "metadata": {},
   "outputs": [],
   "source": [
    "from sklearn.ensemble import RandomForestRegressor\n",
    "from sklearn.model_selection import train_test_split\n",
    "\n",
    "# Dividir os dados em conjuntos de treino e teste\n",
    "X_train, X_test, y_train, y_test = train_test_split(X, y, test_size=0.2, random_state=42)\n",
    "\n",
    "# Criar um regressor RandomForest\n",
    "rf_regressor = RandomForestRegressor(n_estimators=100, random_state=1234)\n",
    "\n",
    "# Treinar o modelo com os dados de treino\n",
    "rf_regressor.fit(X_train, y_train)\n",
    "\n",
    "# Fazer previsões nos dados de teste\n",
    "best_predictions = rf_regressor.predict(df_test)\n",
    "\n"
   ]
  },
  {
   "cell_type": "code",
   "execution_count": 41,
   "metadata": {},
   "outputs": [
    {
     "name": "stdout",
     "output_type": "stream",
     "text": [
      "13902\n"
     ]
    }
   ],
   "source": [
    "\n",
    "print(len(best_predictions))  # Check the length of predictions\n"
   ]
  },
  {
   "cell_type": "code",
   "execution_count": 42,
   "metadata": {},
   "outputs": [],
   "source": [
    "id_series = id_column.squeeze()\n",
    "df_predictions = pd.DataFrame({\"resale_price_Lakh\": id_series, \"prediction\": best_predictions})"
   ]
  },
  {
   "cell_type": "code",
   "execution_count": 43,
   "metadata": {},
   "outputs": [
    {
     "name": "stdout",
     "output_type": "stream",
     "text": [
      "       resale_price_Lakh  prediction\n",
      "0                   5.66      5.5707\n",
      "1                   6.64      6.9218\n",
      "2                   5.65      5.8611\n",
      "3                  23.00     24.0058\n",
      "4                   6.87      6.9272\n",
      "...                  ...         ...\n",
      "13897              26.50     27.9566\n",
      "13898               5.87      5.7227\n",
      "13899               7.43      7.5087\n",
      "13900               9.45      7.2230\n",
      "13901               4.55      4.3821\n",
      "\n",
      "[13902 rows x 2 columns]\n"
     ]
    }
   ],
   "source": [
    "print(df_predictions)"
   ]
  },
  {
   "cell_type": "code",
   "execution_count": 44,
   "metadata": {},
   "outputs": [],
   "source": [
    "# Exporte o DataFrame para um arquivo CSV\n",
    "df_predictions.to_csv('PredictsTrain.csv', index=False)"
   ]
  }
 ],
 "metadata": {
  "kernelspec": {
   "display_name": "Python 3",
   "language": "python",
   "name": "python3"
  },
  "language_info": {
   "codemirror_mode": {
    "name": "ipython",
    "version": 3
   },
   "file_extension": ".py",
   "mimetype": "text/x-python",
   "name": "python",
   "nbconvert_exporter": "python",
   "pygments_lexer": "ipython3",
   "version": "3.12.1"
  }
 },
 "nbformat": 4,
 "nbformat_minor": 2
}
