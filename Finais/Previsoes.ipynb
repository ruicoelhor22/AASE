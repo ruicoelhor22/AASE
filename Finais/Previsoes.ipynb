{
 "cells": [
  {
   "cell_type": "code",
   "execution_count": 1,
   "metadata": {},
   "outputs": [],
   "source": [
    "import warnings\n",
    "warnings.filterwarnings(\"ignore\")"
   ]
  },
  {
   "cell_type": "code",
   "execution_count": 2,
   "metadata": {},
   "outputs": [],
   "source": [
    "import pandas as pd\n",
    "#necessario por causa do metodo de avaliaçao\n",
    "from sklearn.model_selection import KFold\n",
    "from sklearn.metrics import (\n",
    "        make_scorer,\n",
    "        confusion_matrix, \n",
    "        cohen_kappa_score, \n",
    "        accuracy_score, \n",
    "        precision_score, \n",
    "        recall_score, \n",
    "        f1_score, \n",
    "        roc_auc_score\n",
    ")\n",
    "from sklearn.model_selection import cross_validate, StratifiedKFold\n",
    "from sklearn.tree import DecisionTreeClassifier # decision trees for classification\n",
    "from sklearn.neural_network import  MLPClassifier # neural networks for classification\n",
    "from sklearn.naive_bayes import GaussianNB # naive bayes for classification\n",
    "from sklearn.svm import SVC # support vector machines for classification"
   ]
  },
  {
   "cell_type": "code",
   "execution_count": 3,
   "metadata": {},
   "outputs": [],
   "source": [
    "#metricas regressao\n",
    "from sklearn.metrics import mean_squared_error, mean_absolute_error, r2_score\n",
    "\n",
    "def custom_regression_metrics(y_true, y_pred):\n",
    "    mse = mean_squared_error(y_true, y_pred)\n",
    "    mae = mean_absolute_error(y_true, y_pred)\n",
    "    r2 = r2_score(y_true, y_pred)\n",
    "    \n",
    "    return mse, mae, r2"
   ]
  },
  {
   "cell_type": "code",
   "execution_count": 4,
   "metadata": {},
   "outputs": [],
   "source": [
    "#metricas classificação\n",
    "def specificity_score(y_true, y_pred):\n",
    "    tn, fp, fn, tp = confusion_matrix(y_true, y_pred).ravel()\n",
    "    return tn / (tn+fp)"
   ]
  },
  {
   "cell_type": "code",
   "execution_count": 5,
   "metadata": {},
   "outputs": [],
   "source": [
    "#Metricas regressao\n",
    "from sklearn.metrics import mean_squared_error, mean_absolute_error, r2_score\n",
    "\n",
    "REGRESSION_METRICS = {\n",
    "    \"MSE\": make_scorer(mean_squared_error),\n",
    "    \"MAE\": make_scorer(mean_absolute_error),\n",
    "    \"R2\": make_scorer(r2_score)\n",
    "}"
   ]
  },
  {
   "cell_type": "code",
   "execution_count": 6,
   "metadata": {},
   "outputs": [],
   "source": [
    "d = pd.read_csv(\"Cenario1.csv\")\n"
   ]
  },
  {
   "cell_type": "code",
   "execution_count": 7,
   "metadata": {},
   "outputs": [
    {
     "name": "stdout",
     "output_type": "stream",
     "text": [
      "Colunas em d:\n",
      "Index(['id_marcas', 'ano', 'engine_capacity', 'id_insurance', 'id_transmissao',\n",
      "       'kms_driven', 'id_owner_type', 'id_fuel_type', 'max_power', 'seats',\n",
      "       'mileage', 'id_body_type', 'id_city', 'resale_price_Lakh'],\n",
      "      dtype='object')\n"
     ]
    }
   ],
   "source": [
    "print(\"Colunas em d:\")\n",
    "print(d.columns)\n",
    "\n",
    "\n"
   ]
  },
  {
   "cell_type": "code",
   "execution_count": 8,
   "metadata": {},
   "outputs": [],
   "source": [
    "X, y = d.drop(\"resale_price_Lakh\", axis=1), d[\"resale_price_Lakh\"]\n",
    "\n"
   ]
  },
  {
   "cell_type": "code",
   "execution_count": 9,
   "metadata": {},
   "outputs": [],
   "source": [
    "# Utilize KFold para um problema de regressão\n",
    "kf = KFold(n_splits=10, shuffle=True, random_state=1234)"
   ]
  },
  {
   "cell_type": "code",
   "execution_count": 10,
   "metadata": {},
   "outputs": [
    {
     "name": "stdout",
     "output_type": "stream",
     "text": [
      "       id_marcas     ano  engine_capacity  id_insurance  id_transmissao  \\\n",
      "0       1.230837  2019.0           1199.0      0.256633        0.131359   \n",
      "1       0.976238  2018.0           1199.0      1.306401        0.131359   \n",
      "2       0.976238  2015.0           1497.0      0.256633        0.131359   \n",
      "3       1.230837  2021.0           1956.0      0.256633        0.583102   \n",
      "4       0.541440  2019.0           1197.0      1.306401        0.583102   \n",
      "...          ...     ...              ...           ...             ...   \n",
      "13414   1.745897  2021.0           2199.0      0.256633        0.583102   \n",
      "13415   0.677665  2017.0           1197.0      0.256633        0.131359   \n",
      "13416   1.693345  2017.0           1498.0      0.445408        0.131359   \n",
      "13417   0.541440  2017.0           1248.0      0.445408        0.131359   \n",
      "13418   0.976238  2015.0           1198.0      0.445408        0.131359   \n",
      "\n",
      "       kms_driven  id_owner_type  id_fuel_type  max_power  seats  mileage  \\\n",
      "0         30910.0       0.150465      0.180334       83.8    5.0    23.84   \n",
      "1         48089.0       1.365236      0.180334       88.7    5.0    17.50   \n",
      "2         51000.0       0.620328      0.180334      117.3    5.0    17.40   \n",
      "3         30000.0       0.150465      0.514919      167.6    7.0    14.08   \n",
      "4         61113.0       0.150465      0.180334       83.1    5.0    21.40   \n",
      "...           ...            ...           ...        ...    ...      ...   \n",
      "13414     80000.0       0.620328      0.514919      197.2    7.0    14.11   \n",
      "13415     17923.0       0.150465      0.180334       81.8    5.0    18.60   \n",
      "13416     63389.0       0.620328      0.514919      108.6    5.0    21.13   \n",
      "13417     40000.0       0.620328      0.514919       88.5    5.0    24.30   \n",
      "13418     33046.0       0.150465      0.180334       86.7    5.0    18.00   \n",
      "\n",
      "       id_body_type   id_city  \n",
      "0          0.364112  1.096102  \n",
      "1          0.598869  1.281577  \n",
      "2          0.578053  0.922710  \n",
      "3          0.598869  0.922710  \n",
      "4          0.364112  1.170307  \n",
      "...             ...       ...  \n",
      "13414      1.347597  1.027199  \n",
      "13415      0.364112  1.223199  \n",
      "13416      0.578053  1.027199  \n",
      "13417      0.598869  0.868320  \n",
      "13418      0.578053  0.868320  \n",
      "\n",
      "[13419 rows x 13 columns]\n",
      "Data type by column:\n",
      "id_marcas          float64\n",
      "ano                float64\n",
      "engine_capacity    float64\n",
      "id_insurance       float64\n",
      "id_transmissao     float64\n",
      "kms_driven         float64\n",
      "id_owner_type      float64\n",
      "id_fuel_type       float64\n",
      "max_power          float64\n",
      "seats              float64\n",
      "mileage            float64\n",
      "id_body_type       float64\n",
      "id_city            float64\n",
      "dtype: object\n"
     ]
    }
   ],
   "source": [
    "print(X)\n",
    "# Check data types\n",
    "data_types = X.dtypes\n",
    "print(\"Data type by column:\")\n",
    "print(data_types)"
   ]
  },
  {
   "cell_type": "code",
   "execution_count": 11,
   "metadata": {},
   "outputs": [],
   "source": [
    "from sklearn.tree import DecisionTreeRegressor\n",
    "import pandas as pd\n",
    "\n",
    "# Carregar o conjunto de teste a partir de um arquivo CSV\n",
    "df_test = pd.read_csv(\"TestCenario1.csv\") \n",
    "\n",
    "# Criar um novo DataFrame apenas com a coluna 'ID'\n",
    "id_column = df_test[['ID']].copy()\n",
    "\n",
    "# Remover a coluna 'ID' do DataFrame original\n",
    "df_test.drop('ID', axis=1, inplace=True)\n"
   ]
  },
  {
   "cell_type": "code",
   "execution_count": 12,
   "metadata": {},
   "outputs": [
    {
     "name": "stdout",
     "output_type": "stream",
     "text": [
      "      id_marcas     ano  engine_capacity  id_insurance  id_transmissao  \\\n",
      "0      0.677665  2017.0           1197.0      0.445408        0.131359   \n",
      "1      0.541440  2020.0           1197.0      1.418644        0.583102   \n",
      "2      0.541440  2010.0            998.0      0.256633        0.131359   \n",
      "3      0.541440  2010.0            796.0      0.256633        0.131359   \n",
      "4      0.677665  2018.0           1197.0      0.445408        0.131359   \n",
      "...         ...     ...              ...           ...             ...   \n",
      "3485   1.230837  2022.0              0.0      0.256633        0.583102   \n",
      "3486   1.419493  2017.0            999.0      0.256633        0.131359   \n",
      "3487   0.976238  2017.0           1497.0      0.445408        0.131359   \n",
      "3488   0.976238  2016.0           1199.0      0.445408        0.131359   \n",
      "3489   0.541440  2017.0           1197.0      0.445408        0.131359   \n",
      "\n",
      "      kms_driven  id_owner_type  id_fuel_type  max_power  seats  mileage  \\\n",
      "0        53658.0       0.150465      0.180334       81.8    5.0    18.90   \n",
      "1        33055.0       0.620328      0.180334       81.8    5.0    21.21   \n",
      "2        90385.0       1.365236      0.180334       67.1    5.0    18.20   \n",
      "3       110000.0       0.150465      0.180334       46.3    5.0    19.70   \n",
      "4        58000.0       0.620328      0.180334       81.8    5.0    17.19   \n",
      "...          ...            ...           ...        ...    ...      ...   \n",
      "3485     30000.0       0.150465      2.455816       73.7    5.0     0.00   \n",
      "3486     64024.0       0.150465      0.180334       67.0    5.0    23.01   \n",
      "3487     39000.0       0.150465      0.180334      117.3    5.0    17.80   \n",
      "3488     33000.0       0.150465      0.180334       88.7    5.0    18.70   \n",
      "3489     14097.0       0.620328      0.180334       88.5    5.0    22.38   \n",
      "\n",
      "      id_body_type   id_city  \n",
      "0         0.364112  0.922710  \n",
      "1         0.364112  1.281577  \n",
      "2         0.364112  1.593888  \n",
      "3         0.364112  0.767700  \n",
      "4         0.364112  0.767700  \n",
      "...            ...       ...  \n",
      "3485      0.578053  1.096102  \n",
      "3486      0.364112  0.868320  \n",
      "3487      0.578053  0.767700  \n",
      "3488      0.364112  0.922710  \n",
      "3489      0.364112  0.767700  \n",
      "\n",
      "[3490 rows x 13 columns]\n",
      "Data type by column:\n",
      "id_marcas          float64\n",
      "ano                float64\n",
      "engine_capacity    float64\n",
      "id_insurance       float64\n",
      "id_transmissao     float64\n",
      "kms_driven         float64\n",
      "id_owner_type      float64\n",
      "id_fuel_type       float64\n",
      "max_power          float64\n",
      "seats              float64\n",
      "mileage            float64\n",
      "id_body_type       float64\n",
      "id_city            float64\n",
      "dtype: object\n"
     ]
    }
   ],
   "source": [
    "\n",
    "print(df_test)\n",
    "# Check data types\n",
    "data_types = df_test.dtypes\n",
    "print(\"Data type by column:\")\n",
    "print(data_types)"
   ]
  },
  {
   "cell_type": "code",
   "execution_count": 13,
   "metadata": {},
   "outputs": [
    {
     "name": "stdout",
     "output_type": "stream",
     "text": [
      "id_marcas          0\n",
      "ano                0\n",
      "engine_capacity    0\n",
      "id_insurance       0\n",
      "id_transmissao     0\n",
      "kms_driven         0\n",
      "id_owner_type      0\n",
      "id_fuel_type       0\n",
      "max_power          0\n",
      "seats              0\n",
      "mileage            0\n",
      "id_body_type       0\n",
      "id_city            0\n",
      "dtype: int64\n"
     ]
    }
   ],
   "source": [
    "# Contar a quantidade de NaN em cada coluna do DataFrame X\n",
    "nan_count = X.isna().sum()\n",
    "\n",
    "# Exibir a contagem de NaN por coluna\n",
    "print(nan_count)"
   ]
  },
  {
   "cell_type": "code",
   "execution_count": 14,
   "metadata": {},
   "outputs": [
    {
     "name": "stdout",
     "output_type": "stream",
     "text": [
      "id_marcas          0\n",
      "ano                0\n",
      "engine_capacity    0\n",
      "id_insurance       0\n",
      "id_transmissao     0\n",
      "kms_driven         0\n",
      "id_owner_type      9\n",
      "id_fuel_type       0\n",
      "max_power          0\n",
      "seats              0\n",
      "mileage            0\n",
      "id_body_type       0\n",
      "id_city            0\n",
      "dtype: int64\n"
     ]
    }
   ],
   "source": [
    "# Contar a quantidade de NaN em cada coluna do DataFrame X\n",
    "nan_count = df_test.isna().sum()\n",
    "\n",
    "# Exibir a contagem de NaN por coluna\n",
    "print(nan_count)"
   ]
  },
  {
   "cell_type": "code",
   "execution_count": 15,
   "metadata": {},
   "outputs": [
    {
     "name": "stdout",
     "output_type": "stream",
     "text": [
      "float64\n"
     ]
    }
   ],
   "source": [
    "# Check data types\n",
    "print(y.dtypes)"
   ]
  },
  {
   "cell_type": "code",
   "execution_count": 16,
   "metadata": {},
   "outputs": [
    {
     "name": "stdout",
     "output_type": "stream",
     "text": [
      "id_marcas          float64\n",
      "ano                float64\n",
      "engine_capacity    float64\n",
      "id_insurance       float64\n",
      "id_transmissao     float64\n",
      "kms_driven         float64\n",
      "id_owner_type      float64\n",
      "id_fuel_type       float64\n",
      "max_power          float64\n",
      "seats              float64\n",
      "mileage            float64\n",
      "id_body_type       float64\n",
      "id_city            float64\n",
      "dtype: object\n"
     ]
    }
   ],
   "source": [
    "# Check data types\n",
    "print(X.dtypes)"
   ]
  },
  {
   "cell_type": "code",
   "execution_count": 17,
   "metadata": {},
   "outputs": [
    {
     "name": "stdout",
     "output_type": "stream",
     "text": [
      "id_marcas          float64\n",
      "ano                float64\n",
      "engine_capacity    float64\n",
      "id_insurance       float64\n",
      "id_transmissao     float64\n",
      "kms_driven         float64\n",
      "id_owner_type      float64\n",
      "id_fuel_type       float64\n",
      "max_power          float64\n",
      "seats              float64\n",
      "mileage            float64\n",
      "id_body_type       float64\n",
      "id_city            float64\n",
      "dtype: object\n"
     ]
    }
   ],
   "source": [
    "# Check data types\n",
    "print(df_test.dtypes)"
   ]
  },
  {
   "cell_type": "code",
   "execution_count": 18,
   "metadata": {},
   "outputs": [],
   "source": [
    "#from sklearn import tree\n",
    "#clf = tree.DecisionTreeRegressor()\n",
    "#clf = clf.fit(X, y)\n",
    "#predictions=clf.predict(df_test)\n",
    "\n"
   ]
  },
  {
   "cell_type": "code",
   "execution_count": 19,
   "metadata": {},
   "outputs": [],
   "source": [
    "#from sklearn.neural_network import MLPRegressor\n",
    "\n",
    " \n",
    "#clf= MLPRegressor(random_state=1, max_iter=500)\n",
    "\n",
    "#clf=clf.fit(X, y)\n",
    "#predictions=clf.predict(df_test)"
   ]
  },
  {
   "cell_type": "code",
   "execution_count": 20,
   "metadata": {},
   "outputs": [],
   "source": [
    "from sklearn.model_selection import train_test_split, GridSearchCV\n",
    "from sklearn.tree import DecisionTreeRegressor\n",
    "\n",
    "#Dividir os dados em conjunto de treinamento e teste\n",
    "X_train, X_test, y_train, y_test = train_test_split(X, y, test_size=0.2, random_state=42)\n",
    "\n",
    "# Definir o modelo inicial\n",
    "clf = DecisionTreeRegressor(max_depth=10)\n",
    "\n",
    "# Ajustar o modelo inicial nos dados de treinamento\n",
    "clf.fit(X_train, y_train)\n",
    "\n",
    "# Prever com o modelo inicial\n",
    "predictions = clf.predict(df_test)\n",
    "\n",
    "# Definir o grid de hiperparâmetros\n",
    "param_grid = {\n",
    "    'max_depth': [5, 7, 10],\n",
    "   'min_samples_split': [2, 5, 10],\n",
    "    'min_samples_leaf': [1, 2, 4]\n",
    "}\n",
    "\n",
    "# Realizar a busca dos melhores hiperparâmetros\n",
    "grid_search = GridSearchCV(DecisionTreeRegressor(), param_grid, cv=5, scoring='neg_mean_squared_error')\n",
    "grid_search.fit(X_train, y_train)\n",
    "\n",
    "# Obter os melhores parâmetros e o melhor estimador\n",
    "best_params = grid_search.best_params_\n",
    "best_estimator = grid_search.best_estimator_\n",
    "\n",
    "# Usar o melhor estimador para fazer previsões nos dados de teste\n",
    "best_predictions = best_estimator.predict(df_test)\n"
   ]
  },
  {
   "cell_type": "code",
   "execution_count": 21,
   "metadata": {},
   "outputs": [
    {
     "name": "stdout",
     "output_type": "stream",
     "text": [
      "3490\n"
     ]
    }
   ],
   "source": [
    "\n",
    "print(len(best_predictions))  # Check the length of predictions\n"
   ]
  },
  {
   "cell_type": "code",
   "execution_count": 22,
   "metadata": {},
   "outputs": [],
   "source": [
    "id_series = id_column.squeeze()\n",
    "df_predictions = pd.DataFrame({\"ID\": id_series, \"prediction\": best_predictions})"
   ]
  },
  {
   "cell_type": "code",
   "execution_count": 23,
   "metadata": {},
   "outputs": [
    {
     "name": "stdout",
     "output_type": "stream",
     "text": [
      "        ID  prediction\n",
      "0        0    5.712731\n",
      "1        1    6.756594\n",
      "2        2    1.518231\n",
      "3        3    1.736875\n",
      "4        4    5.712731\n",
      "...    ...         ...\n",
      "3485  3485    8.083882\n",
      "3486  3486    2.848800\n",
      "3487  3487    7.394687\n",
      "3488  3488    5.115323\n",
      "3489  3489    5.712731\n",
      "\n",
      "[3490 rows x 2 columns]\n"
     ]
    }
   ],
   "source": [
    "print(df_predictions)"
   ]
  },
  {
   "cell_type": "code",
   "execution_count": 24,
   "metadata": {},
   "outputs": [],
   "source": [
    "# Exporte o DataFrame para um arquivo CSV\n",
    "df_predictions.to_csv('PredictsCenario1.csv', index=False)"
   ]
  }
 ],
 "metadata": {
  "kernelspec": {
   "display_name": "Python 3",
   "language": "python",
   "name": "python3"
  },
  "language_info": {
   "codemirror_mode": {
    "name": "ipython",
    "version": 3
   },
   "file_extension": ".py",
   "mimetype": "text/x-python",
   "name": "python",
   "nbconvert_exporter": "python",
   "pygments_lexer": "ipython3",
   "version": "3.12.1"
  }
 },
 "nbformat": 4,
 "nbformat_minor": 2
}
