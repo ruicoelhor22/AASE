{
 "cells": [
  {
   "cell_type": "code",
   "execution_count": 25,
   "metadata": {},
   "outputs": [],
   "source": [
    "import warnings\n",
    "warnings.filterwarnings(\"ignore\")"
   ]
  },
  {
   "cell_type": "code",
   "execution_count": 26,
   "metadata": {},
   "outputs": [],
   "source": [
    "import pandas as pd\n",
    "#necessario por causa do metodo de avaliaçao\n",
    "from sklearn.model_selection import KFold\n",
    "from sklearn.metrics import (\n",
    "        make_scorer,\n",
    "        confusion_matrix, \n",
    "        cohen_kappa_score, \n",
    "        accuracy_score, \n",
    "        precision_score, \n",
    "        recall_score, \n",
    "        f1_score, \n",
    "        roc_auc_score\n",
    ")\n",
    "from sklearn.model_selection import cross_validate, StratifiedKFold\n",
    "from sklearn.tree import DecisionTreeClassifier # decision trees for classification\n",
    "from sklearn.neural_network import  MLPClassifier # neural networks for classification\n",
    "from sklearn.naive_bayes import GaussianNB # naive bayes for classification\n",
    "from sklearn.svm import SVC # support vector machines for classification"
   ]
  },
  {
   "cell_type": "code",
   "execution_count": 27,
   "metadata": {},
   "outputs": [],
   "source": [
    "#metricas regressao\n",
    "from sklearn.metrics import mean_squared_error, mean_absolute_error, r2_score\n",
    "\n",
    "def custom_regression_metrics(y_true, y_pred):\n",
    "    mse = mean_squared_error(y_true, y_pred)\n",
    "    mae = mean_absolute_error(y_true, y_pred)\n",
    "    r2 = r2_score(y_true, y_pred)\n",
    "    \n",
    "    return mse, mae, r2"
   ]
  },
  {
   "cell_type": "code",
   "execution_count": 28,
   "metadata": {},
   "outputs": [],
   "source": [
    "#metricas classificação\n",
    "def specificity_score(y_true, y_pred):\n",
    "    tn, fp, fn, tp = confusion_matrix(y_true, y_pred).ravel()\n",
    "    return tn / (tn+fp)"
   ]
  },
  {
   "cell_type": "code",
   "execution_count": 29,
   "metadata": {},
   "outputs": [],
   "source": [
    "#Metricas regressao\n",
    "from sklearn.metrics import mean_squared_error, mean_absolute_error, r2_score\n",
    "\n",
    "REGRESSION_METRICS = {\n",
    "    \"MSE\": make_scorer(mean_squared_error),\n",
    "    \"MAE\": make_scorer(mean_absolute_error),\n",
    "    \"R2\": make_scorer(r2_score)\n",
    "}"
   ]
  },
  {
   "cell_type": "code",
   "execution_count": 30,
   "metadata": {},
   "outputs": [],
   "source": [
    "d = pd.read_csv(\"Cenario5.csv\")\n"
   ]
  },
  {
   "cell_type": "code",
   "execution_count": 31,
   "metadata": {},
   "outputs": [
    {
     "name": "stdout",
     "output_type": "stream",
     "text": [
      "Colunas em d:\n",
      "Index(['id_transmissao', 'id_body_type', 'id_modelos', 'id_categoria_marca',\n",
      "       'mileage', 'ano', 'id_city', 'id_insurance', 'seats', 'engine_capacity',\n",
      "       'id_fuel_type', 'kms_driven', 'max_power', 'id_owner_type',\n",
      "       'resale_price_Lakh'],\n",
      "      dtype='object')\n"
     ]
    }
   ],
   "source": [
    "print(\"Colunas em d:\")\n",
    "print(d.columns)\n",
    "\n",
    "\n"
   ]
  },
  {
   "cell_type": "code",
   "execution_count": 32,
   "metadata": {},
   "outputs": [],
   "source": [
    "X, y = d.drop(\"resale_price_Lakh\", axis=1), d[\"resale_price_Lakh\"]\n",
    "\n"
   ]
  },
  {
   "cell_type": "code",
   "execution_count": 33,
   "metadata": {},
   "outputs": [],
   "source": [
    "# Utilize KFold para um problema de regressão\n",
    "kf = KFold(n_splits=10, shuffle=True, random_state=1234)"
   ]
  },
  {
   "cell_type": "code",
   "execution_count": 34,
   "metadata": {},
   "outputs": [
    {
     "name": "stdout",
     "output_type": "stream",
     "text": [
      "       id_transmissao  id_body_type  id_modelos  id_categoria_marca   mileage  \\\n",
      "0            0.130634      0.363138    0.406643            0.269535  23.84000   \n",
      "1            0.130634      0.600263    0.406643            0.269535  17.50000   \n",
      "2            0.130634      0.577680    0.406643            0.269535  17.40000   \n",
      "3            0.585160      0.600263    1.770756            0.269535  14.08000   \n",
      "4            0.585160      0.363138    0.406643            0.514641  21.40000   \n",
      "...               ...           ...         ...                 ...       ...   \n",
      "13503        0.585160      1.350274    1.391019            0.984773  19.49405   \n",
      "13504        0.130634      0.363138    0.406643            0.269535  19.49405   \n",
      "13505        0.130634      0.577680    0.406643            0.984773  19.49405   \n",
      "13506        0.130634      0.600263    0.406643            0.514641  19.49405   \n",
      "13507        0.130634      0.577680    0.387552            0.269535  19.49405   \n",
      "\n",
      "          ano   id_city  id_insurance  seats  engine_capacity  id_fuel_type  \\\n",
      "0      2019.0  1.095161      0.256167    5.0           1199.0      0.180811   \n",
      "1      2018.0  1.280558      1.309078    5.0           1199.0      0.180811   \n",
      "2      2015.0  0.923765      0.256167    5.0           1497.0      0.180811   \n",
      "3      2021.0  0.923765      0.256167    7.0           1956.0      0.514536   \n",
      "4      2019.0  1.170596      1.309078    5.0           1197.0      0.180811   \n",
      "...       ...       ...           ...    ...              ...           ...   \n",
      "13503  2021.0  1.027129      0.256167    7.0           2199.0      0.514536   \n",
      "13504  2017.0  1.222106      0.256167    5.0           1197.0      0.180811   \n",
      "13505  2017.0  1.027129      0.446914    5.0           1498.0      0.514536   \n",
      "13506  2017.0  0.868615      0.446914    5.0           1248.0      0.514536   \n",
      "13507  2015.0  0.868615      0.446914    5.0           1198.0      0.180811   \n",
      "\n",
      "       kms_driven  max_power  id_owner_type  \n",
      "0         30910.0       83.8       0.151316  \n",
      "1         48089.0       88.7       1.355345  \n",
      "2         51000.0      117.3       0.619644  \n",
      "3         30000.0      167.6       0.151316  \n",
      "4         61113.0       83.1       0.151316  \n",
      "...           ...        ...            ...  \n",
      "13503     80000.0      197.2       0.619644  \n",
      "13504     17923.0       81.8       0.151316  \n",
      "13505     63389.0      108.6       0.619644  \n",
      "13506     40000.0       88.5       0.619644  \n",
      "13507     33046.0       86.7       0.151316  \n",
      "\n",
      "[13508 rows x 14 columns]\n",
      "Data type by column:\n",
      "id_transmissao        float64\n",
      "id_body_type          float64\n",
      "id_modelos            float64\n",
      "id_categoria_marca    float64\n",
      "mileage               float64\n",
      "ano                   float64\n",
      "id_city               float64\n",
      "id_insurance          float64\n",
      "seats                 float64\n",
      "engine_capacity       float64\n",
      "id_fuel_type          float64\n",
      "kms_driven            float64\n",
      "max_power             float64\n",
      "id_owner_type         float64\n",
      "dtype: object\n"
     ]
    }
   ],
   "source": [
    "print(X)\n",
    "# Check data types\n",
    "data_types = X.dtypes\n",
    "print(\"Data type by column:\")\n",
    "print(data_types)"
   ]
  },
  {
   "cell_type": "code",
   "execution_count": 35,
   "metadata": {},
   "outputs": [],
   "source": [
    "from sklearn.tree import DecisionTreeRegressor\n",
    "import pandas as pd\n",
    "\n",
    "# Carregar o conjunto de teste a partir de um arquivo CSV\n",
    "df_test = pd.read_csv(\"TestCenario5.csv\") \n",
    "\n",
    "# Criar um novo DataFrame apenas com a coluna 'ID'\n",
    "id_column = df_test[['ID']].copy()\n",
    "\n",
    "# Remover a coluna 'ID' do DataFrame original\n",
    "df_test.drop('ID', axis=1, inplace=True)\n"
   ]
  },
  {
   "cell_type": "code",
   "execution_count": 36,
   "metadata": {},
   "outputs": [
    {
     "name": "stdout",
     "output_type": "stream",
     "text": [
      "      id_transmissao  id_body_type  id_modelos  id_categoria_marca    mileage  \\\n",
      "0           0.130634      0.363138    0.387552            0.269535  18.900000   \n",
      "1           0.585160      0.363138    0.406643            0.514641  21.210000   \n",
      "2           0.130634      0.363138    0.387552            0.514641  18.200000   \n",
      "3           0.130634      0.363138    0.387552            0.514641  19.700000   \n",
      "4           0.130634      0.363138    0.406643            0.269535  17.190000   \n",
      "...              ...           ...         ...                 ...        ...   \n",
      "3485        0.585160      0.577680    1.037169            0.269535  19.520446   \n",
      "3486        0.130634      0.363138    0.387552            0.269535  19.520446   \n",
      "3487        0.130634      0.577680    0.406643            0.269535  19.520446   \n",
      "3488        0.130634      0.363138    0.406643            0.269535  19.520446   \n",
      "3489        0.130634      0.363138    0.387552            0.514641  19.520446   \n",
      "\n",
      "         ano   id_city  id_insurance  seats  engine_capacity  id_fuel_type  \\\n",
      "0     2017.0  0.923765      0.446914    5.0       1197.00000      0.180811   \n",
      "1     2020.0  1.280558      1.414588    5.0       1197.00000      0.180811   \n",
      "2     2010.0  1.594033      0.256167    5.0        998.00000      0.180811   \n",
      "3     2010.0  0.768863      0.256167    5.0        796.00000      0.180811   \n",
      "4     2018.0  0.768863      0.446914    5.0       1197.00000      0.180811   \n",
      "...      ...       ...           ...    ...              ...           ...   \n",
      "3485  2022.0  1.095161      0.256167    5.0       1422.99627      2.458493   \n",
      "3486  2017.0  0.868615      0.256167    5.0        999.00000      0.180811   \n",
      "3487  2017.0  0.768863      0.446914    5.0       1497.00000      0.180811   \n",
      "3488  2016.0  0.923765      0.446914    5.0       1199.00000      0.180811   \n",
      "3489  2017.0  0.768863      0.446914    5.0       1197.00000      0.180811   \n",
      "\n",
      "      kms_driven  max_power  id_owner_type  \n",
      "0        53658.0       81.8       0.151316  \n",
      "1        33055.0       81.8       0.619644  \n",
      "2        90385.0       67.1       1.355345  \n",
      "3       110000.0       46.3       0.151316  \n",
      "4        58000.0       81.8       0.619644  \n",
      "...          ...        ...            ...  \n",
      "3485     30000.0       73.7       0.151316  \n",
      "3486     64024.0       67.0       0.151316  \n",
      "3487     39000.0      117.3       0.151316  \n",
      "3488     33000.0       88.7       0.151316  \n",
      "3489     14097.0       88.5       0.619644  \n",
      "\n",
      "[3490 rows x 14 columns]\n",
      "Data type by column:\n",
      "id_transmissao        float64\n",
      "id_body_type          float64\n",
      "id_modelos            float64\n",
      "id_categoria_marca    float64\n",
      "mileage               float64\n",
      "ano                   float64\n",
      "id_city               float64\n",
      "id_insurance          float64\n",
      "seats                 float64\n",
      "engine_capacity       float64\n",
      "id_fuel_type          float64\n",
      "kms_driven            float64\n",
      "max_power             float64\n",
      "id_owner_type         float64\n",
      "dtype: object\n"
     ]
    }
   ],
   "source": [
    "\n",
    "print(df_test)\n",
    "# Check data types\n",
    "data_types = df_test.dtypes\n",
    "print(\"Data type by column:\")\n",
    "print(data_types)"
   ]
  },
  {
   "cell_type": "code",
   "execution_count": 37,
   "metadata": {},
   "outputs": [
    {
     "name": "stdout",
     "output_type": "stream",
     "text": [
      "id_transmissao        0\n",
      "id_body_type          0\n",
      "id_modelos            0\n",
      "id_categoria_marca    0\n",
      "mileage               0\n",
      "ano                   0\n",
      "id_city               0\n",
      "id_insurance          0\n",
      "seats                 0\n",
      "engine_capacity       0\n",
      "id_fuel_type          0\n",
      "kms_driven            0\n",
      "max_power             0\n",
      "id_owner_type         0\n",
      "dtype: int64\n"
     ]
    }
   ],
   "source": [
    "# Contar a quantidade de NaN em cada coluna do DataFrame X\n",
    "nan_count = X.isna().sum()\n",
    "\n",
    "# Exibir a contagem de NaN por coluna\n",
    "print(nan_count)"
   ]
  },
  {
   "cell_type": "code",
   "execution_count": 38,
   "metadata": {},
   "outputs": [
    {
     "name": "stdout",
     "output_type": "stream",
     "text": [
      "id_transmissao        0\n",
      "id_body_type          0\n",
      "id_modelos            0\n",
      "id_categoria_marca    0\n",
      "mileage               0\n",
      "ano                   0\n",
      "id_city               0\n",
      "id_insurance          0\n",
      "seats                 0\n",
      "engine_capacity       0\n",
      "id_fuel_type          0\n",
      "kms_driven            0\n",
      "max_power             0\n",
      "id_owner_type         0\n",
      "dtype: int64\n"
     ]
    }
   ],
   "source": [
    "# Contar a quantidade de NaN em cada coluna do DataFrame X\n",
    "nan_count = df_test.isna().sum()\n",
    "\n",
    "# Exibir a contagem de NaN por coluna\n",
    "print(nan_count)"
   ]
  },
  {
   "cell_type": "code",
   "execution_count": 39,
   "metadata": {},
   "outputs": [
    {
     "name": "stdout",
     "output_type": "stream",
     "text": [
      "float64\n"
     ]
    }
   ],
   "source": [
    "# Check data types\n",
    "print(y.dtypes)"
   ]
  },
  {
   "cell_type": "code",
   "execution_count": 40,
   "metadata": {},
   "outputs": [
    {
     "name": "stdout",
     "output_type": "stream",
     "text": [
      "id_transmissao        float64\n",
      "id_body_type          float64\n",
      "id_modelos            float64\n",
      "id_categoria_marca    float64\n",
      "mileage               float64\n",
      "ano                   float64\n",
      "id_city               float64\n",
      "id_insurance          float64\n",
      "seats                 float64\n",
      "engine_capacity       float64\n",
      "id_fuel_type          float64\n",
      "kms_driven            float64\n",
      "max_power             float64\n",
      "id_owner_type         float64\n",
      "dtype: object\n"
     ]
    }
   ],
   "source": [
    "# Check data types\n",
    "print(X.dtypes)"
   ]
  },
  {
   "cell_type": "code",
   "execution_count": 41,
   "metadata": {},
   "outputs": [
    {
     "name": "stdout",
     "output_type": "stream",
     "text": [
      "id_transmissao        float64\n",
      "id_body_type          float64\n",
      "id_modelos            float64\n",
      "id_categoria_marca    float64\n",
      "mileage               float64\n",
      "ano                   float64\n",
      "id_city               float64\n",
      "id_insurance          float64\n",
      "seats                 float64\n",
      "engine_capacity       float64\n",
      "id_fuel_type          float64\n",
      "kms_driven            float64\n",
      "max_power             float64\n",
      "id_owner_type         float64\n",
      "dtype: object\n"
     ]
    }
   ],
   "source": [
    "# Check data types\n",
    "print(df_test.dtypes)"
   ]
  },
  {
   "cell_type": "code",
   "execution_count": 42,
   "metadata": {},
   "outputs": [],
   "source": [
    "#from sklearn import tree\n",
    "#clf = tree.DecisionTreeRegressor()\n",
    "#clf = clf.fit(X, y)\n",
    "#predictions=clf.predict(df_test)\n",
    "\n"
   ]
  },
  {
   "cell_type": "code",
   "execution_count": 43,
   "metadata": {},
   "outputs": [],
   "source": [
    "#from sklearn.neural_network import MLPRegressor\n",
    "\n",
    " \n",
    "#clf= MLPRegressor(random_state=1, max_iter=500)\n",
    "\n",
    "#clf=clf.fit(X, y)\n",
    "#predictions=clf.predict(df_test)"
   ]
  },
  {
   "cell_type": "code",
   "execution_count": 44,
   "metadata": {},
   "outputs": [],
   "source": [
    "from sklearn.model_selection import train_test_split, GridSearchCV\n",
    "from sklearn.tree import DecisionTreeRegressor\n",
    "\n",
    "#Dividir os dados em conjunto de treinamento e teste\n",
    "X_train, X_test, y_train, y_test = train_test_split(X, y, test_size=0.2, random_state=42)\n",
    "\n",
    "# Definir o modelo inicial\n",
    "clf = DecisionTreeRegressor(max_depth=10)\n",
    "\n",
    "# Ajustar o modelo inicial nos dados de treinamento\n",
    "clf.fit(X_train, y_train)\n",
    "\n",
    "# Prever com o modelo inicial\n",
    "predictions = clf.predict(df_test)\n",
    "\n",
    "# Definir o grid de hiperparâmetros\n",
    "param_grid = {\n",
    "    'max_depth': [5, 7, 10],\n",
    "   'min_samples_split': [2, 5, 10],\n",
    "    'min_samples_leaf': [1, 2, 4]\n",
    "}\n",
    "\n",
    "# Realizar a busca dos melhores hiperparâmetros\n",
    "grid_search = GridSearchCV(DecisionTreeRegressor(), param_grid, cv=5, scoring='neg_mean_squared_error')\n",
    "grid_search.fit(X_train, y_train)\n",
    "\n",
    "# Obter os melhores parâmetros e o melhor estimador\n",
    "best_params = grid_search.best_params_\n",
    "best_estimator = grid_search.best_estimator_\n",
    "\n",
    "# Usar o melhor estimador para fazer previsões nos dados de teste\n",
    "best_predictions = best_estimator.predict(df_test)\n"
   ]
  },
  {
   "cell_type": "code",
   "execution_count": 45,
   "metadata": {},
   "outputs": [
    {
     "name": "stdout",
     "output_type": "stream",
     "text": [
      "3490\n"
     ]
    }
   ],
   "source": [
    "\n",
    "print(len(best_predictions))  # Check the length of predictions\n"
   ]
  },
  {
   "cell_type": "code",
   "execution_count": 46,
   "metadata": {},
   "outputs": [],
   "source": [
    "id_series = id_column.squeeze()\n",
    "df_predictions = pd.DataFrame({\"ID\": id_series, \"prediction\": best_predictions})"
   ]
  },
  {
   "cell_type": "code",
   "execution_count": 47,
   "metadata": {},
   "outputs": [
    {
     "name": "stdout",
     "output_type": "stream",
     "text": [
      "        ID  prediction\n",
      "0        0    4.928683\n",
      "1        1    6.687419\n",
      "2        2    1.653704\n",
      "3        3    1.625135\n",
      "4        4    6.187318\n",
      "...    ...         ...\n",
      "3485  3485   12.301667\n",
      "3486  3486    3.445055\n",
      "3487  3487    7.082333\n",
      "3488  3488    5.737278\n",
      "3489  3489    4.928683\n",
      "\n",
      "[3490 rows x 2 columns]\n"
     ]
    }
   ],
   "source": [
    "print(df_predictions)"
   ]
  },
  {
   "cell_type": "code",
   "execution_count": 48,
   "metadata": {},
   "outputs": [],
   "source": [
    "# Exporte o DataFrame para um arquivo CSV\n",
    "df_predictions.to_csv('PredictsCenario5.csv', index=False)"
   ]
  }
 ],
 "metadata": {
  "kernelspec": {
   "display_name": "Python 3",
   "language": "python",
   "name": "python3"
  },
  "language_info": {
   "codemirror_mode": {
    "name": "ipython",
    "version": 3
   },
   "file_extension": ".py",
   "mimetype": "text/x-python",
   "name": "python",
   "nbconvert_exporter": "python",
   "pygments_lexer": "ipython3",
   "version": "3.12.1"
  }
 },
 "nbformat": 4,
 "nbformat_minor": 2
}
