{
 "cells": [
  {
   "cell_type": "code",
   "execution_count": 2,
   "metadata": {},
   "outputs": [],
   "source": [
    "import matplotlib.pyplot as plt\n",
    "import pandas as pd\n",
    "import seaborn as sns\n",
    "import numpy as np\n",
    "import re"
   ]
  },
  {
   "cell_type": "code",
   "execution_count": 3,
   "metadata": {},
   "outputs": [],
   "source": [
    "df = pd.read_csv('train.csv')"
   ]
  },
  {
   "cell_type": "code",
   "execution_count": 4,
   "metadata": {},
   "outputs": [
    {
     "name": "stdout",
     "output_type": "stream",
     "text": [
      "0        1.0\n",
      "1        3.0\n",
      "2        2.0\n",
      "3        1.0\n",
      "4        1.0\n",
      "        ... \n",
      "13951    2.0\n",
      "13952    1.0\n",
      "13953    2.0\n",
      "13954    2.0\n",
      "13955    1.0\n",
      "Name: owner_type, Length: 13956, dtype: float64\n"
     ]
    }
   ],
   "source": [
    "#passar 'owner_type' para numero e converter em float\n",
    "df['owner_type'] = df['owner_type'].replace({\n",
    "    'First Owner': '1',\n",
    "    'Second Owner': '2',\n",
    "    'Third Owner': '3',\n",
    "    'Fourth Owner': '4',\n",
    "    'Fifth Owner': '5'\n",
    "}).astype(float)\n",
    "print(df['owner_type'])"
   ]
  },
  {
   "cell_type": "code",
   "execution_count": 6,
   "metadata": {},
   "outputs": [],
   "source": [
    "# Change the data types of multiple columns\n",
    "df = df.astype({\n",
    "    \n",
    "    'owner_type': float,\n",
    "    \n",
    "})"
   ]
  },
  {
   "cell_type": "code",
   "execution_count": 7,
   "metadata": {},
   "outputs": [
    {
     "name": "stdout",
     "output_type": "stream",
     "text": [
      "Data type by column:\n",
      "full_name             object\n",
      "registered_year       object\n",
      "engine_capacity       object\n",
      "insurance             object\n",
      "transmission_type     object\n",
      "kms_driven            object\n",
      "owner_type           float64\n",
      "fuel_type             object\n",
      "max_power             object\n",
      "seats                float64\n",
      "mileage               object\n",
      "body_type             object\n",
      "city                  object\n",
      "resale_price_Lakh    float64\n",
      "dtype: object\n"
     ]
    }
   ],
   "source": [
    "# Check data types\n",
    "data_types = df.dtypes\n",
    "print(\"Data type by column:\")\n",
    "print(data_types)"
   ]
  },
  {
   "cell_type": "code",
   "execution_count": 8,
   "metadata": {},
   "outputs": [
    {
     "name": "stdout",
     "output_type": "stream",
     "text": [
      "[1. 3. 2. 5. 4.]\n"
     ]
    }
   ],
   "source": [
    "\n",
    "# Removendo espaços em branco na coluna 'owner_type'\n",
    "df.dropna(subset=['owner_type'], inplace=True)\n",
    "\n",
    "# Verificando os valores únicos após a remoção dos espaços em branco\n",
    "unique_values = df['owner_type'].unique()\n",
    "print(unique_values)"
   ]
  },
  {
   "cell_type": "code",
   "execution_count": 9,
   "metadata": {},
   "outputs": [
    {
     "name": "stdout",
     "output_type": "stream",
     "text": [
      "owner_type\n",
      "1.0    9.613698\n",
      "2.0    7.377456\n",
      "3.0    5.181408\n",
      "4.0    3.809587\n",
      "5.0    2.329250\n",
      "Name: resale_price_Lakh, dtype: float64\n"
     ]
    }
   ],
   "source": [
    "# Calculando a média dos valores da coluna 'resale' para cada número na coluna 'owner_type'\n",
    "resale_means = df.groupby('owner_type')['resale_price_Lakh'].mean()\n",
    "\n",
    "print(resale_means)"
   ]
  },
  {
   "cell_type": "code",
   "execution_count": 10,
   "metadata": {},
   "outputs": [
    {
     "name": "stdout",
     "output_type": "stream",
     "text": [
      "owner_type\n",
      "1.0    9779\n",
      "2.0    3366\n",
      "3.0     626\n",
      "4.0     109\n",
      "5.0      40\n",
      "Name: count, dtype: int64\n"
     ]
    }
   ],
   "source": [
    "# Verificando a frequência de cada número na coluna 'owner_type'\n",
    "frequency = df['owner_type'].value_counts()\n",
    "print(frequency)\n"
   ]
  },
  {
   "cell_type": "code",
   "execution_count": null,
   "metadata": {},
   "outputs": [],
   "source": [
    " "
   ]
  }
 ],
 "metadata": {
  "kernelspec": {
   "display_name": "Python 3",
   "language": "python",
   "name": "python3"
  },
  "language_info": {
   "codemirror_mode": {
    "name": "ipython",
    "version": 3
   },
   "file_extension": ".py",
   "mimetype": "text/x-python",
   "name": "python",
   "nbconvert_exporter": "python",
   "pygments_lexer": "ipython3",
   "version": "3.12.0"
  }
 },
 "nbformat": 4,
 "nbformat_minor": 2
}
