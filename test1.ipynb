{
 "cells": [
  {
   "cell_type": "code",
   "execution_count": 21,
   "metadata": {},
   "outputs": [
    {
     "name": "stdout",
     "output_type": "stream",
     "text": [
      "0          0\n",
      "1          1\n",
      "2          2\n",
      "3          3\n",
      "4          4\n",
      "        ... \n",
      "3485    3485\n",
      "3486    3486\n",
      "3487    3487\n",
      "3488    3488\n",
      "3489    3489\n",
      "Name: ID, Length: 3490, dtype: int64\n"
     ]
    }
   ],
   "source": [
    "import pandas as pd\n",
    "\n",
    "# Ler o arquivo CSV de teste para um DataFrame\n",
    "test = pd.read_csv('test.csv')  # Certifique-se de fornecer o caminho correto do seu arquivo\n",
    "d = pd.read_csv(\"Xcenario2.csv\")\n",
    "\n",
    "# Supondo que 'X' seja o DataFrame de características\n",
    "id_column = test['ID']  # Supondo que 'Id' seja o nome da coluna que você deseja adicionar\n",
    "\n",
    "print(id_column)\n"
   ]
  },
  {
   "cell_type": "code",
   "execution_count": 22,
   "metadata": {},
   "outputs": [
    {
     "name": "stdout",
     "output_type": "stream",
     "text": [
      "       id_body_type  id_modelos  id_categoria_marca     ano   id_city  \\\n",
      "0          0.364112    3.086522            0.073531  2019.0  1.096102   \n",
      "1          0.598869    2.403638            0.073531  2018.0  1.281577   \n",
      "2          0.578053    2.583846            0.073531  2015.0  0.922710   \n",
      "3          0.598869    3.650793            0.073531  2021.0  0.922710   \n",
      "4          0.364112    2.747703            0.073531  2019.0  1.170307   \n",
      "...             ...         ...                 ...     ...       ...   \n",
      "13420      1.347597    3.650793            0.903640  2021.0  1.027199   \n",
      "13421      0.364112    2.951823            0.073531  2017.0  1.223199   \n",
      "13422      0.578053    3.282816            0.903640  2017.0  1.027199   \n",
      "13423      0.598869    2.747703            0.073531  2017.0  0.868320   \n",
      "13424      0.578053    2.428944            0.073531  2015.0  0.868320   \n",
      "\n",
      "       id_insurance  seats  id_engine_capacity_group  id_fuel_type  \\\n",
      "0          0.256633    5.0                  0.126137      0.180334   \n",
      "1          1.306401    5.0                  0.126137      0.180334   \n",
      "2          0.256633    5.0                  0.126137      0.180334   \n",
      "3          0.256633    7.0                  0.126137      0.514919   \n",
      "4          1.306401    5.0                  0.126137      0.180334   \n",
      "...             ...    ...                       ...           ...   \n",
      "13420      0.256633    7.0                  1.105074      0.514919   \n",
      "13421      0.256633    5.0                  0.126137      0.180334   \n",
      "13422      0.445408    5.0                  0.126137      0.514919   \n",
      "13423      0.445408    5.0                  0.126137      0.514919   \n",
      "13424      0.445408    5.0                  0.126137      0.180334   \n",
      "\n",
      "       id_kms_group  id_max_power_group  id_owner_type  \n",
      "0          0.364786            0.206644       0.150465  \n",
      "1          0.364786            0.206644       1.365236  \n",
      "2          0.255059            0.446040       0.620328  \n",
      "3          0.364786            0.446040       0.150465  \n",
      "4          0.255059            0.206644       0.150465  \n",
      "...             ...                 ...            ...  \n",
      "13420      0.255059            0.446040       0.620328  \n",
      "13421      0.364786            0.206644       0.150465  \n",
      "13422      0.255059            0.446040       0.620328  \n",
      "13423      0.364786            0.206644       0.620328  \n",
      "13424      0.364786            0.206644       0.150465  \n",
      "\n",
      "[13425 rows x 12 columns]\n",
      "0         5.66\n",
      "1         6.64\n",
      "2         5.65\n",
      "3        23.00\n",
      "4         6.87\n",
      "         ...  \n",
      "13420    26.50\n",
      "13421     5.87\n",
      "13422     7.43\n",
      "13423     9.45\n",
      "13424     4.55\n",
      "Name: resale_price_Lakh, Length: 13425, dtype: float64\n"
     ]
    }
   ],
   "source": [
    "X, y = d.drop(\"resale_price_Lakh\", axis=1), d[\"resale_price_Lakh\"]\n",
    "print(X)\n",
    "print(y)"
   ]
  },
  {
   "cell_type": "code",
   "execution_count": 23,
   "metadata": {},
   "outputs": [],
   "source": [
    "# Adicionando a coluna 'ID' ao DataFrame 'X'\n",
    "X['ID'] = id_column"
   ]
  },
  {
   "cell_type": "code",
   "execution_count": 24,
   "metadata": {},
   "outputs": [],
   "source": [
    "# Exportar o DataFrame 'X' para um arquivo CSV chamado 'test1.csv'\n",
    "X.to_csv('test1.csv', index=False)  # Certifique-se de fornecer o caminho correto para salvar o arquivo\n",
    "pa = pd.read_csv(\"test1.csv\")\n"
   ]
  },
  {
   "cell_type": "code",
   "execution_count": 25,
   "metadata": {},
   "outputs": [
    {
     "data": {
      "text/plain": [
       "array([ 5.41675133,  5.41675133, 10.97865052, ..., 13.85769071,\n",
       "        5.41675133,  5.41675133])"
      ]
     },
     "execution_count": 25,
     "metadata": {},
     "output_type": "execute_result"
    }
   ],
   "source": [
    "from sklearn import tree\n",
    "clf = tree.DecisionTreeRegressor()\n",
    "clf = clf.fit(X, y)\n",
    "clf.predict(pa)\n"
   ]
  },
  {
   "cell_type": "code",
   "execution_count": 26,
   "metadata": {},
   "outputs": [
    {
     "name": "stdout",
     "output_type": "stream",
     "text": [
      "       id_body_type  id_modelos  id_categoria_marca     ano   id_city  \\\n",
      "0          0.364112    3.086522            0.073531  2019.0  1.096102   \n",
      "1          0.598869    2.403638            0.073531  2018.0  1.281577   \n",
      "2          0.578053    2.583846            0.073531  2015.0  0.922710   \n",
      "3          0.598869    3.650793            0.073531  2021.0  0.922710   \n",
      "4          0.364112    2.747703            0.073531  2019.0  1.170307   \n",
      "...             ...         ...                 ...     ...       ...   \n",
      "13420      1.347597    3.650793            0.903640  2021.0  1.027199   \n",
      "13421      0.364112    2.951823            0.073531  2017.0  1.223199   \n",
      "13422      0.578053    3.282816            0.903640  2017.0  1.027199   \n",
      "13423      0.598869    2.747703            0.073531  2017.0  0.868320   \n",
      "13424      0.578053    2.428944            0.073531  2015.0  0.868320   \n",
      "\n",
      "       id_insurance  seats  id_engine_capacity_group  id_fuel_type  \\\n",
      "0          0.256633    5.0                  0.126137      0.180334   \n",
      "1          1.306401    5.0                  0.126137      0.180334   \n",
      "2          0.256633    5.0                  0.126137      0.180334   \n",
      "3          0.256633    7.0                  0.126137      0.514919   \n",
      "4          1.306401    5.0                  0.126137      0.180334   \n",
      "...             ...    ...                       ...           ...   \n",
      "13420      0.256633    7.0                  1.105074      0.514919   \n",
      "13421      0.256633    5.0                  0.126137      0.180334   \n",
      "13422      0.445408    5.0                  0.126137      0.514919   \n",
      "13423      0.445408    5.0                  0.126137      0.514919   \n",
      "13424      0.445408    5.0                  0.126137      0.180334   \n",
      "\n",
      "       id_kms_group  id_max_power_group  id_owner_type   ID  prediction  \n",
      "0          0.364786            0.206644       0.150465  0.0    5.818148  \n",
      "1          0.364786            0.206644       1.365236  1.0    8.612042  \n",
      "2          0.255059            0.446040       0.620328  2.0    5.818148  \n",
      "3          0.364786            0.446040       0.150465  3.0   12.308571  \n",
      "4          0.255059            0.206644       0.150465  4.0    5.818148  \n",
      "...             ...                 ...            ...  ...         ...  \n",
      "13420      0.255059            0.446040       0.620328  NaN    8.612042  \n",
      "13421      0.364786            0.206644       0.150465  NaN    5.818148  \n",
      "13422      0.255059            0.446040       0.620328  NaN    5.818148  \n",
      "13423      0.364786            0.206644       0.620328  NaN    8.612042  \n",
      "13424      0.364786            0.206644       0.150465  NaN    5.818148  \n",
      "\n",
      "[13425 rows x 14 columns]\n"
     ]
    }
   ],
   "source": [
    "from sklearn import tree\n",
    "\n",
    "# Treinamento do modelo\n",
    "clf = tree.DecisionTreeRegressor()\n",
    "clf = clf.fit(X, y)\n",
    "\n",
    "# Predição dos dados em 'pa'\n",
    "predicted_values = clf.predict(pa)\n",
    "\n",
    "# Adicionar a coluna 'prediction' ao DataFrame 'pa' com os valores previstos\n",
    "pa['prediction'] = predicted_values\n",
    "\n",
    "# Exibir o DataFrame 'pa' com a nova coluna adicionada\n",
    "print(pa)\n",
    "\n"
   ]
  },
  {
   "cell_type": "code",
   "execution_count": 27,
   "metadata": {},
   "outputs": [
    {
     "name": "stdout",
     "output_type": "stream",
     "text": [
      "        ID  prediction\n",
      "0      0.0    5.818148\n",
      "1      1.0    8.612042\n",
      "2      2.0    5.818148\n",
      "3      3.0   12.308571\n",
      "4      4.0    5.818148\n",
      "...    ...         ...\n",
      "13420  NaN    8.612042\n",
      "13421  NaN    5.818148\n",
      "13422  NaN    5.818148\n",
      "13423  NaN    8.612042\n",
      "13424  NaN    5.818148\n",
      "\n",
      "[13425 rows x 2 columns]\n"
     ]
    }
   ],
   "source": [
    "# Criando um novo DataFrame com as colunas 'ID' e 'prediction' do DataFrame 'pa'\n",
    "new_dataframe = pa[['ID', 'prediction']]\n",
    "\n",
    "# Exibindo o novo DataFrame\n",
    "print(new_dataframe)\n"
   ]
  },
  {
   "cell_type": "code",
   "execution_count": 28,
   "metadata": {},
   "outputs": [
    {
     "name": "stdout",
     "output_type": "stream",
     "text": [
      "          ID  prediction\n",
      "0        0.0    5.818148\n",
      "1        1.0    8.612042\n",
      "2        2.0    5.818148\n",
      "3        3.0   12.308571\n",
      "4        4.0    5.818148\n",
      "...      ...         ...\n",
      "3485  3485.0    5.818148\n",
      "3486  3486.0    5.818148\n",
      "3487  3487.0    5.818148\n",
      "3488  3488.0    5.818148\n",
      "3489  3489.0    5.818148\n",
      "\n",
      "[3490 rows x 2 columns]\n"
     ]
    }
   ],
   "source": [
    "new_dataframe = new_dataframe.dropna(subset=['ID'])\n",
    "print(new_dataframe)\n",
    "\n",
    "\n"
   ]
  },
  {
   "cell_type": "code",
   "execution_count": 29,
   "metadata": {},
   "outputs": [
    {
     "name": "stdout",
     "output_type": "stream",
     "text": [
      "ID            float64\n",
      "prediction    float64\n",
      "dtype: object\n"
     ]
    }
   ],
   "source": [
    "print(new_dataframe.dtypes)\n"
   ]
  },
  {
   "cell_type": "code",
   "execution_count": 30,
   "metadata": {},
   "outputs": [
    {
     "name": "stdout",
     "output_type": "stream",
     "text": [
      "ID              int32\n",
      "prediction    float64\n",
      "dtype: object\n"
     ]
    }
   ],
   "source": [
    "new_dataframe['ID'] = new_dataframe['ID'].astype(int)\n",
    "print(new_dataframe.dtypes)\n"
   ]
  },
  {
   "cell_type": "code",
   "execution_count": 20,
   "metadata": {},
   "outputs": [],
   "source": [
    "# Exportando o novo DataFrame para um arquivo CSV\n",
    "new_dataframe.to_csv('sample1.csv', index=False)\n"
   ]
  }
 ],
 "metadata": {
  "kernelspec": {
   "display_name": "Python 3",
   "language": "python",
   "name": "python3"
  },
  "language_info": {
   "codemirror_mode": {
    "name": "ipython",
    "version": 3
   },
   "file_extension": ".py",
   "mimetype": "text/x-python",
   "name": "python",
   "nbconvert_exporter": "python",
   "pygments_lexer": "ipython3",
   "version": "3.12.0"
  }
 },
 "nbformat": 4,
 "nbformat_minor": 2
}
