{
 "cells": [
  {
   "cell_type": "code",
   "execution_count": 22,
   "metadata": {},
   "outputs": [
    {
     "name": "stdout",
     "output_type": "stream",
     "text": [
      "0          0\n",
      "1          1\n",
      "2          2\n",
      "3          3\n",
      "4          4\n",
      "        ... \n",
      "3485    3485\n",
      "3486    3486\n",
      "3487    3487\n",
      "3488    3488\n",
      "3489    3489\n",
      "Name: ID, Length: 3490, dtype: int64\n"
     ]
    }
   ],
   "source": [
    "import pandas as pd\n",
    "\n",
    "# Ler o arquivo CSV de teste para um DataFrame\n",
    "test = pd.read_csv('test.csv')  # Certifique-se de fornecer o caminho correto do seu arquivo\n",
    "d = pd.read_csv(\"test_atualizado.csv\")\n",
    "dd = pd.read_csv(\"dados_completos.csv\")\n",
    "# Supondo que 'X' seja o DataFrame de características\n",
    "id_column = test['ID']  # Supondo que 'Id' seja o nome da coluna que você deseja adicionar\n",
    "\n",
    "print(id_column)\n"
   ]
  },
  {
   "cell_type": "code",
   "execution_count": 18,
   "metadata": {},
   "outputs": [],
   "source": [
    "import pandas as pd\n",
    "\n",
    "# Carregar os arquivos CSV\n",
    "df_test = pd.read_csv('test.csv')\n",
    "df_completos = pd.read_csv('dados_completos.csv')\n",
    "\n",
    "# Mapeamento de colunas para substituição\n",
    "mapeamento_colunas = {\n",
    "    'full_name': 'id_modelos',\n",
    "    'registered_year': 'ano',\n",
    "    'engine_capacity': 'id_engine_capacity_group',\n",
    "    'insurance': 'id_insurance',\n",
    "    'transmission_type': 'id_transmissao',\n",
    "    'kms_driven': 'id_kms_group',\n",
    "    'owner_type': 'id_owner_type',\n",
    "    'fuel_type': 'id_fuel_type',\n",
    "    'max_power': 'id_max_power_group',\n",
    "    'seats': 'seats',\n",
    "    'mileage': 'mileage',\n",
    "    'body_type': 'id_body_type',\n",
    "    'city': 'id_city'\n",
    "}\n",
    "\n",
    "# Substituir os dados das colunas no DataFrame de teste usando os DataFrame de dados completos\n",
    "for col_test, col_completos in mapeamento_colunas.items():\n",
    "    df_test[col_test] = df_completos[col_completos]\n",
    "\n",
    "# Salvar o DataFrame de teste atualizado em um novo arquivo CSV\n",
    "df_test.to_csv('test_atualizado.csv', index=False)\n"
   ]
  },
  {
   "cell_type": "code",
   "execution_count": 23,
   "metadata": {},
   "outputs": [
    {
     "name": "stdout",
     "output_type": "stream",
     "text": [
      "       id_modelos     ano  id_engine_capacity_group  id_insurance  \\\n",
      "0        3.086522  2019.0                  0.126137      0.256633   \n",
      "1        2.403638  2018.0                  0.126137      1.306401   \n",
      "2        2.583846  2015.0                  0.126137      0.256633   \n",
      "3        3.650793  2021.0                  0.126137      0.256633   \n",
      "4        2.747703  2019.0                  0.126137      1.306401   \n",
      "...           ...     ...                       ...           ...   \n",
      "13420    3.650793  2021.0                  1.105074      0.256633   \n",
      "13421    2.951823  2017.0                  0.126137      0.256633   \n",
      "13422    3.282816  2017.0                  0.126137      0.445408   \n",
      "13423    2.747703  2017.0                  0.126137      0.445408   \n",
      "13424    2.428944  2015.0                  0.126137      0.445408   \n",
      "\n",
      "       id_transmissao  id_kms_group  id_owner_type  id_fuel_type  \\\n",
      "0            0.131359      0.364786       0.150465      0.180334   \n",
      "1            0.131359      0.364786       1.365236      0.180334   \n",
      "2            0.131359      0.255059       0.620328      0.180334   \n",
      "3            0.583102      0.364786       0.150465      0.514919   \n",
      "4            0.583102      0.255059       0.150465      0.180334   \n",
      "...               ...           ...            ...           ...   \n",
      "13420        0.583102      0.255059       0.620328      0.514919   \n",
      "13421        0.131359      0.364786       0.150465      0.180334   \n",
      "13422        0.131359      0.255059       0.620328      0.514919   \n",
      "13423        0.131359      0.364786       0.620328      0.514919   \n",
      "13424        0.131359      0.364786       0.150465      0.180334   \n",
      "\n",
      "       id_max_power_group  mileage  id_body_type   id_city  \n",
      "0                0.206644    23.84      0.364112  1.096102  \n",
      "1                0.206644    17.50      0.598869  1.281577  \n",
      "2                0.446040    17.40      0.578053  0.922710  \n",
      "3                0.446040    14.08      0.598869  0.922710  \n",
      "4                0.206644    21.40      0.364112  1.170307  \n",
      "...                   ...      ...           ...       ...  \n",
      "13420            0.446040    14.11      1.347597  1.027199  \n",
      "13421            0.206644    18.60      0.364112  1.223199  \n",
      "13422            0.446040    21.13      0.578053  1.027199  \n",
      "13423            0.206644    24.30      0.598869  0.868320  \n",
      "13424            0.206644    18.00      0.578053  0.868320  \n",
      "\n",
      "[13425 rows x 12 columns]\n",
      "0         5.66\n",
      "1         6.64\n",
      "2         5.65\n",
      "3        23.00\n",
      "4         6.87\n",
      "         ...  \n",
      "13420    26.50\n",
      "13421     5.87\n",
      "13422     7.43\n",
      "13423     9.45\n",
      "13424     4.55\n",
      "Name: resale_price_Lakh, Length: 13425, dtype: float64\n"
     ]
    }
   ],
   "source": [
    "X, y = d.drop(\"resale_price_Lakh\", axis=1), d[\"resale_price_Lakh\"]\n",
    "print(X)\n",
    "print(y)"
   ]
  },
  {
   "cell_type": "code",
   "execution_count": 24,
   "metadata": {},
   "outputs": [
    {
     "name": "stdout",
     "output_type": "stream",
     "text": [
      "       id_modelos     ano  id_engine_capacity_group  id_insurance  \\\n",
      "0        3.086522  2019.0                  0.126137      0.256633   \n",
      "1        2.403638  2018.0                  0.126137      1.306401   \n",
      "2        2.583846  2015.0                  0.126137      0.256633   \n",
      "3        3.650793  2021.0                  0.126137      0.256633   \n",
      "4        2.747703  2019.0                  0.126137      1.306401   \n",
      "...           ...     ...                       ...           ...   \n",
      "13420    3.650793  2021.0                  1.105074      0.256633   \n",
      "13421    2.951823  2017.0                  0.126137      0.256633   \n",
      "13422    3.282816  2017.0                  0.126137      0.445408   \n",
      "13423    2.747703  2017.0                  0.126137      0.445408   \n",
      "13424    2.428944  2015.0                  0.126137      0.445408   \n",
      "\n",
      "       id_transmissao  id_kms_group  id_owner_type  id_fuel_type  \\\n",
      "0            0.131359      0.364786       0.150465      0.180334   \n",
      "1            0.131359      0.364786       1.365236      0.180334   \n",
      "2            0.131359      0.255059       0.620328      0.180334   \n",
      "3            0.583102      0.364786       0.150465      0.514919   \n",
      "4            0.583102      0.255059       0.150465      0.180334   \n",
      "...               ...           ...            ...           ...   \n",
      "13420        0.583102      0.255059       0.620328      0.514919   \n",
      "13421        0.131359      0.364786       0.150465      0.180334   \n",
      "13422        0.131359      0.255059       0.620328      0.514919   \n",
      "13423        0.131359      0.364786       0.620328      0.514919   \n",
      "13424        0.131359      0.364786       0.150465      0.180334   \n",
      "\n",
      "       id_max_power_group  mileage  id_body_type   id_city  \n",
      "0                0.206644    23.84      0.364112  1.096102  \n",
      "1                0.206644    17.50      0.598869  1.281577  \n",
      "2                0.446040    17.40      0.578053  0.922710  \n",
      "3                0.446040    14.08      0.598869  0.922710  \n",
      "4                0.206644    21.40      0.364112  1.170307  \n",
      "...                   ...      ...           ...       ...  \n",
      "13420            0.446040    14.11      1.347597  1.027199  \n",
      "13421            0.206644    18.60      0.364112  1.223199  \n",
      "13422            0.446040    21.13      0.578053  1.027199  \n",
      "13423            0.206644    24.30      0.598869  0.868320  \n",
      "13424            0.206644    18.00      0.578053  0.868320  \n",
      "\n",
      "[13425 rows x 12 columns]\n"
     ]
    }
   ],
   "source": [
    "print(X)"
   ]
  },
  {
   "cell_type": "code",
   "execution_count": 23,
   "metadata": {},
   "outputs": [],
   "source": [
    "# Adicionando a coluna 'ID' ao DataFrame 'X'\n",
    "X['ID'] = id_column"
   ]
  },
  {
   "cell_type": "code",
   "execution_count": 11,
   "metadata": {},
   "outputs": [],
   "source": [
    "# Exportar o DataFrame 'X' para um arquivo CSV chamado 'test1.csv'\n",
    "X.to_csv('test1.csv', index=False)  # Certifique-se de fornecer o caminho correto para salvar o arquivo\n",
    "pa = pd.read_csv(\"test1.csv\")\n"
   ]
  },
  {
   "cell_type": "code",
   "execution_count": 17,
   "metadata": {},
   "outputs": [
    {
     "data": {
      "text/plain": [
       "array([5.66, 6.64, 5.65, ..., 7.43, 9.45, 4.8 ])"
      ]
     },
     "execution_count": 17,
     "metadata": {},
     "output_type": "execute_result"
    }
   ],
   "source": [
    "from sklearn import tree\n",
    "clf = tree.DecisionTreeRegressor()\n",
    "clf = clf.fit(X, y)\n",
    "clf.predict(df_test)\n"
   ]
  },
  {
   "cell_type": "code",
   "execution_count": 21,
   "metadata": {},
   "outputs": [
    {
     "ename": "ValueError",
     "evalue": "The feature names should match those that were passed during fit.\nFeature names unseen at fit time:\n- ID\n- body_type\n- city\n- engine_capacity\n- fuel_type\n- ...\nFeature names seen at fit time, yet now missing:\n- ano\n- id_body_type\n- id_categoria_marca\n- id_city\n- id_engine_capacity_group\n- ...\n",
     "output_type": "error",
     "traceback": [
      "\u001b[1;31m---------------------------------------------------------------------------\u001b[0m",
      "\u001b[1;31mValueError\u001b[0m                                Traceback (most recent call last)",
      "\u001b[1;32mc:\\Users\\seari\\OneDrive\\Documentos\\GitHub\\AASE\\test1.ipynb Cell 7\u001b[0m line \u001b[0;36m8\n\u001b[0;32m      <a href='vscode-notebook-cell:/c%3A/Users/seari/OneDrive/Documentos/GitHub/AASE/test1.ipynb#W5sZmlsZQ%3D%3D?line=4'>5</a>\u001b[0m clf \u001b[39m=\u001b[39m clf\u001b[39m.\u001b[39mfit(X, y)\n\u001b[0;32m      <a href='vscode-notebook-cell:/c%3A/Users/seari/OneDrive/Documentos/GitHub/AASE/test1.ipynb#W5sZmlsZQ%3D%3D?line=6'>7</a>\u001b[0m \u001b[39m# Predição dos dados em 'pa'\u001b[39;00m\n\u001b[1;32m----> <a href='vscode-notebook-cell:/c%3A/Users/seari/OneDrive/Documentos/GitHub/AASE/test1.ipynb#W5sZmlsZQ%3D%3D?line=7'>8</a>\u001b[0m predicted_values \u001b[39m=\u001b[39m clf\u001b[39m.\u001b[39;49mpredict(df_test)\n\u001b[0;32m     <a href='vscode-notebook-cell:/c%3A/Users/seari/OneDrive/Documentos/GitHub/AASE/test1.ipynb#W5sZmlsZQ%3D%3D?line=9'>10</a>\u001b[0m \u001b[39m# Adicionar a coluna 'prediction' ao DataFrame 'pa' com os valores previstos\u001b[39;00m\n\u001b[0;32m     <a href='vscode-notebook-cell:/c%3A/Users/seari/OneDrive/Documentos/GitHub/AASE/test1.ipynb#W5sZmlsZQ%3D%3D?line=10'>11</a>\u001b[0m pa[\u001b[39m'\u001b[39m\u001b[39mprediction\u001b[39m\u001b[39m'\u001b[39m] \u001b[39m=\u001b[39m predicted_values\n",
      "File \u001b[1;32m~\\AppData\\Local\\Packages\\PythonSoftwareFoundation.Python.3.12_qbz5n2kfra8p0\\LocalCache\\local-packages\\Python312\\site-packages\\sklearn\\tree\\_classes.py:500\u001b[0m, in \u001b[0;36mBaseDecisionTree.predict\u001b[1;34m(self, X, check_input)\u001b[0m\n\u001b[0;32m    477\u001b[0m \u001b[39m\u001b[39m\u001b[39m\"\"\"Predict class or regression value for X.\u001b[39;00m\n\u001b[0;32m    478\u001b[0m \n\u001b[0;32m    479\u001b[0m \u001b[39mFor a classification model, the predicted class for each sample in X is\u001b[39;00m\n\u001b[1;32m   (...)\u001b[0m\n\u001b[0;32m    497\u001b[0m \u001b[39m    The predicted classes, or the predict values.\u001b[39;00m\n\u001b[0;32m    498\u001b[0m \u001b[39m\"\"\"\u001b[39;00m\n\u001b[0;32m    499\u001b[0m check_is_fitted(\u001b[39mself\u001b[39m)\n\u001b[1;32m--> 500\u001b[0m X \u001b[39m=\u001b[39m \u001b[39mself\u001b[39;49m\u001b[39m.\u001b[39;49m_validate_X_predict(X, check_input)\n\u001b[0;32m    501\u001b[0m proba \u001b[39m=\u001b[39m \u001b[39mself\u001b[39m\u001b[39m.\u001b[39mtree_\u001b[39m.\u001b[39mpredict(X)\n\u001b[0;32m    502\u001b[0m n_samples \u001b[39m=\u001b[39m X\u001b[39m.\u001b[39mshape[\u001b[39m0\u001b[39m]\n",
      "File \u001b[1;32m~\\AppData\\Local\\Packages\\PythonSoftwareFoundation.Python.3.12_qbz5n2kfra8p0\\LocalCache\\local-packages\\Python312\\site-packages\\sklearn\\tree\\_classes.py:460\u001b[0m, in \u001b[0;36mBaseDecisionTree._validate_X_predict\u001b[1;34m(self, X, check_input)\u001b[0m\n\u001b[0;32m    458\u001b[0m \u001b[39melse\u001b[39;00m:\n\u001b[0;32m    459\u001b[0m     force_all_finite \u001b[39m=\u001b[39m \u001b[39mTrue\u001b[39;00m\n\u001b[1;32m--> 460\u001b[0m X \u001b[39m=\u001b[39m \u001b[39mself\u001b[39;49m\u001b[39m.\u001b[39;49m_validate_data(\n\u001b[0;32m    461\u001b[0m     X,\n\u001b[0;32m    462\u001b[0m     dtype\u001b[39m=\u001b[39;49mDTYPE,\n\u001b[0;32m    463\u001b[0m     accept_sparse\u001b[39m=\u001b[39;49m\u001b[39m\"\u001b[39;49m\u001b[39mcsr\u001b[39;49m\u001b[39m\"\u001b[39;49m,\n\u001b[0;32m    464\u001b[0m     reset\u001b[39m=\u001b[39;49m\u001b[39mFalse\u001b[39;49;00m,\n\u001b[0;32m    465\u001b[0m     force_all_finite\u001b[39m=\u001b[39;49mforce_all_finite,\n\u001b[0;32m    466\u001b[0m )\n\u001b[0;32m    467\u001b[0m \u001b[39mif\u001b[39;00m issparse(X) \u001b[39mand\u001b[39;00m (\n\u001b[0;32m    468\u001b[0m     X\u001b[39m.\u001b[39mindices\u001b[39m.\u001b[39mdtype \u001b[39m!=\u001b[39m np\u001b[39m.\u001b[39mintc \u001b[39mor\u001b[39;00m X\u001b[39m.\u001b[39mindptr\u001b[39m.\u001b[39mdtype \u001b[39m!=\u001b[39m np\u001b[39m.\u001b[39mintc\n\u001b[0;32m    469\u001b[0m ):\n\u001b[0;32m    470\u001b[0m     \u001b[39mraise\u001b[39;00m \u001b[39mValueError\u001b[39;00m(\u001b[39m\"\u001b[39m\u001b[39mNo support for np.int64 index based sparse matrices\u001b[39m\u001b[39m\"\u001b[39m)\n",
      "File \u001b[1;32m~\\AppData\\Local\\Packages\\PythonSoftwareFoundation.Python.3.12_qbz5n2kfra8p0\\LocalCache\\local-packages\\Python312\\site-packages\\sklearn\\base.py:580\u001b[0m, in \u001b[0;36mBaseEstimator._validate_data\u001b[1;34m(self, X, y, reset, validate_separately, cast_to_ndarray, **check_params)\u001b[0m\n\u001b[0;32m    509\u001b[0m \u001b[39mdef\u001b[39;00m \u001b[39m_validate_data\u001b[39m(\n\u001b[0;32m    510\u001b[0m     \u001b[39mself\u001b[39m,\n\u001b[0;32m    511\u001b[0m     X\u001b[39m=\u001b[39m\u001b[39m\"\u001b[39m\u001b[39mno_validation\u001b[39m\u001b[39m\"\u001b[39m,\n\u001b[1;32m   (...)\u001b[0m\n\u001b[0;32m    516\u001b[0m     \u001b[39m*\u001b[39m\u001b[39m*\u001b[39mcheck_params,\n\u001b[0;32m    517\u001b[0m ):\n\u001b[0;32m    518\u001b[0m \u001b[39m    \u001b[39m\u001b[39m\"\"\"Validate input data and set or check the `n_features_in_` attribute.\u001b[39;00m\n\u001b[0;32m    519\u001b[0m \n\u001b[0;32m    520\u001b[0m \u001b[39m    Parameters\u001b[39;00m\n\u001b[1;32m   (...)\u001b[0m\n\u001b[0;32m    578\u001b[0m \u001b[39m        validated.\u001b[39;00m\n\u001b[0;32m    579\u001b[0m \u001b[39m    \"\"\"\u001b[39;00m\n\u001b[1;32m--> 580\u001b[0m     \u001b[39mself\u001b[39;49m\u001b[39m.\u001b[39;49m_check_feature_names(X, reset\u001b[39m=\u001b[39;49mreset)\n\u001b[0;32m    582\u001b[0m     \u001b[39mif\u001b[39;00m y \u001b[39mis\u001b[39;00m \u001b[39mNone\u001b[39;00m \u001b[39mand\u001b[39;00m \u001b[39mself\u001b[39m\u001b[39m.\u001b[39m_get_tags()[\u001b[39m\"\u001b[39m\u001b[39mrequires_y\u001b[39m\u001b[39m\"\u001b[39m]:\n\u001b[0;32m    583\u001b[0m         \u001b[39mraise\u001b[39;00m \u001b[39mValueError\u001b[39;00m(\n\u001b[0;32m    584\u001b[0m             \u001b[39mf\u001b[39m\u001b[39m\"\u001b[39m\u001b[39mThis \u001b[39m\u001b[39m{\u001b[39;00m\u001b[39mself\u001b[39m\u001b[39m.\u001b[39m\u001b[39m__class__\u001b[39m\u001b[39m.\u001b[39m\u001b[39m__name__\u001b[39m\u001b[39m}\u001b[39;00m\u001b[39m estimator \u001b[39m\u001b[39m\"\u001b[39m\n\u001b[0;32m    585\u001b[0m             \u001b[39m\"\u001b[39m\u001b[39mrequires y to be passed, but the target y is None.\u001b[39m\u001b[39m\"\u001b[39m\n\u001b[0;32m    586\u001b[0m         )\n",
      "File \u001b[1;32m~\\AppData\\Local\\Packages\\PythonSoftwareFoundation.Python.3.12_qbz5n2kfra8p0\\LocalCache\\local-packages\\Python312\\site-packages\\sklearn\\base.py:507\u001b[0m, in \u001b[0;36mBaseEstimator._check_feature_names\u001b[1;34m(self, X, reset)\u001b[0m\n\u001b[0;32m    502\u001b[0m \u001b[39mif\u001b[39;00m \u001b[39mnot\u001b[39;00m missing_names \u001b[39mand\u001b[39;00m \u001b[39mnot\u001b[39;00m unexpected_names:\n\u001b[0;32m    503\u001b[0m     message \u001b[39m+\u001b[39m\u001b[39m=\u001b[39m (\n\u001b[0;32m    504\u001b[0m         \u001b[39m\"\u001b[39m\u001b[39mFeature names must be in the same order as they were in fit.\u001b[39m\u001b[39m\\n\u001b[39;00m\u001b[39m\"\u001b[39m\n\u001b[0;32m    505\u001b[0m     )\n\u001b[1;32m--> 507\u001b[0m \u001b[39mraise\u001b[39;00m \u001b[39mValueError\u001b[39;00m(message)\n",
      "\u001b[1;31mValueError\u001b[0m: The feature names should match those that were passed during fit.\nFeature names unseen at fit time:\n- ID\n- body_type\n- city\n- engine_capacity\n- fuel_type\n- ...\nFeature names seen at fit time, yet now missing:\n- ano\n- id_body_type\n- id_categoria_marca\n- id_city\n- id_engine_capacity_group\n- ...\n"
     ]
    }
   ],
   "source": [
    "from sklearn import tree\n",
    "\n",
    "# Treinamento do modelo\n",
    "clf = tree.DecisionTreeRegressor()\n",
    "clf = clf.fit(X, y)\n",
    "\n",
    "# Predição dos dados em 'pa'\n",
    "predicted_values = clf.predict(df_test)\n",
    "\n",
    "# Adicionar a coluna 'prediction' ao DataFrame 'pa' com os valores previstos\n",
    "pa['prediction'] = predicted_values\n",
    "\n",
    "# Exibir o DataFrame 'pa' com a nova coluna adicionada\n",
    "print(pa)\n",
    "\n"
   ]
  },
  {
   "cell_type": "code",
   "execution_count": 27,
   "metadata": {},
   "outputs": [
    {
     "name": "stdout",
     "output_type": "stream",
     "text": [
      "        ID  prediction\n",
      "0      0.0    5.818148\n",
      "1      1.0    8.612042\n",
      "2      2.0    5.818148\n",
      "3      3.0   12.308571\n",
      "4      4.0    5.818148\n",
      "...    ...         ...\n",
      "13420  NaN    8.612042\n",
      "13421  NaN    5.818148\n",
      "13422  NaN    5.818148\n",
      "13423  NaN    8.612042\n",
      "13424  NaN    5.818148\n",
      "\n",
      "[13425 rows x 2 columns]\n"
     ]
    }
   ],
   "source": [
    "# Criando um novo DataFrame com as colunas 'ID' e 'prediction' do DataFrame 'pa'\n",
    "new_dataframe = pa[['ID', 'prediction']]\n",
    "\n",
    "# Exibindo o novo DataFrame\n",
    "print(new_dataframe)\n"
   ]
  },
  {
   "cell_type": "code",
   "execution_count": 28,
   "metadata": {},
   "outputs": [
    {
     "name": "stdout",
     "output_type": "stream",
     "text": [
      "          ID  prediction\n",
      "0        0.0    5.818148\n",
      "1        1.0    8.612042\n",
      "2        2.0    5.818148\n",
      "3        3.0   12.308571\n",
      "4        4.0    5.818148\n",
      "...      ...         ...\n",
      "3485  3485.0    5.818148\n",
      "3486  3486.0    5.818148\n",
      "3487  3487.0    5.818148\n",
      "3488  3488.0    5.818148\n",
      "3489  3489.0    5.818148\n",
      "\n",
      "[3490 rows x 2 columns]\n"
     ]
    }
   ],
   "source": [
    "new_dataframe = new_dataframe.dropna(subset=['ID'])\n",
    "print(new_dataframe)\n",
    "\n",
    "\n"
   ]
  },
  {
   "cell_type": "code",
   "execution_count": 29,
   "metadata": {},
   "outputs": [
    {
     "name": "stdout",
     "output_type": "stream",
     "text": [
      "ID            float64\n",
      "prediction    float64\n",
      "dtype: object\n"
     ]
    }
   ],
   "source": [
    "print(new_dataframe.dtypes)\n"
   ]
  },
  {
   "cell_type": "code",
   "execution_count": 30,
   "metadata": {},
   "outputs": [
    {
     "name": "stdout",
     "output_type": "stream",
     "text": [
      "ID              int32\n",
      "prediction    float64\n",
      "dtype: object\n"
     ]
    }
   ],
   "source": [
    "new_dataframe['ID'] = new_dataframe['ID'].astype(int)\n",
    "print(new_dataframe.dtypes)\n"
   ]
  },
  {
   "cell_type": "code",
   "execution_count": 20,
   "metadata": {},
   "outputs": [],
   "source": [
    "# Exportando o novo DataFrame para um arquivo CSV\n",
    "new_dataframe.to_csv('sample1.csv', index=False)\n"
   ]
  }
 ],
 "metadata": {
  "kernelspec": {
   "display_name": "Python 3",
   "language": "python",
   "name": "python3"
  },
  "language_info": {
   "codemirror_mode": {
    "name": "ipython",
    "version": 3
   },
   "file_extension": ".py",
   "mimetype": "text/x-python",
   "name": "python",
   "nbconvert_exporter": "python",
   "pygments_lexer": "ipython3",
   "version": "3.12.1"
  }
 },
 "nbformat": 4,
 "nbformat_minor": 2
}
