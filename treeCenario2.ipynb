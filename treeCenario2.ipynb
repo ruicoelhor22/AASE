{
 "cells": [
  {
   "cell_type": "code",
   "execution_count": 48,
   "metadata": {},
   "outputs": [],
   "source": [
    "import warnings\n",
    "warnings.filterwarnings(\"ignore\")"
   ]
  },
  {
   "cell_type": "code",
   "execution_count": 49,
   "metadata": {},
   "outputs": [],
   "source": [
    "import pandas as pd\n",
    "#necessario por causa do metodo de avaliaçao\n",
    "from sklearn.model_selection import KFold\n",
    "from sklearn.metrics import (\n",
    "        make_scorer,\n",
    "        confusion_matrix, \n",
    "        cohen_kappa_score, \n",
    "        accuracy_score, \n",
    "        precision_score, \n",
    "        recall_score, \n",
    "        f1_score, \n",
    "        roc_auc_score\n",
    ")\n",
    "from sklearn.model_selection import cross_validate, StratifiedKFold\n",
    "from sklearn.tree import DecisionTreeClassifier # decision trees for classification\n",
    "from sklearn.neural_network import  MLPClassifier # neural networks for classification\n",
    "from sklearn.naive_bayes import GaussianNB # naive bayes for classification\n",
    "from sklearn.svm import SVC # support vector machines for classification"
   ]
  },
  {
   "cell_type": "code",
   "execution_count": 50,
   "metadata": {},
   "outputs": [],
   "source": [
    "#metricas regressao\n",
    "from sklearn.metrics import mean_squared_error, mean_absolute_error, r2_score\n",
    "\n",
    "def custom_regression_metrics(y_true, y_pred):\n",
    "    mse = mean_squared_error(y_true, y_pred)\n",
    "    mae = mean_absolute_error(y_true, y_pred)\n",
    "    r2 = r2_score(y_true, y_pred)\n",
    "    \n",
    "    return mse, mae, r2"
   ]
  },
  {
   "cell_type": "code",
   "execution_count": 51,
   "metadata": {},
   "outputs": [],
   "source": [
    "#metricas classificação\n",
    "def specificity_score(y_true, y_pred):\n",
    "    tn, fp, fn, tp = confusion_matrix(y_true, y_pred).ravel()\n",
    "    return tn / (tn+fp)"
   ]
  },
  {
   "cell_type": "code",
   "execution_count": 52,
   "metadata": {},
   "outputs": [],
   "source": [
    "#Metricas regressao\n",
    "from sklearn.metrics import mean_squared_error, mean_absolute_error, r2_score\n",
    "\n",
    "REGRESSION_METRICS = {\n",
    "    \"MSE\": make_scorer(mean_squared_error),\n",
    "    \"MAE\": make_scorer(mean_absolute_error),\n",
    "    \"R2\": make_scorer(r2_score)\n",
    "}"
   ]
  },
  {
   "cell_type": "code",
   "execution_count": 53,
   "metadata": {},
   "outputs": [],
   "source": [
    "d = pd.read_csv(\"Xcenario2.csv\")\n"
   ]
  },
  {
   "cell_type": "code",
   "execution_count": 54,
   "metadata": {},
   "outputs": [
    {
     "name": "stdout",
     "output_type": "stream",
     "text": [
      "Colunas em d:\n",
      "Index(['id_body_type', 'id_categoria_marca', 'ano', 'id_city', 'id_insurance',\n",
      "       'seats', 'mileage', 'id_engine_capacity_group', 'id_fuel_type',\n",
      "       'id_kms_group', 'id_max_power_group', 'id_owner_type',\n",
      "       'resale_price_Lakh'],\n",
      "      dtype='object')\n"
     ]
    }
   ],
   "source": [
    "print(\"Colunas em d:\")\n",
    "print(d.columns)\n",
    "\n",
    "\n"
   ]
  },
  {
   "cell_type": "code",
   "execution_count": 55,
   "metadata": {},
   "outputs": [],
   "source": [
    "X, y = d.drop(\"resale_price_Lakh\", axis=1), d[\"resale_price_Lakh\"]\n",
    "\n"
   ]
  },
  {
   "cell_type": "code",
   "execution_count": 56,
   "metadata": {},
   "outputs": [],
   "source": [
    "# Utilize KFold para um problema de regressão\n",
    "kf = KFold(n_splits=10, shuffle=True, random_state=1234)"
   ]
  },
  {
   "cell_type": "code",
   "execution_count": 57,
   "metadata": {},
   "outputs": [
    {
     "name": "stdout",
     "output_type": "stream",
     "text": [
      "       id_body_type  id_categoria_marca     ano   id_city  id_insurance  \\\n",
      "0          0.364112            0.073531  2019.0  1.096102      0.256633   \n",
      "1          0.598869            0.073531  2018.0  1.281577      1.306401   \n",
      "2          0.578053            0.073531  2015.0  0.922710      0.256633   \n",
      "3          0.598869            0.073531  2021.0  0.922710      0.256633   \n",
      "4          0.364112            0.073531  2019.0  1.170307      1.306401   \n",
      "...             ...                 ...     ...       ...           ...   \n",
      "13420      1.347597            0.903640  2021.0  1.027199      0.256633   \n",
      "13421      0.364112            0.073531  2017.0  1.223199      0.256633   \n",
      "13422      0.578053            0.903640  2017.0  1.027199      0.445408   \n",
      "13423      0.598869            0.073531  2017.0  0.868320      0.445408   \n",
      "13424      0.578053            0.073531  2015.0  0.868320      0.445408   \n",
      "\n",
      "       seats  mileage  id_engine_capacity_group  id_fuel_type  id_kms_group  \\\n",
      "0        5.0    23.84                  0.126137      0.180334      0.364786   \n",
      "1        5.0    17.50                  0.126137      0.180334      0.364786   \n",
      "2        5.0    17.40                  0.126137      0.180334      0.255059   \n",
      "3        7.0    14.08                  0.126137      0.514919      0.364786   \n",
      "4        5.0    21.40                  0.126137      0.180334      0.255059   \n",
      "...      ...      ...                       ...           ...           ...   \n",
      "13420    7.0    14.11                  1.105074      0.514919      0.255059   \n",
      "13421    5.0    18.60                  0.126137      0.180334      0.364786   \n",
      "13422    5.0    21.13                  0.126137      0.514919      0.255059   \n",
      "13423    5.0    24.30                  0.126137      0.514919      0.364786   \n",
      "13424    5.0    18.00                  0.126137      0.180334      0.364786   \n",
      "\n",
      "       id_max_power_group  id_owner_type  \n",
      "0                0.206644       0.150465  \n",
      "1                0.206644       1.365236  \n",
      "2                0.446040       0.620328  \n",
      "3                0.446040       0.150465  \n",
      "4                0.206644       0.150465  \n",
      "...                   ...            ...  \n",
      "13420            0.446040       0.620328  \n",
      "13421            0.206644       0.150465  \n",
      "13422            0.446040       0.620328  \n",
      "13423            0.206644       0.620328  \n",
      "13424            0.206644       0.150465  \n",
      "\n",
      "[13425 rows x 12 columns]\n",
      "Data type by column:\n",
      "id_body_type                float64\n",
      "id_categoria_marca          float64\n",
      "ano                         float64\n",
      "id_city                     float64\n",
      "id_insurance                float64\n",
      "seats                       float64\n",
      "mileage                     float64\n",
      "id_engine_capacity_group    float64\n",
      "id_fuel_type                float64\n",
      "id_kms_group                float64\n",
      "id_max_power_group          float64\n",
      "id_owner_type               float64\n",
      "dtype: object\n"
     ]
    }
   ],
   "source": [
    "print(X)\n",
    "# Check data types\n",
    "data_types = X.dtypes\n",
    "print(\"Data type by column:\")\n",
    "print(data_types)"
   ]
  },
  {
   "cell_type": "code",
   "execution_count": 58,
   "metadata": {},
   "outputs": [],
   "source": [
    "from sklearn.tree import DecisionTreeRegressor\n",
    "import pandas as pd\n",
    "\n",
    "# Carregar o conjunto de teste a partir de um arquivo CSV\n",
    "df_test = pd.read_csv(\"testcenario2.csv\") \n",
    "\n",
    "# Criar um novo DataFrame apenas com a coluna 'ID'\n",
    "id_column = df_test[['ID']].copy()\n",
    "\n",
    "# Remover a coluna 'ID' do DataFrame original\n",
    "df_test.drop('ID', axis=1, inplace=True)\n"
   ]
  },
  {
   "cell_type": "code",
   "execution_count": 59,
   "metadata": {},
   "outputs": [
    {
     "name": "stdout",
     "output_type": "stream",
     "text": [
      "      body_type  id_categoria_marca     ano      city  insurance  seats  \\\n",
      "0      0.364112            0.073531  2017.0  0.922710   0.445408    5.0   \n",
      "1      0.364112            0.073531  2020.0  1.281577   1.418644    5.0   \n",
      "2      0.364112            0.073531  2010.0  1.593888   0.256633    5.0   \n",
      "3      0.364112            0.073531  2010.0  0.767700   0.256633    5.0   \n",
      "4      0.364112            0.073531  2018.0  0.767700   0.445408    5.0   \n",
      "...         ...                 ...     ...       ...        ...    ...   \n",
      "3485   0.578053            0.073531  2022.0  1.096102   0.256633    5.0   \n",
      "3486   0.364112            0.073531  2017.0  0.868320   0.256633    5.0   \n",
      "3487   0.578053            0.073531  2017.0  0.767700   0.445408    5.0   \n",
      "3488   0.364112            0.073531  2016.0  0.922710   0.445408    5.0   \n",
      "3489   0.364112            0.073531  2017.0  0.767700   0.445408    5.0   \n",
      "\n",
      "      mileage  id_engine_capacity_group  fuel_type  id_kms_group  \\\n",
      "0       18.90                  0.126137   0.180334      0.255059   \n",
      "1       21.21                  0.126137   0.180334      0.364786   \n",
      "2       18.20                  0.776698   0.180334      0.255059   \n",
      "3       19.70                  0.776698   0.180334      0.255059   \n",
      "4       17.19                  0.126137   0.180334      0.255059   \n",
      "...       ...                       ...        ...           ...   \n",
      "3485     0.00                  4.127914   2.455816      0.364786   \n",
      "3486    23.01                  0.776698   0.180334      0.255059   \n",
      "3487    17.80                  0.126137   0.180334      0.364786   \n",
      "3488    18.70                  0.126137   0.180334      0.364786   \n",
      "3489    22.38                  0.126137   0.180334      0.364786   \n",
      "\n",
      "      id_max_power_group  owner_type  \n",
      "0               0.206644    0.150465  \n",
      "1               0.206644    0.620328  \n",
      "2               0.206644    1.365236  \n",
      "3               0.206644    0.150465  \n",
      "4               0.206644    0.620328  \n",
      "...                  ...         ...  \n",
      "3485            0.206644    0.150465  \n",
      "3486            0.206644    0.150465  \n",
      "3487            0.446040    0.150465  \n",
      "3488            0.206644    0.150465  \n",
      "3489            0.206644    0.620328  \n",
      "\n",
      "[3490 rows x 12 columns]\n",
      "Data type by column:\n",
      "body_type                   float64\n",
      "id_categoria_marca          float64\n",
      "ano                         float64\n",
      "city                        float64\n",
      "insurance                   float64\n",
      "seats                       float64\n",
      "mileage                     float64\n",
      "id_engine_capacity_group    float64\n",
      "fuel_type                   float64\n",
      "id_kms_group                float64\n",
      "id_max_power_group          float64\n",
      "owner_type                  float64\n",
      "dtype: object\n"
     ]
    }
   ],
   "source": [
    "\n",
    "print(df_test)\n",
    "# Check data types\n",
    "data_types = df_test.dtypes\n",
    "print(\"Data type by column:\")\n",
    "print(data_types)"
   ]
  },
  {
   "cell_type": "code",
   "execution_count": 60,
   "metadata": {},
   "outputs": [
    {
     "name": "stdout",
     "output_type": "stream",
     "text": [
      "id_body_type                0\n",
      "id_categoria_marca          0\n",
      "ano                         0\n",
      "id_city                     0\n",
      "id_insurance                0\n",
      "seats                       0\n",
      "mileage                     0\n",
      "id_engine_capacity_group    0\n",
      "id_fuel_type                0\n",
      "id_kms_group                0\n",
      "id_max_power_group          0\n",
      "id_owner_type               0\n",
      "dtype: int64\n"
     ]
    }
   ],
   "source": [
    "# Contar a quantidade de NaN em cada coluna do DataFrame X\n",
    "nan_count = X.isna().sum()\n",
    "\n",
    "# Exibir a contagem de NaN por coluna\n",
    "print(nan_count)"
   ]
  },
  {
   "cell_type": "code",
   "execution_count": 61,
   "metadata": {},
   "outputs": [
    {
     "name": "stdout",
     "output_type": "stream",
     "text": [
      "body_type                   0\n",
      "id_categoria_marca          0\n",
      "ano                         0\n",
      "city                        0\n",
      "insurance                   0\n",
      "seats                       0\n",
      "mileage                     0\n",
      "id_engine_capacity_group    0\n",
      "fuel_type                   0\n",
      "id_kms_group                0\n",
      "id_max_power_group          0\n",
      "owner_type                  0\n",
      "dtype: int64\n"
     ]
    }
   ],
   "source": [
    "# Contar a quantidade de NaN em cada coluna do DataFrame X\n",
    "nan_count = df_test.isna().sum()\n",
    "\n",
    "# Exibir a contagem de NaN por coluna\n",
    "print(nan_count)"
   ]
  },
  {
   "cell_type": "code",
   "execution_count": 62,
   "metadata": {},
   "outputs": [],
   "source": [
    "# Mapeando os nomes das colunas de d_test para os correspondentes em d\n",
    "mapeamento_colunas = {\n",
    "    'body_type': 'id_body_type',\n",
    "    'city': 'id_city',\n",
    "    'insurance': 'id_insurance',\n",
    "    'fuel_type': 'id_fuel_type',\n",
    "    'owner_type': 'id_owner_type',\n",
    "    \n",
    "}\n",
    "\n",
    "# Renomeando as colunas em d_test\n",
    "df_test.rename(columns=mapeamento_colunas, inplace=True)"
   ]
  },
  {
   "cell_type": "code",
   "execution_count": 63,
   "metadata": {},
   "outputs": [
    {
     "name": "stdout",
     "output_type": "stream",
     "text": [
      "float64\n"
     ]
    }
   ],
   "source": [
    "# Check data types\n",
    "print(y.dtypes)"
   ]
  },
  {
   "cell_type": "code",
   "execution_count": 64,
   "metadata": {},
   "outputs": [
    {
     "name": "stdout",
     "output_type": "stream",
     "text": [
      "id_body_type                float64\n",
      "id_categoria_marca          float64\n",
      "ano                         float64\n",
      "id_city                     float64\n",
      "id_insurance                float64\n",
      "seats                       float64\n",
      "mileage                     float64\n",
      "id_engine_capacity_group    float64\n",
      "id_fuel_type                float64\n",
      "id_kms_group                float64\n",
      "id_max_power_group          float64\n",
      "id_owner_type               float64\n",
      "dtype: object\n"
     ]
    }
   ],
   "source": [
    "# Check data types\n",
    "print(X.dtypes)"
   ]
  },
  {
   "cell_type": "code",
   "execution_count": 65,
   "metadata": {},
   "outputs": [
    {
     "name": "stdout",
     "output_type": "stream",
     "text": [
      "id_body_type                float64\n",
      "id_categoria_marca          float64\n",
      "ano                         float64\n",
      "id_city                     float64\n",
      "id_insurance                float64\n",
      "seats                       float64\n",
      "mileage                     float64\n",
      "id_engine_capacity_group    float64\n",
      "id_fuel_type                float64\n",
      "id_kms_group                float64\n",
      "id_max_power_group          float64\n",
      "id_owner_type               float64\n",
      "dtype: object\n"
     ]
    }
   ],
   "source": [
    "# Check data types\n",
    "print(df_test.dtypes)"
   ]
  },
  {
   "cell_type": "code",
   "execution_count": 66,
   "metadata": {},
   "outputs": [],
   "source": [
    "from sklearn import tree\n",
    "clf = tree.DecisionTreeRegressor()\n",
    "clf = clf.fit(X, y)\n",
    "predictions=clf.predict(df_test)"
   ]
  },
  {
   "cell_type": "code",
   "execution_count": 67,
   "metadata": {},
   "outputs": [
    {
     "name": "stdout",
     "output_type": "stream",
     "text": [
      "3490\n"
     ]
    }
   ],
   "source": [
    "\n",
    "print(len(predictions))  # Check the length of predictions\n"
   ]
  },
  {
   "cell_type": "code",
   "execution_count": 68,
   "metadata": {},
   "outputs": [],
   "source": [
    "id_series = id_column.squeeze()\n",
    "df_predictions = pd.DataFrame({\"ID\": id_series, \"prediction\": predictions})"
   ]
  },
  {
   "cell_type": "code",
   "execution_count": 69,
   "metadata": {},
   "outputs": [
    {
     "name": "stdout",
     "output_type": "stream",
     "text": [
      "        ID  prediction\n",
      "0        0       4.750\n",
      "1        1       6.500\n",
      "2        2       1.200\n",
      "3        3       1.560\n",
      "4        4       3.950\n",
      "...    ...         ...\n",
      "3485  3485      13.000\n",
      "3486  3486       3.955\n",
      "3487  3487       7.750\n",
      "3488  3488       5.500\n",
      "3489  3489       4.930\n",
      "\n",
      "[3490 rows x 2 columns]\n"
     ]
    }
   ],
   "source": [
    "print(df_predictions)"
   ]
  },
  {
   "cell_type": "code",
   "execution_count": 70,
   "metadata": {},
   "outputs": [],
   "source": [
    "# Exporte o DataFrame para um arquivo CSV\n",
    "df_predictions.to_csv('treeCenario2.csv', index=False)"
   ]
  }
 ],
 "metadata": {
  "kernelspec": {
   "display_name": "Python 3",
   "language": "python",
   "name": "python3"
  },
  "language_info": {
   "codemirror_mode": {
    "name": "ipython",
    "version": 3
   },
   "file_extension": ".py",
   "mimetype": "text/x-python",
   "name": "python",
   "nbconvert_exporter": "python",
   "pygments_lexer": "ipython3",
   "version": "3.12.0"
  }
 },
 "nbformat": 4,
 "nbformat_minor": 2
}
