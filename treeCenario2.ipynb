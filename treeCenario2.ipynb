{
 "cells": [
  {
   "cell_type": "code",
   "execution_count": 91,
   "metadata": {},
   "outputs": [],
   "source": [
    "import warnings\n",
    "warnings.filterwarnings(\"ignore\")"
   ]
  },
  {
   "cell_type": "code",
   "execution_count": 92,
   "metadata": {},
   "outputs": [],
   "source": [
    "import pandas as pd\n",
    "#necessario por causa do metodo de avaliaçao\n",
    "from sklearn.model_selection import KFold\n",
    "from sklearn.metrics import (\n",
    "        make_scorer,\n",
    "        confusion_matrix, \n",
    "        cohen_kappa_score, \n",
    "        accuracy_score, \n",
    "        precision_score, \n",
    "        recall_score, \n",
    "        f1_score, \n",
    "        roc_auc_score\n",
    ")\n",
    "from sklearn.model_selection import cross_validate, StratifiedKFold\n",
    "from sklearn.tree import DecisionTreeClassifier # decision trees for classification\n",
    "from sklearn.neural_network import  MLPClassifier # neural networks for classification\n",
    "from sklearn.naive_bayes import GaussianNB # naive bayes for classification\n",
    "from sklearn.svm import SVC # support vector machines for classification"
   ]
  },
  {
   "cell_type": "code",
   "execution_count": 93,
   "metadata": {},
   "outputs": [],
   "source": [
    "#metricas regressao\n",
    "from sklearn.metrics import mean_squared_error, mean_absolute_error, r2_score\n",
    "\n",
    "def custom_regression_metrics(y_true, y_pred):\n",
    "    mse = mean_squared_error(y_true, y_pred)\n",
    "    mae = mean_absolute_error(y_true, y_pred)\n",
    "    r2 = r2_score(y_true, y_pred)\n",
    "    \n",
    "    return mse, mae, r2"
   ]
  },
  {
   "cell_type": "code",
   "execution_count": 94,
   "metadata": {},
   "outputs": [],
   "source": [
    "#metricas classificação\n",
    "def specificity_score(y_true, y_pred):\n",
    "    tn, fp, fn, tp = confusion_matrix(y_true, y_pred).ravel()\n",
    "    return tn / (tn+fp)"
   ]
  },
  {
   "cell_type": "code",
   "execution_count": 95,
   "metadata": {},
   "outputs": [],
   "source": [
    "#Metricas regressao\n",
    "from sklearn.metrics import mean_squared_error, mean_absolute_error, r2_score\n",
    "\n",
    "REGRESSION_METRICS = {\n",
    "    \"MSE\": make_scorer(mean_squared_error),\n",
    "    \"MAE\": make_scorer(mean_absolute_error),\n",
    "    \"R2\": make_scorer(r2_score)\n",
    "}"
   ]
  },
  {
   "cell_type": "code",
   "execution_count": 96,
   "metadata": {},
   "outputs": [],
   "source": [
    "d = pd.read_csv(\"Xcenario2.csv\")\n"
   ]
  },
  {
   "cell_type": "code",
   "execution_count": 97,
   "metadata": {},
   "outputs": [
    {
     "name": "stdout",
     "output_type": "stream",
     "text": [
      "Colunas em d:\n",
      "Index(['id_body_type', 'id_modelos', 'id_categoria_marca', 'ano', 'id_city',\n",
      "       'id_insurance', 'id_transmissao', 'seats', 'mileage',\n",
      "       'id_engine_capacity_group', 'id_fuel_type', 'id_kms_group',\n",
      "       'id_max_power_group', 'id_owner_type', 'resale_price_Lakh'],\n",
      "      dtype='object')\n"
     ]
    }
   ],
   "source": [
    "print(\"Colunas em d:\")\n",
    "print(d.columns)\n",
    "\n",
    "\n"
   ]
  },
  {
   "cell_type": "code",
   "execution_count": 98,
   "metadata": {},
   "outputs": [],
   "source": [
    "X, y = d.drop(\"resale_price_Lakh\", axis=1), d[\"resale_price_Lakh\"]\n",
    "\n"
   ]
  },
  {
   "cell_type": "code",
   "execution_count": 99,
   "metadata": {},
   "outputs": [],
   "source": [
    "# Utilize KFold para um problema de regressão\n",
    "kf = KFold(n_splits=10, shuffle=True, random_state=1234)"
   ]
  },
  {
   "cell_type": "code",
   "execution_count": 100,
   "metadata": {},
   "outputs": [
    {
     "name": "stdout",
     "output_type": "stream",
     "text": [
      "       id_body_type  id_modelos  id_categoria_marca     ano   id_city  \\\n",
      "0          0.364112    3.086522            0.073531  2019.0  1.096102   \n",
      "1          0.598869    2.403638            0.073531  2018.0  1.281577   \n",
      "2          0.578053    2.583846            0.073531  2015.0  0.922710   \n",
      "3          0.598869    3.650793            0.073531  2021.0  0.922710   \n",
      "4          0.364112    2.747703            0.073531  2019.0  1.170307   \n",
      "...             ...         ...                 ...     ...       ...   \n",
      "13420      1.347597    3.650793            0.903640  2021.0  1.027199   \n",
      "13421      0.364112    2.951823            0.073531  2017.0  1.223199   \n",
      "13422      0.578053    3.282816            0.903640  2017.0  1.027199   \n",
      "13423      0.598869    2.747703            0.073531  2017.0  0.868320   \n",
      "13424      0.578053    2.428944            0.073531  2015.0  0.868320   \n",
      "\n",
      "       id_insurance  id_transmissao  seats  mileage  id_engine_capacity_group  \\\n",
      "0          0.256633        0.131359    5.0    23.84                  0.126137   \n",
      "1          1.306401        0.131359    5.0    17.50                  0.126137   \n",
      "2          0.256633        0.131359    5.0    17.40                  0.126137   \n",
      "3          0.256633        0.583102    7.0    14.08                  0.126137   \n",
      "4          1.306401        0.583102    5.0    21.40                  0.126137   \n",
      "...             ...             ...    ...      ...                       ...   \n",
      "13420      0.256633        0.583102    7.0    14.11                  1.105074   \n",
      "13421      0.256633        0.131359    5.0    18.60                  0.126137   \n",
      "13422      0.445408        0.131359    5.0    21.13                  0.126137   \n",
      "13423      0.445408        0.131359    5.0    24.30                  0.126137   \n",
      "13424      0.445408        0.131359    5.0    18.00                  0.126137   \n",
      "\n",
      "       id_fuel_type  id_kms_group  id_max_power_group  id_owner_type  \n",
      "0          0.180334      0.364786            0.206644       0.150465  \n",
      "1          0.180334      0.364786            0.206644       1.365236  \n",
      "2          0.180334      0.255059            0.446040       0.620328  \n",
      "3          0.514919      0.364786            0.446040       0.150465  \n",
      "4          0.180334      0.255059            0.206644       0.150465  \n",
      "...             ...           ...                 ...            ...  \n",
      "13420      0.514919      0.255059            0.446040       0.620328  \n",
      "13421      0.180334      0.364786            0.206644       0.150465  \n",
      "13422      0.514919      0.255059            0.446040       0.620328  \n",
      "13423      0.514919      0.364786            0.206644       0.620328  \n",
      "13424      0.180334      0.364786            0.206644       0.150465  \n",
      "\n",
      "[13425 rows x 14 columns]\n",
      "Data type by column:\n",
      "id_body_type                float64\n",
      "id_modelos                  float64\n",
      "id_categoria_marca          float64\n",
      "ano                         float64\n",
      "id_city                     float64\n",
      "id_insurance                float64\n",
      "id_transmissao              float64\n",
      "seats                       float64\n",
      "mileage                     float64\n",
      "id_engine_capacity_group    float64\n",
      "id_fuel_type                float64\n",
      "id_kms_group                float64\n",
      "id_max_power_group          float64\n",
      "id_owner_type               float64\n",
      "dtype: object\n"
     ]
    }
   ],
   "source": [
    "print(X)\n",
    "# Check data types\n",
    "data_types = X.dtypes\n",
    "print(\"Data type by column:\")\n",
    "print(data_types)"
   ]
  },
  {
   "cell_type": "code",
   "execution_count": 101,
   "metadata": {},
   "outputs": [],
   "source": [
    "from sklearn.tree import DecisionTreeRegressor\n",
    "import pandas as pd\n",
    "\n",
    "# Carregar o conjunto de teste a partir de um arquivo CSV\n",
    "df_test = pd.read_csv(\"testcenario2.csv\") \n",
    "\n",
    "# Criar um novo DataFrame apenas com a coluna 'ID'\n",
    "id_column = df_test[['ID']].copy()\n",
    "\n",
    "# Remover a coluna 'ID' do DataFrame original\n",
    "df_test.drop('ID', axis=1, inplace=True)\n"
   ]
  },
  {
   "cell_type": "code",
   "execution_count": 102,
   "metadata": {},
   "outputs": [
    {
     "name": "stdout",
     "output_type": "stream",
     "text": [
      "      body_type  id_modelos  id_categoria_marca     ano      city  insurance  \\\n",
      "0      0.364112    2.872642            0.073531  2017.0  0.922710   0.445408   \n",
      "1      0.364112    3.224824            0.073531  2020.0  1.281577   1.418644   \n",
      "2      0.364112    3.428944            0.073531  2010.0  1.593888   0.256633   \n",
      "3      0.364112    2.420344            0.073531  2010.0  0.767700   0.256633   \n",
      "4      0.364112    3.826884            0.073531  2018.0  0.767700   0.445408   \n",
      "...         ...         ...                 ...     ...       ...        ...   \n",
      "3485   0.578053    3.428944            0.073531  2022.0  1.096102   0.256633   \n",
      "3486   0.364112    2.650793            0.073531  2017.0  0.868320   0.256633   \n",
      "3487   0.578053    2.729974            0.073531  2017.0  0.767700   0.445408   \n",
      "3488   0.364112    2.872642            0.073531  2016.0  0.922710   0.445408   \n",
      "3489   0.364112    1.840113            0.073531  2017.0  0.767700   0.445408   \n",
      "\n",
      "      transmission_type  seats  mileage  id_engine_capacity_group  fuel_type  \\\n",
      "0              0.131359    5.0    18.90                  0.126137   0.180334   \n",
      "1              0.583102    5.0    21.21                  0.126137   0.180334   \n",
      "2              0.131359    5.0    18.20                  0.776698   0.180334   \n",
      "3              0.131359    5.0    19.70                  0.776698   0.180334   \n",
      "4              0.131359    5.0    17.19                  0.126137   0.180334   \n",
      "...                 ...    ...      ...                       ...        ...   \n",
      "3485           0.583102    5.0     0.00                  4.127914   2.455816   \n",
      "3486           0.131359    5.0    23.01                  0.776698   0.180334   \n",
      "3487           0.131359    5.0    17.80                  0.126137   0.180334   \n",
      "3488           0.131359    5.0    18.70                  0.126137   0.180334   \n",
      "3489           0.131359    5.0    22.38                  0.126137   0.180334   \n",
      "\n",
      "      id_kms_group  id_max_power_group  owner_type  \n",
      "0         0.255059            0.206644    0.150465  \n",
      "1         0.364786            0.206644    0.620328  \n",
      "2         0.255059            0.206644    1.365236  \n",
      "3         0.255059            0.206644    0.150465  \n",
      "4         0.255059            0.206644    0.620328  \n",
      "...            ...                 ...         ...  \n",
      "3485      0.364786            0.206644    0.150465  \n",
      "3486      0.255059            0.206644    0.150465  \n",
      "3487      0.364786            0.446040    0.150465  \n",
      "3488      0.364786            0.206644    0.150465  \n",
      "3489      0.364786            0.206644    0.620328  \n",
      "\n",
      "[3490 rows x 14 columns]\n",
      "Data type by column:\n",
      "body_type                   float64\n",
      "id_modelos                  float64\n",
      "id_categoria_marca          float64\n",
      "ano                         float64\n",
      "city                        float64\n",
      "insurance                   float64\n",
      "transmission_type           float64\n",
      "seats                       float64\n",
      "mileage                     float64\n",
      "id_engine_capacity_group    float64\n",
      "fuel_type                   float64\n",
      "id_kms_group                float64\n",
      "id_max_power_group          float64\n",
      "owner_type                  float64\n",
      "dtype: object\n"
     ]
    }
   ],
   "source": [
    "\n",
    "print(df_test)\n",
    "# Check data types\n",
    "data_types = df_test.dtypes\n",
    "print(\"Data type by column:\")\n",
    "print(data_types)"
   ]
  },
  {
   "cell_type": "code",
   "execution_count": 103,
   "metadata": {},
   "outputs": [
    {
     "name": "stdout",
     "output_type": "stream",
     "text": [
      "id_body_type                0\n",
      "id_modelos                  0\n",
      "id_categoria_marca          0\n",
      "ano                         0\n",
      "id_city                     0\n",
      "id_insurance                0\n",
      "id_transmissao              0\n",
      "seats                       0\n",
      "mileage                     0\n",
      "id_engine_capacity_group    0\n",
      "id_fuel_type                0\n",
      "id_kms_group                0\n",
      "id_max_power_group          0\n",
      "id_owner_type               0\n",
      "dtype: int64\n"
     ]
    }
   ],
   "source": [
    "# Contar a quantidade de NaN em cada coluna do DataFrame X\n",
    "nan_count = X.isna().sum()\n",
    "\n",
    "# Exibir a contagem de NaN por coluna\n",
    "print(nan_count)"
   ]
  },
  {
   "cell_type": "code",
   "execution_count": 104,
   "metadata": {},
   "outputs": [
    {
     "name": "stdout",
     "output_type": "stream",
     "text": [
      "body_type                   0\n",
      "id_modelos                  0\n",
      "id_categoria_marca          0\n",
      "ano                         0\n",
      "city                        0\n",
      "insurance                   0\n",
      "transmission_type           0\n",
      "seats                       0\n",
      "mileage                     0\n",
      "id_engine_capacity_group    0\n",
      "fuel_type                   0\n",
      "id_kms_group                0\n",
      "id_max_power_group          0\n",
      "owner_type                  0\n",
      "dtype: int64\n"
     ]
    }
   ],
   "source": [
    "# Contar a quantidade de NaN em cada coluna do DataFrame X\n",
    "nan_count = df_test.isna().sum()\n",
    "\n",
    "# Exibir a contagem de NaN por coluna\n",
    "print(nan_count)"
   ]
  },
  {
   "cell_type": "code",
   "execution_count": 105,
   "metadata": {},
   "outputs": [],
   "source": [
    "# Mapeando os nomes das colunas de d_test para os correspondentes em d\n",
    "mapeamento_colunas = {\n",
    "    'body_type': 'id_body_type',\n",
    "    'city': 'id_city',\n",
    "    'insurance': 'id_insurance',\n",
    "    'fuel_type': 'id_fuel_type',\n",
    "    'owner_type': 'id_owner_type',\n",
    "    'transmission_type': 'id_transmissao',\n",
    "}\n",
    "\n",
    "# Renomeando as colunas em d_test\n",
    "df_test.rename(columns=mapeamento_colunas, inplace=True)"
   ]
  },
  {
   "cell_type": "code",
   "execution_count": 106,
   "metadata": {},
   "outputs": [
    {
     "name": "stdout",
     "output_type": "stream",
     "text": [
      "float64\n"
     ]
    }
   ],
   "source": [
    "# Check data types\n",
    "print(y.dtypes)"
   ]
  },
  {
   "cell_type": "code",
   "execution_count": 107,
   "metadata": {},
   "outputs": [
    {
     "name": "stdout",
     "output_type": "stream",
     "text": [
      "id_body_type                float64\n",
      "id_modelos                  float64\n",
      "id_categoria_marca          float64\n",
      "ano                         float64\n",
      "id_city                     float64\n",
      "id_insurance                float64\n",
      "id_transmissao              float64\n",
      "seats                       float64\n",
      "mileage                     float64\n",
      "id_engine_capacity_group    float64\n",
      "id_fuel_type                float64\n",
      "id_kms_group                float64\n",
      "id_max_power_group          float64\n",
      "id_owner_type               float64\n",
      "dtype: object\n"
     ]
    }
   ],
   "source": [
    "# Check data types\n",
    "print(X.dtypes)"
   ]
  },
  {
   "cell_type": "code",
   "execution_count": 108,
   "metadata": {},
   "outputs": [
    {
     "name": "stdout",
     "output_type": "stream",
     "text": [
      "id_body_type                float64\n",
      "id_modelos                  float64\n",
      "id_categoria_marca          float64\n",
      "ano                         float64\n",
      "id_city                     float64\n",
      "id_insurance                float64\n",
      "id_transmissao              float64\n",
      "seats                       float64\n",
      "mileage                     float64\n",
      "id_engine_capacity_group    float64\n",
      "id_fuel_type                float64\n",
      "id_kms_group                float64\n",
      "id_max_power_group          float64\n",
      "id_owner_type               float64\n",
      "dtype: object\n"
     ]
    }
   ],
   "source": [
    "# Check data types\n",
    "print(df_test.dtypes)"
   ]
  },
  {
   "cell_type": "code",
   "execution_count": 109,
   "metadata": {},
   "outputs": [],
   "source": [
    "from sklearn import tree\n",
    "clf = tree.DecisionTreeRegressor()\n",
    "clf = clf.fit(X, y)\n",
    "predictions=clf.predict(df_test)\n",
    "\n"
   ]
  },
  {
   "cell_type": "code",
   "execution_count": 110,
   "metadata": {},
   "outputs": [
    {
     "name": "stdout",
     "output_type": "stream",
     "text": [
      "3490\n"
     ]
    }
   ],
   "source": [
    "\n",
    "print(len(predictions))  # Check the length of predictions\n"
   ]
  },
  {
   "cell_type": "code",
   "execution_count": 111,
   "metadata": {},
   "outputs": [],
   "source": [
    "id_series = id_column.squeeze()\n",
    "df_predictions = pd.DataFrame({\"ID\": id_series, \"prediction\": predictions})"
   ]
  },
  {
   "cell_type": "code",
   "execution_count": 112,
   "metadata": {},
   "outputs": [
    {
     "name": "stdout",
     "output_type": "stream",
     "text": [
      "        ID  prediction\n",
      "0        0       5.020\n",
      "1        1       6.110\n",
      "2        2       1.200\n",
      "3        3       1.495\n",
      "4        4       6.460\n",
      "...    ...         ...\n",
      "3485  3485      13.000\n",
      "3486  3486       3.870\n",
      "3487  3487       7.650\n",
      "3488  3488       5.200\n",
      "3489  3489       5.330\n",
      "\n",
      "[3490 rows x 2 columns]\n"
     ]
    }
   ],
   "source": [
    "print(df_predictions)"
   ]
  },
  {
   "cell_type": "code",
   "execution_count": 113,
   "metadata": {},
   "outputs": [],
   "source": [
    "# Exporte o DataFrame para um arquivo CSV\n",
    "df_predictions.to_csv('treeCenario2Max_Dep.csv', index=False)"
   ]
  }
 ],
 "metadata": {
  "kernelspec": {
   "display_name": "Python 3",
   "language": "python",
   "name": "python3"
  },
  "language_info": {
   "codemirror_mode": {
    "name": "ipython",
    "version": 3
   },
   "file_extension": ".py",
   "mimetype": "text/x-python",
   "name": "python",
   "nbconvert_exporter": "python",
   "pygments_lexer": "ipython3",
   "version": "3.12.0"
  }
 },
 "nbformat": 4,
 "nbformat_minor": 2
}
