{
 "cells": [
  {
   "cell_type": "code",
   "execution_count": 1,
   "metadata": {},
   "outputs": [],
   "source": [
    "import matplotlib.pyplot as plt\n",
    "import pandas as pd\n",
    "import seaborn as sns\n",
    "import numpy as np\n",
    "import re"
   ]
  },
  {
   "cell_type": "code",
   "execution_count": 2,
   "metadata": {},
   "outputs": [],
   "source": [
    "df = pd.read_csv('train.csv')"
   ]
  },
  {
   "cell_type": "code",
   "execution_count": 4,
   "metadata": {},
   "outputs": [
    {
     "name": "stdout",
     "output_type": "stream",
     "text": [
      "Distinct full names with blank body_type:\n"
     ]
    }
   ],
   "source": [
    "import pandas as pd\n",
    "\n",
    "# Assuming df is your DataFrame\n",
    "\n",
    "df.loc[df['full_name'].isin(['2009 Maruti Estilo LXI', '2019 Nissan Kicks Diesel', '2010 Maruti Estilo LXI', '2019 Maruti Wagon R ZXI AMT 1.2BSIV',\n",
    "                             '2016 Mercedes-Benz B Class B180 Sport', '2016 Mercedes-Benz A Class A200 D Sport Edition',\n",
    "                             '2004 Tata Indigo Marina GLX', '2017 Volvo V40 D3 R Design']), 'body_type'] = 'Hatchback'\n",
    "df.loc[df['full_name'].isin(['2005 Tata Sumo Victa EX 10/7 Str BSII', '2008 Tata Sumo CX', '2010 Tata New Safari DICOR 2.2 EX 4x2', \n",
    "                             '2017 Mahindra KUV 100 mFALCON G80 K8', '2019 Mahindra Bolero Camper GOLD ZX 2WD']), 'body_type'] = 'SUV'\n",
    "df.loc[df['full_name'].isin(['2015 Honda Mobilio E i-DTEC', '2018 Maruti Eeco 5 Seater AC BSIV', '2016 Datsun GO Plus A']), 'body_type'] = 'MUV'\n",
    "df.loc[df['full_name'].isin(['2021 BMW 7 Series 730Ld DPE Signature','2006 Hyundai Accent CRDi', '2007 Maruti SX4 Vxi BSIII',\n",
    "                             '2020 Mercedes-Benz S-Class Maybach S560', '2004 Skoda Octavia 1.8 Turbo Petrol RS MT']), 'body_type'] = 'Sedan'\n",
    "df.loc[df['full_name'].isin(['2012 Mercedes-Benz SLK-Class SLK 350', '2013 Mercedes-Benz E-Class E350 Cabriolet', \n",
    "                             '2009 Mercedes-Benz SLK-Class 55 AMG']), 'body_type'] = 'Convertibles'\n",
    "df.loc[df['full_name'] == '2011 Jaguar XK R V8 Coupe', 'body_type'] = 'Coupe'\n",
    "df.loc[df['full_name'].isin(['2015 Chevrolet Enjoy 1.4 LS 7', '2004 Maruti Versa DX2 8-SEATER BSIII TWIN A/C', '2021 Maruti Eeco 5 STR With AC Plus HTR CNG',\n",
    "                             '2022 Maruti Eeco 5 Seater AC 2020-2022', '2022 Maruti Eeco 5 Seater AC BSVI', '2017 Maruti Eeco Flexi Green', \n",
    "                             '2013 Maruti Omni Limited Edition', '2021 Maruti Eeco CNG 5 Seater AC', '2019 Maruti Eeco CNG 5 Seater AC BSIV', \n",
    "                             '2019 Maruti Eeco 5 Seater AC', '2013 Maruti Eeco 5 Seater Standard BSIV', '2015 Maruti Omni CNG', \n",
    "                             '2015 Maruti Omni MPI CARGO BSIV', '2016 Maruti Eeco CNG 5 Seater AC BSIV', '2013 Toyota Innova 2.5 E Diesel MS 7-seater',\n",
    "                             '2015 Chevrolet Enjoy 1.4 LS 7']), 'body_type'] = 'Minivans'\n",
    "df.loc[df['full_name'].isin(['2014 Tata Xenon XT EX 4X2', '2019 Isuzu D-Max High']), 'body_type'] = 'Pickup'\n",
    "\n",
    "# Check\n",
    "distinct_full_names_with_blank_body_type = df[df['body_type'].isnull()]['full_name'].unique()\n",
    "print('Distinct full names with blank body_type:')\n",
    "for full_name in distinct_full_names_with_blank_body_type:\n",
    "    print(full_name)"
   ]
  },
  {
   "cell_type": "code",
   "execution_count": 5,
   "metadata": {},
   "outputs": [],
   "source": [
    "# Change the data types of multiple columns\n",
    "df = df.astype({\n",
    "    \n",
    "    'body_type': 'string',\n",
    "    \n",
    "})"
   ]
  },
  {
   "cell_type": "code",
   "execution_count": 6,
   "metadata": {},
   "outputs": [
    {
     "name": "stdout",
     "output_type": "stream",
     "text": [
      "Data type by column:\n",
      "full_name                    object\n",
      "registered_year              object\n",
      "engine_capacity              object\n",
      "insurance                    object\n",
      "transmission_type            object\n",
      "kms_driven                   object\n",
      "owner_type                   object\n",
      "fuel_type                    object\n",
      "max_power                   float64\n",
      "seats                       float64\n",
      "mileage                      object\n",
      "body_type            string[python]\n",
      "city                         object\n",
      "resale_price_Lakh           float64\n",
      "dtype: object\n"
     ]
    }
   ],
   "source": [
    "# Check data types\n",
    "data_types = df.dtypes\n",
    "print(\"Data type by column:\")\n",
    "print(data_types)"
   ]
  },
  {
   "cell_type": "code",
   "execution_count": 7,
   "metadata": {},
   "outputs": [
    {
     "name": "stdout",
     "output_type": "stream",
     "text": [
      "body_type\n",
      "Hatchback       5896\n",
      "Sedan           3824\n",
      "SUV             3529\n",
      "MUV              605\n",
      "Minivans          69\n",
      "Coupe             11\n",
      "Pickup            11\n",
      "Convertibles       5\n",
      "Cars               4\n",
      "Wagon              2\n",
      "Name: count, dtype: Int64\n"
     ]
    }
   ],
   "source": [
    "\n",
    "# Exibe os tipos únicos e suas contagens na coluna 'body_type'\n",
    "contagem_body_types = df['body_type'].value_counts()\n",
    "\n",
    "# Exibe o resultado\n",
    "print(contagem_body_types)"
   ]
  },
  {
   "cell_type": "code",
   "execution_count": 9,
   "metadata": {},
   "outputs": [
    {
     "name": "stdout",
     "output_type": "stream",
     "text": [
      "<StringArray>\n",
      "[   'Hatchback',          'SUV',        'Sedan',          'MUV',\n",
      "     'Minivans', 'Convertibles',        'Coupe',       'Pickup',\n",
      "        'Wagon',         'Cars']\n",
      "Length: 10, dtype: string\n"
     ]
    }
   ],
   "source": [
    "# unique 'body_type'\n",
    "valores_unicos_kms_group= df['body_type'].unique()\n",
    "print(valores_unicos_kms_group)"
   ]
  },
  {
   "cell_type": "code",
   "execution_count": 10,
   "metadata": {},
   "outputs": [
    {
     "name": "stdout",
     "output_type": "stream",
     "text": [
      "      Hatchback: 0.37412983299826663\n",
      "            SUV: 0.5969862553882507\n",
      "          Sedan: 0.5621295212864368\n",
      "            MUV: 1.362288336609787\n",
      "       Minivans: 2.299662920761816\n",
      "   Convertibles: 3.3666097103924297\n",
      "          Coupe: 3.0655797147284485\n",
      "         Pickup: 3.0655797147284485\n",
      "          Wagon: 3.667639706056411\n",
      "           Cars: 3.4457909564400544\n"
     ]
    }
   ],
   "source": [
    "# Check ID_body_type\n",
    "\n",
    "# Sua coluna de tipos de combustível\n",
    "body_type = df['body_type']\n",
    "\n",
    "# Número de documentos (ou entradas) no DataFrame\n",
    "n_docs = len(df)\n",
    "\n",
    "idf = {}\n",
    "\n",
    "# Usando drop_duplicates para obter valores únicos\n",
    "unique_body_type = body_type.drop_duplicates()\n",
    "\n",
    "for body_type in unique_body_type:\n",
    "    k = sum(body_type in row for row in df['body_type'])  # contagem de documentos que contêm este tipo de combustível\n",
    "    idf[body_type] = np.log10(n_docs / (k + 1))  # Adicionei +1 para evitar divisão por zero\n",
    "\n",
    "for body_type, value in idf.items():\n",
    "    print(f'{body_type:>15}: {value:>10}')\n"
   ]
  },
  {
   "cell_type": "code",
   "execution_count": 11,
   "metadata": {},
   "outputs": [
    {
     "name": "stdout",
     "output_type": "stream",
     "text": [
      "      Hatchback: 0.37412983299826663\n",
      "            SUV: 0.5969862553882507\n",
      "          Sedan: 0.5621295212864368\n",
      "            MUV: 1.362288336609787\n",
      "       Minivans: 2.299662920761816\n",
      "   Convertibles: 3.3666097103924297\n",
      "          Coupe: 3.0655797147284485\n",
      "         Pickup: 3.0655797147284485\n",
      "          Wagon: 3.667639706056411\n",
      "           Cars: 3.4457909564400544\n",
      "                                               full_name registered_year  \\\n",
      "0                                2019 Tata Tiago XZ Plus        Nov 2019   \n",
      "1                              2018 Honda WR-V i-VTEC VX        Apr 2018   \n",
      "2                              2015 Honda City i VTEC SV        May 2015   \n",
      "3      2021 Tata New Safari XZA Plus Adventure Editio...            2021   \n",
      "4                        2019 Maruti Baleno 1.2 CVT Zeta        Jun 2019   \n",
      "...                                                  ...             ...   \n",
      "13951                          2021 Kia Carnival Premium            2021   \n",
      "13952               2017 Hyundai i20 1.2 Magna Executive        Dec 2017   \n",
      "13953             2017 Skoda Rapid 1.5 TDI Ambition BSIV        Jan 2018   \n",
      "13954                      2017 Maruti Vitara Brezza ZDi        Apr 2017   \n",
      "13955                         2015 Honda Amaze S i-Vtech        Mar 2015   \n",
      "\n",
      "      engine_capacity              insurance transmission_type  kms_driven  \\\n",
      "0             1199 cc            Third Party            Manual  30,910 Kms   \n",
      "1             1199 cc               Zero Dep            Manual  48,089 Kms   \n",
      "2             1497 cc  Third Party insurance            Manual  51,000 Kms   \n",
      "3             1956 cc  Third Party insurance         Automatic  30,000 Kms   \n",
      "4             1197 cc               Zero Dep         Automatic  61,113 Kms   \n",
      "...               ...                    ...               ...         ...   \n",
      "13951         2199 cc  Third Party insurance         Automatic  80,000 Kms   \n",
      "13952         1197 cc  Third Party insurance            Manual  17,923 Kms   \n",
      "13953         1498 cc          Comprehensive            Manual  63,389 Kms   \n",
      "13954         1248 cc          Comprehensive            Manual  40,000 Kms   \n",
      "13955         1198 cc          Comprehensive            Manual  33,046 Kms   \n",
      "\n",
      "         owner_type fuel_type  max_power  seats     mileage  body_type  \\\n",
      "0       First Owner    Petrol       83.8    5.0  23.84 kmpl  Hatchback   \n",
      "1       Third Owner    Petrol       88.7    5.0   17.5 kmpl        SUV   \n",
      "2      Second Owner    Petrol      117.3    5.0   17.4 kmpl      Sedan   \n",
      "3       First Owner    Diesel      167.6    7.0  14.08 kmpl        SUV   \n",
      "4       First Owner    Petrol       83.1    5.0   21.4 kmpl  Hatchback   \n",
      "...             ...       ...        ...    ...         ...        ...   \n",
      "13951  Second Owner    Diesel      197.2    7.0  14.11 kmpl        MUV   \n",
      "13952   First Owner    Petrol       81.8    5.0   18.6 kmpl  Hatchback   \n",
      "13953  Second Owner    Diesel      108.6    5.0  21.13 kmpl      Sedan   \n",
      "13954  Second Owner    Diesel       88.5    5.0   24.3 kmpl        SUV   \n",
      "13955   First Owner    Petrol       86.7    5.0     18 kmpl      Sedan   \n",
      "\n",
      "            city  resale_price_Lakh  id_body_type  \n",
      "0           Pune               5.66      0.374130  \n",
      "1         Jaipur               6.64      0.596986  \n",
      "2         Mumbai               5.65      0.562130  \n",
      "3         Mumbai              23.00      0.596986  \n",
      "4        Kolkata               6.87      0.374130  \n",
      "...          ...                ...           ...  \n",
      "13951  Hyderabad              26.50      1.362288  \n",
      "13952    Gurgaon               5.87      0.374130  \n",
      "13953  Hyderabad               7.43      0.562130  \n",
      "13954  Bangalore               9.45      0.596986  \n",
      "13955  Bangalore               4.55      0.562130  \n",
      "\n",
      "[13956 rows x 15 columns]\n"
     ]
    }
   ],
   "source": [
    "#Create kms_group ID: IDF\n",
    "\n",
    "# Sua coluna de tipos de combustível\n",
    "body_type = df['body_type']\n",
    "\n",
    "# Número de documentos (ou entradas) no DataFrame\n",
    "n_docs = len(df)\n",
    "\n",
    "idf = {}\n",
    "\n",
    "# Usando drop_duplicates para obter valores únicos\n",
    "unique_body_type = body_type.drop_duplicates()\n",
    "\n",
    "for body_type in unique_body_type:\n",
    "    k = sum(body_type in row for row in df['body_type'])  # contagem de documentos que contêm este tipo de combustível\n",
    "    idf[body_type] = np.log10(n_docs / (k + 1))  # Adicionei +1 para evitar divisão por zero\n",
    "\n",
    "for body_type, value in idf.items():\n",
    "    print(f'{body_type:>15}: {value:>10}')\n",
    "\n",
    "# Criar nova coluna 'idf' no DataFrame\n",
    "df['id_body_type'] = df['body_type'].map(idf)\n",
    "\n",
    "# Se desejar imprimir o DataFrame com a nova coluna\n",
    "print(df)"
   ]
  }
 ],
 "metadata": {
  "kernelspec": {
   "display_name": "Python 3",
   "language": "python",
   "name": "python3"
  },
  "language_info": {
   "codemirror_mode": {
    "name": "ipython",
    "version": 3
   },
   "file_extension": ".py",
   "mimetype": "text/x-python",
   "name": "python",
   "nbconvert_exporter": "python",
   "pygments_lexer": "ipython3",
   "version": "3.12.0"
  }
 },
 "nbformat": 4,
 "nbformat_minor": 2
}
